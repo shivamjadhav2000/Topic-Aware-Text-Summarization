{
 "cells": [
  {
   "cell_type": "code",
   "execution_count": 1,
   "metadata": {},
   "outputs": [],
   "source": [
    "import pandas as pd"
   ]
  },
  {
   "cell_type": "code",
   "execution_count": 2,
   "metadata": {},
   "outputs": [],
   "source": [
    "from sklearn.feature_extraction.text import CountVectorizer\n",
    "from sklearn.decomposition import LatentDirichletAllocation\n"
   ]
  },
  {
   "cell_type": "code",
   "execution_count": 3,
   "metadata": {},
   "outputs": [],
   "source": [
    "df=pd.read_csv('../dataset/quora_questions_filtered.csv')"
   ]
  },
  {
   "cell_type": "code",
   "execution_count": 4,
   "metadata": {},
   "outputs": [
    {
     "data": {
      "text/html": [
       "<div>\n",
       "<style scoped>\n",
       "    .dataframe tbody tr th:only-of-type {\n",
       "        vertical-align: middle;\n",
       "    }\n",
       "\n",
       "    .dataframe tbody tr th {\n",
       "        vertical-align: top;\n",
       "    }\n",
       "\n",
       "    .dataframe thead th {\n",
       "        text-align: right;\n",
       "    }\n",
       "</style>\n",
       "<table border=\"1\" class=\"dataframe\">\n",
       "  <thead>\n",
       "    <tr style=\"text-align: right;\">\n",
       "      <th></th>\n",
       "      <th>Question</th>\n",
       "      <th>doclen</th>\n",
       "    </tr>\n",
       "  </thead>\n",
       "  <tbody>\n",
       "    <tr>\n",
       "      <th>0</th>\n",
       "      <td>Like everyone else (here in U.S), I work with ...</td>\n",
       "      <td>125</td>\n",
       "    </tr>\n",
       "    <tr>\n",
       "      <th>1</th>\n",
       "      <td>Hello dear's people. i have a fictief research...</td>\n",
       "      <td>80</td>\n",
       "    </tr>\n",
       "    <tr>\n",
       "      <th>2</th>\n",
       "      <td>A lady buys goods worth 200 bucks from a shop ...</td>\n",
       "      <td>77</td>\n",
       "    </tr>\n",
       "    <tr>\n",
       "      <th>3</th>\n",
       "      <td>I am turning 25 in about a month and am curren...</td>\n",
       "      <td>73</td>\n",
       "    </tr>\n",
       "    <tr>\n",
       "      <th>4</th>\n",
       "      <td>I'm a 34 years old married to a woman. I had a...</td>\n",
       "      <td>73</td>\n",
       "    </tr>\n",
       "  </tbody>\n",
       "</table>\n",
       "</div>"
      ],
      "text/plain": [
       "                                            Question  doclen\n",
       "0  Like everyone else (here in U.S), I work with ...     125\n",
       "1  Hello dear's people. i have a fictief research...      80\n",
       "2  A lady buys goods worth 200 bucks from a shop ...      77\n",
       "3  I am turning 25 in about a month and am curren...      73\n",
       "4  I'm a 34 years old married to a woman. I had a...      73"
      ]
     },
     "execution_count": 4,
     "metadata": {},
     "output_type": "execute_result"
    }
   ],
   "source": [
    "df.head()"
   ]
  },
  {
   "cell_type": "code",
   "execution_count": 5,
   "metadata": {},
   "outputs": [
    {
     "data": {
      "text/html": [
       "<div>\n",
       "<style scoped>\n",
       "    .dataframe tbody tr th:only-of-type {\n",
       "        vertical-align: middle;\n",
       "    }\n",
       "\n",
       "    .dataframe tbody tr th {\n",
       "        vertical-align: top;\n",
       "    }\n",
       "\n",
       "    .dataframe thead th {\n",
       "        text-align: right;\n",
       "    }\n",
       "</style>\n",
       "<table border=\"1\" class=\"dataframe\">\n",
       "  <thead>\n",
       "    <tr style=\"text-align: right;\">\n",
       "      <th></th>\n",
       "      <th>doclen</th>\n",
       "    </tr>\n",
       "  </thead>\n",
       "  <tbody>\n",
       "    <tr>\n",
       "      <th>count</th>\n",
       "      <td>30735.000000</td>\n",
       "    </tr>\n",
       "    <tr>\n",
       "      <th>mean</th>\n",
       "      <td>24.733594</td>\n",
       "    </tr>\n",
       "    <tr>\n",
       "      <th>std</th>\n",
       "      <td>5.379956</td>\n",
       "    </tr>\n",
       "    <tr>\n",
       "      <th>min</th>\n",
       "      <td>20.000000</td>\n",
       "    </tr>\n",
       "    <tr>\n",
       "      <th>25%</th>\n",
       "      <td>21.000000</td>\n",
       "    </tr>\n",
       "    <tr>\n",
       "      <th>50%</th>\n",
       "      <td>23.000000</td>\n",
       "    </tr>\n",
       "    <tr>\n",
       "      <th>75%</th>\n",
       "      <td>27.000000</td>\n",
       "    </tr>\n",
       "    <tr>\n",
       "      <th>max</th>\n",
       "      <td>125.000000</td>\n",
       "    </tr>\n",
       "  </tbody>\n",
       "</table>\n",
       "</div>"
      ],
      "text/plain": [
       "             doclen\n",
       "count  30735.000000\n",
       "mean      24.733594\n",
       "std        5.379956\n",
       "min       20.000000\n",
       "25%       21.000000\n",
       "50%       23.000000\n",
       "75%       27.000000\n",
       "max      125.000000"
      ]
     },
     "execution_count": 5,
     "metadata": {},
     "output_type": "execute_result"
    }
   ],
   "source": [
    "df.describe()"
   ]
  },
  {
   "cell_type": "code",
   "execution_count": 6,
   "metadata": {},
   "outputs": [],
   "source": [
    "df['Question']=df['Question'].apply(lambda x: x.lower())\n"
   ]
  },
  {
   "cell_type": "code",
   "execution_count": 7,
   "metadata": {},
   "outputs": [],
   "source": [
    "documents=list(df['Question'])"
   ]
  },
  {
   "cell_type": "code",
   "execution_count": 8,
   "metadata": {},
   "outputs": [],
   "source": [
    "cv=CountVectorizer(max_df=0.95,min_df=2,stop_words='english')\n",
    "dtm=cv.fit_transform(documents)"
   ]
  },
  {
   "cell_type": "code",
   "execution_count": 9,
   "metadata": {},
   "outputs": [
    {
     "data": {
      "text/html": [
       "<style>#sk-container-id-1 {color: black;}#sk-container-id-1 pre{padding: 0;}#sk-container-id-1 div.sk-toggleable {background-color: white;}#sk-container-id-1 label.sk-toggleable__label {cursor: pointer;display: block;width: 100%;margin-bottom: 0;padding: 0.3em;box-sizing: border-box;text-align: center;}#sk-container-id-1 label.sk-toggleable__label-arrow:before {content: \"▸\";float: left;margin-right: 0.25em;color: #696969;}#sk-container-id-1 label.sk-toggleable__label-arrow:hover:before {color: black;}#sk-container-id-1 div.sk-estimator:hover label.sk-toggleable__label-arrow:before {color: black;}#sk-container-id-1 div.sk-toggleable__content {max-height: 0;max-width: 0;overflow: hidden;text-align: left;background-color: #f0f8ff;}#sk-container-id-1 div.sk-toggleable__content pre {margin: 0.2em;color: black;border-radius: 0.25em;background-color: #f0f8ff;}#sk-container-id-1 input.sk-toggleable__control:checked~div.sk-toggleable__content {max-height: 200px;max-width: 100%;overflow: auto;}#sk-container-id-1 input.sk-toggleable__control:checked~label.sk-toggleable__label-arrow:before {content: \"▾\";}#sk-container-id-1 div.sk-estimator input.sk-toggleable__control:checked~label.sk-toggleable__label {background-color: #d4ebff;}#sk-container-id-1 div.sk-label input.sk-toggleable__control:checked~label.sk-toggleable__label {background-color: #d4ebff;}#sk-container-id-1 input.sk-hidden--visually {border: 0;clip: rect(1px 1px 1px 1px);clip: rect(1px, 1px, 1px, 1px);height: 1px;margin: -1px;overflow: hidden;padding: 0;position: absolute;width: 1px;}#sk-container-id-1 div.sk-estimator {font-family: monospace;background-color: #f0f8ff;border: 1px dotted black;border-radius: 0.25em;box-sizing: border-box;margin-bottom: 0.5em;}#sk-container-id-1 div.sk-estimator:hover {background-color: #d4ebff;}#sk-container-id-1 div.sk-parallel-item::after {content: \"\";width: 100%;border-bottom: 1px solid gray;flex-grow: 1;}#sk-container-id-1 div.sk-label:hover label.sk-toggleable__label {background-color: #d4ebff;}#sk-container-id-1 div.sk-serial::before {content: \"\";position: absolute;border-left: 1px solid gray;box-sizing: border-box;top: 0;bottom: 0;left: 50%;z-index: 0;}#sk-container-id-1 div.sk-serial {display: flex;flex-direction: column;align-items: center;background-color: white;padding-right: 0.2em;padding-left: 0.2em;position: relative;}#sk-container-id-1 div.sk-item {position: relative;z-index: 1;}#sk-container-id-1 div.sk-parallel {display: flex;align-items: stretch;justify-content: center;background-color: white;position: relative;}#sk-container-id-1 div.sk-item::before, #sk-container-id-1 div.sk-parallel-item::before {content: \"\";position: absolute;border-left: 1px solid gray;box-sizing: border-box;top: 0;bottom: 0;left: 50%;z-index: -1;}#sk-container-id-1 div.sk-parallel-item {display: flex;flex-direction: column;z-index: 1;position: relative;background-color: white;}#sk-container-id-1 div.sk-parallel-item:first-child::after {align-self: flex-end;width: 50%;}#sk-container-id-1 div.sk-parallel-item:last-child::after {align-self: flex-start;width: 50%;}#sk-container-id-1 div.sk-parallel-item:only-child::after {width: 0;}#sk-container-id-1 div.sk-dashed-wrapped {border: 1px dashed gray;margin: 0 0.4em 0.5em 0.4em;box-sizing: border-box;padding-bottom: 0.4em;background-color: white;}#sk-container-id-1 div.sk-label label {font-family: monospace;font-weight: bold;display: inline-block;line-height: 1.2em;}#sk-container-id-1 div.sk-label-container {text-align: center;}#sk-container-id-1 div.sk-container {/* jupyter's `normalize.less` sets `[hidden] { display: none; }` but bootstrap.min.css set `[hidden] { display: none !important; }` so we also need the `!important` here to be able to override the default hidden behavior on the sphinx rendered scikit-learn.org. See: https://github.com/scikit-learn/scikit-learn/issues/21755 */display: inline-block !important;position: relative;}#sk-container-id-1 div.sk-text-repr-fallback {display: none;}</style><div id=\"sk-container-id-1\" class=\"sk-top-container\"><div class=\"sk-text-repr-fallback\"><pre>LatentDirichletAllocation(n_components=6, random_state=42)</pre><b>In a Jupyter environment, please rerun this cell to show the HTML representation or trust the notebook. <br />On GitHub, the HTML representation is unable to render, please try loading this page with nbviewer.org.</b></div><div class=\"sk-container\" hidden><div class=\"sk-item\"><div class=\"sk-estimator sk-toggleable\"><input class=\"sk-toggleable__control sk-hidden--visually\" id=\"sk-estimator-id-1\" type=\"checkbox\" checked><label for=\"sk-estimator-id-1\" class=\"sk-toggleable__label sk-toggleable__label-arrow\">LatentDirichletAllocation</label><div class=\"sk-toggleable__content\"><pre>LatentDirichletAllocation(n_components=6, random_state=42)</pre></div></div></div></div></div>"
      ],
      "text/plain": [
       "LatentDirichletAllocation(n_components=6, random_state=42)"
      ]
     },
     "execution_count": 9,
     "metadata": {},
     "output_type": "execute_result"
    }
   ],
   "source": [
    "n_topics = 6  # Adjust the number of topics as needed\n",
    "lda = LatentDirichletAllocation(n_components=n_topics, random_state=42)\n",
    "lda.fit(dtm)"
   ]
  },
  {
   "cell_type": "code",
   "execution_count": 10,
   "metadata": {},
   "outputs": [
    {
     "data": {
      "text/plain": [
       "array([[  0.33280941,  12.33900197,   0.16701633, ...,   0.16666712,\n",
       "          3.16624711,   3.16624711],\n",
       "       [  1.26250787, 118.60180646,  15.6082387 , ...,   0.16666698,\n",
       "          0.16666697,   0.16666697],\n",
       "       [  0.1667941 ,   0.1672116 ,   0.16691145, ...,   0.16666712,\n",
       "          0.1666671 ,   0.1666671 ],\n",
       "       [ 10.78295148,  23.32235184,   1.25711401, ...,   0.16666696,\n",
       "          0.16708481,   0.16708481],\n",
       "       [  0.16685604,  13.29800542,   1.294228  , ...,   0.16666712,\n",
       "          0.1666671 ,   0.1666671 ],\n",
       "       [  1.28808109,   3.27162271,   1.5064915 , ...,   2.1666647 ,\n",
       "          0.16666692,   0.16666692]])"
      ]
     },
     "execution_count": 10,
     "metadata": {},
     "output_type": "execute_result"
    }
   ],
   "source": [
    "lda.components_"
   ]
  },
  {
   "cell_type": "code",
   "execution_count": 11,
   "metadata": {},
   "outputs": [],
   "source": [
    "topic1=lda.components_[0]\n"
   ]
  },
  {
   "cell_type": "code",
   "execution_count": 12,
   "metadata": {},
   "outputs": [
    {
     "data": {
      "text/plain": [
       "array([ 6306,  2567, 13645, ...,    14,   403,  9501], dtype=int64)"
      ]
     },
     "execution_count": 12,
     "metadata": {},
     "output_type": "execute_result"
    }
   ],
   "source": [
    "topic1.argsort()\n"
   ]
  },
  {
   "cell_type": "code",
   "execution_count": 13,
   "metadata": {},
   "outputs": [
    {
     "name": "stdout",
     "output_type": "stream",
     "text": [
      "did\n",
      "note\n",
      "possible\n",
      "gobi\n",
      "temperatures\n",
      "modi\n",
      "use\n",
      "decision\n",
      "number\n",
      "does\n",
      "cold\n",
      "2000\n",
      "government\n",
      "india\n",
      "ones\n",
      "indian\n",
      "compare\n",
      "math\n",
      "rupee\n",
      "phone\n",
      "average\n",
      "new\n",
      "card\n",
      "rs\n",
      "desert\n",
      "money\n",
      "black\n",
      "1000\n",
      "500\n",
      "notes\n"
     ]
    }
   ],
   "source": [
    "for index in topic1.argsort()[-30:]:\n",
    "    print(cv.get_feature_names_out()[index])"
   ]
  },
  {
   "cell_type": "code",
   "execution_count": 14,
   "metadata": {},
   "outputs": [],
   "source": [
    "def PrintTopics(model,cv,n_words):\n",
    "    for index,topic in enumerate(model.components_):\n",
    "        print(f\"The top {n_words} words for topic #{index}\")\n",
    "        print([cv.get_feature_names_out()[index] for index in topic.argsort()[-n_words:]])\n",
    "        print('\\n')"
   ]
  },
  {
   "cell_type": "code",
   "execution_count": 15,
   "metadata": {},
   "outputs": [
    {
     "name": "stdout",
     "output_type": "stream",
     "text": [
      "The top 20 words for topic #0\n",
      "['cold', '2000', 'government', 'india', 'ones', 'indian', 'compare', 'math', 'rupee', 'phone', 'average', 'new', 'card', 'rs', 'desert', 'money', 'black', '1000', '500', 'notes']\n",
      "\n",
      "\n",
      "The top 20 words for topic #1\n",
      "['working', 'know', 'data', 'good', 'online', 'does', 'buy', 'india', 'work', 'learn', 'make', 'people', 'company', 'best', 'need', 'use', 'business', 'start', 'want', 'like']\n",
      "\n",
      "\n",
      "The top 20 words for topic #2\n",
      "['mean', 'number', 'like', 'password', 'email', 'facebook', 'harassment', 'couples', 'unmarried', 'moral', 'staff', 'major', 'compare', 'safe', 'earthquake', 'account', 'effects', 'does', 'hotel', 'police']\n",
      "\n",
      "\n",
      "The top 20 words for topic #3\n",
      "['friend', 'guy', 'make', 'life', 'know', 'home', 'people', 'year', 'want', 'don', 'love', 'just', 'feel', 'good', 'girl', 'like', 'old', 'years', 'does', 'time']\n",
      "\n",
      "\n",
      "The top 20 words for topic #4\n",
      "['space', 'potential', 'water', 'speed', 'vacuum', 'united', 'states', 'light', 'earth', 'somme', 'contrast', 'significance', 'universe', 'created', 'compare', 'infinite', 'did', 'energy', 'does', 'battle']\n",
      "\n",
      "\n",
      "The top 20 words for topic #5\n",
      "['think', 'indian', 'science', 'like', 'got', 'work', 'best', 'university', 'quora', 'trump', 'does', 'college', 'student', 'people', 'engineering', 'year', 'want', 'good', 'job', 'india']\n",
      "\n",
      "\n"
     ]
    }
   ],
   "source": [
    "PrintTopics(lda,cv,20)\n"
   ]
  },
  {
   "cell_type": "code",
   "execution_count": 16,
   "metadata": {},
   "outputs": [],
   "source": [
    "def SaveTopicsToFile(model, cv, n_words, file_name,title):\n",
    "    with open(file_name, 'w') as f:\n",
    "        f.write(title + '\\n\\n')\n",
    "        for index, topic in enumerate(model.components_):\n",
    "            f.write(f\"The top {n_words} words for topic #{index}:\\n\")\n",
    "            top_words = [cv.get_feature_names_out()[i] for i in topic.argsort()[-n_words:]]\n",
    "            f.write(', '.join(top_words) + '\\n\\n')\n",
    "    print(f\"Topics have been successfully saved to {file_name}\")"
   ]
  },
  {
   "cell_type": "code",
   "execution_count": 146,
   "metadata": {},
   "outputs": [],
   "source": [
    "# SaveTopicsToFile(lda, cv, 20, 'topics.txt','updated code and labels for topics')\n"
   ]
  },
  {
   "cell_type": "code",
   "execution_count": 147,
   "metadata": {},
   "outputs": [],
   "source": [
    "import pickle\n",
    "\n",
    "def SaveModel(model, file_name):\n",
    "    with open(file_name, 'wb') as f:\n",
    "        pickle.dump(model, f)\n",
    "    print(f\"Model saved to {file_name}\")"
   ]
  },
  {
   "cell_type": "code",
   "execution_count": 113,
   "metadata": {},
   "outputs": [],
   "source": [
    "def PrintTopics(model,cv,n_words):\n",
    "    for index,topic in enumerate(model.components_):\n",
    "        print(f\"The top {n_words} words for topic #{index}\")\n",
    "        print([cv.get_feature_names_out()[index] for index in topic.argsort()[-n_words:]])\n",
    "        print('\\n')"
   ]
  },
  {
   "cell_type": "code",
   "execution_count": 114,
   "metadata": {},
   "outputs": [
    {
     "name": "stdout",
     "output_type": "stream",
     "text": [
      "The top 20 words for topic #0\n",
      "['cold', '2000', 'government', 'india', 'ones', 'indian', 'compare', 'math', 'rupee', 'phone', 'average', 'new', 'card', 'rs', 'desert', 'money', 'black', '1000', '500', 'notes']\n",
      "\n",
      "\n",
      "The top 20 words for topic #1\n",
      "['working', 'know', 'data', 'good', 'online', 'does', 'buy', 'india', 'work', 'learn', 'make', 'people', 'company', 'best', 'need', 'use', 'business', 'start', 'want', 'like']\n",
      "\n",
      "\n",
      "The top 20 words for topic #2\n",
      "['mean', 'number', 'like', 'password', 'email', 'facebook', 'harassment', 'couples', 'unmarried', 'moral', 'staff', 'major', 'compare', 'safe', 'earthquake', 'account', 'effects', 'does', 'hotel', 'police']\n",
      "\n",
      "\n",
      "The top 20 words for topic #3\n",
      "['friend', 'guy', 'make', 'life', 'know', 'home', 'people', 'year', 'want', 'don', 'love', 'just', 'feel', 'good', 'girl', 'like', 'old', 'years', 'does', 'time']\n",
      "\n",
      "\n",
      "The top 20 words for topic #4\n",
      "['space', 'potential', 'water', 'speed', 'vacuum', 'united', 'states', 'light', 'earth', 'somme', 'contrast', 'significance', 'universe', 'created', 'compare', 'infinite', 'did', 'energy', 'does', 'battle']\n",
      "\n",
      "\n",
      "The top 20 words for topic #5\n",
      "['think', 'indian', 'science', 'like', 'got', 'work', 'best', 'university', 'quora', 'trump', 'does', 'college', 'student', 'people', 'engineering', 'year', 'want', 'good', 'job', 'india']\n",
      "\n",
      "\n"
     ]
    }
   ],
   "source": [
    "PrintTopics(lda,cv,20)"
   ]
  },
  {
   "cell_type": "code",
   "execution_count": 115,
   "metadata": {},
   "outputs": [],
   "source": [
    "def SaveTopicsToFile(model, cv, n_words, file_name,title):\n",
    "    with open(file_name, 'w') as f:\n",
    "        f.write(title + '\\n\\n')\n",
    "        for index, topic in enumerate(model.components_):\n",
    "            f.write(f\"The top {n_words} words for topic #{index}:\\n\")\n",
    "            top_words = [cv.get_feature_names_out()[i] for i in topic.argsort()[-n_words:]]\n",
    "            f.write(', '.join(top_words) + '\\n\\n')\n",
    "    print(f\"Topics have been successfully saved to {file_name}\")\n"
   ]
  },
  {
   "cell_type": "code",
   "execution_count": null,
   "metadata": {},
   "outputs": [
    {
     "name": "stdout",
     "output_type": "stream",
     "text": [
      "Topics have been successfully saved to topics.txt\n"
     ]
    }
   ],
   "source": [
    "SaveTopicsToFile(lda, cv, 20, 'topics_10.txt','preprocessed data with data length greter than 20 and total topics 6')"
   ]
  },
  {
   "cell_type": "code",
   "execution_count": 117,
   "metadata": {},
   "outputs": [],
   "source": [
    "import pickle\n",
    "\n",
    "def SaveModel(model, file_name):\n",
    "    with open(file_name, 'wb') as f:\n",
    "        pickle.dump(model, f)\n",
    "    print(f\"Model saved to {file_name}\")\n"
   ]
  },
  {
   "cell_type": "code",
   "execution_count": 148,
   "metadata": {},
   "outputs": [],
   "source": [
    "# SaveModel(lda, 'lda_model_6_topics_str_len_20.pkl')"
   ]
  },
  {
   "cell_type": "code",
   "execution_count": 39,
   "metadata": {},
   "outputs": [],
   "source": [
    "# def LoadModel(file_name):\n",
    "#     with open(file_name, 'rb') as f:\n",
    "#         model = pickle.load(f)\n",
    "#     print(f\"Model loaded from {file_name}\")\n",
    "#     return model\n"
   ]
  },
  {
   "cell_type": "code",
   "execution_count": 41,
   "metadata": {},
   "outputs": [
    {
     "name": "stdout",
     "output_type": "stream",
     "text": [
      "Model loaded from Models/lda_model_30_topics_str_len_20.pkl\n"
     ]
    }
   ],
   "source": [
    "# newnist=LoadModel('Models/lda_model_30_topics_str_len_20.pkl')"
   ]
  },
  {
   "cell_type": "code",
   "execution_count": null,
   "metadata": {},
   "outputs": [],
   "source": []
  },
  {
   "cell_type": "code",
   "execution_count": null,
   "metadata": {},
   "outputs": [
    {
     "name": "stderr",
     "output_type": "stream",
     "text": [
      "c:\\Users\\jadha\\AppData\\Local\\Programs\\Python\\Python311\\Lib\\site-packages\\tqdm\\auto.py:21: TqdmWarning: IProgress not found. Please update jupyter and ipywidgets. See https://ipywidgets.readthedocs.io/en/stable/user_install.html\n",
      "  from .autonotebook import tqdm as notebook_tqdm\n"
     ]
    }
   ],
   "source": [
    "from transformers import pipeline\n",
    "\n",
    "# Load a text classification model (you can choose a specific model for your needs)\n",
    "classifier = pipeline(\"zero-shot-classification\", model=\"facebook/bart-large-mnli\")\n",
    "\n",
    "def generate_label(words,candidate_labels):\n",
    "    input_text = f\"Words: {', '.join(words)}\"\n",
    "    \n",
    "    \n",
    "    # Candidate labels to guide classification, this can be modified based on common topics in your data\n",
    "\n",
    "    generated = classifier(input_text, candidate_labels=candidate_labels)\n",
    "    \n",
    "    # Return the top label\n",
    "    return generated['labels'][0]"
   ]
  },
  {
   "cell_type": "code",
   "execution_count": 18,
   "metadata": {},
   "outputs": [],
   "source": [
    "candidate_labels = [\n",
    "    \"Government\",\n",
    "    \"Online Business\",\n",
    "    \"Social Harassment\",\n",
    "    \"Relationships\",\n",
    "    \"Space and Science\",\n",
    "    \"Exam and university\",\n",
    "    \"carrer\",\n",
    "    \"Education\",\n",
    "]"
   ]
  },
  {
   "cell_type": "code",
   "execution_count": 19,
   "metadata": {},
   "outputs": [
    {
     "name": "stdout",
     "output_type": "stream",
     "text": [
      "Topic 0 ['did', 'note', 'possible', 'gobi', 'temperatures', 'modi', 'use', 'decision', 'number', 'does', 'cold', '2000', 'government', 'india', 'ones', 'indian', 'compare', 'math', 'rupee', 'phone', 'average', 'new', 'card', 'rs', 'desert', 'money', 'black', '1000', '500', 'notes']\n",
      "Topic 0 is about Government\n",
      "Topic 1 ['way', 'idea', 'big', 'pay', 'new', 'time', 'years', 'website', 'using', 'app', 'working', 'know', 'data', 'good', 'online', 'does', 'buy', 'india', 'work', 'learn', 'make', 'people', 'company', 'best', 'need', 'use', 'business', 'start', 'want', 'like']\n",
      "Topic 1 is about Online Business\n",
      "Topic 2 ['sent', 'person', 'movie', 'message', 'whatsapp', 'don', 'hill', 'station', 'cambodia', 'instagram', 'mean', 'number', 'like', 'password', 'email', 'facebook', 'harassment', 'couples', 'unmarried', 'moral', 'staff', 'major', 'compare', 'safe', 'earthquake', 'account', 'effects', 'does', 'hotel', 'police']\n",
      "Topic 2 is about Social Harassment\n",
      "Topic 3 ['sex', 'mean', 'foreign', 'girlfriend', 'car', 'relationship', 'friends', 'man', 'day', 'person', 'friend', 'guy', 'make', 'life', 'know', 'home', 'people', 'year', 'want', 'don', 'love', 'just', 'feel', 'good', 'girl', 'like', 'old', 'years', 'does', 'time']\n",
      "Topic 3 is about Relationships\n",
      "Topic 4 ['exist', 'day', 'visit', 'limit', 'president', 'mean', 'dark', 'number', 'air', 'point', 'space', 'potential', 'water', 'speed', 'vacuum', 'united', 'states', 'light', 'earth', 'somme', 'contrast', 'significance', 'universe', 'created', 'compare', 'infinite', 'did', 'energy', 'does', 'battle']\n",
      "Topic 4 is about carrer\n",
      "Topic 5 ['study', 'exam', 'score', 'class', 'degree', 'school', '2016', 'question', 'answer', 'questions', 'think', 'indian', 'science', 'like', 'got', 'work', 'best', 'university', 'quora', 'trump', 'does', 'college', 'student', 'people', 'engineering', 'year', 'want', 'good', 'job', 'india']\n",
      "Topic 5 is about Exam and university\n"
     ]
    }
   ],
   "source": [
    "topic_to_label = {}\n",
    "for index, topic in enumerate(lda.components_):\n",
    "    top_words = [cv.get_feature_names_out()[i] for i in topic.argsort()[-30:]]\n",
    "    print(f\"Topic {index}\",top_words)\n",
    "    label = generate_label(top_words, candidate_labels)\n",
    "    print(f\"Topic {index} is about {label}\")\n",
    "    topic_to_label[index] = label"
   ]
  },
  {
   "cell_type": "code",
   "execution_count": 20,
   "metadata": {},
   "outputs": [
    {
     "data": {
      "text/plain": [
       "{0: 'Government',\n",
       " 1: 'Online Business',\n",
       " 2: 'Social Harassment',\n",
       " 3: 'Relationships',\n",
       " 4: 'carrer',\n",
       " 5: 'Exam and university'}"
      ]
     },
     "execution_count": 20,
     "metadata": {},
     "output_type": "execute_result"
    }
   ],
   "source": [
    "topic_to_label"
   ]
  },
  {
   "cell_type": "markdown",
   "metadata": {},
   "source": [
    "## Generate The Topic Results from our Model LDA , that is assign probabilities for a document beonging to a certain topic "
   ]
  },
  {
   "cell_type": "code",
   "execution_count": 21,
   "metadata": {},
   "outputs": [],
   "source": [
    "topic_results=lda.transform(dtm)\n"
   ]
  },
  {
   "cell_type": "code",
   "execution_count": 22,
   "metadata": {},
   "outputs": [
    {
     "data": {
      "text/plain": [
       "array([0.12795593, 0.27106877, 0.00344306, 0.59067972, 0.00342685,\n",
       "       0.00342567])"
      ]
     },
     "execution_count": 22,
     "metadata": {},
     "output_type": "execute_result"
    }
   ],
   "source": [
    "topic_results[0]"
   ]
  },
  {
   "cell_type": "code",
   "execution_count": 23,
   "metadata": {},
   "outputs": [
    {
     "data": {
      "text/plain": [
       "array([0.13, 0.27, 0.  , 0.59, 0.  , 0.  ])"
      ]
     },
     "execution_count": 23,
     "metadata": {},
     "output_type": "execute_result"
    }
   ],
   "source": [
    "topic_results[0].round(2)"
   ]
  },
  {
   "cell_type": "markdown",
   "metadata": {},
   "source": [
    "## get the topic index from the topic probabilities which is the highest to belong to \n"
   ]
  },
  {
   "cell_type": "code",
   "execution_count": 24,
   "metadata": {},
   "outputs": [
    {
     "data": {
      "text/plain": [
       "3"
      ]
     },
     "execution_count": 24,
     "metadata": {},
     "output_type": "execute_result"
    }
   ],
   "source": [
    "topic_results[0].argmax()"
   ]
  },
  {
   "cell_type": "code",
   "execution_count": 25,
   "metadata": {},
   "outputs": [
    {
     "data": {
      "text/plain": [
       "'like everyone else (here in u.s), i work with a group of people i see and interact with every day. as a human rights advocate and lesbian, my views are liberal and i by no means preach my beliefs in my work place. however, i want to know, when is it ok to state your opinions on an issue. for example, if someone mentions that their next door neighbor, who happens to be a 12 year old boy, was playing with dolls and that \"this is going down the wrong road and he is strange/weird\", is it ok for me to say that we shouldn\\'t judge him for who he is? so confused... this just happened at lunch and i am very upset about it...'"
      ]
     },
     "execution_count": 25,
     "metadata": {},
     "output_type": "execute_result"
    }
   ],
   "source": [
    "document=documents[0]\n",
    "document"
   ]
  },
  {
   "cell_type": "code",
   "execution_count": 26,
   "metadata": {},
   "outputs": [
    {
     "data": {
      "text/plain": [
       "'Relationships'"
      ]
     },
     "execution_count": 26,
     "metadata": {},
     "output_type": "execute_result"
    }
   ],
   "source": [
    "topic_to_label[topic_results[0].argmax()]"
   ]
  },
  {
   "cell_type": "code",
   "execution_count": 27,
   "metadata": {},
   "outputs": [],
   "source": [
    "# adding Topic label for the dataframe\n",
    "df['TopicId']=topic_results.argmax(axis=1)\n",
    "df['Topic'] = [topic_to_label[topic.argmax()] for topic in topic_results]"
   ]
  },
  {
   "cell_type": "code",
   "execution_count": 28,
   "metadata": {},
   "outputs": [
    {
     "data": {
      "text/html": [
       "<div>\n",
       "<style scoped>\n",
       "    .dataframe tbody tr th:only-of-type {\n",
       "        vertical-align: middle;\n",
       "    }\n",
       "\n",
       "    .dataframe tbody tr th {\n",
       "        vertical-align: top;\n",
       "    }\n",
       "\n",
       "    .dataframe thead th {\n",
       "        text-align: right;\n",
       "    }\n",
       "</style>\n",
       "<table border=\"1\" class=\"dataframe\">\n",
       "  <thead>\n",
       "    <tr style=\"text-align: right;\">\n",
       "      <th></th>\n",
       "      <th>Question</th>\n",
       "      <th>doclen</th>\n",
       "      <th>TopicId</th>\n",
       "      <th>Topic</th>\n",
       "    </tr>\n",
       "  </thead>\n",
       "  <tbody>\n",
       "    <tr>\n",
       "      <th>0</th>\n",
       "      <td>like everyone else (here in u.s), i work with ...</td>\n",
       "      <td>125</td>\n",
       "      <td>3</td>\n",
       "      <td>Relationships</td>\n",
       "    </tr>\n",
       "    <tr>\n",
       "      <th>1</th>\n",
       "      <td>hello dear's people. i have a fictief research...</td>\n",
       "      <td>80</td>\n",
       "      <td>3</td>\n",
       "      <td>Relationships</td>\n",
       "    </tr>\n",
       "    <tr>\n",
       "      <th>2</th>\n",
       "      <td>a lady buys goods worth 200 bucks from a shop ...</td>\n",
       "      <td>77</td>\n",
       "      <td>3</td>\n",
       "      <td>Relationships</td>\n",
       "    </tr>\n",
       "    <tr>\n",
       "      <th>3</th>\n",
       "      <td>i am turning 25 in about a month and am curren...</td>\n",
       "      <td>73</td>\n",
       "      <td>5</td>\n",
       "      <td>Exam and university</td>\n",
       "    </tr>\n",
       "    <tr>\n",
       "      <th>4</th>\n",
       "      <td>i'm a 34 years old married to a woman. i had a...</td>\n",
       "      <td>73</td>\n",
       "      <td>3</td>\n",
       "      <td>Relationships</td>\n",
       "    </tr>\n",
       "    <tr>\n",
       "      <th>5</th>\n",
       "      <td>my employer has told me that we can not accept...</td>\n",
       "      <td>72</td>\n",
       "      <td>1</td>\n",
       "      <td>Online Business</td>\n",
       "    </tr>\n",
       "    <tr>\n",
       "      <th>6</th>\n",
       "      <td>i have been using my girlfriend for a sexual r...</td>\n",
       "      <td>71</td>\n",
       "      <td>3</td>\n",
       "      <td>Relationships</td>\n",
       "    </tr>\n",
       "    <tr>\n",
       "      <th>7</th>\n",
       "      <td>you have 100 coins laying flat on a table, eac...</td>\n",
       "      <td>68</td>\n",
       "      <td>5</td>\n",
       "      <td>Exam and university</td>\n",
       "    </tr>\n",
       "    <tr>\n",
       "      <th>8</th>\n",
       "      <td>i broke up with him. i love him so much but we...</td>\n",
       "      <td>68</td>\n",
       "      <td>3</td>\n",
       "      <td>Relationships</td>\n",
       "    </tr>\n",
       "    <tr>\n",
       "      <th>9</th>\n",
       "      <td>i broke up with him. i love him so much but we...</td>\n",
       "      <td>68</td>\n",
       "      <td>3</td>\n",
       "      <td>Relationships</td>\n",
       "    </tr>\n",
       "    <tr>\n",
       "      <th>10</th>\n",
       "      <td>i feel like i'm getting over my crush. this fe...</td>\n",
       "      <td>67</td>\n",
       "      <td>3</td>\n",
       "      <td>Relationships</td>\n",
       "    </tr>\n",
       "    <tr>\n",
       "      <th>11</th>\n",
       "      <td>how often should i massage my face with argan ...</td>\n",
       "      <td>66</td>\n",
       "      <td>1</td>\n",
       "      <td>Online Business</td>\n",
       "    </tr>\n",
       "    <tr>\n",
       "      <th>12</th>\n",
       "      <td>i had a college friend with whom i used to tal...</td>\n",
       "      <td>66</td>\n",
       "      <td>3</td>\n",
       "      <td>Relationships</td>\n",
       "    </tr>\n",
       "    <tr>\n",
       "      <th>13</th>\n",
       "      <td>i live with my mom and we are always arguing a...</td>\n",
       "      <td>65</td>\n",
       "      <td>3</td>\n",
       "      <td>Relationships</td>\n",
       "    </tr>\n",
       "    <tr>\n",
       "      <th>14</th>\n",
       "      <td>i live with my mom and we are always arguing a...</td>\n",
       "      <td>65</td>\n",
       "      <td>3</td>\n",
       "      <td>Relationships</td>\n",
       "    </tr>\n",
       "    <tr>\n",
       "      <th>15</th>\n",
       "      <td>i live with my mom and we are always arguing a...</td>\n",
       "      <td>65</td>\n",
       "      <td>3</td>\n",
       "      <td>Relationships</td>\n",
       "    </tr>\n",
       "    <tr>\n",
       "      <th>16</th>\n",
       "      <td>i belong to obc. my ctc is 7 lacs per annum bu...</td>\n",
       "      <td>64</td>\n",
       "      <td>5</td>\n",
       "      <td>Exam and university</td>\n",
       "    </tr>\n",
       "    <tr>\n",
       "      <th>17</th>\n",
       "      <td>i have 2.6 years of it experience. i got marri...</td>\n",
       "      <td>64</td>\n",
       "      <td>5</td>\n",
       "      <td>Exam and university</td>\n",
       "    </tr>\n",
       "    <tr>\n",
       "      <th>18</th>\n",
       "      <td>my gf cheated on me with her ex and i stayed w...</td>\n",
       "      <td>64</td>\n",
       "      <td>3</td>\n",
       "      <td>Relationships</td>\n",
       "    </tr>\n",
       "    <tr>\n",
       "      <th>19</th>\n",
       "      <td>your advice will help me! i think i should go ...</td>\n",
       "      <td>64</td>\n",
       "      <td>3</td>\n",
       "      <td>Relationships</td>\n",
       "    </tr>\n",
       "  </tbody>\n",
       "</table>\n",
       "</div>"
      ],
      "text/plain": [
       "                                             Question  doclen  TopicId  \\\n",
       "0   like everyone else (here in u.s), i work with ...     125        3   \n",
       "1   hello dear's people. i have a fictief research...      80        3   \n",
       "2   a lady buys goods worth 200 bucks from a shop ...      77        3   \n",
       "3   i am turning 25 in about a month and am curren...      73        5   \n",
       "4   i'm a 34 years old married to a woman. i had a...      73        3   \n",
       "5   my employer has told me that we can not accept...      72        1   \n",
       "6   i have been using my girlfriend for a sexual r...      71        3   \n",
       "7   you have 100 coins laying flat on a table, eac...      68        5   \n",
       "8   i broke up with him. i love him so much but we...      68        3   \n",
       "9   i broke up with him. i love him so much but we...      68        3   \n",
       "10  i feel like i'm getting over my crush. this fe...      67        3   \n",
       "11  how often should i massage my face with argan ...      66        1   \n",
       "12  i had a college friend with whom i used to tal...      66        3   \n",
       "13  i live with my mom and we are always arguing a...      65        3   \n",
       "14  i live with my mom and we are always arguing a...      65        3   \n",
       "15  i live with my mom and we are always arguing a...      65        3   \n",
       "16  i belong to obc. my ctc is 7 lacs per annum bu...      64        5   \n",
       "17  i have 2.6 years of it experience. i got marri...      64        5   \n",
       "18  my gf cheated on me with her ex and i stayed w...      64        3   \n",
       "19  your advice will help me! i think i should go ...      64        3   \n",
       "\n",
       "                  Topic  \n",
       "0         Relationships  \n",
       "1         Relationships  \n",
       "2         Relationships  \n",
       "3   Exam and university  \n",
       "4         Relationships  \n",
       "5       Online Business  \n",
       "6         Relationships  \n",
       "7   Exam and university  \n",
       "8         Relationships  \n",
       "9         Relationships  \n",
       "10        Relationships  \n",
       "11      Online Business  \n",
       "12        Relationships  \n",
       "13        Relationships  \n",
       "14        Relationships  \n",
       "15        Relationships  \n",
       "16  Exam and university  \n",
       "17  Exam and university  \n",
       "18        Relationships  \n",
       "19        Relationships  "
      ]
     },
     "execution_count": 28,
     "metadata": {},
     "output_type": "execute_result"
    }
   ],
   "source": [
    "df.head(20)"
   ]
  },
  {
   "cell_type": "code",
   "execution_count": 29,
   "metadata": {},
   "outputs": [
    {
     "data": {
      "text/plain": [
       "'like everyone else (here in u.s), i work with a group of people i see and interact with every day. as a human rights advocate and lesbian, my views are liberal and i by no means preach my beliefs in my work place. however, i want to know, when is it ok to state your opinions on an issue. for example, if someone mentions that their next door neighbor, who happens to be a 12 year old boy, was playing with dolls and that \"this is going down the wrong road and he is strange/weird\", is it ok for me to say that we shouldn\\'t judge him for who he is? so confused... this just happened at lunch and i am very upset about it...'"
      ]
     },
     "execution_count": 29,
     "metadata": {},
     "output_type": "execute_result"
    }
   ],
   "source": [
    "df.iloc[0]['Question']"
   ]
  },
  {
   "cell_type": "code",
   "execution_count": 30,
   "metadata": {},
   "outputs": [],
   "source": [
    "df.to_csv('../results/LDA/Lda_topics.csv')"
   ]
  },
  {
   "cell_type": "code",
   "execution_count": null,
   "metadata": {},
   "outputs": [],
   "source": []
  }
 ],
 "metadata": {
  "kernelspec": {
   "display_name": "Python 3",
   "language": "python",
   "name": "python3"
  },
  "language_info": {
   "codemirror_mode": {
    "name": "ipython",
    "version": 3
   },
   "file_extension": ".py",
   "mimetype": "text/x-python",
   "name": "python",
   "nbconvert_exporter": "python",
   "pygments_lexer": "ipython3",
   "version": "3.11.5"
  }
 },
 "nbformat": 4,
 "nbformat_minor": 2
}
