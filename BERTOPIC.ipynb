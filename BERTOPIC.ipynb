{
 "cells": [
  {
   "cell_type": "code",
   "execution_count": 205,
   "metadata": {},
   "outputs": [],
   "source": [
    "import pandas as pd\n",
    "from sentence_transformers import SentenceTransformer\n",
    "from bertopic import BERTopic\n",
    "\n",
    "# Load your dataset\n",
    "df = pd.read_csv('./dataset/quora_questions_filtered.csv')\n",
    "documents = list(df['Question'])\n",
    "\n"
   ]
  },
  {
   "cell_type": "code",
   "execution_count": 113,
   "metadata": {},
   "outputs": [],
   "source": [
    "# !pip install textblob"
   ]
  },
  {
   "cell_type": "code",
   "execution_count": 114,
   "metadata": {},
   "outputs": [
    {
     "name": "stderr",
     "output_type": "stream",
     "text": [
      "[nltk_data] Downloading package stopwords to\n",
      "[nltk_data]     C:\\Users\\jadha\\AppData\\Roaming\\nltk_data...\n",
      "[nltk_data]   Package stopwords is already up-to-date!\n"
     ]
    }
   ],
   "source": [
    "import nltk\n",
    "from nltk.corpus import stopwords\n",
    "import re\n",
    "\n",
    "# Download stopwords from nltk\n",
    "nltk.download('stopwords')\n",
    "stop_words = set(stopwords.words('english'))"
   ]
  },
  {
   "cell_type": "code",
   "execution_count": 116,
   "metadata": {},
   "outputs": [],
   "source": [
    "def preprocess_text(doc):\n",
    "    # Convert to lowercase\n",
    "    doc = doc.lower()\n",
    "    \n",
    "    # Remove stopwords\n",
    "    doc = ' '.join([word for word in doc.split() if word not in stop_words])\n",
    "    \n",
    "    return doc"
   ]
  },
  {
   "cell_type": "code",
   "execution_count": 117,
   "metadata": {},
   "outputs": [],
   "source": [
    "documents_preprocessed = [preprocess_text(doc) for doc in documents]"
   ]
  },
  {
   "cell_type": "code",
   "execution_count": 118,
   "metadata": {},
   "outputs": [
    {
     "name": "stderr",
     "output_type": "stream",
     "text": [
      "Batches: 100%|██████████| 961/961 [04:13<00:00,  3.79it/s]\n"
     ]
    }
   ],
   "source": [
    "# Initialize the BERT model\n",
    "model = SentenceTransformer('all-MiniLM-L6-v2')  # Or choose another model\n",
    "\n",
    "# Create embeddings for the documents\n",
    "embeddings = model.encode(documents, show_progress_bar=True)\n"
   ]
  },
  {
   "cell_type": "code",
   "execution_count": 191,
   "metadata": {},
   "outputs": [],
   "source": [
    "num_topics = 7\n",
    "topic_model = BERTopic(nr_topics=7,n_gram_range=(15,20), min_topic_size= 10,top_n_words=20)\n",
    "\n",
    "# Fit the model on the embeddings\n",
    "topics, probs = topic_model.fit_transform(documents, embeddings)\n"
   ]
  },
  {
   "cell_type": "code",
   "execution_count": 192,
   "metadata": {},
   "outputs": [
    {
     "name": "stdout",
     "output_type": "stream",
     "text": [
      "{-1: [('what are good gifts for foreign visitor to bring when theyre invited to someones home', 0.00016365657806210522), ('what are good gifts for foreign visitor to bring when theyre invited to someones home in', 0.00016365657806210522), ('are good gifts for foreign visitor to bring when theyre invited to someones home in', 0.00016365657806210522), ('be safe for unmarried couples without the harassment of police hotel staff and moral police', 0.0001580327990375373), ('would be safe for unmarried couples without the harassment of police hotel staff and moral', 0.0001580327990375373), ('would be safe for unmarried couples without the harassment of police hotel staff and moral police', 0.0001580327990375373), ('hillstation would be safe for unmarried couples without the harassment of police hotel staff and', 7.428848254230938e-05), ('hillstation would be safe for unmarried couples without the harassment of police hotel staff and moral police', 7.428848254230938e-05), ('hillstation would be safe for unmarried couples without the harassment of police hotel staff and moral', 7.428848254230938e-05), ('in shaping what matters most to eliezer yudkowsky the eventual development of friendly agithe singularity', 6.918703183619147e-05), ('play in shaping what matters most to eliezer yudkowsky the eventual development of friendly agithe', 6.918703183619147e-05), ('play in shaping what matters most to eliezer yudkowsky the eventual development of friendly agithe singularity', 6.918703183619147e-05), ('safe for unmarried couples without the harassment of police hotel staff and moral police what', 6.667204596998086e-05), ('would be safe for unmarried couples without the harassment of police hotel staff and moral police what', 6.667204596998086e-05), ('be safe for unmarried couples without the harassment of police hotel staff and moral police what', 6.667204596998086e-05), ('although light beam bouncing between two plates inside clock is often used to explain time dilation how', 4.999885125365955e-05), ('although light beam bouncing between two plates inside clock is often used to explain time dilation how can other', 4.999885125365955e-05), ('ms clinton how will you pull back from the hawkish foreign policy of the last 15 years', 4.999885125365955e-05), ('ms clinton how will you pull back from the hawkish foreign policy of the last 15', 4.999885125365955e-05), ('will you pull back from the hawkish foreign policy of the last 15 years or will your administration', 4.999885125365955e-05)], 0: [('would be safe for unmarried couples without the harassment of police hotel staff and moral police', 0.00287435773450475), ('would be safe for unmarried couples without the harassment of police hotel staff and moral', 0.00287435773450475), ('be safe for unmarried couples without the harassment of police hotel staff and moral police', 0.00287435773450475), ('were the major effects of the cambodia earthquake and how do these effects compare to the', 0.002292392478706847), ('were the major effects of the cambodia earthquake and how do these effects compare to', 0.002292392478706847), ('what were the major effects of the cambodia earthquake and how do these effects compare', 0.002292392478706847), ('the major effects of the cambodia earthquake and how do these effects compare to the', 0.002292392478706847), ('what were the major effects of the cambodia earthquake and how do these effects compare to', 0.002292392478706847), ('what were the major effects of the cambodia earthquake and how do these effects compare to the', 0.002292392478706847), ('significance of the battle of somme and how did this battle compare and contrast to the battle', 0.002025255147221997), ('battle of somme and how did this battle compare and contrast to the battle of', 0.002025255147221997), ('significance of the battle of somme and how did this battle compare and contrast to the battle of', 0.002025255147221997), ('significance of the battle of somme and how did this battle compare and contrast to the', 0.002025255147221997), ('the battle of somme and how did this battle compare and contrast to the battle of', 0.002025255147221997), ('significance of the battle of somme and how did this battle compare and contrast to', 0.002025255147221997), ('was the significance of the battle of somme and how did this battle compare and contrast to the', 0.002025255147221997), ('the significance of the battle of somme and how did this battle compare and contrast to the battle', 0.002025255147221997), ('what was the significance of the battle of somme and how did this battle compare', 0.002025255147221997), ('what was the significance of the battle of somme and how did this battle compare and contrast to', 0.002025255147221997), ('what was the significance of the battle of somme and how did this battle compare and', 0.002025255147221997)], 1: [('are the strongest majors in terms of job prospects and what are the weakest majors at', 0.0005582258053978813), ('are the strongest majors in terms of job prospects and what are the weakest majors', 0.0005582258053978813), ('what are the strongest majors in terms of job prospects and what are the weakest majors', 0.0005582258053978813), ('what are the strongest majors in terms of job prospects and what are the weakest', 0.0005582258053978813), ('what are the strongest majors in terms of job prospects and what are the weakest majors at', 0.0005582258053978813), ('the strongest majors in terms of job prospects and what are the weakest majors at', 0.0005582258053978813), ('people on quora ask questions here when they can get them on google and why is quora just questionanswer site', 0.0004278260367792728), ('when they can get them on google and why is quora just questionanswer site will', 0.0004278260367792728), ('how come people on quora ask questions here when they can get them on google and why is', 0.0004278260367792728), ('on quora ask questions here when they can get them on google and why is', 0.0004278260367792728), ('how come people on quora ask questions here when they can get them on google and', 0.0004278260367792728), ('ask questions here when they can get them on google and why is quora just questionanswer site will it expand', 0.0004278260367792728), ('on quora ask questions here when they can get them on google and why is quora just questionanswer site will', 0.0004278260367792728), ('come people on quora ask questions here when they can get them on google and', 0.0004278260367792728), ('ask questions here when they can get them on google and why is quora just questionanswer site', 0.0004278260367792728), ('ask questions here when they can get them on google and why is quora just questionanswer site will', 0.0004278260367792728), ('ask questions here when they can get them on google and why is quora just', 0.0004278260367792728), ('on quora ask questions here when they can get them on google and why is quora', 0.0004278260367792728), ('ask questions here when they can get them on google and why is quora just questionanswer', 0.0004278260367792728), ('on quora ask questions here when they can get them on google and why is quora just questionanswer', 0.0004278260367792728)], 2: [('untreatable and lifelong disabling neurological disease what is the easiest and most painless way can commit', 0.00035710772476914434), ('have an untreatable and lifelong disabling neurological disease what is the easiest and most painless way can commit', 0.00035710772476914434), ('an untreatable and lifelong disabling neurological disease what is the easiest and most painless way can commit', 0.00035710772476914434), ('and lifelong disabling neurological disease what is the easiest and most painless way can commit suicide', 0.00035710772476914434), ('an untreatable and lifelong disabling neurological disease what is the easiest and most painless way can', 0.00035710772476914434), ('and lifelong disabling neurological disease what is the easiest and most painless way can commit', 0.00035710772476914434), ('have an untreatable and lifelong disabling neurological disease what is the easiest and most painless', 0.00035710772476914434), ('have an untreatable and lifelong disabling neurological disease what is the easiest and most painless way can', 0.00035710772476914434), ('have an untreatable and lifelong disabling neurological disease what is the easiest and most painless way', 0.00035710772476914434), ('have an untreatable and lifelong disabling neurological disease what is the easiest and most painless way can commit suicide', 0.00035710772476914434), ('untreatable and lifelong disabling neurological disease what is the easiest and most painless way can', 0.00035710772476914434), ('an untreatable and lifelong disabling neurological disease what is the easiest and most painless way', 0.00035710772476914434), ('untreatable and lifelong disabling neurological disease what is the easiest and most painless way can commit suicide', 0.00035710772476914434), ('lifelong disabling neurological disease what is the easiest and most painless way can commit suicide', 0.00035710772476914434), ('an untreatable and lifelong disabling neurological disease what is the easiest and most painless way can commit suicide', 0.00035710772476914434), ('meth out of my system in less than days so can pass my drug test', 0.0003083197941868115), ('how can get meth out of my system in less than days so can pass my drug test', 0.0003083197941868115), ('can get meth out of my system in less than days so can pass my drug test', 0.0003083197941868115), ('can get meth out of my system in less than days so can pass my drug', 0.0003083197941868115), ('can get meth out of my system in less than days so can pass my', 0.0003083197941868115)], 3: [('address used to create my snapchat account how can log in or at least change my', 0.0006689898051260012), ('forgot my password and the email address used to create my snapchat account how can log in', 0.0006689898051260012), ('create my snapchat account how can log in or at least change my email address or', 0.0006689898051260012), ('and the email address used to create my snapchat account how can log in or', 0.0006689898051260012), ('and the email address used to create my snapchat account how can log in or at least change', 0.0006689898051260012), ('address used to create my snapchat account how can log in or at least change my email address or', 0.0006689898051260012), ('and the email address used to create my snapchat account how can log in or at least change my email', 0.0006689898051260012), ('address used to create my snapchat account how can log in or at least change my email address or password', 0.0006689898051260012), ('the email address used to create my snapchat account how can log in or at least', 0.0006689898051260012), ('the email address used to create my snapchat account how can log in or at least change', 0.0006689898051260012), ('the email address used to create my snapchat account how can log in or at least change my email address', 0.0006689898051260012), ('the email address used to create my snapchat account how can log in or at least change my email', 0.0006689898051260012), ('address used to create my snapchat account how can log in or at least change', 0.0006689898051260012), ('create my snapchat account how can log in or at least change my email address or password', 0.0006689898051260012), ('to create my snapchat account how can log in or at least change my email address or', 0.0006689898051260012), ('to create my snapchat account how can log in or at least change my email address or password', 0.0006689898051260012), ('snapchat account how can log in or at least change my email address or password', 0.0006689898051260012), ('used to create my snapchat account how can log in or at least change my', 0.0006689898051260012), ('email address used to create my snapchat account how can log in or at least change my email address or', 0.0006689898051260012), ('email address used to create my snapchat account how can log in or at least change my email address', 0.0006689898051260012)], 4: [('cards were drawn without replacement from pack of 52 cards what is the probability that they are both', 0.0007555205670225389), ('cards were drawn without replacement from pack of 52 cards what is the probability that they', 0.0007555205670225389), ('two cards were drawn without replacement from pack of 52 cards what is the probability that they are both kings', 0.0007555205670225389), ('two cards were drawn without replacement from pack of 52 cards what is the probability that they are both', 0.0007555205670225389), ('two cards were drawn without replacement from pack of 52 cards what is the probability', 0.0007555205670225389), ('two cards were drawn without replacement from pack of 52 cards what is the probability that they are', 0.0007555205670225389), ('two cards were drawn without replacement from pack of 52 cards what is the probability that they', 0.0007555205670225389), ('drawn without replacement from pack of 52 cards what is the probability that they are both kings', 0.0007555205670225389), ('two cards were drawn without replacement from pack of 52 cards what is the probability that', 0.0007555205670225389), ('were drawn without replacement from pack of 52 cards what is the probability that they', 0.0007555205670225389), ('cards were drawn without replacement from pack of 52 cards what is the probability that', 0.0007555205670225389), ('without replacement from pack of 52 cards what is the probability that they are both kings', 0.0007555205670225389), ('replacement from pack of 52 cards what is the probability that they are both kings', 0.0007555205670225389), ('were drawn without replacement from pack of 52 cards what is the probability that they are', 0.0007555205670225389), ('were drawn without replacement from pack of 52 cards what is the probability that they are both', 0.0007555205670225389), ('were drawn without replacement from pack of 52 cards what is the probability that they are both kings', 0.0007555205670225389), ('cards were drawn without replacement from pack of 52 cards what is the probability that they are both kings', 0.0007555205670225389), ('without replacement from pack of 52 cards what is the probability that they are both', 0.0007555205670225389), ('drawn without replacement from pack of 52 cards what is the probability that they are', 0.0007555205670225389), ('cards were drawn without replacement from pack of 52 cards what is the probability that they are', 0.0007555205670225389)], 5: [('the universe is infinite and more and more of it is created as the universe expands', 0.003130325790680065), ('darkvacuum energy infinite because the expansion of the universe is infinite and more and more of it is', 0.003130325790680065), ('expands and vacuum energy is created with it with no limitis there infinite potential energyinfinite vacuum energy that can be', 0.003130325790680065), ('expands and vacuum energy is created with it with no limitis there infinite potential energyinfinite', 0.003130325790680065), ('because the expansion of the universe is infinite and more and more of it is created as the universe expands', 0.003130325790680065), ('created with it with no limitis there infinite potential energyinfinite vacuum energy that can be created', 0.003130325790680065), ('created with it with no limitis there infinite potential energyinfinite vacuum energy that can be', 0.003130325790680065), ('vacuum energy is created with it with no limitis there infinite potential energyinfinite vacuum energy that can be created', 0.003130325790680065), ('because the expansion of the universe is infinite and more and more of it is created as', 0.003130325790680065), ('because the expansion of the universe is infinite and more and more of it is created', 0.003130325790680065), ('vacuum energy is created with it with no limitis there infinite potential energyinfinite vacuum energy that can be', 0.003130325790680065), ('vacuum energy is created with it with no limitis there infinite potential energyinfinite vacuum energy that can', 0.003130325790680065), ('because the expansion of the universe is infinite and more and more of it is', 0.003130325790680065), ('vacuum energy is created with it with no limitis there infinite potential energyinfinite vacuum energy that', 0.003130325790680065), ('vacuum energy is created with it with no limitis there infinite potential energyinfinite vacuum energy', 0.003130325790680065), ('and vacuum energy is created with it with no limitis there infinite potential energyinfinite vacuum', 0.003130325790680065), ('and vacuum energy is created with it with no limitis there infinite potential energyinfinite vacuum energy', 0.003130325790680065), ('and vacuum energy is created with it with no limitis there infinite potential energyinfinite vacuum energy that', 0.003130325790680065), ('and vacuum energy is created with it with no limitis there infinite potential energyinfinite vacuum energy that can', 0.003130325790680065), ('and vacuum energy is created with it with no limitis there infinite potential energyinfinite vacuum energy that can be', 0.003130325790680065)]}\n"
     ]
    },
    {
     "data": {
      "application/vnd.plotly.v1+json": {
       "config": {
        "plotlyServerURL": "https://plot.ly"
       },
       "data": [
        {
         "customdata": [
          [
           0,
           "would be safe for unmarried couples without the harassment of police hotel staff and moral police | would be safe for unmarried couples without the harassment of police hotel staff and moral | be safe for unmarried couples without the harassment of police hotel staff and moral police | were the major effects of the cambodia earthquake and how do these effects compare to the | were the major effects of the cambodia earthquake and how do these effects compare to",
           6437
          ],
          [
           1,
           "are the strongest majors in terms of job prospects and what are the weakest majors at | are the strongest majors in terms of job prospects and what are the weakest majors | what are the strongest majors in terms of job prospects and what are the weakest majors | what are the strongest majors in terms of job prospects and what are the weakest | what are the strongest majors in terms of job prospects and what are the weakest majors at",
           4919
          ],
          [
           2,
           "untreatable and lifelong disabling neurological disease what is the easiest and most painless way can commit | have an untreatable and lifelong disabling neurological disease what is the easiest and most painless way can commit | an untreatable and lifelong disabling neurological disease what is the easiest and most painless way can commit | and lifelong disabling neurological disease what is the easiest and most painless way can commit suicide | an untreatable and lifelong disabling neurological disease what is the easiest and most painless way can",
           4029
          ],
          [
           3,
           "address used to create my snapchat account how can log in or at least change my | forgot my password and the email address used to create my snapchat account how can log in | create my snapchat account how can log in or at least change my email address or | and the email address used to create my snapchat account how can log in or | and the email address used to create my snapchat account how can log in or at least change",
           2007
          ],
          [
           4,
           "cards were drawn without replacement from pack of 52 cards what is the probability that they are both | cards were drawn without replacement from pack of 52 cards what is the probability that they | two cards were drawn without replacement from pack of 52 cards what is the probability that they are both kings | two cards were drawn without replacement from pack of 52 cards what is the probability that they are both | two cards were drawn without replacement from pack of 52 cards what is the probability",
           1395
          ],
          [
           5,
           "the universe is infinite and more and more of it is created as the universe expands | darkvacuum energy infinite because the expansion of the universe is infinite and more and more of it is | expands and vacuum energy is created with it with no limitis there infinite potential energyinfinite vacuum energy that can be | expands and vacuum energy is created with it with no limitis there infinite potential energyinfinite | because the expansion of the universe is infinite and more and more of it is created as the universe expands",
           500
          ]
         ],
         "hovertemplate": "<b>Topic %{customdata[0]}</b><br>%{customdata[1]}<br>Size: %{customdata[2]}",
         "legendgroup": "",
         "marker": {
          "color": "#B0BEC5",
          "line": {
           "color": "DarkSlateGrey",
           "width": 2
          },
          "size": [
           6437,
           4919,
           4029,
           2007,
           1395,
           500
          ],
          "sizemode": "area",
          "sizeref": 4.023125,
          "symbol": "circle"
         },
         "mode": "markers",
         "name": "",
         "orientation": "v",
         "showlegend": false,
         "type": "scatter",
         "x": [
          3.93113112449646,
          4.386765003204346,
          8.714692115783691,
          8.33227252960205,
          4.119874000549316,
          4.600696086883545
         ],
         "xaxis": "x",
         "y": [
          -25.28289031982422,
          -24.68611717224121,
          14.106740951538086,
          13.72436809539795,
          -25.99454689025879,
          -26.43460464477539
         ],
         "yaxis": "y"
        }
       ],
       "layout": {
        "annotations": [
         {
          "showarrow": false,
          "text": "D1",
          "x": 3.341461455821991,
          "y": -7.0885216236114506,
          "yshift": 10
         },
         {
          "showarrow": false,
          "text": "D2",
          "x": 6.681678694486618,
          "xshift": 10,
          "y": 16.2227520942688
         }
        ],
        "height": 650,
        "hoverlabel": {
         "bgcolor": "white",
         "font": {
          "family": "Rockwell",
          "size": 16
         }
        },
        "legend": {
         "itemsizing": "constant",
         "tracegroupgap": 0
        },
        "margin": {
         "t": 60
        },
        "shapes": [
         {
          "line": {
           "color": "#CFD8DC",
           "width": 2
          },
          "type": "line",
          "x0": 6.681678694486618,
          "x1": 6.681678694486618,
          "y0": -30.3997953414917,
          "y1": 16.2227520942688
         },
         {
          "line": {
           "color": "#9E9E9E",
           "width": 2
          },
          "type": "line",
          "x0": 3.341461455821991,
          "x1": 10.021895933151246,
          "y0": -7.0885216236114506,
          "y1": -7.0885216236114506
         }
        ],
        "sliders": [
         {
          "active": 0,
          "pad": {
           "t": 50
          },
          "steps": [
           {
            "args": [
             {
              "marker.color": [
               [
                "red",
                "#B0BEC5",
                "#B0BEC5",
                "#B0BEC5",
                "#B0BEC5",
                "#B0BEC5"
               ]
              ]
             }
            ],
            "label": "Topic 0",
            "method": "update"
           },
           {
            "args": [
             {
              "marker.color": [
               [
                "#B0BEC5",
                "red",
                "#B0BEC5",
                "#B0BEC5",
                "#B0BEC5",
                "#B0BEC5"
               ]
              ]
             }
            ],
            "label": "Topic 1",
            "method": "update"
           },
           {
            "args": [
             {
              "marker.color": [
               [
                "#B0BEC5",
                "#B0BEC5",
                "red",
                "#B0BEC5",
                "#B0BEC5",
                "#B0BEC5"
               ]
              ]
             }
            ],
            "label": "Topic 2",
            "method": "update"
           },
           {
            "args": [
             {
              "marker.color": [
               [
                "#B0BEC5",
                "#B0BEC5",
                "#B0BEC5",
                "red",
                "#B0BEC5",
                "#B0BEC5"
               ]
              ]
             }
            ],
            "label": "Topic 3",
            "method": "update"
           },
           {
            "args": [
             {
              "marker.color": [
               [
                "#B0BEC5",
                "#B0BEC5",
                "#B0BEC5",
                "#B0BEC5",
                "red",
                "#B0BEC5"
               ]
              ]
             }
            ],
            "label": "Topic 4",
            "method": "update"
           },
           {
            "args": [
             {
              "marker.color": [
               [
                "#B0BEC5",
                "#B0BEC5",
                "#B0BEC5",
                "#B0BEC5",
                "#B0BEC5",
                "red"
               ]
              ]
             }
            ],
            "label": "Topic 5",
            "method": "update"
           }
          ]
         }
        ],
        "template": {
         "data": {
          "bar": [
           {
            "error_x": {
             "color": "rgb(36,36,36)"
            },
            "error_y": {
             "color": "rgb(36,36,36)"
            },
            "marker": {
             "line": {
              "color": "white",
              "width": 0.5
             },
             "pattern": {
              "fillmode": "overlay",
              "size": 10,
              "solidity": 0.2
             }
            },
            "type": "bar"
           }
          ],
          "barpolar": [
           {
            "marker": {
             "line": {
              "color": "white",
              "width": 0.5
             },
             "pattern": {
              "fillmode": "overlay",
              "size": 10,
              "solidity": 0.2
             }
            },
            "type": "barpolar"
           }
          ],
          "carpet": [
           {
            "aaxis": {
             "endlinecolor": "rgb(36,36,36)",
             "gridcolor": "white",
             "linecolor": "white",
             "minorgridcolor": "white",
             "startlinecolor": "rgb(36,36,36)"
            },
            "baxis": {
             "endlinecolor": "rgb(36,36,36)",
             "gridcolor": "white",
             "linecolor": "white",
             "minorgridcolor": "white",
             "startlinecolor": "rgb(36,36,36)"
            },
            "type": "carpet"
           }
          ],
          "choropleth": [
           {
            "colorbar": {
             "outlinewidth": 1,
             "tickcolor": "rgb(36,36,36)",
             "ticks": "outside"
            },
            "type": "choropleth"
           }
          ],
          "contour": [
           {
            "colorbar": {
             "outlinewidth": 1,
             "tickcolor": "rgb(36,36,36)",
             "ticks": "outside"
            },
            "colorscale": [
             [
              0,
              "#440154"
             ],
             [
              0.1111111111111111,
              "#482878"
             ],
             [
              0.2222222222222222,
              "#3e4989"
             ],
             [
              0.3333333333333333,
              "#31688e"
             ],
             [
              0.4444444444444444,
              "#26828e"
             ],
             [
              0.5555555555555556,
              "#1f9e89"
             ],
             [
              0.6666666666666666,
              "#35b779"
             ],
             [
              0.7777777777777778,
              "#6ece58"
             ],
             [
              0.8888888888888888,
              "#b5de2b"
             ],
             [
              1,
              "#fde725"
             ]
            ],
            "type": "contour"
           }
          ],
          "contourcarpet": [
           {
            "colorbar": {
             "outlinewidth": 1,
             "tickcolor": "rgb(36,36,36)",
             "ticks": "outside"
            },
            "type": "contourcarpet"
           }
          ],
          "heatmap": [
           {
            "colorbar": {
             "outlinewidth": 1,
             "tickcolor": "rgb(36,36,36)",
             "ticks": "outside"
            },
            "colorscale": [
             [
              0,
              "#440154"
             ],
             [
              0.1111111111111111,
              "#482878"
             ],
             [
              0.2222222222222222,
              "#3e4989"
             ],
             [
              0.3333333333333333,
              "#31688e"
             ],
             [
              0.4444444444444444,
              "#26828e"
             ],
             [
              0.5555555555555556,
              "#1f9e89"
             ],
             [
              0.6666666666666666,
              "#35b779"
             ],
             [
              0.7777777777777778,
              "#6ece58"
             ],
             [
              0.8888888888888888,
              "#b5de2b"
             ],
             [
              1,
              "#fde725"
             ]
            ],
            "type": "heatmap"
           }
          ],
          "heatmapgl": [
           {
            "colorbar": {
             "outlinewidth": 1,
             "tickcolor": "rgb(36,36,36)",
             "ticks": "outside"
            },
            "colorscale": [
             [
              0,
              "#440154"
             ],
             [
              0.1111111111111111,
              "#482878"
             ],
             [
              0.2222222222222222,
              "#3e4989"
             ],
             [
              0.3333333333333333,
              "#31688e"
             ],
             [
              0.4444444444444444,
              "#26828e"
             ],
             [
              0.5555555555555556,
              "#1f9e89"
             ],
             [
              0.6666666666666666,
              "#35b779"
             ],
             [
              0.7777777777777778,
              "#6ece58"
             ],
             [
              0.8888888888888888,
              "#b5de2b"
             ],
             [
              1,
              "#fde725"
             ]
            ],
            "type": "heatmapgl"
           }
          ],
          "histogram": [
           {
            "marker": {
             "line": {
              "color": "white",
              "width": 0.6
             }
            },
            "type": "histogram"
           }
          ],
          "histogram2d": [
           {
            "colorbar": {
             "outlinewidth": 1,
             "tickcolor": "rgb(36,36,36)",
             "ticks": "outside"
            },
            "colorscale": [
             [
              0,
              "#440154"
             ],
             [
              0.1111111111111111,
              "#482878"
             ],
             [
              0.2222222222222222,
              "#3e4989"
             ],
             [
              0.3333333333333333,
              "#31688e"
             ],
             [
              0.4444444444444444,
              "#26828e"
             ],
             [
              0.5555555555555556,
              "#1f9e89"
             ],
             [
              0.6666666666666666,
              "#35b779"
             ],
             [
              0.7777777777777778,
              "#6ece58"
             ],
             [
              0.8888888888888888,
              "#b5de2b"
             ],
             [
              1,
              "#fde725"
             ]
            ],
            "type": "histogram2d"
           }
          ],
          "histogram2dcontour": [
           {
            "colorbar": {
             "outlinewidth": 1,
             "tickcolor": "rgb(36,36,36)",
             "ticks": "outside"
            },
            "colorscale": [
             [
              0,
              "#440154"
             ],
             [
              0.1111111111111111,
              "#482878"
             ],
             [
              0.2222222222222222,
              "#3e4989"
             ],
             [
              0.3333333333333333,
              "#31688e"
             ],
             [
              0.4444444444444444,
              "#26828e"
             ],
             [
              0.5555555555555556,
              "#1f9e89"
             ],
             [
              0.6666666666666666,
              "#35b779"
             ],
             [
              0.7777777777777778,
              "#6ece58"
             ],
             [
              0.8888888888888888,
              "#b5de2b"
             ],
             [
              1,
              "#fde725"
             ]
            ],
            "type": "histogram2dcontour"
           }
          ],
          "mesh3d": [
           {
            "colorbar": {
             "outlinewidth": 1,
             "tickcolor": "rgb(36,36,36)",
             "ticks": "outside"
            },
            "type": "mesh3d"
           }
          ],
          "parcoords": [
           {
            "line": {
             "colorbar": {
              "outlinewidth": 1,
              "tickcolor": "rgb(36,36,36)",
              "ticks": "outside"
             }
            },
            "type": "parcoords"
           }
          ],
          "pie": [
           {
            "automargin": true,
            "type": "pie"
           }
          ],
          "scatter": [
           {
            "fillpattern": {
             "fillmode": "overlay",
             "size": 10,
             "solidity": 0.2
            },
            "type": "scatter"
           }
          ],
          "scatter3d": [
           {
            "line": {
             "colorbar": {
              "outlinewidth": 1,
              "tickcolor": "rgb(36,36,36)",
              "ticks": "outside"
             }
            },
            "marker": {
             "colorbar": {
              "outlinewidth": 1,
              "tickcolor": "rgb(36,36,36)",
              "ticks": "outside"
             }
            },
            "type": "scatter3d"
           }
          ],
          "scattercarpet": [
           {
            "marker": {
             "colorbar": {
              "outlinewidth": 1,
              "tickcolor": "rgb(36,36,36)",
              "ticks": "outside"
             }
            },
            "type": "scattercarpet"
           }
          ],
          "scattergeo": [
           {
            "marker": {
             "colorbar": {
              "outlinewidth": 1,
              "tickcolor": "rgb(36,36,36)",
              "ticks": "outside"
             }
            },
            "type": "scattergeo"
           }
          ],
          "scattergl": [
           {
            "marker": {
             "colorbar": {
              "outlinewidth": 1,
              "tickcolor": "rgb(36,36,36)",
              "ticks": "outside"
             }
            },
            "type": "scattergl"
           }
          ],
          "scattermapbox": [
           {
            "marker": {
             "colorbar": {
              "outlinewidth": 1,
              "tickcolor": "rgb(36,36,36)",
              "ticks": "outside"
             }
            },
            "type": "scattermapbox"
           }
          ],
          "scatterpolar": [
           {
            "marker": {
             "colorbar": {
              "outlinewidth": 1,
              "tickcolor": "rgb(36,36,36)",
              "ticks": "outside"
             }
            },
            "type": "scatterpolar"
           }
          ],
          "scatterpolargl": [
           {
            "marker": {
             "colorbar": {
              "outlinewidth": 1,
              "tickcolor": "rgb(36,36,36)",
              "ticks": "outside"
             }
            },
            "type": "scatterpolargl"
           }
          ],
          "scatterternary": [
           {
            "marker": {
             "colorbar": {
              "outlinewidth": 1,
              "tickcolor": "rgb(36,36,36)",
              "ticks": "outside"
             }
            },
            "type": "scatterternary"
           }
          ],
          "surface": [
           {
            "colorbar": {
             "outlinewidth": 1,
             "tickcolor": "rgb(36,36,36)",
             "ticks": "outside"
            },
            "colorscale": [
             [
              0,
              "#440154"
             ],
             [
              0.1111111111111111,
              "#482878"
             ],
             [
              0.2222222222222222,
              "#3e4989"
             ],
             [
              0.3333333333333333,
              "#31688e"
             ],
             [
              0.4444444444444444,
              "#26828e"
             ],
             [
              0.5555555555555556,
              "#1f9e89"
             ],
             [
              0.6666666666666666,
              "#35b779"
             ],
             [
              0.7777777777777778,
              "#6ece58"
             ],
             [
              0.8888888888888888,
              "#b5de2b"
             ],
             [
              1,
              "#fde725"
             ]
            ],
            "type": "surface"
           }
          ],
          "table": [
           {
            "cells": {
             "fill": {
              "color": "rgb(237,237,237)"
             },
             "line": {
              "color": "white"
             }
            },
            "header": {
             "fill": {
              "color": "rgb(217,217,217)"
             },
             "line": {
              "color": "white"
             }
            },
            "type": "table"
           }
          ]
         },
         "layout": {
          "annotationdefaults": {
           "arrowhead": 0,
           "arrowwidth": 1
          },
          "autotypenumbers": "strict",
          "coloraxis": {
           "colorbar": {
            "outlinewidth": 1,
            "tickcolor": "rgb(36,36,36)",
            "ticks": "outside"
           }
          },
          "colorscale": {
           "diverging": [
            [
             0,
             "rgb(103,0,31)"
            ],
            [
             0.1,
             "rgb(178,24,43)"
            ],
            [
             0.2,
             "rgb(214,96,77)"
            ],
            [
             0.3,
             "rgb(244,165,130)"
            ],
            [
             0.4,
             "rgb(253,219,199)"
            ],
            [
             0.5,
             "rgb(247,247,247)"
            ],
            [
             0.6,
             "rgb(209,229,240)"
            ],
            [
             0.7,
             "rgb(146,197,222)"
            ],
            [
             0.8,
             "rgb(67,147,195)"
            ],
            [
             0.9,
             "rgb(33,102,172)"
            ],
            [
             1,
             "rgb(5,48,97)"
            ]
           ],
           "sequential": [
            [
             0,
             "#440154"
            ],
            [
             0.1111111111111111,
             "#482878"
            ],
            [
             0.2222222222222222,
             "#3e4989"
            ],
            [
             0.3333333333333333,
             "#31688e"
            ],
            [
             0.4444444444444444,
             "#26828e"
            ],
            [
             0.5555555555555556,
             "#1f9e89"
            ],
            [
             0.6666666666666666,
             "#35b779"
            ],
            [
             0.7777777777777778,
             "#6ece58"
            ],
            [
             0.8888888888888888,
             "#b5de2b"
            ],
            [
             1,
             "#fde725"
            ]
           ],
           "sequentialminus": [
            [
             0,
             "#440154"
            ],
            [
             0.1111111111111111,
             "#482878"
            ],
            [
             0.2222222222222222,
             "#3e4989"
            ],
            [
             0.3333333333333333,
             "#31688e"
            ],
            [
             0.4444444444444444,
             "#26828e"
            ],
            [
             0.5555555555555556,
             "#1f9e89"
            ],
            [
             0.6666666666666666,
             "#35b779"
            ],
            [
             0.7777777777777778,
             "#6ece58"
            ],
            [
             0.8888888888888888,
             "#b5de2b"
            ],
            [
             1,
             "#fde725"
            ]
           ]
          },
          "colorway": [
           "#1F77B4",
           "#FF7F0E",
           "#2CA02C",
           "#D62728",
           "#9467BD",
           "#8C564B",
           "#E377C2",
           "#7F7F7F",
           "#BCBD22",
           "#17BECF"
          ],
          "font": {
           "color": "rgb(36,36,36)"
          },
          "geo": {
           "bgcolor": "white",
           "lakecolor": "white",
           "landcolor": "white",
           "showlakes": true,
           "showland": true,
           "subunitcolor": "white"
          },
          "hoverlabel": {
           "align": "left"
          },
          "hovermode": "closest",
          "mapbox": {
           "style": "light"
          },
          "paper_bgcolor": "white",
          "plot_bgcolor": "white",
          "polar": {
           "angularaxis": {
            "gridcolor": "rgb(232,232,232)",
            "linecolor": "rgb(36,36,36)",
            "showgrid": false,
            "showline": true,
            "ticks": "outside"
           },
           "bgcolor": "white",
           "radialaxis": {
            "gridcolor": "rgb(232,232,232)",
            "linecolor": "rgb(36,36,36)",
            "showgrid": false,
            "showline": true,
            "ticks": "outside"
           }
          },
          "scene": {
           "xaxis": {
            "backgroundcolor": "white",
            "gridcolor": "rgb(232,232,232)",
            "gridwidth": 2,
            "linecolor": "rgb(36,36,36)",
            "showbackground": true,
            "showgrid": false,
            "showline": true,
            "ticks": "outside",
            "zeroline": false,
            "zerolinecolor": "rgb(36,36,36)"
           },
           "yaxis": {
            "backgroundcolor": "white",
            "gridcolor": "rgb(232,232,232)",
            "gridwidth": 2,
            "linecolor": "rgb(36,36,36)",
            "showbackground": true,
            "showgrid": false,
            "showline": true,
            "ticks": "outside",
            "zeroline": false,
            "zerolinecolor": "rgb(36,36,36)"
           },
           "zaxis": {
            "backgroundcolor": "white",
            "gridcolor": "rgb(232,232,232)",
            "gridwidth": 2,
            "linecolor": "rgb(36,36,36)",
            "showbackground": true,
            "showgrid": false,
            "showline": true,
            "ticks": "outside",
            "zeroline": false,
            "zerolinecolor": "rgb(36,36,36)"
           }
          },
          "shapedefaults": {
           "fillcolor": "black",
           "line": {
            "width": 0
           },
           "opacity": 0.3
          },
          "ternary": {
           "aaxis": {
            "gridcolor": "rgb(232,232,232)",
            "linecolor": "rgb(36,36,36)",
            "showgrid": false,
            "showline": true,
            "ticks": "outside"
           },
           "baxis": {
            "gridcolor": "rgb(232,232,232)",
            "linecolor": "rgb(36,36,36)",
            "showgrid": false,
            "showline": true,
            "ticks": "outside"
           },
           "bgcolor": "white",
           "caxis": {
            "gridcolor": "rgb(232,232,232)",
            "linecolor": "rgb(36,36,36)",
            "showgrid": false,
            "showline": true,
            "ticks": "outside"
           }
          },
          "title": {
           "x": 0.05
          },
          "xaxis": {
           "automargin": true,
           "gridcolor": "rgb(232,232,232)",
           "linecolor": "rgb(36,36,36)",
           "showgrid": false,
           "showline": true,
           "ticks": "outside",
           "title": {
            "standoff": 15
           },
           "zeroline": false,
           "zerolinecolor": "rgb(36,36,36)"
          },
          "yaxis": {
           "automargin": true,
           "gridcolor": "rgb(232,232,232)",
           "linecolor": "rgb(36,36,36)",
           "showgrid": false,
           "showline": true,
           "ticks": "outside",
           "title": {
            "standoff": 15
           },
           "zeroline": false,
           "zerolinecolor": "rgb(36,36,36)"
          }
         }
        },
        "title": {
         "font": {
          "color": "Black",
          "size": 22
         },
         "text": "<b>Intertopic Distance Map</b>",
         "x": 0.5,
         "xanchor": "center",
         "y": 0.95,
         "yanchor": "top"
        },
        "width": 650,
        "xaxis": {
         "anchor": "y",
         "domain": [
          0,
          1
         ],
         "range": [
          3.341461455821991,
          10.021895933151246
         ],
         "title": {
          "text": ""
         },
         "visible": false
        },
        "yaxis": {
         "anchor": "x",
         "domain": [
          0,
          1
         ],
         "range": [
          -30.3997953414917,
          16.2227520942688
         ],
         "title": {
          "text": ""
         },
         "visible": false
        }
       }
      }
     },
     "metadata": {},
     "output_type": "display_data"
    }
   ],
   "source": [
    "# Print topics with their top words\n",
    "print(topic_model.get_topics())\n",
    "\n",
    "# Optional: Visualize topics\n",
    "topic_model.visualize_topics()\n"
   ]
  },
  {
   "cell_type": "code",
   "execution_count": 222,
   "metadata": {},
   "outputs": [
    {
     "name": "stdout",
     "output_type": "stream",
     "text": [
      "Topic 0:\n",
      "  would be safe for unmarried couples without the harassment of police hotel staff and moral police: 0.0029\n",
      "  would be safe for unmarried couples without the harassment of police hotel staff and moral: 0.0029\n",
      "  be safe for unmarried couples without the harassment of police hotel staff and moral police: 0.0029\n",
      "  were the major effects of the cambodia earthquake and how do these effects compare to the: 0.0023\n",
      "  were the major effects of the cambodia earthquake and how do these effects compare to: 0.0023\n",
      "  what were the major effects of the cambodia earthquake and how do these effects compare: 0.0023\n",
      "  the major effects of the cambodia earthquake and how do these effects compare to the: 0.0023\n",
      "  what were the major effects of the cambodia earthquake and how do these effects compare to: 0.0023\n",
      "  what were the major effects of the cambodia earthquake and how do these effects compare to the: 0.0023\n",
      "  significance of the battle of somme and how did this battle compare and contrast to the battle: 0.0020\n",
      "  battle of somme and how did this battle compare and contrast to the battle of: 0.0020\n",
      "  significance of the battle of somme and how did this battle compare and contrast to the battle of: 0.0020\n",
      "  significance of the battle of somme and how did this battle compare and contrast to the: 0.0020\n",
      "  the battle of somme and how did this battle compare and contrast to the battle of: 0.0020\n",
      "  significance of the battle of somme and how did this battle compare and contrast to: 0.0020\n",
      "  was the significance of the battle of somme and how did this battle compare and contrast to the: 0.0020\n",
      "  the significance of the battle of somme and how did this battle compare and contrast to the battle: 0.0020\n",
      "  what was the significance of the battle of somme and how did this battle compare: 0.0020\n",
      "  what was the significance of the battle of somme and how did this battle compare and contrast to: 0.0020\n",
      "  what was the significance of the battle of somme and how did this battle compare and: 0.0020\n",
      "\n",
      "\n",
      "Topic 1:\n",
      "  are the strongest majors in terms of job prospects and what are the weakest majors at: 0.0006\n",
      "  are the strongest majors in terms of job prospects and what are the weakest majors: 0.0006\n",
      "  what are the strongest majors in terms of job prospects and what are the weakest majors: 0.0006\n",
      "  what are the strongest majors in terms of job prospects and what are the weakest: 0.0006\n",
      "  what are the strongest majors in terms of job prospects and what are the weakest majors at: 0.0006\n",
      "  the strongest majors in terms of job prospects and what are the weakest majors at: 0.0006\n",
      "  people on quora ask questions here when they can get them on google and why is quora just questionanswer site: 0.0004\n",
      "  when they can get them on google and why is quora just questionanswer site will: 0.0004\n",
      "  how come people on quora ask questions here when they can get them on google and why is: 0.0004\n",
      "  on quora ask questions here when they can get them on google and why is: 0.0004\n",
      "  how come people on quora ask questions here when they can get them on google and: 0.0004\n",
      "  ask questions here when they can get them on google and why is quora just questionanswer site will it expand: 0.0004\n",
      "  on quora ask questions here when they can get them on google and why is quora just questionanswer site will: 0.0004\n",
      "  come people on quora ask questions here when they can get them on google and: 0.0004\n",
      "  ask questions here when they can get them on google and why is quora just questionanswer site: 0.0004\n",
      "  ask questions here when they can get them on google and why is quora just questionanswer site will: 0.0004\n",
      "  ask questions here when they can get them on google and why is quora just: 0.0004\n",
      "  on quora ask questions here when they can get them on google and why is quora: 0.0004\n",
      "  ask questions here when they can get them on google and why is quora just questionanswer: 0.0004\n",
      "  on quora ask questions here when they can get them on google and why is quora just questionanswer: 0.0004\n",
      "\n",
      "\n",
      "Topic 2:\n",
      "  untreatable and lifelong disabling neurological disease what is the easiest and most painless way can commit: 0.0004\n",
      "  have an untreatable and lifelong disabling neurological disease what is the easiest and most painless way can commit: 0.0004\n",
      "  an untreatable and lifelong disabling neurological disease what is the easiest and most painless way can commit: 0.0004\n",
      "  and lifelong disabling neurological disease what is the easiest and most painless way can commit suicide: 0.0004\n",
      "  an untreatable and lifelong disabling neurological disease what is the easiest and most painless way can: 0.0004\n",
      "  and lifelong disabling neurological disease what is the easiest and most painless way can commit: 0.0004\n",
      "  have an untreatable and lifelong disabling neurological disease what is the easiest and most painless: 0.0004\n",
      "  have an untreatable and lifelong disabling neurological disease what is the easiest and most painless way can: 0.0004\n",
      "  have an untreatable and lifelong disabling neurological disease what is the easiest and most painless way: 0.0004\n",
      "  have an untreatable and lifelong disabling neurological disease what is the easiest and most painless way can commit suicide: 0.0004\n",
      "  untreatable and lifelong disabling neurological disease what is the easiest and most painless way can: 0.0004\n",
      "  an untreatable and lifelong disabling neurological disease what is the easiest and most painless way: 0.0004\n",
      "  untreatable and lifelong disabling neurological disease what is the easiest and most painless way can commit suicide: 0.0004\n",
      "  lifelong disabling neurological disease what is the easiest and most painless way can commit suicide: 0.0004\n",
      "  an untreatable and lifelong disabling neurological disease what is the easiest and most painless way can commit suicide: 0.0004\n",
      "  meth out of my system in less than days so can pass my drug test: 0.0003\n",
      "  how can get meth out of my system in less than days so can pass my drug test: 0.0003\n",
      "  can get meth out of my system in less than days so can pass my drug test: 0.0003\n",
      "  can get meth out of my system in less than days so can pass my drug: 0.0003\n",
      "  can get meth out of my system in less than days so can pass my: 0.0003\n",
      "\n",
      "\n",
      "Topic 3:\n",
      "  address used to create my snapchat account how can log in or at least change my: 0.0007\n",
      "  forgot my password and the email address used to create my snapchat account how can log in: 0.0007\n",
      "  create my snapchat account how can log in or at least change my email address or: 0.0007\n",
      "  and the email address used to create my snapchat account how can log in or: 0.0007\n",
      "  and the email address used to create my snapchat account how can log in or at least change: 0.0007\n",
      "  address used to create my snapchat account how can log in or at least change my email address or: 0.0007\n",
      "  and the email address used to create my snapchat account how can log in or at least change my email: 0.0007\n",
      "  address used to create my snapchat account how can log in or at least change my email address or password: 0.0007\n",
      "  the email address used to create my snapchat account how can log in or at least: 0.0007\n",
      "  the email address used to create my snapchat account how can log in or at least change: 0.0007\n",
      "  the email address used to create my snapchat account how can log in or at least change my email address: 0.0007\n",
      "  the email address used to create my snapchat account how can log in or at least change my email: 0.0007\n",
      "  address used to create my snapchat account how can log in or at least change: 0.0007\n",
      "  create my snapchat account how can log in or at least change my email address or password: 0.0007\n",
      "  to create my snapchat account how can log in or at least change my email address or: 0.0007\n",
      "  to create my snapchat account how can log in or at least change my email address or password: 0.0007\n",
      "  snapchat account how can log in or at least change my email address or password: 0.0007\n",
      "  used to create my snapchat account how can log in or at least change my: 0.0007\n",
      "  email address used to create my snapchat account how can log in or at least change my email address or: 0.0007\n",
      "  email address used to create my snapchat account how can log in or at least change my email address: 0.0007\n",
      "\n",
      "\n",
      "Topic 4:\n",
      "  cards were drawn without replacement from pack of 52 cards what is the probability that they are both: 0.0008\n",
      "  cards were drawn without replacement from pack of 52 cards what is the probability that they: 0.0008\n",
      "  two cards were drawn without replacement from pack of 52 cards what is the probability that they are both kings: 0.0008\n",
      "  two cards were drawn without replacement from pack of 52 cards what is the probability that they are both: 0.0008\n",
      "  two cards were drawn without replacement from pack of 52 cards what is the probability: 0.0008\n",
      "  two cards were drawn without replacement from pack of 52 cards what is the probability that they are: 0.0008\n",
      "  two cards were drawn without replacement from pack of 52 cards what is the probability that they: 0.0008\n",
      "  drawn without replacement from pack of 52 cards what is the probability that they are both kings: 0.0008\n",
      "  two cards were drawn without replacement from pack of 52 cards what is the probability that: 0.0008\n",
      "  were drawn without replacement from pack of 52 cards what is the probability that they: 0.0008\n",
      "  cards were drawn without replacement from pack of 52 cards what is the probability that: 0.0008\n",
      "  without replacement from pack of 52 cards what is the probability that they are both kings: 0.0008\n",
      "  replacement from pack of 52 cards what is the probability that they are both kings: 0.0008\n",
      "  were drawn without replacement from pack of 52 cards what is the probability that they are: 0.0008\n",
      "  were drawn without replacement from pack of 52 cards what is the probability that they are both: 0.0008\n",
      "  were drawn without replacement from pack of 52 cards what is the probability that they are both kings: 0.0008\n",
      "  cards were drawn without replacement from pack of 52 cards what is the probability that they are both kings: 0.0008\n",
      "  without replacement from pack of 52 cards what is the probability that they are both: 0.0008\n",
      "  drawn without replacement from pack of 52 cards what is the probability that they are: 0.0008\n",
      "  cards were drawn without replacement from pack of 52 cards what is the probability that they are: 0.0008\n",
      "\n",
      "\n",
      "Topic 5:\n",
      "  the universe is infinite and more and more of it is created as the universe expands: 0.0031\n",
      "  darkvacuum energy infinite because the expansion of the universe is infinite and more and more of it is: 0.0031\n",
      "  expands and vacuum energy is created with it with no limitis there infinite potential energyinfinite vacuum energy that can be: 0.0031\n",
      "  expands and vacuum energy is created with it with no limitis there infinite potential energyinfinite: 0.0031\n",
      "  because the expansion of the universe is infinite and more and more of it is created as the universe expands: 0.0031\n",
      "  created with it with no limitis there infinite potential energyinfinite vacuum energy that can be created: 0.0031\n",
      "  created with it with no limitis there infinite potential energyinfinite vacuum energy that can be: 0.0031\n",
      "  vacuum energy is created with it with no limitis there infinite potential energyinfinite vacuum energy that can be created: 0.0031\n",
      "  because the expansion of the universe is infinite and more and more of it is created as: 0.0031\n",
      "  because the expansion of the universe is infinite and more and more of it is created: 0.0031\n",
      "  vacuum energy is created with it with no limitis there infinite potential energyinfinite vacuum energy that can be: 0.0031\n",
      "  vacuum energy is created with it with no limitis there infinite potential energyinfinite vacuum energy that can: 0.0031\n",
      "  because the expansion of the universe is infinite and more and more of it is: 0.0031\n",
      "  vacuum energy is created with it with no limitis there infinite potential energyinfinite vacuum energy that: 0.0031\n",
      "  vacuum energy is created with it with no limitis there infinite potential energyinfinite vacuum energy: 0.0031\n",
      "  and vacuum energy is created with it with no limitis there infinite potential energyinfinite vacuum: 0.0031\n",
      "  and vacuum energy is created with it with no limitis there infinite potential energyinfinite vacuum energy: 0.0031\n",
      "  and vacuum energy is created with it with no limitis there infinite potential energyinfinite vacuum energy that: 0.0031\n",
      "  and vacuum energy is created with it with no limitis there infinite potential energyinfinite vacuum energy that can: 0.0031\n",
      "  and vacuum energy is created with it with no limitis there infinite potential energyinfinite vacuum energy that can be: 0.0031\n",
      "\n",
      "\n"
     ]
    }
   ],
   "source": [
    "topicsDocs=[]\n",
    "# Get the top 30 words for each topic\n",
    "for topic_num in set(topics):\n",
    "    if topic_num == -1:\n",
    "        continue  # Skip the -1 topic as it represents outliers\n",
    "    \n",
    "    top_words = topic_model.get_topic(topic_num)[:30]  # Get the top 30 words\n",
    "    print(f\"Topic {topic_num}:\")\n",
    "    for word, score in top_words:\n",
    "        print(f\"  {word}: {score:.4f}\")\n",
    "    doc=\" \".join([ word for word, score in top_words])\n",
    "\n",
    "    topicsDocs.append([doc,topic_num])\n",
    "    print(\"\\n\")\n"
   ]
  },
  {
   "cell_type": "code",
   "execution_count": 196,
   "metadata": {},
   "outputs": [
    {
     "data": {
      "text/plain": [
       "[['would be safe for unmarried couples without the harassment of police hotel staff and moral police would be safe for unmarried couples without the harassment of police hotel staff and moral be safe for unmarried couples without the harassment of police hotel staff and moral police were the major effects of the cambodia earthquake and how do these effects compare to the were the major effects of the cambodia earthquake and how do these effects compare to what were the major effects of the cambodia earthquake and how do these effects compare the major effects of the cambodia earthquake and how do these effects compare to the what were the major effects of the cambodia earthquake and how do these effects compare to what were the major effects of the cambodia earthquake and how do these effects compare to the significance of the battle of somme and how did this battle compare and contrast to the battle battle of somme and how did this battle compare and contrast to the battle of significance of the battle of somme and how did this battle compare and contrast to the battle of significance of the battle of somme and how did this battle compare and contrast to the the battle of somme and how did this battle compare and contrast to the battle of significance of the battle of somme and how did this battle compare and contrast to was the significance of the battle of somme and how did this battle compare and contrast to the the significance of the battle of somme and how did this battle compare and contrast to the battle what was the significance of the battle of somme and how did this battle compare what was the significance of the battle of somme and how did this battle compare and contrast to what was the significance of the battle of somme and how did this battle compare and',\n",
       "  0],\n",
       " ['are the strongest majors in terms of job prospects and what are the weakest majors at are the strongest majors in terms of job prospects and what are the weakest majors what are the strongest majors in terms of job prospects and what are the weakest majors what are the strongest majors in terms of job prospects and what are the weakest what are the strongest majors in terms of job prospects and what are the weakest majors at the strongest majors in terms of job prospects and what are the weakest majors at people on quora ask questions here when they can get them on google and why is quora just questionanswer site when they can get them on google and why is quora just questionanswer site will how come people on quora ask questions here when they can get them on google and why is on quora ask questions here when they can get them on google and why is how come people on quora ask questions here when they can get them on google and ask questions here when they can get them on google and why is quora just questionanswer site will it expand on quora ask questions here when they can get them on google and why is quora just questionanswer site will come people on quora ask questions here when they can get them on google and ask questions here when they can get them on google and why is quora just questionanswer site ask questions here when they can get them on google and why is quora just questionanswer site will ask questions here when they can get them on google and why is quora just on quora ask questions here when they can get them on google and why is quora ask questions here when they can get them on google and why is quora just questionanswer on quora ask questions here when they can get them on google and why is quora just questionanswer',\n",
       "  1],\n",
       " ['untreatable and lifelong disabling neurological disease what is the easiest and most painless way can commit have an untreatable and lifelong disabling neurological disease what is the easiest and most painless way can commit an untreatable and lifelong disabling neurological disease what is the easiest and most painless way can commit and lifelong disabling neurological disease what is the easiest and most painless way can commit suicide an untreatable and lifelong disabling neurological disease what is the easiest and most painless way can and lifelong disabling neurological disease what is the easiest and most painless way can commit have an untreatable and lifelong disabling neurological disease what is the easiest and most painless have an untreatable and lifelong disabling neurological disease what is the easiest and most painless way can have an untreatable and lifelong disabling neurological disease what is the easiest and most painless way have an untreatable and lifelong disabling neurological disease what is the easiest and most painless way can commit suicide untreatable and lifelong disabling neurological disease what is the easiest and most painless way can an untreatable and lifelong disabling neurological disease what is the easiest and most painless way untreatable and lifelong disabling neurological disease what is the easiest and most painless way can commit suicide lifelong disabling neurological disease what is the easiest and most painless way can commit suicide an untreatable and lifelong disabling neurological disease what is the easiest and most painless way can commit suicide meth out of my system in less than days so can pass my drug test how can get meth out of my system in less than days so can pass my drug test can get meth out of my system in less than days so can pass my drug test can get meth out of my system in less than days so can pass my drug can get meth out of my system in less than days so can pass my',\n",
       "  2],\n",
       " ['address used to create my snapchat account how can log in or at least change my forgot my password and the email address used to create my snapchat account how can log in create my snapchat account how can log in or at least change my email address or and the email address used to create my snapchat account how can log in or and the email address used to create my snapchat account how can log in or at least change address used to create my snapchat account how can log in or at least change my email address or and the email address used to create my snapchat account how can log in or at least change my email address used to create my snapchat account how can log in or at least change my email address or password the email address used to create my snapchat account how can log in or at least the email address used to create my snapchat account how can log in or at least change the email address used to create my snapchat account how can log in or at least change my email address the email address used to create my snapchat account how can log in or at least change my email address used to create my snapchat account how can log in or at least change create my snapchat account how can log in or at least change my email address or password to create my snapchat account how can log in or at least change my email address or to create my snapchat account how can log in or at least change my email address or password snapchat account how can log in or at least change my email address or password used to create my snapchat account how can log in or at least change my email address used to create my snapchat account how can log in or at least change my email address or email address used to create my snapchat account how can log in or at least change my email address',\n",
       "  3],\n",
       " ['cards were drawn without replacement from pack of 52 cards what is the probability that they are both cards were drawn without replacement from pack of 52 cards what is the probability that they two cards were drawn without replacement from pack of 52 cards what is the probability that they are both kings two cards were drawn without replacement from pack of 52 cards what is the probability that they are both two cards were drawn without replacement from pack of 52 cards what is the probability two cards were drawn without replacement from pack of 52 cards what is the probability that they are two cards were drawn without replacement from pack of 52 cards what is the probability that they drawn without replacement from pack of 52 cards what is the probability that they are both kings two cards were drawn without replacement from pack of 52 cards what is the probability that were drawn without replacement from pack of 52 cards what is the probability that they cards were drawn without replacement from pack of 52 cards what is the probability that without replacement from pack of 52 cards what is the probability that they are both kings replacement from pack of 52 cards what is the probability that they are both kings were drawn without replacement from pack of 52 cards what is the probability that they are were drawn without replacement from pack of 52 cards what is the probability that they are both were drawn without replacement from pack of 52 cards what is the probability that they are both kings cards were drawn without replacement from pack of 52 cards what is the probability that they are both kings without replacement from pack of 52 cards what is the probability that they are both drawn without replacement from pack of 52 cards what is the probability that they are cards were drawn without replacement from pack of 52 cards what is the probability that they are',\n",
       "  4],\n",
       " ['the universe is infinite and more and more of it is created as the universe expands darkvacuum energy infinite because the expansion of the universe is infinite and more and more of it is expands and vacuum energy is created with it with no limitis there infinite potential energyinfinite vacuum energy that can be expands and vacuum energy is created with it with no limitis there infinite potential energyinfinite because the expansion of the universe is infinite and more and more of it is created as the universe expands created with it with no limitis there infinite potential energyinfinite vacuum energy that can be created created with it with no limitis there infinite potential energyinfinite vacuum energy that can be vacuum energy is created with it with no limitis there infinite potential energyinfinite vacuum energy that can be created because the expansion of the universe is infinite and more and more of it is created as because the expansion of the universe is infinite and more and more of it is created vacuum energy is created with it with no limitis there infinite potential energyinfinite vacuum energy that can be vacuum energy is created with it with no limitis there infinite potential energyinfinite vacuum energy that can because the expansion of the universe is infinite and more and more of it is vacuum energy is created with it with no limitis there infinite potential energyinfinite vacuum energy that vacuum energy is created with it with no limitis there infinite potential energyinfinite vacuum energy and vacuum energy is created with it with no limitis there infinite potential energyinfinite vacuum and vacuum energy is created with it with no limitis there infinite potential energyinfinite vacuum energy and vacuum energy is created with it with no limitis there infinite potential energyinfinite vacuum energy that and vacuum energy is created with it with no limitis there infinite potential energyinfinite vacuum energy that can and vacuum energy is created with it with no limitis there infinite potential energyinfinite vacuum energy that can be',\n",
       "  5]]"
      ]
     },
     "execution_count": 196,
     "metadata": {},
     "output_type": "execute_result"
    }
   ],
   "source": [
    "topicsDocs"
   ]
  },
  {
   "cell_type": "code",
   "execution_count": null,
   "metadata": {},
   "outputs": [],
   "source": [
    "topic_id_to_label = {\n",
    "    0: 'Social Issues and Historical Events',\n",
    "    1: 'Education and Online Learning Platforms',\n",
    "    2: 'Mental Health and Substance Use',\n",
    "    3: 'Account Recovery and Security',\n",
    "    4: 'Probability and Mathematics',\n",
    "    5: 'Cosmology and Physics'\n",
    "}\n"
   ]
  },
  {
   "cell_type": "code",
   "execution_count": null,
   "metadata": {},
   "outputs": [],
   "source": [
    "def SaveTopicsToFile(topic_model, n_words, file_name,title):\n",
    "    with open(file_name, 'w') as f:\n",
    "        f.write(title + '\\n\\n')\n",
    "        for topic_num in set(topics):\n",
    "            if topic_num == -1:\n",
    "                continue  # Skip the -1 topic as it represents outliers\n",
    "            f.write(f\"The Topic {topic_id_to_label[topic_num]}:\\n\")\n",
    "            top_words = topic_model.get_topic(topic_num)[:n_words]  # Get the top 30 words\n",
    "            for word, score in top_words:\n",
    "                f.write(f\"{word}:\\n\")\n",
    "            f.write(\"\\n\\n\")\n",
    "        f.close()"
   ]
  },
  {
   "cell_type": "code",
   "execution_count": 225,
   "metadata": {},
   "outputs": [],
   "source": [
    "SaveTopicsToFile(topic_model, 5, 'BerTopic.txt','topics With BerTopic and ngrams')"
   ]
  },
  {
   "cell_type": "code",
   "execution_count": 218,
   "metadata": {},
   "outputs": [],
   "source": [
    "df['Topic']=topics"
   ]
  },
  {
   "cell_type": "code",
   "execution_count": 219,
   "metadata": {},
   "outputs": [
    {
     "data": {
      "text/plain": [
       "Topic\n",
       "-1    11448\n",
       " 0     6437\n",
       " 1     4919\n",
       " 2     4029\n",
       " 3     2007\n",
       " 4     1395\n",
       " 5      500\n",
       "Name: count, dtype: int64"
      ]
     },
     "execution_count": 219,
     "metadata": {},
     "output_type": "execute_result"
    }
   ],
   "source": [
    "df['Topic'].value_counts()"
   ]
  },
  {
   "cell_type": "code",
   "execution_count": 220,
   "metadata": {},
   "outputs": [],
   "source": [
    "df[\"Topic_Label\"] = df[\"Topic\"].map(topic_id_to_label).fillna(\"Outlier\")\n"
   ]
  },
  {
   "cell_type": "code",
   "execution_count": 221,
   "metadata": {},
   "outputs": [
    {
     "data": {
      "text/html": [
       "<div>\n",
       "<style scoped>\n",
       "    .dataframe tbody tr th:only-of-type {\n",
       "        vertical-align: middle;\n",
       "    }\n",
       "\n",
       "    .dataframe tbody tr th {\n",
       "        vertical-align: top;\n",
       "    }\n",
       "\n",
       "    .dataframe thead th {\n",
       "        text-align: right;\n",
       "    }\n",
       "</style>\n",
       "<table border=\"1\" class=\"dataframe\">\n",
       "  <thead>\n",
       "    <tr style=\"text-align: right;\">\n",
       "      <th></th>\n",
       "      <th>Question</th>\n",
       "      <th>Topic</th>\n",
       "      <th>Topic_Label</th>\n",
       "    </tr>\n",
       "  </thead>\n",
       "  <tbody>\n",
       "    <tr>\n",
       "      <th>0</th>\n",
       "      <td>Like everyone else (here in U.S), I work with ...</td>\n",
       "      <td>2</td>\n",
       "      <td>Career</td>\n",
       "    </tr>\n",
       "    <tr>\n",
       "      <th>1</th>\n",
       "      <td>Hello dear's people. i have a fictief research...</td>\n",
       "      <td>4</td>\n",
       "      <td>Social Media</td>\n",
       "    </tr>\n",
       "    <tr>\n",
       "      <th>2</th>\n",
       "      <td>A lady buys goods worth 200 bucks from a shop ...</td>\n",
       "      <td>4</td>\n",
       "      <td>Social Media</td>\n",
       "    </tr>\n",
       "    <tr>\n",
       "      <th>3</th>\n",
       "      <td>I am turning 25 in about a month and am curren...</td>\n",
       "      <td>2</td>\n",
       "      <td>Career</td>\n",
       "    </tr>\n",
       "    <tr>\n",
       "      <th>4</th>\n",
       "      <td>I'm a 34 years old married to a woman. I had a...</td>\n",
       "      <td>2</td>\n",
       "      <td>Career</td>\n",
       "    </tr>\n",
       "    <tr>\n",
       "      <th>5</th>\n",
       "      <td>My employer has told me that we can not accept...</td>\n",
       "      <td>-1</td>\n",
       "      <td>Outlier</td>\n",
       "    </tr>\n",
       "    <tr>\n",
       "      <th>6</th>\n",
       "      <td>I have been using my girlfriend for a sexual r...</td>\n",
       "      <td>2</td>\n",
       "      <td>Career</td>\n",
       "    </tr>\n",
       "    <tr>\n",
       "      <th>7</th>\n",
       "      <td>You have 100 coins laying flat on a table, eac...</td>\n",
       "      <td>4</td>\n",
       "      <td>Social Media</td>\n",
       "    </tr>\n",
       "    <tr>\n",
       "      <th>8</th>\n",
       "      <td>I broke up with him. I love him so much but we...</td>\n",
       "      <td>2</td>\n",
       "      <td>Career</td>\n",
       "    </tr>\n",
       "    <tr>\n",
       "      <th>9</th>\n",
       "      <td>I broke up with him. I love him so much but we...</td>\n",
       "      <td>2</td>\n",
       "      <td>Career</td>\n",
       "    </tr>\n",
       "  </tbody>\n",
       "</table>\n",
       "</div>"
      ],
      "text/plain": [
       "                                            Question  Topic   Topic_Label\n",
       "0  Like everyone else (here in U.S), I work with ...      2        Career\n",
       "1  Hello dear's people. i have a fictief research...      4  Social Media\n",
       "2  A lady buys goods worth 200 bucks from a shop ...      4  Social Media\n",
       "3  I am turning 25 in about a month and am curren...      2        Career\n",
       "4  I'm a 34 years old married to a woman. I had a...      2        Career\n",
       "5  My employer has told me that we can not accept...     -1       Outlier\n",
       "6  I have been using my girlfriend for a sexual r...      2        Career\n",
       "7  You have 100 coins laying flat on a table, eac...      4  Social Media\n",
       "8  I broke up with him. I love him so much but we...      2        Career\n",
       "9  I broke up with him. I love him so much but we...      2        Career"
      ]
     },
     "execution_count": 221,
     "metadata": {},
     "output_type": "execute_result"
    }
   ],
   "source": [
    "df.loc[:,['Question','Topic','Topic_Label']].head(10)"
   ]
  },
  {
   "cell_type": "code",
   "execution_count": 211,
   "metadata": {},
   "outputs": [
    {
     "data": {
      "text/plain": [
       "['Like everyone else (here in U.S), I work with a group of people I see and interact with every day. As a human rights advocate and Lesbian, my views are liberal and I by no means preach my beliefs in my work place. However, I want to know, when is it OK to state your opinions on an issue. For example, if someone mentions that their next door neighbor, who happens to be a 12 year old boy, was playing with dolls and that \"this is going down the wrong road and he is strange/weird\", is it OK for me to say that we shouldn\\'t judge him for who he is? So confused... This just happened at lunch and I am very upset about it...',\n",
       " \"Hello dear's people. i have a fictief research quest,  If someone standing from 13 feet away from me with a 50AE Desert Eagle with ammunition 300grain hollow point hornady xtp 1475fps at the muzzle he's shooting one bullet between my eyes? I say it with emphasis if there any smallest chance that i could survive? So yes how much % chance can u that analyse in detail. I hope u have the answer that im looking long time Regards J.\",\n",
       " 'A lady buys goods worth 200 bucks from a shop (assuming the shopkeeper is selling goods at zero profit). The lady pays with a banknote  worth 1000 bucks to the shopkeeper. The shopkeeper gets the change from the next shop & keeps 200 for himself & returns 800 to the lady. After sometime the next shop owner returns the 1000 note saying it is fake & takes his money back. How much loss did the shopkeeper suffer? ',\n",
       " 'I am turning 25 in about a month and am currently questioning what I am doing with my life. I have no degree although I do have some college. I am currently at a 9-5 with a bike company. I am an avid cyclist. So it is not terrible, but the pay would not allow me to start a family or get married. Should I quit my job and go back to school?',\n",
       " \"I'm a 34 years old married to a woman. I had an affair for 12 years with my male friend who is also married to a woman and is gay/bi. He says he always felt guilty and now claims I made him gay. He wants nothing to do with me. I am really hurt as I am in love with him. What should I do - conversion therapy or take another male lover?\",\n",
       " 'My employer has told me that we can not accept tips. However, they make it seem like we get paid minimum wage so they can offer us insurance. In reality we are 100% commission based and they total commission then deduct the hours worked x minimum wage from our commission wages to offer the employees insurance. I there a law that states that they \"by law\" can not tell their employees that?',\n",
       " 'I have been using my girlfriend for a sexual relationship for the last year. She loves me more than anyone else ever has, and she would do anything for me. The thing is, I now have feelings for her, and I love her more than I could ever love anyone else. Do you think I should confess to her that earlier in our relationship I was only using her for sex?',\n",
       " \"You have 100 coins laying flat on a table, each with a head side and a tail side. 10 of them are heads up, 90 are tails up. You can't feel, see or in any other way find out which side is up. Split the coins into two piles such that there are the same number of heads facing up in each pile. How did you do it?\",\n",
       " \"I broke up with him. I love him so much but we can't be together. He loves me a lot too. I miss him so much, I cry & I'm very sad. I'm not the happy, outgoing person I used to be. I can't get back together with him. But sometimes I want to message him & tell him how much I miss him. What can I do?\",\n",
       " \"I broke up with him. I love him so much but we can't be together. He loves me a lot too. I miss him so much, I cry & I'm very sad. I'm not the happy, outgoing person I used to be. I can't get back together with him. But sometimes I want to message him & tell him how much I miss him. What can I do?\",\n",
       " \"I feel like I'm getting over my crush. This feeling came upon me randomly yesterday out of the blue. I would just think of him and no emotion would come up. Then I would, and I would like him. And I don't want to get over him because I kind of still have feelings. Is this some kind of emotional mind game thing I'm doing with myself?\",\n",
       " 'How often should I massage my face with Argan oil? Apparently, Argan oil is extremely beneficial for acne scars, healthy/radiant skins and etc. How often should I massage it onto my face before going to bed? Could I maybe use Argan oil one night and then the Liz Earle repair moisturiser the next to achieve a healthy, young and radiant skin? Plz help with answering :).',\n",
       " 'I had a college friend with whom I used to talk normally, but one day I fought with him verbally (I don\\'t know why I did this). I said to a girl \"I like you\" and on another day I said \"I don\\'t like you\". She got angry and my friend got angry. I don\\'t know what is my problem. Have you ever had this experience?',\n",
       " 'I live with my mom and we are always arguing and she is always blaming me for things and she never wants to talk to me and she told me that she does not care about me and that she wants me out of the house and she never lets me hang out with anyone or leave the house. What should I do about it?',\n",
       " 'I live with my mom and we are always arguing and she is always blaming me for things and she never wants to talk to me and she told me that she does not care about me and that she wants me out of the house and she never lets me hang out with anyone or leave the house. What should I do about it?',\n",
       " 'I live with my mom and we are always arguing and she is always blaming me for things and she never wants to talk to me and she told me that she does not care about me and that she wants me out of the house and she never lets me hang out with anyone or leave the house. What should I do about it?',\n",
       " \"I belong to OBC. My CTC is 7 lacs per annum but my father is retired from the government. He was a class 3 employee and is getting only a 2 lac pension for the year. Can I apply for the non creamy layer under OBC? While filling the form they are asking for family income, so should I show my father's income only?\",\n",
       " 'I have 2.6 years of IT experience. I got married 1.5 years back. After that, I left my job due to some family issues. I want to join the IT field again. I was working on BI tools, SQL, Unix. What is the possibility for women to get a job in IT after a 1.5 years gap? Will they consider the 1.5 years gap?',\n",
       " 'My gf cheated on me with her ex and I stayed with her and she says she wants to be with me and loves me but she still talks to her ex. I am worried all the time on what they are talking about when they text each other. Is it normal for me to be worried all the time? What should I do?',\n",
       " 'Your advice will HELP me! I think I should go abroad for MS and to establish a good life and get married there (How much time it will take?) But I have a good job here in my home town and friends/family urge me to get married now at age 30 in Pakistan (It can be within 1-2yrs). I am still double minded! .',\n",
       " 'What is the cost of a LTE Base station (eNodeB) for macro cell and what is the cost of a Amplify and Forward (AF) Relay used in the cellular network ? Please  mention the name of manufacturer and model of equipment also along with the cost... Equipments of any manufacturer (Nokia Siemens Networks or Ericsson or Huawei or ZTE or Alcatel Lucent) is ok...',\n",
       " \"I am a 23-year-old Indian guy who is an engineer and jobless. I am feeling old already and I'm not energetic at all. Sometimes I feel like I need to change a lot of things, but I don't know where to start. I want to start everything fresh. What are the steps that can guide me in a plan on becoming more energetic?\",\n",
       " 'I, like everyone, want a genuine guy but whenever I find myself getting attached to someone, he changes and leaves. Consequently I think of casual relations but the same problem happens here too. I plan to get  Married in 3-4 years. How should I pursue my personal relationships so that the focus on my career is not compromised and I can stay happy?',\n",
       " \"I love him, but he keeps cheating on me. I know he loves me. I can feel it. But I don't know what to do. It's been a lot of times, and he says he wants to stop to be with me but it's too tempting for him. Then he thinks he has to lie to keep me happy. What should I do?\",\n",
       " 'I\\'m looking for concepts with words that describe them that exist  in one language but not commonly, if at all, in another.  e.g. \\'Rincón\\' is Spanish for the interior angle of a corner, and \\'esquina\\' which is the exterior. Yes, we have \\'nook\\' but we don\\'t usually say, \"Set it in the nook.\", when your guest asks where he can put his umbrella.',\n",
       " \"My best friend is madly in love with my teacher, but he is not that interested in her. She is really sad and I can't watch her suffer like that. Since he was my teacher, I can't talk to him for her (if I do, it'll be like insulting her) and I really feel helpless. What should I do to make her happy?\",\n",
       " \"I am supposed to wear contacts but I haven't for a while. I see pretty well without them so I forget. The other day I put them in and (my vision is different in each eye) I noticed I saw better without the contact in in my left eye. Does this mean my sight has gotten better or worse in that eye?\",\n",
       " 'I am a girl. I love my best guy friend and I told him. He is attracted to me physically but he said he doesn\\'t want a relationship. We still kiss and hug. He touches me like I am his girlfriend. I can\\'t say \"No\" nor can I live with the fact that he wants me only physically. What should I do?',\n",
       " \"I love her and she loves me, but she doesn't want relationship because she believes she would destroy me. She says she can't repeat the same mistake as in a past relationship. She says she can't leave me at the same time she tells me she would miss me and will be in pain if I leave her. What should I do?\",\n",
       " \"I have booked a ticket in IRCTC and made a transaction through the credit card getaway of ICICI, and because my bank (Bank of Baroda) is not shown in the list of banks, I have cancelled it and the refund status showed that the amount was refunded but it hasn't.Please read the Details.Its been 20 days since cancellation. What should I do?\",\n",
       " \"I have scored 72% marks in 10th, 80% marks in 12th, and 88% marks in a Bachelor's of Technology. I am aiming for IIM's after three years. I have been recruited by a reputed core company and after 3 years of work experience, I want to get into the IIM's. Is there any chance of admission in IIM A, B, or C?\",\n",
       " 'A capacitor is charged by an 8V battery. When 1 C passes through the capacitor, it goes through the first plate with 8 J  and comes out of the second plate with 0 J. Does this mean that if we connect a voltmeter to the capacitor it will read a potential difference of 8 V just because of 1 C of charge?',\n",
       " \"I'm a B.E. in electrical & electronics working as a field service engineer in Siemens Ltd. This is a tiresome job as it requires a lot of traveling daily. I want to switch to a stable job that pays well and has a good scope in the future, but I don't want to work in the IT field. What should I do?\",\n",
       " \"I wish to take up a major in philosophy, history or English. I am currently in my final year of high school. I only had maths up until 10th grade and for the past two years, I haven't studied it. If the subjects I take in university have nothing to do with maths, will I still need to take the SAT?\",\n",
       " 'I am doing the CFA to gain knowledge about financial markets and pursuing a BCom (marketing). I want to do an MBA after a few years so that it gives me a value addition for my entrepreneurial ventures. Considering that I will be doing business in India, should I do an MBA from India or should I do it from abroad?',\n",
       " \"I was having a fight with my girlfriend. While I was driving, she tried to get out from a moving car. I tried to stop her but she didn't stop. In my desperation, I slapped her while still driving. She won't talk to me now. I have never struck her before. What should I do? Was I right to do so?\",\n",
       " \"Four persons K, L, M, and N are initially at the four corners of a square of side 'd'. Each person now moves with a uniform speed of 'v' in such a way that K always moves directly towards L, L directly towards M, M directly towards N and N directly towards K. At what time will the four persons meet?\",\n",
       " \"I've had a drastic change from being an extrovert and happy person to an introvert and overly sensitive one after a heartbreak. It is getting to a point where I feel it is doing a lot of damage to me. Not that I cannot talk if someone comes up. How do I get myself to be the person I originally was?\",\n",
       " \"University of Toledo Biology major reviews? If anyone got a bachelors degree in Biology from the University of Toledo, could you please tell me if you liked the courses or not.  I'm planning to try and go on to graduate school and do something in medicine. And I love science. So I was thinking this might be the major for me?\",\n",
       " \"I have a laptop with 4gb RAM, AMD A8-6410 APU with AMD Radeon R5 Graphics and Radeon R5-M230 2.5gb vram, will I be able to play assassins creed syndicate with these requirements? And I am able to play gta 5 in medium settings with no lag in high settings I get slight lag. Unity isn't working that well but its playable.\",\n",
       " \"Does a lot of oil in food make it hard for you to loose fat? I'm starting to eat a lot of Indian/Pakistani food lately and I'm pretty sure it has a lot of oil (along with a lot of spices). Can I loose fat with cardio if I eat this stuff? Or should I not be eating it at all?\",\n",
       " \"I have a laptop with 4gb RAM, AMD A8-6410 APU with AMD Radeon R5 Graphics and Radeon R5-M230 2.5gb vram, will I be able to play assassins creed syndicate with these requirements? And I am able to play gta 5 in medium settings with no lag in high settings I get slight lag. Unity isn't working that well but its playable.\",\n",
       " \"My mother-in-law has got a fracture. She needs rest and someone to help her in daily chores. They believe that hiring a maid is a bad thing. So they are against it. I stay 600kms away from them, and I have a job and no leave left. So I can't go to help her. What can be a good solution here?\",\n",
       " 'Two trains each travelling with a speed of 37.5 km/h are approaching each other on the same straight track. A bird that can fly at 60 km/h flies off from one train when they are 90 km apart. On reaching the other train it flies back to the first and so forth. What is the total distance travelled by the bird?',\n",
       " \"I like a guy, he is a very nice person, awesome intellect, but he is not that good looking and doesn't know how to talk. I mean he bores me a lot. I try to ignore his looks, but I am always disappointed because he doesn't even talk nicely or make me happy. He's not even romantic. What should I do?\",\n",
       " 'My friend while working was met with an accident. As he is working as a daily labourer and he was the sole bread earning individual of his family, there is no one to take care to help him cover his treatment needs right now. So where can I find the NGOs or individuals who might be able to help him?',\n",
       " 'You are playing a board game in which every turn, you roll 2 dice. However, you cannot begin until you roll doubles (the same number on both dice). If you do not roll doubles, you lose the turn, and must try again next turn. How many turns do you lose until you finally get the doubles you need to start?',\n",
       " 'I love my girlfriend a lot, but for the last 3 years her weight has become stagnant. I want her weight to become normal. Her parents are forcing her to get married, but I want our marriage to start on a healthy note. Shall I ask her to get married to some other guy and come out of this relationship?',\n",
       " 'Is it \"I am on the bus\" or \"I am in the bus\"? I read it somewhere that if a moving object is at still then it is \"in\" otherwise it is \"on\" which is to be used. If that is true, then can I assume, that the moving object is at still if \"in\" is used in a sentence?',\n",
       " \"At 25 I've slept with 18 guys. Started sleeping around after I broke up with my ex of 2 years, who took my virginity at 21. My tracking list shows that I have sex with a different guy almost every month. I'm not exactly proud of my doing. How bad do you think my lay count is? What's your age/number?\",\n",
       " 'I have attended an Amazon interview. In the last round, the interviewer said to me \"if you have still interest to work for Amazon, get to know about the team in which you are going to be hired and your role in the team and how your work in the team would be\". Does this imply I\\'m selected or not?',\n",
       " \"She's a good friend of mine. When I told her that she's always on my mind and not to talk to me if we can't be in a relationship, She told me not to do that as I have always been one of her best friends. But I stopped talking to her and now I miss her. What to Do?\",\n",
       " \"I love a girl who's my best friend. I proposed to her and she stopped talking to me. After a few months she again started talking to me as a friend. I have tried to express my feelings for her many times. Now she's lost interest in me and started to avoid me. What can I do to get her?\",\n",
       " 'A rabbit, a cabbage, a fox, and a farmer are at a river. The farmer has one boat fitting one item and himself. If he takes the fox, the rabbit will eat the cabbage. If he takes the cabbage the fox will eat the rabbit; however, the fox will not eat the cabbage. How does he transport them all safely?',\n",
       " 'I am a vegetarian desiring to travel to Singapore, Malaysia and Thailand for around 10 days but I am not interested in any travel agent as I do not want to travel with any group. Can anyone please guide me as to how I can plan the trip on my own from the start to end of the trip?',\n",
       " \"I tried to add money to my Paytm account twice but both times the transaction failed and the money was debited from my bank account (that is 2600 twice). After an hour, I received notifications that the money has been credited to my Paytm wallet, but I didn't receive the money in my Paytm wallet. What should I do?\",\n",
       " \"I tried to add money to my Paytm account twice but both times the transaction failed and the money was debited from my bank account (that is 2600 twice). After an hour, I received notifications that the money has been credited to my Paytm wallet, but I didn't receive the money in my Paytm wallet. What should I do?\",\n",
       " \"I friendzoned a guy because I didn't want anything more than a friendship. Now he rarely wants to talk to me. I feel I lost a really good friend. That's all I need at this time in my life. Why is it that some guys have to be in a relationship in order to be friends with a girl?\",\n",
       " \"I tried to add money to my Paytm account twice but both times the transaction failed and the money was debited from my bank account (that is 2600 twice). After an hour, I received notifications that the money has been credited to my Paytm wallet, but I didn't receive the money in my Paytm wallet. What should I do?\",\n",
       " 'A crew team rows a boat at a rate of 20 km/h in still water. In practice on a river, the team rows for 30 minutes up the river, and then for 30 minutes down the river. The speed of the river current is 1.5 km/h. How long did it take for them to return to the starting point?',\n",
       " \"I tried to add money to my Paytm account twice but both times the transaction failed and the money was debited from my bank account (that is 2600 twice). After an hour, I received notifications that the money has been credited to my Paytm wallet, but I didn't receive the money in my Paytm wallet. What should I do?\",\n",
       " \"I tried to add money to my Paytm account twice but both times the transaction failed and the money was debited from my bank account (that is 2600 twice). After an hour, I received notifications that the money has been credited to my Paytm wallet, but I didn't receive the money in my Paytm wallet. What should I do?\",\n",
       " \"Why is it easier for us to lift a person of about 50kg than lifting a thing of same weight? Even lifting a thing of about 30kg is very difficult. I have read some answers of similar questions and they say that the person to be lifted helps us to lift him. I don't understand how he helps?\",\n",
       " 'Recently, I started to buy pure Aloe vera gel and blend it with some natural oils like jojoba oil, vitamin E oil, and evening primrose oil. The result is a creamy gel that I apply on my face two times a day. Is that enough for my skin to avoid wrinkles, given that I am 35 years old?',\n",
       " 'Recently, I started to buy pure Aloe vera gel and blend it with some natural oils like jojoba oil, vitamin E oil, and evening primrose oil. The result is a creamy gel that I apply on my face two times a day. Is that enough for my skin to avoid wrinkles, given that I am 35 years old?',\n",
       " \"Apartment Rentals: If I find a replacement tenant and the landlord accepts them and signs a lease with the new tenant to move in on the 15th of the month, is the landlord legally obligated to refund me for the half months rent being paid by the new tenant? (I paid a full month's rent on the first.)\",\n",
       " \"As I understand it, Henry Ford, was a big believer in creating a self generating/ increasing marketplace in which his autos were affordable and desired by his factory workers. My question is, did Ford have a view on price, labor costs and materials inflation based on the prior statement? Any good books on Ford's view on Economics specifically?\",\n",
       " 'I got a job 2 months back in Singapore, but I see that there is a huge difference in the position proposed and what I am currently doing, there is a skill mismatch. Is it ok to try for a different job or should I wait for some more time? What should I say during my next interview?',\n",
       " \"I am a 23-year-old girl who is about to get married in 4 months. It's an arranged marriage. I have been with him for 5 months already and I am still not in love with my fiancé! In fact, I hate him because of his behaviour. My parents aren't supportive because of society's pressure. What should I do?\",\n",
       " 'I have taken a decision and no matter what, it makes me sad and I always have this thing in my mind that its gonna be worst decision. When I had made my decision I had another good option and I did not take that option and I always feel that was better option! What should I do?',\n",
       " \"My girlfriend shows me lots of love when I'm with her but when it comes to texting (she lives 109km away from me) she texts me like she's a friend sometimes we don't text for days and she also said she likes to have freedom (not being with me for a month or so) what should I do?\",\n",
       " 'Dating and Relationships: I am 21 year old and I want to take my school friend out with me for which she is ready. She was my classmate in class 8th and since then we have never met. I like her and want everything to be perfect. What should I do for her to make her day memorable?',\n",
       " \"I am 22 years old and a virgin. I intend to remain celibate for the rest of my life though not for any religious reasons. My friends always make fun of me for being inexperienced and I don't know how to reply. I am afraid people will think there is something wrong with me. What should I do?\",\n",
       " 'I am 25 years old and I have 2.8 years experience as a mobile game designer and project coordinator. All of sudden I am feeling that I am not able to explore any new game idea. In this stage I am really worried about my job, not getting any new good offers also. What should I do?',\n",
       " \"She is my best friend and tells me she loves me. She likes one of our other friends and he doesn't feel the same way and she's trying to get over him. I have every class with her and she keeps telling me that she loves me but isn't interested in dating me. What do I do?\",\n",
       " \"I married a girl but she was my parents choice. Another girl I would have loved to marry, my maternal uncles girl, is married to someone else. Afterwards, I feel I made the wrong decision and that's why I can't love my wife by heart. I am always in a dilemma. How do I get over this?\",\n",
       " 'I had an interview yesterday. It went well. Today I got a reply from HR saying that the team really liked me and wants to hire me but I have to wait for a few weeks until the company gets to decide new work plans. What should be the ideal way to communicate smartly in this situation?',\n",
       " \"I am currently in 11th standard and I'm facing serious dilemas. Being from a small city I never got any serious competition. Now when I go to coachings I realise I am in deep trouble, I do have an IQ but I have lost my confidence. My aim is to crack the JEE. What shall I do?\",\n",
       " 'I am 25 years old and I have 2.8 years experience as a mobile game designer and project coordinator. All of sudden I am feeling that I am not able to explore any new game idea. In this stage I am really worried about my job, not getting any new good offers also. What should I do?',\n",
       " \"My boyfriend is very soft spoken.He can't hurt anybody.but sometimes I want him to react if someone says something to him .In our group of friends mostly he is targeted, but he doesn't react.He always says I don't care of what people say but I want him to be aggressive at times. how can I tell him?\",\n",
       " \"I am a 19 year Indian old girl. I have never ever had a boyfriend, never been proposed by a guy and I don't think anyone has even had a crush on me. I was very comfortable with this until my cousin told me yesterday that I was missing something very big in my life. Am I?\",\n",
       " \"I noticed that when a good player like Tom Brady throws a pass, the long axis of the ball tips during the ball's flight so that the long axis is always parallel to the ball's velocity vector. When a bad player like me throws a pass, the long axis remains pointed up during the whole flight. Why?\",\n",
       " 'My Iphone 6 was lost/stolen 6 days ago. I enabled the lost mode on it, but it has been offline since. If I have a passcode on the phone will the thief be able to get into my phone/data? Can the thief restore my phone to the original settings without alerting me? Can it be used abroad?',\n",
       " \"I am preparing for IITJEE, and I love physics and chemistry and I am able to solve most problems of those, but though I like studying math often I feel sad as I can't get the advanced techniques. I feel I have got nowhere in my math preparation. What is some advice on how to get better?\",\n",
       " \"I was recently watching a college football game and something happened that I didn't understand. There was a kickoff and the ball was returned to the 40 yard line with a blocking in the back penalty. The ball was placed on the 9 yard line and the first down marker was at the 23. Why was that?\",\n",
       " 'I availed a loan of 11 lacs for my higher education in the year 2008 from state bank of India. I am told that I am eligible for an interest subsidy for the loan amount of 2009 which is around 5 lacs. However I have not filed any paperwork yet. Can I still file & claim it?',\n",
       " \"I am a 19 year Indian old girl. I have never ever had a boyfriend, never been proposed by a guy and I don't think anyone has even had a crush on me. I was very comfortable with this until my cousin told me yesterday that I was missing something very big in my life. Am I?\",\n",
       " 'I saw an ex I used to live with with his new girlfriend. I was locked up with him as a teen. When I came home, my ex told me that he had a new  girlfriend. When I see them in the street, should I greet them (acknowledge them) or just go about my day (ignore them)?',\n",
       " 'I have been working hard. I read, I learn, I do exercise, I keep trying to improve myself to a better version, but I find that my life is still turning bad and souring. It seems like no matter how hard I try, I am still at the starting point. What am I supposed to do?',\n",
       " \"Psychic experts believe that if you really miss someone you love, they actually get to know or feel that you're missing them or want to talk to them. They give a theory of energy which we radiate from ourselves which reaches the point where it's directed. Is this true? Can we influence the people we love?\",\n",
       " \"I have a problem with coupon set up. I have created a coupon in WooCommerce and I want it to be applied to the product on sale. I have also removed the check from the exclude sale item. But still it's not applying that coupon to products which are on sale. How can I fix it?\",\n",
       " 'National Institute of Technology Karnataka (NITK) , Surathkal: How much does CGPA matter at the end of the day for placements? What can a 7.5 pointer in IT do to get the best job offers on campus(except improving cgpa).And How much do these things matter:- 1: Posts held in engi inci 2: Tech clubs 3: Internship',\n",
       " \"I have feelings for my best guy friend and I don't know if he feels the same way about me. Occasionally we'll flirt with each other and sometimes he gives me mixed signals as if he likes me when he says he doesn't. Is he being honest when he denies the fact that he has feelings?\",\n",
       " \"I applied for a job at Amazon, had all 4 interviews, awaited a response, and then found out that my job application profile has been deleted from their ICIMS system. Now I just don't exist in their database. Which is why I got no response and the recruiter is ignoring my emails. What should I do?\",\n",
       " 'I saw a shirt for $97. I borrowed $50 from mom and $50 from dad. I bought the shirt with $3 of change. I gave $1 to mom, $1 to dad, and kept $1 for myself. Now I owe my mom $49 and my dad $49. $49+ $49=$98+my $1=$99. Where did the other $1 go?',\n",
       " 'Suppose we have a really long straw with vacuum in it and closed from both ends. We submerge one end of the straw at the bottom of the ocean, and place the other end in outer space. If we now open both ends of the straw, what will happen to the water in the ocean?',\n",
       " \"I am currently a junior in college with a 2.85 gpa. I get rejected by every summer program I apply to because of my low gpa. It's making me feel worthless and I just cannot stop crying. I have no idea what to do with my life at this point. I feel like a failure.\",\n",
       " \"I am a 25-year-old girl and still single. I'm a little bit worried that I will be single my whole life. Should I take blind dates and choose one to marry, even if it may need sacrifices? Or should I plan my life without thinking about marrying and believe Mr. Right is on the way?\",\n",
       " 'I am the first on Earth, the second in Heaven. I appear two times in a week  you can only see me once in a year. Although I am in the middle of the sea, l am not found in month, but l am in February, June, September, October, November & December. What am I?',\n",
       " \"Will it benefit me if I write on my master's application that I was disgusted by the overly orientation towards engineering (more like a translation of a high level language into a code) of my department and the ignorance of the scientific principles and as a result, I ignored it causing my grades to suffer?\",\n",
       " 'I understand that if you are looking to self-publish, and you create your own publishing company (that\\'s the same thing as an \"imprint\", right?) as a sole proprietorship, you need a DBA. If you write under multiple pen names for that imprint, do you need a DBA for each of your pen names as well?',\n",
       " 'I am an HR manager in a German MNC in India with 10 years of work experience. My qualifications are a B.Com and then Masters in personnel management. My husband needs to move to London through his company for a long term assignment. What are the kinds of jobs I may be able to get?',\n",
       " \"I recently met a girl and we've been on only two dates. It's only been about three weeks since we've met. Now, she's asking me to meet all of her siblings and her cousins (no parents) at a dinner in two weeks from now. Why would she want me to meet her family so soon?\",\n",
       " 'I am the first on Earth, the second in Heaven. I appear two times in a week  you can only see me once in a year. Although I am in the middle of the sea, l am not found in month, but l am in February, June, September, October, November & December. What am I?',\n",
       " 'I am the first on Earth, the second in Heaven. I appear two times in a week  you can only see me once in a year. Although I am in the middle of the sea, l am not found in month, but l am in February, June, September, October, November & December. What am I?',\n",
       " 'A and B can finish a work together in 12 days, and B and C together in 16 days. If A alone works for 5 days and then B alone continues for 7 days, then remaining work is done by C in 13 days. In how many days can C alone finish the complete work?',\n",
       " \"I'm currently in college and thinking about joining the Corps through PLC/OCS; however, I constantly change my mind which makes me think I'm not ready to lead as an officer. Is it a bad idea to enlist first, then put in a packet and go through OCS, or should I really just go straight commission?\",\n",
       " 'In America and many other countries most people have a cell phone data plan by the month. In the Philippines and many other countries, you buy data by time (1 day, 5 day, 7 day, 30 day plans). Here it\\'s called \"loading\" your phone. You buy \"load\". What is \"load\" called in other countries?',\n",
       " \"I am 22 now living in india...ive recently gained interest in mountaineering n I want to ascend mt everest before 40...how should I start? What r d small mountains in india I can try so I can have permission for mt Everest...how should I start now... (I dont know abc's of mountaineering now) ?\",\n",
       " 'Just completed my B.Tech with an aggregate of 66%, X and XII 75, 57 respectively. The eligibilty criteria in most of companies is 60% and above in X, XII and graduation. Now that I am helpless and cannot do anything about my XII score, does this mean that I wont get a job anywhere?',\n",
       " 'If I follow the logic that I have 2 parents, 4 grandparents, 8 great grandparents etc. and a generation equals 25 years; then after 37 generations, or 925 years ago, I should have a family tree with over 130 billion people, more than all the humans that have ever lived. How is this possible?',\n",
       " 'I am unable to upload pictures on Instagram. When I take a picture using the Instagram camera, the pic momentarily appears on my screen, and then the app automatically switches to my news feed. The same thing happens when I try to upload a pic from my gallery. How do I fix this problem?',\n",
       " \"I have a crush on a girl, she is my classmate. We both are new to each other. We both don't talk much. A boy in our class talks to her very often and is always around her. What should I do so that she ignores that boy and draws her attention towards me?\",\n",
       " 'I m 14 and my vocal range is from e2 to a5 (legarro tenor.) I want to know if my vocal range could expand any further? Also I have difficulties using my mixed voice in c5 to f5. It sounds really strained and I want to know how to use it properly. Thank you.',\n",
       " \"My fiance' comes from a royal family. He's  6 years younger than me. We love each other so much, and we have been in a relationship for 3 years now. We want to get married, but his father doesn't approve of our relationship. What can we do to get his father to accept me?\",\n",
       " 'A warehouse has the same model of product from two different manufacturer A and B, and each product has equal chance of originating from A or B. 10% of product from A are defective, 5% of product from B are defective. What is the probability that the product is defective (select from warehouse randomly)?',\n",
       " 'If a guy asks me if he should die and I tell him not to and tell him positive things, counsel him and not try and get him to an official practitioner and he henceforth committing suicide. Will it be a crime/unethical/bad on my part to not help him in any more ways possible?',\n",
       " 'I have a GRE of 306 (Quant - 160 and Verbal - 146 AWA 3.0), TOEFL of 90 (All sections above 20) and an experience of 3.3 years in IT. My undergraduate is in ECE with 80%. In which universities can I get admission to (CS)? Is it possible to apply for fall now?',\n",
       " 'A deck of 52 cards is shuffled and divided into two stacks of 26 cards. If you repeat this process 2000 times, each time checking the contents of each pile, how many times could you expect the number of red cards in one pile to match the number of black cards in the other?',\n",
       " 'I m 14 and my vocal range is from e2 to a5 (legarro tenor.) I want to know if my vocal range could expand any further? Also I have difficulties using my mixed voice in c5 to f5. It sounds really strained and I want to know how to use it properly. Thank you.',\n",
       " 'I am a 2014 medical graduate from India. I have finished all the steps of my USMLE and I will apply for residency. Should I have tried for the premier Indian institutes like PGI or AIIMS? I had a dream since I entered medicine to study in institutes like these. What can I do?',\n",
       " 'A couple (say A and B) decided to commit suicide after a rough life. They decided to jump off a building. When they got to the top, they both counted to three. A jumped, but B stayed. B watched A drop for about 8 seconds and then saw a parachute open. Who betrayed whom?',\n",
       " 'Do people from so-called \"Madhesh\" really believe that there once was a monkey (Hanuman) that could fly, an evil human being (Ravan) with 10 heads or a woman (Sita) who could walk through fire? If not, then why do they use this as a reference to prove that they are not immigrants from Bihar?',\n",
       " \"How long does it take for a girl to fall for a guy again? My girlfriend and I broke up today. I don't want to lose her. She truly loved me. But the situations weren't right so she broke up with me. How much time do I have before she falls for another guy?\",\n",
       " 'My girlfriend told me that she never shares our personal pictures with anyone, but right the next moment she WhatsApps a very personal photo of us to her long time male friend which I saw accidentally. Is she only a liar or is she also cheating on me? How should I react to this?',\n",
       " 'A couple (say A and B) decided to commit suicide after a rough life. They decided to jump off a building. When they got to the top, they both counted to three. A jumped, but B stayed. B watched A drop for about 8 seconds and then saw a parachute open. Who betrayed whom?',\n",
       " 'So this girl held the door for me while I was walking into night school (we have the same class) and on our way to class I asked her if she had contacts in and she said no these are my eyes I told her she had nice eyes. was that the right approach?',\n",
       " \"My boyfriend is Indian and I'm not. I really love him but his parents want to just hide our relationship for so long because of the reason that their relatives will not approve and that it will create complications on their part as they want an Indian girl for him. What should I do?\",\n",
       " \"My girlfriend says she loves me and I believe her. Every two or three days she starts little arguments with me and I don't think she values my emotions or personality like she used to. I want to leave her, but I can't because i still feel love for her. What should I do?\",\n",
       " 'I want to build an application for feature phones (like the old Nokia 1200) in developing countries (like India). I know that in a lot of the markets I want to serve, most people have feature phones (not smart phones) and most people do NOT have any data plans. Any help, advice, resources?',\n",
       " 'As an experiment, I tried talking less (even a few years ago I did this). And not talking both times made me feel limited and I did not like my feeling. What is a way to change the thoughts and feelings inside to help me have less of a hardship when being silent?',\n",
       " 'Two years back I was caught by the police for drunken driving and they slapped a fine on me. I paid the fine in the court after getting summons from the court. Now I have got a chance to go abroad for higher studies. Will this case affect my passport and visa verifications?',\n",
       " \"My girlfriend's sister is always really mean to me in front of my GF. My GF defends her when I stand up to her. My GF says that she is her sister and she will defend her sister and I should just learn to tolerate her sister. Should I break up with her?\",\n",
       " \"I don't know English very well but I'd like to speak in fluent English. Whenever I speak in English in front of others and my friends I always think that my friends will be laughing at me. I am also making spelling mistakes when I am writing. What is the solution for this?\",\n",
       " 'I live in Mumbai in a flat. I have rented a flat through a broker, and that time I gave the brokerage. Now after 1-year the broker again came and is demanding brokerage again. Should I give him the brokerage? Is it some kind of rule? Is there any way to avoid it?',\n",
       " \"In the end of Iron Man 3, Tony Stark undergoes surgery to get the arc reactor removed from his chest. So, in the Avengers: Age of Ultron, is he just like everyone else (e.g., Rhodey) using the suit? If that's the case, why can't Captain America, Black Widow and Hawkeye use it too?\",\n",
       " 'Cricket: Batsman strikes the ball, is caught by the bowler. But since the non-striker is a better batsman, and is out of his crease, the bowler removes the bails at the non- striker end and appeals for run-out. He does not appeal for caught and bowled. Which batsmen is legally out and why?',\n",
       " 'If everyone from Germany was suddenly teleported to other planet (and also got high standard of living there since I don’t want to be cruel) and other people took over the territory, would current German privacy regulations die on current German territory (get removed from political system, while being kept in historical records)?',\n",
       " 'Two years back I was caught by the police for drunken driving and they slapped a fine on me. I paid the fine in the court after getting summons from the court. Now I have got a chance to go abroad for higher studies. Will this case affect my passport and visa verifications?',\n",
       " 'I have not been running for last 10 days, and my planta fasciitis pain has decreased, but I still went to the doctor, because I did a 2 mile run on treadmill. The doctor advised me with Ibuprofen, and not to run for 3 weeks. Should I do small runs still for fitness?',\n",
       " \"I'm in a Razuna Service Admin Group which is set to full access, and everyone is set to read only. I can't get the same features as the administrator by logging in as a service admin group member. What should I do to get the same features as shown by the administrator account?\",\n",
       " \"I live in Missouri. I am 39 years old and a single mom. I am a student and I live with my parents as I can't afford to live on my own at this time. If my parents are charging me rent, can I qualify for rent assistance or vouchers of some type?\",\n",
       " 'If everyone from Germany was suddenly teleported to other planet (and also got high standard of living there since I don’t want to be cruel) and other people took over the territory, would current German privacy regulations die on current German territory (get removed from political system, while being kept in historical records)?',\n",
       " 'My Bit Torrent download is stuck at connecting peers. It was working fine until last night, and when I opened the PC this morning I was not able to download anything. There is a healthy number of seeds in the file too, more than 800. How do I proceed downloading with Bit Torrent?',\n",
       " 'I am told that If n = 25, we have Sn = 121392 where Sn is the number of additions performed in the following function to calculate the nth fibonacci number.Can anyone explain how? Int F (int n) {if (n == 0) return (0); if (n == 1) return (1); return (F(n-1) +F(n-2));}',\n",
       " 'The NPV rule says to go for the project that has a higher net present value. What happens if you have one project that has a lower present value but a higher discount rate and the other one has a higher present value but a lower discount rate? Which project would you choose?',\n",
       " \"Huffington Post and Business Insider aggregate material from other news sites but if you click on the news they don't necessarily transfer you to the original source. They show the whole story on their website under the name of original news site. Is this partner content or can anyone just do it?\",\n",
       " \"Is printing out and framing a picture from the internet for personal non-commercial use legal? How about a text that's free to read online? I realize that there are a variety of licenses out there and this will complicate things— but I wondered if there was a general answer to be had.\",\n",
       " \"I like my job and boss a lot, but I am underpaid. I received an offer from a competing firm for 30% more. How should I use this to increase my current pay, given that I have no intention to quit and don't want to harm my current relationship with my manager?\",\n",
       " 'The number 45 is divided into four unequal parts such that when 2 is added to the first part, 2 is subtracted from the second part, 2 is multiplied by the third, and the fourth part is divided by 2, all four operations result in the same number.  What is that number?',\n",
       " 'In the novel/movie Life of Pi, after telling both the stories (the one with animals and the one without animals), Pi asks which one is the better story. When Chiba replies, \"the story with animals\" and Okamoto agrees with him, Pi comments: \"And so it goes with God.\" What did he mean?',\n",
       " 'I used to be a very bright student at the time of my schooling but after joining my college I am not able to score marks, not even close to what my potential is. I study more than most of the people, still something is going wrong somehow. Any thoughts on this?',\n",
       " \"I have been recently married but I do not intend to change my name after marriage. However, I will be travelling abroad in a few months. Do I need to update my passport to add my spouse's name to it? Will there be any visa issues because of not updating my passport?\",\n",
       " 'A query about hardening of metal using quenching process. To get the hardness of 600 BHN the time span of 10 mins are required and want to reduce the time span of the work without affecting the hardness. The quenchant used is water. What changes should I make in the quenching process?',\n",
       " 'A friend of mine is having a thyroid problem (hypothyroidism) for over a year. She is 22 years old. In a recent medical checkup, the report said TSH is 17.5, which is way higher than normal. What are details of doctors, cures and experiences of people who had gone through the same?',\n",
       " \"I am traveling to India from the USA with my infant USA-born baby in 3 months. Can I apply for OCI and Indian visa for him together so that he will at least have the visa in case he doesn't get the OCI on time? What is the process to obtain either?\",\n",
       " 'I did not maintain the minimum balance in HDFC and now my balance is negative (i.e. -5000). I cannot close it until I pay it. Anyways, I have an account in other banks. Will this affect my CIBIL score? Will this affect me in the future or shall I just avoid it?',\n",
       " \"I am traveling to India from the USA with my infant USA-born baby in 3 months. Can I apply for OCI and Indian visa for him together so that he will at least have the visa in case he doesn't get the OCI on time? What is the process to obtain either?\",\n",
       " 'I extracted 4 molar teeth because the dentist said my teeth are over-crowded. I was too busy at work to get a second opinion and ended up removing the 4 teeth. I now feel worried about it. Are there any side effects of this? Will it affect my health in any case?',\n",
       " \"I'm in love with a guy. My parents don't like him because he is not from our caste and slso not earning as per their expectations. However, he is very caring and lovable. I don't think I can find a person like him in my life. How can I convince my parents?\",\n",
       " 'While having sex, I got a cut on my penis and it started bleeding heavily. I went to the doctor and he stitched it. Right now the penis is swollen and he said circumcision is the best option. Is it normal to face this issue? Shall I go for circumcision or not?',\n",
       " 'My father is an engineer and earns well and so does my mom. Even I am an engineer and work with an MNC. I get puzzled when people ask me why do I have to work if my parents earn. What is a witty reply that I can give to such people?',\n",
       " 'Recently I have lost my pan card & have also applied for new one. When I get the new one, will the old one be deactivated or are there chances of its misuse? Do I need to cancel it separately or the IT dept. will do this while issuing me new one?',\n",
       " \"I am in a long-distance relationship. We have problems that need to be solved. My boyfriend said I am clingy and expect him to reply quickly. Texting makes me feel connected, but apparently he doesn't think the same way. How can I resist the urge to text and stop trying too hard?\",\n",
       " 'A machine produces a metal profile at a speed of 30 meters/min. It takes about 15 seconds for the speed to reach from 0 to 30 m/min. After the first 15 seconds, the machine maintains a speed of 30 m/min for the remaining 45 seconds. What would the average speed be?',\n",
       " \"If a child was born in South Korea but the mother was a US citizen and the father was a Korean citizen, then is the child considered American or Korean? If the father didn't want the child to come to the States after the birth would he have the legal right?\",\n",
       " 'Why is it seen as racist to generalize the behavior of black people (e.g. to hold all black Americans responsible for the statistical fact that black people are more likely to engage in violent crime) but not the behavior of white people (e.g. holding all white people responsible for systemic racism)?',\n",
       " \"Should I take up an offer to work with a professor who cannot guarantee funding but whose research I find very interesting or should I take up an offer to work with a professor who is more positive about giving funding even though I'm not quite as interested in his/her work?\",\n",
       " \"We're in a long-distance relationship. He doesn't get time to talk to me. He always says he's busy with study, with friends, etc. He hardly talks to me but says he loves me. I don't understand. I still want to be with him. Should I trust him? What should I do?\",\n",
       " \"I've been learning piano since I was 12 years old. I'm 18 now and I still suck at piano. I did stop piano for 1-2 years in between, but I still suck at playing it. I have my grade 4 certificate. How am I supposed to play like a pro pianist?\",\n",
       " 'A ball is thrown vertically upward with an initial speed of 15 m/s from 80 m above the ground. Assume free fall conditions. (a) What is the max height? (b) Determine the magnitude of the velocity at 40 m above ground. (c) At what speed does the ball strike the ground?',\n",
       " 'Find out a number which when divided by 7 leaves a remainder of 5, when divided by 6 leaves a remainder of 4, when divided by 5 leaves a remainder of 3, when divided by 4 leaves a remainder of 2, and when divided by 3 leaves a remainder of 1?',\n",
       " 'I was rejected by Google on my first try for a position of SWE at Mountain View. However, they told me I have done quite well and told me to reapply in 6 months instead of the normal 1 year waiting time that Google requires. What should I make of this?',\n",
       " \"I was dumped by a guy. We were in a long distance relationship and it's been two years. Still I used to re-read his older messages, used to keep messaging him because I truly love him but I know it's of no use. Why am I not able to move on?\",\n",
       " \"My ex was physically and emotionally abusive and in the past has accused me of having narcissistic personality disorder, borderline PD, and a couple of others which I don't remember. He gave me enough proof as well from my behavior. Is it him manipulating me or am I actually a psycho?\",\n",
       " 'I work on volume reconstruction in electron microscopy. I want to convert from PDB (.ent) file to a VOL file (.vol). But to read the vol file in MATLAB, I need some information about the vol file (like size, offset, etc.). How can I get that information about the VOL file?',\n",
       " \"If you're already engaged to marry your long-time partner, and preparations have been made and there's already a wedding date, but then you suddenly met someone new and you have fallen in love with that person and you feel in your gut that he/she is your soulmate, what would you do?\",\n",
       " \"Hey everyone, I'm a 28 year old woman going back to college for Computer Science after an 8 year gap from associates degree, am I too old for CS? Does it matter what college for big name employers to hire me (..I.e western michigan vs michigan state) if I graduate quicker?\",\n",
       " \"I feel a little tingle on the case of my MacBook Pro when it's plugged into 220 volts, using the factory-issue Apple adapter, especially if my feet are on the floor. Is this dangerous? Should I go to the Apple Winkel (I'm in Amsterdam now) and get a new power adapter?\",\n",
       " 'A ball is thrown vertically upward with an initial speed of 15 m/s from 80 m above the ground. Assume free fall conditions. (a) What is the max height? (b) Determine the magnitude of the velocity at 40 m above ground. (c) At what speed does the ball strike the ground?',\n",
       " \"Most of the highways have lanes that run in opposite directions built side by side separated by a divider. When it comes to expanding the highway, they find it difficult to acquire land on either side. Instead, why can't the opposite lanes be running separately where they have land and space?\",\n",
       " 'Would you donate to a crowd-funding page set up by a person who was a victim of an armed robbery and had their smartphone and laptop computer stolen, and could not afford to replace them? What if the victim was a child, and the page was set up by their parents?',\n",
       " \"In the movie, Lucy plays a video of a car running on a road. She makes the car run faster and faster until it completely disappears from the screen. Lucy says the car doesn't exist, that nothing exists in this universe, the only thing that matters is time. Is it true?\",\n",
       " \"My brother passed away 2 years back. My mother has not been stable after that. I am little reserve by nature. I have tried to open up, but her emotional state is getting worse, affecting her physically and my father doesn't give sufficient time to the family. What should I do?\",\n",
       " 'I have a UAN mapped to a PF account of my previous employer. I joined a new organization in March of this year. However, I have not mapped my new PF account with the UAN till now. Is it possible to map the new PF account with the existing UAN now?',\n",
       " 'My 2 year and 9 month old toddler is having speech delays. He had his evaluation done today and he scored pretty low around 59. It was scheduled during his nap time and he was pretty tired. What are the odds of him coming up to speed with his communicating skills?',\n",
       " \"I literally can't control my mind. I'm trying not to think about some things, but it feels like there is something in my mind, some voice who is repeating it all over again and again. I'm scared that it could be some mental problems or illness. What is my problem?\",\n",
       " \"I am a 12th grade student. I had scored a 92% in my SSC exams. But in the 11th grade I couldn't score well and didn't understand how to study well. And due to the low marks I obtained last year, my confidence has become zero. What should I do?\",\n",
       " 'Geometry: John has 3 unique coins such that the probability of obtaining a head when the coin is flipped is 110, 210 and 310, respectively. If he flips each of the 3 coins once, the probability that at least 1 heads appears is p. What is the value of 1000p?',\n",
       " 'You have a 100 coins laying flat on a table, each with a head side and a tail side. 10 of them are heads up, 90 are tails up. How would you split the coins into two piles such that there are the same number of heads in each pile?',\n",
       " \"How do I prepare for GATE 2016?I'm an electrical engineering student. I have not even started , though I have joined a GATE institution. I am finding it quite difficult to set myself and get myself  involved in subject. Can you suggest a best way / method for studying .\",\n",
       " 'If oxygen has low ionization energy compared to nitrogen because one of the p-orbital is filled with two electrons, then ionization energy of fluorine should be lower than oxygen because it has two filled p-orbitals that contains two electrons each. What causes fluorine to have higher ionization energy than oxygen?',\n",
       " 'Can a hybrid application store user login credentials locally on the device that it was installed on? Can he use this for authentication each time the user launches the application so that he may not have to do it himself and the hybrid app does the task for him/her untilsignout?',\n",
       " 'Cast iron is a brittle material and has the strength lower than that of steel. Also, the toughness of steel is more than that of cast iron. Why is cast iron used for making machine beds? How can cast iron survive vibrational loads with its low toughness and high rigidity?',\n",
       " 'When I was doing some exercises, I thought to try to stand like the below image. I was able to do so with my eyes open, but as soon as I closed my eyes I was out of balance. Does this mean our eyes are feedback to balance our body?',\n",
       " \"These days, I feel like thousand things are running into my mind at one time. I can't sleep peacefully at night as many things keep flashing back. Sometimes, I find myself engaged in imaginary talks with me and I also feel restlessness. Is this all happening because I am stressed?\",\n",
       " \"I suddenly started feeling sensitivity to air that I inhale on my front tooth. Sensitivity (and slight pain) origins from the gum line (I personally feel so). Hot drinks don't pain or feel sensitive, cold drink does but very little. No visible sign of decay, tartar or caries. What's wrong?\",\n",
       " \"I suddenly started feeling sensitivity to air that I inhale on my front tooth. Sensitivity (and slight pain) origins from the gum line (I personally feel so). Hot drinks don't pain or feel sensitive, cold drink does but very little. No visible sign of decay, tartar or caries. What's wrong?\",\n",
       " \"I suddenly started feeling sensitivity to air that I inhale on my front tooth. Sensitivity (and slight pain) origins from the gum line (I personally feel so). Hot drinks don't pain or feel sensitive, cold drink does but very little. No visible sign of decay, tartar or caries. What's wrong?\",\n",
       " \"I am unable to attach files in Gmail; I opened it in Chrome on my Android mobile. It says the 'operation could not be completed due to less memory.' I have a lot of free space and the error repeats, even after running a cleanup. How can I fix this?\",\n",
       " \"I'm in my Civil Engineering last year and will complete the degree in mid of 2016. My CGPA uptill 6th semester is 7.9. I don't want to study more and want a respectable job. What are the things I have to take care of and what should I do extra?\",\n",
       " 'I recently applied for a credit card, I made my purchases worth 28k , on Septermber 20 using HDFC Money Back Credit card. What would be the time or duration for repaying, what would be the interest rate if I wish to pay later.? Please elaborate on using credit card.',\n",
       " 'I am an Indian married female with a B. Tech in ECE. I worked as a Java developer for 5 years, and am planning to do a MBA in Germany to switch to a non technical role. What are some various job roles, MBA streams and universities to look for?',\n",
       " 'I asked my sisters to join a degree (BscIT) which provides lots of free time, so they can study from MOOCS, however this seems to backfired. Both of them keep sleeping all day, not studying MOOCs or not challenging themselves daily academically? What should I do encourage them to study?',\n",
       " 'If I have a work iPhone and a personal IPhone (2 separate numbers), what is the best way for me to sync contacts, calendars, and reminders between them? Do I give both of them the same Apple ID and iCloud ID? 2 separate Apple IDs and a common iCloud ID?',\n",
       " 'My friend got selected by ICICI bank for PGDBO program at  Manipal University,Bangalore. She has to join by 3rd Nov 2015 but, she is in the last semester of her MComm program. I want to ask do they provide extension for joining?So that she can join after completing her M.Comm.',\n",
       " 'I am an accountant and I want to change careers. I like business process improvements and computer programming. I like to invent and design new ways of doing things efficiently, and build the product hands on. I do have artistic qualities as well. What kind of job(s) should I consider?',\n",
       " \"I'm designing an Android app which can be used to increase the safety of driving. I'm going to put in my app a function that enables a driver to block other apps on a device which is using my app when he is driving. How should I work on it?\",\n",
       " 'Assume a firm has a Cobb-Douglas production function Y=L^0.5 K^0.5 (^=at the power of). Assume [w] wage= $1, [r] rental=$2 and price of output [p] =$5 and firm has linear cost function. What is the marginal product of capital (MPK) and the marginal product of labor (MPL) for the firm?',\n",
       " \"Whenever I turn my sound bar on, it pops and immediately turns off. It tries to restart itself but it continues to pop loudly and turn off. I have a Pioneer SP-SB23W. I took it apart and I don't see any connection issues or blow capacitors. What could cause this?\",\n",
       " \"I suddenly started feeling sensitivity to air that I inhale on my front tooth. Sensitivity (and slight pain) origins from the gum line (I personally feel so). Hot drinks don't pain or feel sensitive, cold drink does but very little. No visible sign of decay, tartar or caries. What's wrong?\",\n",
       " 'As plants produce Co2 in the dark, and O2 in the presence of light, if I put a plant in a position that it is half exposed to light and the other half is in darkness, in a closed box, without any extra air from outside, would the plant survive?',\n",
       " \"I suddenly started feeling sensitivity to air that I inhale on my front tooth. Sensitivity (and slight pain) origins from the gum line (I personally feel so). Hot drinks don't pain or feel sensitive, cold drink does but very little. No visible sign of decay, tartar or caries. What's wrong?\",\n",
       " \"If 0.5 moles of BaCl2 is mixed with 0.2 moles of Na3PO4, the maximum number of moles of Ba3(PO4) 2 that can be formed is : a) 0.70 b) 0.50 c) 0.30 d) 0.10. I believe answer should be 0.16 but there's no such option. What do I do now?\",\n",
       " \"I suddenly started feeling sensitivity to air that I inhale on my front tooth. Sensitivity (and slight pain) origins from the gum line (I personally feel so). Hot drinks don't pain or feel sensitive, cold drink does but very little. No visible sign of decay, tartar or caries. What's wrong?\",\n",
       " 'Where do we use 1 kB = 1000 bytes, 1 MB = 1000 kB, 1 GB = 1000 MB, 1 TB = 1000 GB? And where do we use 1 KB = 1024 bytes, 1 MB = 1024 KB, 1 GB = 1024 MB, 1 TB = 1024 GB?',\n",
       " \"I want to do a master's in a reputed institution like MIT or Stanford with a scholarship. I'm just starting my B.Tech (Computer Science) in an average engineering college in India. What should I start doing now? What are the minimum requirements to get into such institutions with scholarship?\",\n",
       " \"I am applying for a passport. I do not have my name on a birth certificate and it is written on the site that I have to give a declaration on plain paper for it, so should it be an affidavit or simply my name with a parent's signature?\",\n",
       " 'Where do we use 1 kB = 1000 bytes, 1 MB = 1000 kB, 1 GB = 1000 MB, 1 TB = 1000 GB? And where do we use 1 KB = 1024 bytes, 1 MB = 1024 KB, 1 GB = 1024 MB, 1 TB = 1024 GB?',\n",
       " \"I've fallen in love with my friend of 3 years. I told her about my feelings, but she turned me down. She now avoids me completely. I'm trying to get over her, but I can't seem to. Her avoiding me makes me feel even worse. What do I do?\",\n",
       " 'The southern culture is built on hatred, yet they call themselves Christians. It seems to me that the Bible belt doesn\\'t know what they are doing. Do these \"Christians\" know that their Christ was not a blue eyed blonde guy, but a smelly Middle Eastern looks light skinned guy?',\n",
       " 'It has been 3 weeks since my onsite interview with Facebook. I followed up twice with the recruiter and did not get a reply. I know this would mean a rejection and recruiters are offer-driven, but as a company like Facebook, is it common to not respond at all?',\n",
       " \"I tried going down there to my girlfriend to give her oral pleasure but the problem is I didn't feel comfortable & felt like puking. She won't asked for it but I want to give her that pleasure. It's all wet there how can make myself normal with it?\",\n",
       " \"When considering co-founders, I picked the designer and the genius (I'm the voice).  Lately I've begun studying what investors look for in a startup, and see that we may raise red flags by not having a programmer as a founder.  Is a technical founder something we have to have?\",\n",
       " \"I feel like my thoughts are so loud that the people around me can hear them. I make really vivid pictures in my mind and feel like those are being beamed out and sent to people around me too. How do I prove to myself that this isn't happening?\",\n",
       " 'I had just bought a Samsung Galaxy J7. I tried connecting it to my home WiFi and it gets connected and disconnected frequently. It works smoothly on other WiFi networks and my home WiFi works well on the devices of other members of my family. What should I do?',\n",
       " 'Would a Project Manager (from a different field of work) who is moving into technology and getting their PMP be at a Junior level or Assistant if he has a lot to learn in the new field and needs some coaching. Where would they best fit with this transition?',\n",
       " 'A father and his son are in a car accident. The father dies at the scene and the son is rushed to the hospital. At the hospital the surgeon looks at the boy and says \"I can\\'t operate on this boy, he is my son.\" How can this be?',\n",
       " 'I have a birth certificate from my native state in India, but all my other certificates including passport, schooling certificates and address proofs are from another state where I currently live. Which state do I get my birth certificate apostilled ? From my current state or my native state.',\n",
       " 'I had just bought a Samsung Galaxy J7. I tried connecting it to my home WiFi and it gets connected and disconnected frequently. It works smoothly on other WiFi networks and my home WiFi works well on the devices of other members of my family. What should I do?',\n",
       " \"I am interested in chemistry and biology, but I am unable to chose them for my bachelor's degree due to some personal problems. Am I left with any options regarding further studies based on biology or chemistry, or should I have to continue in the same field (mechanical engineering)?\",\n",
       " 'Magic Tricks: What do I need to do to build a coat rack that I can pull out of a bag as Mary Poppins does. I was hoping to find a retractable one but no luck. What do magicians use when pulling out absurdly long objects from small containers?',\n",
       " 'I have completed my LLB with first division from the University of Delhi, India. I am also registered with the Bar Council of India as a lawyer. I wish to work in California, USA. How can I do that? And what are the job profiles I am eligible for?',\n",
       " 'Where do we use 1 kB = 1000 bytes, 1 MB = 1000 kB, 1 GB = 1000 MB, 1 TB = 1000 GB? And where do we use 1 KB = 1024 bytes, 1 MB = 1024 KB, 1 GB = 1024 MB, 1 TB = 1024 GB?',\n",
       " \"I am entering the world of video game programming and want to know what language I should learn? Because there are so many languages \\u200b\\u200bI do not know which one to start with. Can you recommend a language that's easy to learn and can be used with many platforms?\",\n",
       " \"I have a savings account with HDFC with a balance of -5000 INR i.e negative 5000 INR. I have not been operating it with the minimum balance and so all the maintenance charges have heaped up. What should I do? Should I ignore it since it's a savings account?\",\n",
       " \"I am entering the world of video game programming and want to know what language I should learn? Because there are so many languages \\u200b\\u200bI do not know which one to start with. Can you recommend a language that's easy to learn and can be used with many platforms?\",\n",
       " \"I am a 20 year old international freshman in my dream university in the US. But, ever since I got here I lost any motivation to work hard or to have fun even. What is some advice if I've met lots of people here but I feel so lonely?\",\n",
       " \"I sent this message to my ex: 'This may be the last time I contact you. I want to say I love you, but I realized that we can never be together again. I wish you and I would find our own happiness'. Does this make me look weak?\",\n",
       " \"The U.S. Treasury Department mints a American Eagle gold coin that is legal tender and has a face value of five dollars. If it is legal tender and issued by the U.S. government, why can't I go to a bank and exchange a $5 bill for one gold coin?\",\n",
       " 'I had just bought a Samsung Galaxy J7. I tried connecting it to my home WiFi and it gets connected and disconnected frequently. It works smoothly on other WiFi networks and my home WiFi works well on the devices of other members of my family. What should I do?',\n",
       " \"My husband likes to masturbate more then we have sex and I feel like he's more into his hands than our sex life. I have a high sex drive and he does not but he masturbates everyday. It's infuriating. How do I deal with this? Am I being unreasonable?\",\n",
       " 'It has been 3 weeks since my onsite interview with Facebook. I followed up twice with the recruiter and did not get a reply. I know this would mean a rejection and recruiters are offer-driven, but as a company like Facebook, is it common to not respond at all?',\n",
       " 'Two equal circles passes through the centres of each other and intersect each other at A and B. A line passes through point A intersecting the two circles at points C and D. How can I prove that the triangle formed by the points B,C and D is equilateral?',\n",
       " 'I just had a very bad break up. My boyfriend left me without giving any reason. He ended our 7-year strong relationship just because of a caste difference. He is not taking a stand for me. I am shattered. I am dying from the inside. What should I do?',\n",
       " 'I am planning to buy a new car with a T permit as I would like to be an Uber partner. However, I was informed by the car agency that a Gumasta license is needed to get a T permit. Can I get a Gumasta license as an individual?',\n",
       " 'I recently cleared the TRMS (transaction risk management services) interview in Amazon Hyderabad. I am very much interested in coding so I want to work as an SDE(software development engineer) at Amazon. Can I move from TRMS to an SDE? Is it possible as computer science graduate from Hyderabad?',\n",
       " 'Was the \"Apollo Lunar Module\" pressurized during the 6 moon landings between 1969 and 1972? If yes, then how did they open and then close the latch to get in and out of the LM while maintaining pressure? If no, then how did the astronauts survive inside the LM?',\n",
       " 'Physics Homework Questions: A point charge is at the origin. With this point charge as the source point, what is the unit vector in the direction of (a) the field point at x=0, y=-1.35m; (b) the field point at x=12cm, y-12cm; (c) the field point at x=-1.10m, y= 2.60m?',\n",
       " 'Teen Pregnancy: My 16-year-old son has just announced that his girlfriend is pregnant. Not only that—they made a conscious decision to conceive a baby. I feel crushed, ashamed and defeated. Being told you are going to be a granddad is supposed to be a joyous occasion. Am I overreacting?',\n",
       " 'We have a motor which has a shaft connected to a fan on one side and a generator on the other. Wires from the generator are brought to the motor and the electricity from the generator is used to power the motor. Will this setup work? If not, why?',\n",
       " \"During WWII, the B-24 Liberator was by far the most-produced Allied aircraft. It flew faster and farther than the B-17 with twice the payload, but there doesn't seem to be much written about it compared to many planes which had far less impact on the war. Why is this?\",\n",
       " 'I am 15 years old. I love a girl who is older than me by 3 years. She loves me too. We are in a 4 year relationship. Suddenly her parents said that she is going to get married. I want to marry her badly. What do I do?',\n",
       " \"SOS: I forgot to take the piece of tissue paper out of my trousers' pocket before washing them with my other clothes in my washing machine. Now all my washed clothes are full with residue of that piece of tissue paper. What's the best solution to solve this problem?\",\n",
       " 'This time JoSSA will not fill the seats that are left by students after getting better options (since counselling fees are non-refundable). Will this leave many seats empty? Is it wrong from JoSSA if it was formed to fill the seats that remained vacant in the IITs and NITs?',\n",
       " 'Does anyone know anything about the selection criteria for the MSc program from Nova SBE in Lisbon since their page says that no GMAT nor letters of recommendations are required? What are some suggestions on how to raise my chances in order to be accepted by Nova SBE school?',\n",
       " \"When me and my girlfriend have issues, she will make me listen to her side of the story and her feelings on the matter but she won't listen to my side of the story or my feelings on the matter. How do I make her stop? Nothing has worked?\",\n",
       " 'I have no motivation at all. All I want to do is just sit around and procrastinate while doing things that seem \"fun.\" I know this attitude is bad but I just cannot get out of it. How do I get the motivation to change and start doing work?',\n",
       " \"There is this girl I like.I think she likes me too.I asked her if she'll be my girlfriend and she has no problems except one.That I've got a job in a different country. I've got to go there.But I really want this to work. What do I do?\",\n",
       " \"I tried to review a message thread on OkCupid, and it's totally disappeared. If I search for the person in question, he's still got a profile; we're still going on dates, so I'm not sure what to make of it. Is this a bug, or was I blocked?\",\n",
       " \"What should I reply in return when someone say I missed you, I love you, You look beautiful, etc when I already know that they don't mean it. Because I know replying back with I missed you too, I love you too, etc. would be a lie too?\",\n",
       " \"I have absconded from Genpact and now they have sent me a final settlement letter stating that I have to pay 6025 rs and if I fail to do so they will take a legal action against me. Is there any problem if I don't pay the sum?\",\n",
       " 'What are the best books for the SAT and the TOEFL (please do not mention too many only 2 or 3)? How do I prepare for the SAT and the TOEFL as I am preparing to give the TOEFL in September and the SAT in December this year?',\n",
       " \"I'm an 11 year old girl and have started my period. I want to know how tall I will be as an adult because I don't want to be a giant. My mom is five-foot-three and my dad is five-foot-nine. I'm five-foot-four. When am I gonna stop gro?\",\n",
       " \"I'm a shy person. In a chat box I talk to a lot of girls (known or unknown) very comfortably, but whenever I talk to girl directly (face to face) I get nervous and I feel like there is nothing to talk about. How can I improve this?\",\n",
       " \"I broke up with my boyfriend, and now I miss him terribly, but I know it was the right decison to end the relationship and I don't want to get back together. How do I best cope with the pain and sadness from missing him in my life?\",\n",
       " 'I belongs to a Sikh religion. I am deeply religious and I carry a kirpan with me everytime and everywhere.I m going to Australia for my studies after few months. And the airport security do not allow me to carry it with me. So what should I do?',\n",
       " 'I want to learn Python. I have no knowledge of programming. Where do I start? Which book do I read? I want to learn from the very basics to the advanced level, like solving real time problems using Python. What are online tutorials or YouTube channels for this?',\n",
       " 'Certain parts of my Nokia Lumia 820 screen are getting unresponsive to touch (e.g., in landscape orientation I am unable to type certain characters from the phone keyboard, I need to flip my phone to portrait to type them). Can this problem be fixed in any way? How?',\n",
       " \"I broke up with my boyfriend, and now I miss him terribly, but I know it was the right decison to end the relationship and I don't want to get back together. How do I best cope with the pain and sadness from missing him in my life?\",\n",
       " 'How do architects, contractors and landscape designers source the suppliers and their products in order to use them into their projects in the United States? Where would a supplier be more successful to reach out to them so that his products could be considered into his next project?',\n",
       " 'I with my (male) friends are planning for a trip to Bangkok. Main motto will be to have sex and booze but we are on a tight budget. We can spend around $550 (apart from travel cost ) for a stay and enjoyment of 5 days. Any Guidance?',\n",
       " \"It is certain that Harry Kane has raised his confidence and skill, without a doubt. However, on the match against Chelsea it seemed that he was overconfident and trying to cut out half a dozen defenders. Even though his runs can't be ignored, but, is he growing overconfidence?\",\n",
       " \"Why do most atheists proudly identify themselves as atheists as if the term atheist has a social status or as if it is a sense of character while most theists don't even recognize themselves as atheists but identify themselves with their profession or any other sense of character?\",\n",
       " \"I broke up with my boyfriend, and now I miss him terribly, but I know it was the right decison to end the relationship and I don't want to get back together. How do I best cope with the pain and sadness from missing him in my life?\",\n",
       " \"LinkedIn has sent out 100s of invites in the wee hours of yesterday morning to random people who I have never known. They're not part of any of my address books. Can I sue them for damages, violating my personal space, and making me look like a moron?\",\n",
       " \"My penis foreskin is little tight. Still I could roll down and it's retractable. But the problem is that the penis head is very sensitive. I can't even touch it. It gives me a feeling like I can't actively involve in sex. Will circumcision give me the solution?\",\n",
       " 'I need to change my credit card details on Uber, but the app is not allowing me to delete my card details. It says, \"you are not allowed to delete the only existing credit card on file\". What if I want to replace this card with another one?',\n",
       " \"It is certain that Harry Kane has raised his confidence and skill, without a doubt. However, on the match against Chelsea it seemed that he was overconfident and trying to cut out half a dozen defenders. Even though his runs can't be ignored, but, is he growing overconfidence?\",\n",
       " 'I have a GMAIL account which is configured to forward to my primary gmail acct. I lost the password, security questions, and phone. I can prove I control the acct b/c I can send and receive emails from my primary account. How do I get my account back?',\n",
       " 'What is one of the main differences between a liberal democracy and totalitarianism? A. A liberal democracy has open elections. B. A liberal democracy has state-controlled courts. C. A liberal democracy is not subject to rule of law. D. A liberal democracy has a ruler with unlimited power.?',\n",
       " \"How can I make a career start at a semiconductor company in Germany (for example as an intern) with a master's in electrical engineering and information technology (sensor system technology), which is not at all relevant to the fields like a master's in VLSI design and embedded systems?\",\n",
       " 'Why Google is so bad in local?  It is hard to find good place if you do not exact name of the place. The same place might me mentioned many times in Google results with the same address and telephone. Why Google did not create good local search?',\n",
       " \"I am 23. I have been rejected by 8 girls till now, all of whom I liked. I am tired of rejections and feel like a loser all the time. I've damaged my career significantly in the pursuit of girls and I feel terrible. What are some suggestions?\",\n",
       " \"I want to become a filmmaker. I hate my job as a civil engineer, but I can't quit my job and pursue my dream because of my heavy financial problems. I am in a dilemma. I can't concentrate on other things because of this. What should I do?\",\n",
       " 'I find many conceptual errors in questions and answer keys for JEE mock-up tests. FIITJEE AITS seem to have lot of conceptual errors in questions and clerical and conceptual errors in answer keys. Is there any mock-up test for JEE advanced without errors in questions and answer keys?',\n",
       " 'The run up to elections has started. What topics would you like to hear the media report on about these elections that will help a voter take an informed decision on casting their votes? What do you expect from the media coverage of the elections in India?',\n",
       " 'I grew my hair with an idea of donating it for the cause of cancer patients undergoing chemotherapy. It has grown up to 5 inches now. But the organization says it can accept only minimum of 8 inches hair. Are there any possibilities to donate my hair?',\n",
       " 'I have been having an intense crush on a girl about my age. Problem is, I have only been able to see her (for more than two years) from a distance but never had the chance to go and talk to her. How do I approach her?',\n",
       " 'When working at Google, how easy is it to transfer to a team out of country, such as moving from the Mountain View office to the Sydney Australia office? Is this something that Google is willing to accommodate or must there be a very specific work-related reason?',\n",
       " \"I'm a student of the IITs and my dream is to become a maths faculty member in IIT JEE coaching. As the pattern of IIT JEE is regularly changing, is it safe to become a faculty member in coachings of Kota or just prepare for a company?\",\n",
       " \"My Samsung phone's language setting is Bahasa Malaysia, but I am unable to read the app descriptions in the Malay language (ms) in the Google Play Store using my phone. Is it because Google thinks that Malay is different from Bahasa Malaysia? How can I solve this?\",\n",
       " \"I am 20, hardworking, and a sincere boy. I always try to do better and learn more. I always begin with full zeal and zest but lose track in the middle due to which I'd not produce expected results. How do I keep up my determination throughout?\",\n",
       " \"Am I pregnant? Had sex 3 weeks ago with my partner and he didn't ejaculate in me. AF is due in a week but 2 days ago I  had light brown spotting accompanied by mild cramps and pulling feelings in the lower abdomen, is this implantation bleeding?\",\n",
       " \"Doctor: This question is  especially for a current undergraduate mbbs student - what kind of torture a RESERVED CATEGORY  STUDENT has to go through in aiims delhi ? to be honest i wanted to know saloni kapoor's views and experiences. others' viewpoints, experinces are also highly anticipated.\",\n",
       " \"If I'm not confident about my chances to get into a good Graduate program (by good I mean Ivy / MIT / Stanford) immediately after my bachelor, is it a good strategy to delay applying for a few years and focus on gaining the necessary research experience?\",\n",
       " \"My WhatsApp web is not working. I'm using the Chrome browser on my Windows 8.1 laptop, and the internet speed is decently good. I opened web.whatsapp.com and the QR code doesn't load up at all. It just keeps going round and round. How can I fix this?\",\n",
       " 'Alice has two coins in her pocket, a fair coin (head on one side and tail on the other side) and a two-headed coin. She picks one at random from her pocket, tosses it and obtains head. What is the probability that she flipped the fair coin?',\n",
       " 'A car travels from A to B at the rate of 40 miles per hour, and then returns from B to A at the rate of 60 miles per hour. Is the average rate for the round trip more or less than 50 miles per hour? Why?',\n",
       " 'If two automatic weapons ( Uzi ) were pointed barrel to barrel so if either gun was fired the bullet would enter the others barrel. What would happen if both guns at the exact same time released a 40 round magazine from a foot from each other?',\n",
       " 'If you move to a different location but have the same computer will your IP address change? For example: if I lived in the USA but then moved to Australia with the same computer will my IP address change? Or will it still show the USA one?',\n",
       " \"I'm a 3rd year mechanical engineering student. I have published the journal in IJERA with my mini-project (international journal of engineering research and application) and my CGPA is 7.1 up to 5th semester. I want to join an IIT or IISC for my MS. Is this possible?\",\n",
       " \"10:10, 11:11, and 12:12 are the times I've been checking my watch for the past 3 month, not intentionally of course, but when I just feel like checking the time it just happens to be at one these positions on my clock. What's the reason behind this?\",\n",
       " \"I don't want to lose what we have, but I don't want to hurt my parents after all they did for me. Should I continue my relationship even if I know that it won't work out in the end because our families won't allow our intercast marriage?\",\n",
       " \"I just started ketogenic diet. I'm losing weight, but once I reach target weight is there a way I can go back into a more normal diet that's not super high carb of course, but perhaps a bowl of rice a day without gaining the weight back?\",\n",
       " \"I work in a company that sales stuff to businesses / local business and most of the time, I call businesses and they tell me the manager / owner is not around. What's the most effective way to actually get to speak with him / reach him?\",\n",
       " 'If a car drives with a speed of 80 km/h and suddenly the driver reacts and pushes on the brakes with a reaction time of 0.6 seconds and the acceleration is -6.2 m/s^2 during the braking, how do I calculate the braking distance and the shutdown distance?',\n",
       " \"I just started ketogenic diet. I'm losing weight, but once I reach target weight is there a way I can go back into a more normal diet that's not super high carb of course, but perhaps a bowl of rice a day without gaining the weight back?\",\n",
       " \"Why isn't Browsec so popular when it is very useful in a workplace where some sites are blocked? Are there any bad effects for using it or is it not that popular for a purpose that admins would not know that it's possible to unblock blocked sites?\",\n",
       " \"If you are a good listener, you will find that every person has his own opinions, and people's opinions contradict each other, everyone thinks that he is right. My question, why do you think that you are right, why do you think that your opinion is right?\",\n",
       " 'Did the condition of Delhi really improve after Mr Arvind Kejriwal became the CM of Delhi? I was really surprised after seeing 67 seats given to the AAP in the assembly election by the people of Delhi. Is he really justifying the faith of the Delhi people?',\n",
       " \"I like this woman who often looks at me. Sometimes I catch her when she does and she turns around fast and I often stare at her too. Does she like me? I don't know her or have never approached her before, so what should I do?\",\n",
       " 'We have had a Betta fish for 5 weeks and it has seemed fine until the last few days. A simplistic description is depression. The only recent change was adding glass beads to the bottom of the bowl and a plastic tree. All suggestions are welcome? Tnx!',\n",
       " \"I just started ketogenic diet. I'm losing weight, but once I reach target weight is there a way I can go back into a more normal diet that's not super high carb of course, but perhaps a bowl of rice a day without gaining the weight back?\",\n",
       " 'If a line has no y-intercept, what can you say about the line? What if a line has no x-intercept? Think of a real-life situation where a graph would have no x– or y-intercept. Will what you say about the line always be true in that situation?',\n",
       " \"I can't have sex with my boyfriend. I'm 16 and we tried to do it but it didn't go in and it hurt and I was bleeding a little. What should I do? Why is this happening? Am I too tight or is his penis too big?\",\n",
       " 'For the past few days whenever I try to like someone\\'s status or a photo I get the following message: \" Database Write Failed: An error occurred while writing to our database. Please try again later,\" and my \"like\" doesn\\'t go through. Why is this happening?',\n",
       " 'What is the answer to the the notice period question asked by an HR in a call even if you have a bond for 6 more months but want to attend the interview and if they need urgent requirement? Should you be applying for such jobs?',\n",
       " \"My girlfriend says she's going to break up with me, because she's Christian, and I'm not, and she's not supposed to date me. She says she still loves me, but she says she can't keep going out with me in good conscience. What should I do?\",\n",
       " 'A baby was born in the United States to foreign parents, but the parents did not explicitly request the US citizenship for their baby. Was the baby automatically becoming a US citizen, or was the baby only granted to his rights to request a US citizenship?',\n",
       " \"I'm a guy, and when my hair is dry without any gel or anything I comb it back but it doesn't go back at all. It puffs up. I want my hair to go back and be flat and stay back. Are there any home remedies?\",\n",
       " 'The screen replacement for the Moto X phone costs Rs 12,000/- while the current price of the phone itself is Rs 18,000/-. Is this reflective of the actual cost of the screen relative to phone cost or a pure example of corporate greed to maximize profits?',\n",
       " \"The outer part of my left knee started to hurt after running even less than I used to (without experiencing any pain). I've tried changing shoes, warming up better, and making longer pauses between runs. What am I doing wrong and how do I fix this?\",\n",
       " 'My current F1 visa expires on May 2016, however, my post completion of the OPT of an EAD continues until September 2017. How soon can I renew my F1 visa and what is the process to do so while I am not a full time student?',\n",
       " \"I love my best friend romantically, but I am confused about whether he also loves me. Sometimes he makes me feel like a princess and sometimes he just can't stop talking about his other crushes. What should I do? Should I tell him clearly or wait?\",\n",
       " \"I met a guy and we dated twice. He didn't call me for a week and I resented it. I stupidly texted him not to call me, but I was insecure and thought he wasn't interested. I still like him. How do I fix this impression?\",\n",
       " 'In a magnetic crane, a powerful electromagnet is used to lift up the iron material. But when we pass a current through a conductor & bring iron filings near it, they are set in a form of concentric circles, instead of clinging to the conductor. Why?',\n",
       " 'During musical concerts (orchestra), we always see a person (musician) standing in the front (with his back to the crowd) waving a wand/stick in one hand and seemingly guiding the musicians. Does he actually have any role or is just like a leader for representation purposes?',\n",
       " 'I have been given an opportunity to work in a support and maintenance project where the project work is going to start from scratch. Will it be good to get development knowledge in these projects? Will I be able to switch over to development projects later?',\n",
       " 'I am a first year MBBS student and I have heard that the medical PG exams are extremely competitive. In this situation, is it better to do an MD from abroad? Is it true that an MD from the UK or US is comparatively more valuable?',\n",
       " 'I have been cheated by Quikr. What happened was I called someone from the ad posted on Quikr and he asked to submit some money for registration and then now neither I am getting any job nor he is returning my money. What should I do?',\n",
       " 'There is this cute girl in my neighbourhood who I proposed to a few days ago, but she turned down my proposal saying that she \"did not want to be the girlfriend of an IIT nerd\". Is this a view that many girls in India share?',\n",
       " \"I am a 3rd year software engineering student. I have applied for a number of internship positions for summer, but all the companies that I applied for either don't reply or reply saying that my application did not meet our expectations. What could be the reason?\",\n",
       " 'Does Citigroup Pune have onsite opportunities i.e. travelling abroad (USA, UK etc offices) for a software engineer working at the Citigroup Pune office? If yes, what is the probability/frequency? After how many years serving in the company can one expect to travel abroad? For how long?',\n",
       " \"Is algorithms more like an intuitive subject? Something like, if you don't have that intuition you won't be able to think beyond one level? You can definitely learn, but learning can only take you up to certain level, after that it's all about intuition and imagination?\",\n",
       " 'I got a call from Thomson Reuters saying that I am selected. They asked me for all scanned copies of documents and pan card details so I sent them in the mail. How much time will it take for them to send me an offer letter?',\n",
       " 'I am able to start JVoiceXML but when I am trying to run a demo application, it is giving an error: \"org.jvoicexml.event.error.NoresourceError: error.noresource: Pool of type \\'jsapi10\\' is unknown!\" What is this error and what are all the configurations and settings for JSAPI available for JVXML?',\n",
       " \"I appeared for the CAT in '14 and scored 94.38 % percentile. Obviously I didn't get the call from any IIMs but got the call from SP Jain, Mumbai. Should I drop and prepare for the CAT in '15 or should I choose SP Jain, Mumbai?\",\n",
       " 'A candidate is selected for an interview for three posts. For the first post there are 6 candidates, for the second post there are 9 candidates and for the third there are 5 candidates. What are the chances for him to get at least one post?',\n",
       " \"I'm a guy, and when my hair is dry without any gel or anything I comb it back but it doesn't go back at all. It puffs up. I want my hair to go back and be flat and stay back. Are there any home remedies?\",\n",
       " \"I sent a follow request to someone on Instagram. Why hasn't he approved the request for so long? I know that person is posting pictures on instagram based on his increasing number of posts. Is he not getting my request or is he ignoring my request?\",\n",
       " 'You love a girl, and she hates you. She knows  you love her, and you know she will not accept you. There is a high probability that you irritate her. How can you convince her that you will never hurt her feelings and love her forever?',\n",
       " \"I'm 17, my weight is 65 kgs and my height is 5'4. My doctor told me that according to my height and age my weight should be 53 kgs. I don't want to join the gym. How can I lose weight in 5 or 6 months?\",\n",
       " \"Can an average student become a topper in school in the 12th CBSE boards (95+%)? How much time should I study if I'm a PCM student? How can I go behind all the toppers of the class who are really very rude and full of attitude?\",\n",
       " \"I want to work in the United Nations. However, I know their jobs are hard to get, is there something I can major in that will get me a UN job but still a good job in the meanwhile if I don't get in right away?\",\n",
       " 'When your grown adult children say derogatory statements about something you no longer want to argue over; is it okay to say \"well, you must know\"? ...my grandmother used this phrase to stop the arguments in our family, I think it\\'s perfect, my kids \"hate\" it.',\n",
       " 'I got 90.21 percentile in the quantitative aptitude section and 90.12 percentile in the problem solving section of the logical reasoning section of the eLitmus pH test but a very low score (17 percentile) in verbal ability. What are my chances of getting calls for interviews?',\n",
       " 'I want to build a house over the land, which was in my father name, by taking a housing loan. I want to know whether I can apply loan in my name or do I need to change the ownership of the land to my name?',\n",
       " 'The length of a rectangle is 7 cm, and the width is 4cm, If both the length and the width are increased by equal amounts, the area of the rectangle is increased by 42cm^2. How do I find the length and width of the larger rectangle?',\n",
       " 'I loved a girl for almost 4 years and before that she was my girlfriend. Even now we both love each other but recently I found she had an affair with a guy when she left me but that guy ditched her. What should I do?',\n",
       " 'Can you advice me some Irc channels where I can find and share support for php, html, css, javascript, ruby on rails development? Or also if you know a different platform instead Irc, let me know, but it should be in real time (as a chat).',\n",
       " 'You have 1000 wine bottles, one of which is poisoned. You want to determine which bottle is poisoned by feeding the wines to the rats. The poisoned wine takes one hour to work. How many rats are necessary to find the poisoned bottle in one hour?',\n",
       " \"In 2010 I have a column that is a date in MM/DD/YYYY format and I want to switch it to MM/YYYY format so when I use it in a pivot table it doesn't list each specific date separately in Excel 2010. How do I do this?\",\n",
       " 'A baby was born in the United States to foreign parents, but the parents did not explicitly request the US citizenship for their baby. Was the baby automatically becoming a US citizen, or was the baby only granted to his rights to request a US citizenship?',\n",
       " \"I sent a follow request to someone on Instagram. Why hasn't he approved the request for so long? I know that person is posting pictures on instagram based on his increasing number of posts. Is he not getting my request or is he ignoring my request?\",\n",
       " 'You have 1000 wine bottles, one of which is poisoned. You want to determine which bottle is poisoned by feeding the wines to the rats. The poisoned wine takes one hour to work. How many rats are necessary to find the poisoned bottle in one hour?',\n",
       " 'I loved two girls at the same time, one a little more and the other a little less. Unfortunately I proposed to the one I loved less and she has said yes. But I want to be with the other girl now. What should I do?',\n",
       " 'As far as I know, it is impossible to immigrate to Canada without a job offer from a Canadian company. Even the recently introduced Express Entry program demands that. Is it possible for a person to get a work permit in Canada without a job offer?',\n",
       " 'My partner has a hard lump near his spine in the upper back, that moves when pressed on. There is significant pain in the area surrounding it. We are looking at various options, such as lipomas, spine spurs, lymphs, spinal tumour? What could it be?',\n",
       " 'I am earning 2.4 Lac per month, I can save up to 1.5- 1.6 Lac per month. How I can invest this money to get better return. I am interested to start some business with this money, What are some good businesses to start with?',\n",
       " 'The latissimus dorsi muscle is \"twisted upon itself, so that the superior fibers become at first posterior and then inferior, and the vertical fibers at first anterior and then superior\". Does it mean that this muscle double twists in an arm flexation instead of untwist?',\n",
       " 'While making an Aadhar card for my mother in the finger print scanner only three finger prints in one hand and two finger prints in the other were detected. Will the Aadhar card be issued to my mother and where should I complain about it?',\n",
       " \"I am in my 1st year of a B.Tech mechanical engineering. I want to be part of a Robocon team of my college. What should I do for that? Are there any books website and links for the preparation? What's there in that aptitude test?\",\n",
       " 'I am a self-help junkie. I get high on reading books and watching talks and obsessively organising my goals/priorities/principles. But I have achieved nothing in my life and just keep going back to the books to get my fix. How can I start getting results?',\n",
       " \"I've purchased a Galaxy S6 in India through Amazon, which has pre-installed Africa-specific apps. I think the product has been imported from Africa. Is there any problem that I could face in warranty? Does international warranty come by default or I need to purchase that?\",\n",
       " \"I use Chrome as my browser on Android. When I use multi tasking and switch to other apps for more than 1 or 2 mins and come back again on it, it refreshes the whole page. Why can't I start from where I left it?\",\n",
       " 'I want to remove vocals from a song. I used Audacity for it, but vocals are not completely removed. What is a way to make a good karaoke in which vocals are completely removed? Is there any other open source software or any other way?',\n",
       " \"What are some of the best ways to learn how to express and articulate yourself clearly? I tend to run into these road blocks mid sentence! I'm in a position where I have to communicate to executives on all levels so I MUST improve this.\",\n",
       " 'If history is to be believed the oldest civilization was the Mesopotamian civilization or the Indus Valley civilization, but if that is true (which is already proved) then what about \"The Ramayan,\" as it took place somewhere around 5110 BC according to the latest findings?',\n",
       " 'In the Peter Hyams movie \"2010\" (based on the book by Arthur C. Clarke), when Chandra reactivates HAL, he uses the words \"Hello, Doctor, Name, Continue, Yesterday, Tomorrow.\" What is the significance, if any, of this set of words in HAL\\'s learning to speak again?',\n",
       " 'If there is a joint account in a bank, will the cheque book be printed with both the names of the account holders or will different cheque books be given for both the individuals? Can a cheque be signed by two persons in this case?',\n",
       " 'Is there a good AR plugin or app for sketchup that is suitable for immersive 3D models of interiors? I have comprehensively modeled a few of the interiors of the spaces that I have designed and built and would greatly benefit from such a product.',\n",
       " \"I am 23 and don't know what I want. My life is very boring, I am depressed and frustrated, I don't have any good friends to share my feelings with. I don't even have a girlfriend. Sometimes I want to quit. What should I do?\",\n",
       " 'I am in love with a codependent who has gone back to his narcissistic ex-wife. He says he loves me and is trying to leave her. Am I wasting my time trying to help a friend/lover or should I just leave him in his misery?',\n",
       " 'My CGPA is given as 7.7/10 and at the back of my mark sheet it is written that there is no direct conversion of CGPA into percentage but for reference we can multiply it by nine. So what will be my GPA in 4.0 scale?',\n",
       " \"I work from 8.30-4.30 Mon-Fri. When I get home I'm usually pretty tired but I don't want to spend my evenings watching TV or looking at the computer. I want to get into a regular routine. Can anyone recommend a relaxing, but productive evening routine?\",\n",
       " \"I am 23 and don't know what I want. My life is very boring, I am depressed and frustrated, I don't have any good friends to share my feelings with. I don't even have a girlfriend. Sometimes I want to quit. What should I do?\",\n",
       " 'I am a pre-medical student and kind of homesick. I want to go to another city far away from my home in order to study in the best academy, but I have a very limited time. Also, hostel problems scare me. What should I do?',\n",
       " 'Android Applications: How do I replicate the WhatsApp feature \"group name click from action bar\" to get the group member list? How can I add an action bar that is clickable and whose text can be changed to the group name (is it a spinner)?',\n",
       " \"If you're given a jar with a mix of fair and unfair coins, and you pull one out and flip it 3 times, and get the specific sequence heads heads tails, what are the chances that you pulled out a fair or an unfair coin?\",\n",
       " 'I use only the Photos app to view and edit photos on my phone. When I delete any photo from this app, it automatically deletes it everywhere including the Google Drive. How do I delete them from my phone without losing them from my Drive?',\n",
       " \"As an amateur or professional fighter (boxer, MMA athlete) would you choose to gain as much size and strength as your frame would allow while still retaining speed and endurance if you didn't have to concern yourself with achieving a specific body weight for competition?\",\n",
       " \"In Instagram, if someone's search history is clear and they don't follow you, but your name is the first one that comes up when you type the first letter of your name in the search box, does that mean they've been looking at your account?\",\n",
       " \"Breaking Bad (TV series): What's the story of the notebook that Hank finds in the final episode if Season 5's first half? Why is this in Walter White's possession instead of in evidence? Is it the same notebook that Hank and Walter were discussing earlier?\",\n",
       " \"It's the 21st century, and still the hatred against the Pakistanis persists. Debate on the present act of Pakistan's hockey team after winning on various social sites is really disturbing. Hasn't the time come to change this state of mind? How can we do it?\",\n",
       " 'Our existing knowledge makes it clear that before the Big Bang, everything about the universe was already predetermined. Meaning that it was predetermined down to the smallest particle, and its course through the eons in its minutest details. Who is thought to have done that?',\n",
       " 'I use only the Photos app to view and edit photos on my phone. When I delete any photo from this app, it automatically deletes it everywhere including the Google Drive. How do I delete them from my phone without losing them from my Drive?',\n",
       " 'I am trying to design a professional poster and I want to get it printed. What are the few important things that I should keep in mind in terms of paper type/quality and pixels that I select, so that I get a nice professional poster?',\n",
       " 'I have sent a message to a person who is not my friend on Facebook. He has not seen that message still. Now I want to block his account. If I do so, will he be able to see that message I had sent still?',\n",
       " \"In Instagram, if someone's search history is clear and they don't follow you, but your name is the first one that comes up when you type the first letter of your name in the search box, does that mean they've been looking at your account?\",\n",
       " \"Is it possible for a barcode scanner app to scan a sports ticket and recognize what game the ticket is for? Or is the barcode proprietary to the company who created it and an app wouldn't be able to recognize what the game is? Thanks!\",\n",
       " 'How good are colleges like SIIB, TAPMI, Narsee Monjee Bangalore, KJ Somaiya and Goa institute of Management? Is it worth it to pursue MBA from these colleges after having 2 years of job experience? CAT/XAT/CMAT cutoff for these colleges? Avg salary package of these colleges?',\n",
       " 'Recently, I heard that Xiaomi will be releasing the Mi Note soon in India, while the Mi Note Pro and Mi 5 will be coming later with MiUI 7 out of the box with Android Lollipop. Will Xiaomi release a black variant of these phones?',\n",
       " 'I have scored 68% in 12th and I have 3 certificates of basketball (regional level from Kendriya Vidhyalaya) and I also have some extra curricular certificates of different exams and cultural activities. Is it enough to get an admission in any college of Delhi University?',\n",
       " 'Manchester United within the first quarter of the game, always, take a healthy lead of two or probably three but fail to defend it. How will it affect Manchester United in the title race? Will they be able play in the Champions League next season?',\n",
       " 'People that yell and blow things out of proportion are they using this as a tactic to avoid disagreements (honest and clear communication) or are they just overly emotional and unaware? Do you think they are using this screaming tactic as a long term strategy?',\n",
       " 'I have read that the 24 spokes in the Indian national flag represent the 24 states at that time after independence. With the inclusion of five more states in India, should there be a change in the flag as well, to accommodate the initial logic?',\n",
       " \"My wife looks at other men when I'm around, and it strikes me as disrespectful. Can't bring it up with her because she gets defensive/annoyed. How can I feel more content knowing that my wife is more physically attracted to other men than to me?\",\n",
       " 'I have a Seagate 1TB Backup Plus HDD which stopped working. The problem I detected was that when the drive was powered it made a certain beeping noise and after 9-10 beeps it stops. What is some help in detecting the internal problem and solution?',\n",
       " 'Why did God create so many galaxies, so many stars, and all those unnecessary things when the only habitable planet in the universe is going to be Earth? Why not just have our galaxy and play with it rather than creating millions of other galaxies?',\n",
       " \"Sometimes I look at my hand(s) and they don't feel like my hands. I can move them and they aren't numb, but it's almost like the exact opposite of 'phantom limb' syndrome. Am I insane and going crazy or is this an actual medical thing?\",\n",
       " 'I have an education loan from an Indian government bank which I will be able to close next month. What is the closure process and the documents which I may have to provide, as well as the documents which I should take from the bank?',\n",
       " \"WW1 was mostly trench warfare. What were battlefields like in WW2? I know trench warfare didn't happen due to more advanced technology, but what were the areas of battle like? Where they on fields, towns or hills? What were the frontlines between the two sides?\",\n",
       " 'Are *male* reporters allowed in women\\'s locker rooms at WNBA games or the US Open, or are \"social justice warriors\" (like the ones upset because a female reporter was recently refused entry into an NFL locker room) just hypocrites and not to be taken seriously?',\n",
       " 'How do you display PDF files inside an Android application instead of loading in WebView by appending PDF URL with a Google DOCs Url and launching a third party PDF rendering application installed in the device? Are there any good free PDF rendering libraries available?',\n",
       " 'I have a Seagate 1TB Backup Plus HDD which stopped working. The problem I detected was that when the drive was powered it made a certain beeping noise and after 9-10 beeps it stops. What is some help in detecting the internal problem and solution?',\n",
       " 'I just bought Audio Technica M40X headphones, but I am not satisfied by their output. Do they just need some burn-in, or do I have to listen to high quality audio files, or do I need a headphone amplifier to overcome the low volume?',\n",
       " 'SPOILERS: In Captain America 2, agent Jasper Sitwell mentions several targets when being interrogated by Cap, who are they (TV anchor in Cairo, the other Secretary of Defense, and a high school Valedictorian in Iowa City)? Are they random Inhumans or more specific characters?',\n",
       " \"What type of DNA test should I do? My father passed away, and I want to do a DNA test on both parents to check my ancestral line. I'm in the Philippines. Is there a good DNA lab online which sends me the package?\",\n",
       " 'If no one had ever died, and considering the same number of people who have been born, were the only ones born, what would be the human population today? (please do not include the possibility of more births due to increased probability of reproduction)',\n",
       " \"I like girl A. We are very good friends. A's best friend B likes me. Also, A likes a guy C who is my best bro and C likes another girl D who is in a relationship with another guy. What should we do?\",\n",
       " 'What term describes the use of state power by a corporate actor to subjugate a foreign government or citizens, i.e.  United Fruit collaborating with the CIA to stage a coup in Guatemala? Would the name be different if the target were a U.S. citizen?',\n",
       " 'I am an aerospace student who specializes in drones, and have internship offerings from startups like DJI, 3D Robotics, Amazon Prime Air, Kespry, and Matternet, as well as larger corporations such as Lockheed Martin and GE. What are the pros and cons of these?',\n",
       " 'If I held a rod that is 1 foot long in length and spun around in a circle at the speed of light, would the far end of the rod be travelling faster since it is covering a larger distance in the same time?',\n",
       " 'Gen. Wesley Clark tells and writes about a classified memo stating the US planned to take out 7 countries in 5 years: Iraq, Syria, Lebanon, Libya, Somalia, Sudan & Iran. Has this claim been investigated? Is there any evidence or testimony supporting the claim?',\n",
       " 'A person is locked in a square box and that box is dropped from the top of a ten-story building. He is under free fall now. Does he fall because of gravity or because of the curvature of the space-time fabric created by Earth?',\n",
       " 'Fee is paid by net banking and transaction ID and payment confirmation ID has been provided, but in the end gateway error occurs on the screen and still no confirmation is shown what to do and to whom should report.Amount stands deducted from account?',\n",
       " 'I have lost my 10th standard certificate and I also do not have a date of birth certificate. In this case how do I apply for a passport in India? Is it easier to get a birth certificate issued or a duplicate 10th certificate?',\n",
       " 'I am in VMC. In my last 3-4 phase test I have been constantantly scoring around 280 marks. Generally if I attempt too many questions I get many wrong. Can someone help me for increasing both my speed and accuracy at the same time?',\n",
       " 'Which US cities are projected to be doing best in rank order and by what metrics such as financially over the coming decades? What impact might this have on quality & cost of living for people in cities projected to do well vs not?',\n",
       " 'From my experience with green tea I almost throw up tasting it. I want to speed up my metabolism and heard a good way to do it is by drinking green tea. How do I drink green tea without getting that throw up feeling?',\n",
       " 'My eBay account got restricted (not suspended) to sell, is it true I can open other account and start selling and both using the same Paypal to receive payments? Do I have to hide my IP? Any tips? It sounds a little bit strange...',\n",
       " 'I am analyzing the UV-Vis absorption spectrum of P3HT in a chloroform solution and I keep getting a peak around 250 nm which is not normal for P3HT which usually shows only one peak at around 450 nm. Where does this peak come from?',\n",
       " \"Despite Pakistan being so hostile, why do we allow people from Pakistan to work as singers/actors in India? Isn't that a drain of India's wealth and a compromise on talented people in India against such a hostile nation that treats India as an enemy?\",\n",
       " \"I'm taking a foundation analytics course with Jigsaw, but I am doing poorly at it. I seem to forget what I have learnt earlier and I am terribly slow at it. How can I change this to not forget old lessons and proceed faster?\",\n",
       " 'If you are living in a house where drugs are being sold and are there while the house is raided by the police, will you likely be arrested if you have no involvement? And if yes, on what charges and is a conviction likely?',\n",
       " \"If you no longer love your girlfriend or boyfriend, but he or she still loves you, and you don't want the person out of your life, is there any option besides just breaking up and leaving that's not horribly painful for both of you?\",\n",
       " 'Recently DoPT has decided to set up an expert committee for changes in the CSAT eligibility pattern. What are the chances of reducing the age and number of attempts, as previous committee reports suggested the age reduction and number of attempts were a factor?',\n",
       " \"Is anyone here over thirty-five but still living with their parents/siblings/someone else and doesn't have a job and doesn't have a wife/husband/boyfriend/girlfriend? What is it like to live like that? Does anyone know someone like that? If so, how does he/she live their life?\",\n",
       " \"I got a scam from a girl in Senegal. I didn't really help her, just lied about it, and now it's a year later and she wants to give me money for my efforts. Scam? The text of the e-mail is in the comments.\",\n",
       " 'What is it like to be in your 30s or 40s as an American spending about half of the year in a colder climate such as NYC or Midwest & half of the year in a warmer climate such as Florida while raising children?',\n",
       " 'What\\'s the difference between a \"builder\" and a creator philosophy? I only ask because I notice people that call themselves \"builders\" or people that say \"I build things\" -- there may be no difference or a subtle one, but I\\'m just wondering your thoughts...',\n",
       " 'If you are living in a house where drugs are being sold and are there while the house is raided by the police, will you likely be arrested if you have no involvement? And if yes, on what charges and is a conviction likely?',\n",
       " 'Was the Soviet Union participating in The Race to the Moon, meaning, were they racing the U.S. to put a man on the Moon first, or did the U.S. just make that up so that it could win a race nobody else was running?',\n",
       " 'My girlfriend and I got married after 1.5 years of love, but just after marriage I came to know she hid her previous relationship of 4 years where she had sex with him also. I feel cheated on and betrayed. What should I do?',\n",
       " 'There are nine children in a house. Child A is ironing, B is watching TV, C is cooking, D is playing chess, E is bathing, F is listening to the radio, G is sleeping, and I is dressing. What is H doing right now?',\n",
       " 'How does post office make money from international parcels? So when I send a letter or package from Finland to US, Finnish postal service will receive my payment but the letter/package will be delivered by USPS. Does USPS make any money from my payment?',\n",
       " 'I have set my eyes to buy a Hyundai Elite i20 petrol variant sports model. On road price is 7.8 lakhs. When compared to pricing I am confused, Suzuki swift VDI is 7.5 Lakhs. Should I go for diesel Swift or Petrol Elite i20?',\n",
       " \"My husband bangs on things and breaks them during our fights. He has never hit me, though. He doesn't sort things through discussion. He also hurls abuses at me. Am I just waiting to be hit by him? Would that be his next step?\",\n",
       " 'Is it true that, once you are in a big company like Google, Facebook or Microsoft, the next time when you want to switch jobs (such as to another company), you just have to go through a light weight showy kind of interview process?',\n",
       " 'I am starting the LL.M. in the U.S. for this coming fall. I have read that you need to study 60 hours a week in law school. Is this true? Is the LL.M. program as rigorous? If yes, how do I go about studying?',\n",
       " 'I am 27 and have a budget of around 50 lacs and I need to set up a manufacturing unit. What are the things I should look into and what are other alternate ideas which can give me a decent return in my budget?',\n",
       " \"I have booked a ticket through Qatar Airways from Abu Dhabi to Tampa. But I have only mentioned the given name from my Indian passport as the passenger name. Will it be a problem if I don't include my surname in the passenger name?\",\n",
       " 'I want to be an actor in TV serials. How can I get a chance to act in TV serials like Pavitra Rishta, Colors TV serials, Taarak Mehta Ka Ooltah Chashmah, etc.? What should I do to select one? How can I proceed?',\n",
       " \"I always look like I'm either stressed, nervous or anxious. I tried doing things calmer, but then I'm asked if I'm mad. I'm an attractive girl and I always seem to give the wrong impression. How can I look more calm and relaxed?\",\n",
       " 'If I hacked into the NSA and Pentagon and dumped all their files, (1) how big would the manhunt for me be; (2) would it finally open the eyes of the public, and; (3) how would I be seen by the hacker circle?',\n",
       " 'I worked for 6 years at ABC Pvt Ltd. After my resignation, I claimed my gratuity, but they said I did not complete my 1.5 months notice period and was therefore not eligible. Are there any rules between the notice period and gratuity?',\n",
       " \"I have had dreams about someone every night for the past week or so. I don't see this person or constantly think about this person. Why does this person keep appearing in my dreams? Does it mean maybe I am on their mind?\",\n",
       " 'The circle above is tangent to the x-axis and the y-axis at r and s respectively. The circle has a radius of 1, and is tangent to AB at point t. AB has a slope of -1. What are the coordinates of t?',\n",
       " \"I'm from Singapore (non-US citizen and not have been physically in the US) who owns USA equities.  If I sell my shares, what are the capital gains taxes I have to pay? What are the taxes on dividends that I have to pay?\",\n",
       " 'I am a junior CS major looking for internships. I hope to be a software engineer after graduation, and I was offered a QA internship. Would QA be good moving forward for software engineering? Or should I keep looking for software engineering internships?',\n",
       " 'People think I am weird and avoid me because I am quiet and avoid small talk.  I have tried my whole life to change this, but it seems that I am just a born introvert.  How can I change, and should I change?',\n",
       " \"I smoked weed 3 times this week. I have a surprise drug test in the coming 2 weeks. I'm 173cm tall and weigh 52 kilograms. How long will it take for my body to not show a sign of smoking in the test?\",\n",
       " \"My best friend is better than me in everything. He's funny, witty, very intelligent, good at sports, music, writing, you name it. His being happy causes me happiness, but at the same time, there's a twinge of jealousy. How can I overcome this?\",\n",
       " \"I'm going to run in a police recruitment endurance test, in which I have to run 1600m in 7 minutes. I have been practicing for a month, but I'm only able to run 1200m. How can I motivate myself to pass the test?\",\n",
       " \"Ive always been interested in starting my own blog and becoming a writer. I've been documenting everything that has happened to me in my life since I was about 16 in the future I would like to be able to publish my writing?\",\n",
       " 'Is it true that the traditional engagement ring used to be an opal (not a diamond!) but fell out of favor as a result of a marketing campaign implying that it is \"bad luck\" to wear an opal if it not your birthstone?',\n",
       " 'Do most students who do a study abroad in the U.S.A end up staying? When I go there for my masters how easy is it to finish my education at a top school, get a job and end up staying like everyone else?',\n",
       " 'Find the least value of 3x + 4y if x^2y^3 = 6. I know how to do it by eliminating x and differentiating. But I think there must be a solution using AM (Arithmetic mean) and GM (Geometric mean). What do you think?',\n",
       " 'If I have 60 points exactly in SkillSelect for Australian Permanent residency, what is the likelihood of getting an invite for EOI? What might be the waiting time involved?Should I retake IELTS to get 8-band score, instead of 7-band what I have currently?',\n",
       " 'With the rapid expansion of social media and organizations such as Facebook & Twitter building new server farms to meet the demand of its users, does anyone know the \"carbon footprint\" (now / projected) of social media, for both providers and users, globally?',\n",
       " 'Instagram keeps crashing every time I try to upload a video. I have been keeping them under 15 sec when trying to post a pre-saved video file. I even tried to directly record from Instagram and nothing seems to work. What is wrong?',\n",
       " \"I am a 25 year old girl and I don't have a boyfriend. I am not beautiful and most of my friends have boyfriends. When I see that they are in love I feel lonely. What should I do to have a boyfriend?\",\n",
       " \"I smoked weed 3 times this week. I have a surprise drug test in the coming 2 weeks. I'm 173cm tall and weigh 52 kilograms. How long will it take for my body to not show a sign of smoking in the test?\",\n",
       " 'I go to the gym every morning. After a regular (not too heavy) workout and a decent breakfast (mostly puffed rice), I go to office. But I feel sleepy after lunch. Is this due to the meal or due to the workout? Why?',\n",
       " 'I have a valid student visa for the UK and I want to travel back to the UK to meet my friend there. Can I travel to the UK with my valid student visa (considering the fact that my university degree is over)?',\n",
       " \"I'm a US green card holder and plan to marry my girlfriend who is in India. After we marry how long would it take for her to get the green card as well, and can she start working before getting the green card?\",\n",
       " 'I want to be an actor in TV serials. How can I get a chance to act in TV serials like Pavitra Rishta, Colors TV serials, Taarak Mehta Ka Ooltah Chashmah, etc.? What should I do to select one? How can I proceed?',\n",
       " 'I have a valid student visa for the UK and I want to travel back to the UK to meet my friend there. Can I travel to the UK with my valid student visa (considering the fact that my university degree is over)?',\n",
       " \"I bought my bike in 2012 and I had a one year insurance plan which expired in 2013. I haven't renewed the insurance after that. Do I have to face any legal action or penalty if I wish to renew the insurance now?\",\n",
       " 'In online dating if a woman keeps writing back to you long messages but they are all about herself with no questions or inquisitiveness about myself, does that mean she is completely into herself, up her own arse and not worth the time?',\n",
       " \"I'm a 3rd year guy in NITK and in circuit dept, my CGPA at the end of 4th sem is 5.4.. How can I increase my pointers? . Can I sit for Placements with the present pointer? . What can I do further?\",\n",
       " \"I've lost my mobile phone with Airtel postpaid SIM card. I haven't deactivated the SIM card, and the person who stole my phone is still using my SIM card. Is there any way to trace the SIM card and get my phone back?\",\n",
       " 'When I swing my hand very fast (while playing table tennis or while practicing boxing), I have a very sharp pain in the back of my head. The pain is like a nerve from the brain is being pulled. What can I do?',\n",
       " \"Why when I pass below some street light post, or even any eletrical light bulb, in different locations and different ocasions the light turn off at the same time I'm below the spot? Why this can be coincidence? Or it's in my mind?\",\n",
       " 'Can an INTP successfully date another INTP? I know the ideal match for the INTP is the ENFJ or ENTP but I rather like my personality and want someone who understands my sarcasm and can also have intellectual conversations discussing concepts and ideas',\n",
       " 'Applying for a residency program in California requires a Postgraduate Training Authorization Letter - PTAL which requires the candidate provide a SSN. Does this mean that no one else but only a US/permanent citizen (SSN requirement) can get into med school in California?',\n",
       " 'Considering location and cost of living, where should an incoming NYU Steinhardt grad student choose to live: Washington Square Village, Alumni Hall, or off campus? What areas of manhattan are best suited for extroverted young professionals and graduate students living on a budget?',\n",
       " \"I am currently pursuing my first year in master's of dental surgery (MDS). I took it up by choice. But right now I am not interested in it and would like to prepare for IAS. What would be the wisest thing to do?\",\n",
       " \"A good friend of yours has been taking out his father's two wheeler without permission. He is only 16 and just offered to take you for a joyride, also with your partner. How can you take your friend out of this unfair habit?\",\n",
       " 'Test your IQ If 5 + 3 = 28 9 + 1 = 810 8 + 6 = 214 5 + 4 = 19 Then 7 + 2 =? I know the answer. Can somebody find a real complicated way to answer it?',\n",
       " 'How can one merge 2 cells in Excel, A1 and A2, and then B1 and B2, C1 and C2, A3 and A4, B3 and B4, etc. without individually merging each set of cells or Copying and Pasting? *No content in the cells yet.',\n",
       " \"I have had dreams about someone every night for the past week or so. I don't see this person or constantly think about this person. Why does this person keep appearing in my dreams? Does it mean maybe I am on their mind?\",\n",
       " \"Is Shri Atal Bihari Vajpayee one of the best prime ministers of India? What has been his contribution to India? Does he really deserve the Bharat Ratna that was awarded to him, which, other prime ministers could or should have gotten, but didn't?\",\n",
       " 'I want to be an actor in TV serials. How can I get a chance to act in TV serials like Pavitra Rishta, Colors TV serials, Taarak Mehta Ka Ooltah Chashmah, etc.? What should I do to select one? How can I proceed?',\n",
       " 'If I am on a train (hypothetically) moving at the speed of light (c) and I start running at a speed of 5 km/hr in the same direction as the train, am I now moving at a speed of c + 5 km/hr?',\n",
       " \"How come there are no conflict of interest laws regarding a vice president's (Cheney) ability to alter the clean water act in a way that enables his company (Halliburton) to profit from the relaxed regulation, and what would it take to pass one?\",\n",
       " 'Dubai: If you separate your trash, i.e. plastics, cans, paper, before placing it in the garbage room, will the waste management guys (of Emaar-run developments) take it to be recycled, or is that wishful thinking and they throw it all down the chute?',\n",
       " 'The volute casing in a centrifugal pump serves the purpose of increasing pressure. But, pressure should decrease with an increasing cross section area as pressure is inversely related to c/s area. So how does a pump achieve high pressure despite the above contradiction?',\n",
       " 'My 9 year old son can jog about as well as I can. Meaning, he can run 2 to 3 miles at a time at a 9 min mile pace. Does he have talent in running or is this normal for his age?',\n",
       " 'I have a Western digital external hard disk, which I locked with the provided WDUnlocker, but since it is not getting detected in my TV I wanted to remove the password and found no way to do that. What is a way out?',\n",
       " 'I am working in an Android issue and I got this error \"This version of the rendering library is more recent than your version of ADT plug-in, please update ADT plug-in\"? What are some suggestions that would help me out with this issue?',\n",
       " \"I don't think my boyfriend cares about my feelings, and if I try to talk to him about that, he turns it around somehow so he looks like the victim. Why does he do that? How can I stop letting this affect me?\",\n",
       " \"I have had dreams about someone every night for the past week or so. I don't see this person or constantly think about this person. Why does this person keep appearing in my dreams? Does it mean maybe I am on their mind?\",\n",
       " 'My mother wants to start a small business and has no idea what to do. Her initial capital is 2-3lks. She has been a primary school teacher most of her career and has little to no experience in business. What are some suggestions?',\n",
       " 'About a year ago my mom found out my dad sleeps with other men , my mom felt completely destroyed, a week later my mom forgave him, but recently I found out my dad keeps sleeping with these men. What should I do?',\n",
       " 'A student walks to school at the rate of 2.5 km/h and reaches 6 minutes late. The next day, he increases his speed by 2 km/h and then reaches school 10 minutes early. What is the distance of the school from his home?',\n",
       " 'What do you think Henry Ford was referring to when he said, \"It is well enough that people of the nation do not understand our banking and monetary system, for if they did, I believe there would be a revolution before tomorrow morning\"?',\n",
       " 'About a year ago my mom found out my dad sleeps with other men , my mom felt completely destroyed, a week later my mom forgave him, but recently I found out my dad keeps sleeping with these men. What should I do?',\n",
       " 'Autism: How relevant is the quote \"inconsistent performance despite great effort. People with ADD do great one hour and lousy the next, or great one day and lousy the next, regardless of effort and time in preparation\" to those with autism spectrum disorders?',\n",
       " 'Do people who have 4 to 6 beers a night eventually turn into \"alcoholics\" with the typical drawbacks associated thereof, or is there a sizable portion of individuals who can have a functional lifestyle/family while still having 4 to 6 beers a night?',\n",
       " 'Actually, I am facing a problem with webmaster tools, I did URL optimization for a few of my websites, and uploaded a sitemap in webmaster tools nearly 25 days back. On this website only 1 page has indexed remaining pages are not indexed.?',\n",
       " 'This guy I am dating always wants to kiss me, but I am too shy. I want it to be like my best kiss and then I lose all of my courage. What are some tactics for this? How should I kiss him?',\n",
       " 'My rank in ENAT was 5841 all seats of IT CCE and EEE were full. I filled the waiting list and the counselor said I will surely get IT as cutoff for last year was around 8K. Should hope that I get in?',\n",
       " 'I have downloaded close to 200 songs on the Wynk app on my iPhone. If I restore my phone and re-download the Wynk app, will information about my downloaded tracks be preserved with Airtel so that I can re-download the same tracks again?',\n",
       " 'If two businesses in different countries have the same name and are in the same type of business, and each launch their website with the same name but use different gTLDs, can one business file a dispute and take away the other domain?',\n",
       " 'If I have 60 points exactly in SkillSelect for Australian Permanent residency, what is the likelihood of getting an invite for EOI? What might be the waiting time involved?Should I retake IELTS to get 8-band score, instead of 7-band what I have currently?',\n",
       " \"I am currently pursuing my first year in master's of dental surgery (MDS). I took it up by choice. But right now I am not interested in it and would like to prepare for IAS. What would be the wisest thing to do?\",\n",
       " \"I want to be a professional soccer player. I am 18 and a half now and I will become 19 in November. I feel that I am over aged and can't become a professional soccer player. Can I still become a soccer player?\",\n",
       " 'Is a salary of 58K/euro + 10K bonus, commuting costs paid, and 30% tax ruling (The Netherlands sponsors Knowledge Migrants by giving 30% of salary tax free to those eligible) enough for a couple with a 9 month old baby in Amsterdam, Netherlands?',\n",
       " 'If a bike user manual says that the fuel tank capacity is 13.5 litres and reserve is 2 litres, does this mean that the fuel capacity minus reserve will be 11.5 litres or that the total fuel capacity is equal to 15.5 litres?',\n",
       " 'I joined Mindtree 1 month back and want to abscond it due to bad management and the work. Also I have a better offer in a different company. What will be the consequences if I abscond or resign without serving the notice period?',\n",
       " \"If I managed to survive a trip to Neptune's liquid mantle, and there was enough light to see, would it look like a vast ocean under an extremely dense cloud cover? Would there be an actual surface that a craft could float on?\",\n",
       " \"I have hurt the person I love the most . And she is really upset because of me ... how can I apologize to her? And make her trust me back . She's my best friend and I don't want to lose her?\",\n",
       " \"I masturbate in such position that when semen's about to come out, I press my dick hard inside the bed that the semen doesn't come out. I have been masturbating in this condition from 3 years. Will it affect me in some way?\",\n",
       " \"My only friend is busy with work. He has time at night which he devotes to his girlfriend. I have not talked to him in more than a month. I am not understanding what I should do. What's your take on this?\",\n",
       " \"I'm a Design Student from IIT K. Currently I'm working on a project of designing Door lock and key for visually impaired people. So I need to know what are the difficulties visually impaired users face in locking and unlocking a door.?\",\n",
       " \"While learning a new machine like SEM, ICP or HPLC, it's very involving to learn every single feature of the corresponding software. Should I devote weeks to just learn the software or learn only as much as I need for my research?\",\n",
       " \"My girlfriend wants an MFM threesome and I don't, but she can't take a no for an answer. I love her and she loves me and we won't break up. We'll get married in a year or so. What should I do?\",\n",
       " \"I cannot delete files on an SD card of my Android phone. Also I am unable to cut-paste files. A pop up message 'no permission to delete' occurs and I can not download anything like WhatsApp images, videos. What can I do?\",\n",
       " '6 boys and 15 girls can do a piece of work in 4 days while 12 boys and 3 girls can do the same work in 5 days. In how many days will 1 boy and 1 girl do the same work?',\n",
       " \"Is it true that some men rape their own wife? Why does a man need to force his own wife for sex? Why wouldn't a wife want to have sex with her own husband? Why does marital rape happen only to women?\",\n",
       " 'A review was posted by me on a Google Plus business page three days back. Now it is not seen either in my Google Plus profile nor in the Google Plus business page where I had reviewed. What could be the reason?',\n",
       " 'Can we purely use EM force to explain covalent bond? (I think it could be pretty hard, since electron cannot be treated as a point at certain location.) In other words, and generally, is a field theory explaination on bonding theory possible?',\n",
       " 'I have leased a car for 36 months with an initial down payment of USD $5720.00 (the car value is USD $19.5k). The monthly payment is USD $450. How much should I charge per day to rent the car to make money?',\n",
       " 'Anyone who recently graduated from SRM University Ramapuram who can share his/her experience of placement with graduation in IT/CS or SE ? And what all problems you encounter with placement in Ramapuram campus? For which you have to go main campus right?',\n",
       " \"What job should i choose? I'm still in high school but i want to start focusing on career choices. What is a job with at least a 60k annual salary, at least 1 month for vacation, and less that 7 years studying?\",\n",
       " 'I want to validate HTML fields using JavaScript and display error messages beside the respective fields. Also it should display a consolidated error message on the top of the form, something like \"Please enter the required fields\". How can I do this?',\n",
       " \"Is it true that some men rape their own wife? Why does a man need to force his own wife for sex? Why wouldn't a wife want to have sex with her own husband? Why does marital rape happen only to women?\",\n",
       " \"In a water flowing pipeline, if the diameter of a pipe is reduced, the pressure in the line will increase. Bernoulli's theorem says that there should be a reduction in pressure when the area is reduced. What is the justification for this?\",\n",
       " 'CO2 is stored in a 3.0 L water capacity cylinder at a 126 kg/cm2g working pressure at ambient temperature say 25 °C. What will be the pressure of the compressed CO2 gas if the temperature of the cylinder rises to 80 °C?',\n",
       " \"In a water flowing pipeline, if the diameter of a pipe is reduced, the pressure in the line will increase. Bernoulli's theorem says that there should be a reduction in pressure when the area is reduced. What is the justification for this?\",\n",
       " \"One of the fundamental rights says that every citizen must be provided equal opportunity in government jobs or services, and on the other hand they have reservations for particular castes and clans. Isn't it a matter of contradiction with the fundamental rights?\",\n",
       " 'I am admin of a Facebook page and my fans tag my page in some of their photos.How can I collect a) users/fans who uploaded each of these photos b) no. of likes and shares for each of these photos? Any API/APP?',\n",
       " 'Tim Ferris claims to have more than doubled his dead lift with Barry Ross\\' \"lift only 4 inches off the ground\" technique. Do you believe that\\'s true and if so, could that be used in other lifts such as bench, squat, etc?',\n",
       " 'I passed class 12 with great marks. I am unable to decide whether I should opt for a regular college or for a CA course. I want to opt for an MBA after completing either of the courses. What are any suggestions?',\n",
       " 'I have a marijuana drug test today. Last time I smoked was a week ago where I did 3 hits. That is the only time I smoked in a long while. What are the chances I will test positive after 7 days?',\n",
       " 'I have an app idea and an UI being designed. I want to learn Java to program it for Android. How long would it take to learn to program something as Uber? How should I begin? I have no experience in programming.',\n",
       " \"I'm broke and lonely. Tomorrow everybody is going to celebrate New Year's. Everybody is going somewhere with friends, families and girlfriends. I do not have the money to even eat something good and no one to celebrate with. What should I do?\",\n",
       " \"To drive for Lyft or Uber, do you have to have car insurance in your name? Is it possible to be under your family's car insurance plan, meaning that the insurance card says your parents' names, and still be able to drive?\",\n",
       " 'I have a crush on a girl. We both are good friends and she is an extremely big fan of the TV show \"Friends\". What can I do related to \"Friends\" on her birthday to make her feel special and woo her?',\n",
       " \"I'm in my mid 40s and want to pivot my career as a data scientist. A friend of mine warns me that I will have problems finding a job because of ageism. Are people in their 40s written off as too old?\",\n",
       " 'ISRO is recruiting mechanical, electronics and computer science engineering students for 2014, but a notification says the post is temporary but likely to continue. What does this mean? After certain period of time does it become permanent or is it just temporary?',\n",
       " 'I have a marijuana drug test today. Last time I smoked was a week ago where I did 3 hits. That is the only time I smoked in a long while. What are the chances I will test positive after 7 days?',\n",
       " 'Is applying to Y Combinator and attending worth the time if you have raised $1 million, have a great product with traction, and investors wanting to come in the next round? What are the main benefits for a company at our stage?',\n",
       " 'Assuming my idea has potential to be a success and there is a team which is capable of working on the idea, how do I get funding from angel investors when I just have an idea & no proof of the concept?',\n",
       " 'How does every single cell of our body get access to blood nutrients? Is every cell in direct contact with a capillary or is there a way nutrients can travel from blood to the cell without physical capillary-cell contact (as in neurons)?',\n",
       " \"My boyfriend's Facebook page has been hacked and he no longer has access to his email address as it was set up by his ex girlfriend and Hotmail will not reset it as we don't have enough info. What are some suggestions?\",\n",
       " 'Two vertical poles 2 meters and 8 meters high stand apart on a horizontal plane. What is the height in meters of the point of intersection of the lines joining the top of each pole to the bottom of the other pole?',\n",
       " 'What is the difference between the oxidation number of an atom in a compound and the formal charge on an atom in a compound? Why are they defined differently and how do they each compare with the actual charge on the atom?',\n",
       " \"I am running one SQL select script in Oracle (Toad) by joining four tables, which ran good until yesterday. Today, the select statement is running for a long time and I can't see the result, it's just running. What is the issue?\",\n",
       " 'Why don’t people just steal open source code, do a quick restructuring and sell it commercially as their own? Is there a way to prove if you think someone is using your OS code in a closed source code format for profit?',\n",
       " \"How do I safeguard PlayStation 3 from voltage fluctuation in India? Are surge protectors effective to tackle the problem or should the surge protector be connected to a voltage stabilizer for additional protection? Would a power outage affect PS3 when it's on?\",\n",
       " \"I am the eldest daughter in the family but I am not as close to my sisters and cousins as they are to each other. Why is that so? They always go on outings and are very involved with each other's lives.\",\n",
       " 'I think I love my neighbour. She is my age and sometimes when we have an encounter she gives me a smile but I am skeptical and confused. We just say hi to each other and pass by. What should I do?',\n",
       " 'Tomorrow is my 12th class physics exam and I have not prepared for it and there are only 3 hours left. I could not study because of depression today and yesterday. I am thinking of suicide. What happens to me after tomorrow?',\n",
       " 'Why is Stan Lee generally seen as the face and mind of Marvel Comics when the likes of Jack Kirby, Steve Ditko and even Chris Claremont barely get any credit despite they all contributed just as much, if not more, as him?',\n",
       " \"How do I safeguard PlayStation 3 from voltage fluctuation in India? Are surge protectors effective to tackle the problem or should the surge protector be connected to a voltage stabilizer for additional protection? Would a power outage affect PS3 when it's on?\",\n",
       " \"What's the reason that Russia is and has always been so poor, despite having the biggest amounts of natural resources in the world, being twice the size of the USA and having 2.5 times less population? What makes this country so miserable?\",\n",
       " 'I currently got my band in TCS (C). However, the increase in package was only 5% considering the fact that I was given 3 in FA (Final Anniversary). Whatever happened to that big one time bonus and the \"average 8% hike\" talks?',\n",
       " 'My notice period is two months in my current company, but I have some good offers for another company. They need me to join in one month, but my current company is not relieving me. What should I do in that case?',\n",
       " \"What's the voice range of a male singer who's 24, and sings between E2 and F4 with chest voice comfortably and can sing C5 with falsetto? Also what are some ways to enhance vocals so as to sing C5 with chest voice?\",\n",
       " 'I have a marijuana drug test today. Last time I smoked was a week ago where I did 3 hits. That is the only time I smoked in a long while. What are the chances I will test positive after 7 days?',\n",
       " 'I have a marijuana drug test today. Last time I smoked was a week ago where I did 3 hits. That is the only time I smoked in a long while. What are the chances I will test positive after 7 days?',\n",
       " 'Every time I attempt to open the system settings on my ACROSS Android tablet, I get an \"Unfortunately, Settings has stopped\" response. When I try to open Manage Apps, the screen returns to the homepage. How do I deal with this problem?',\n",
       " 'I am married to an overly-possessive husband who actually does not allow me to be in touch with anyone. I am not allowed to go on the balcony or open the door. What can I do to get out of this situation?',\n",
       " \"I have failed the JEE Mains even after taking a drop. My dad has done a lot of investment in this and my relatives seek moments like this to piss me off. I'm very depressed right now. How do I overcome this?\",\n",
       " \"The guy that I like was being really flirty with me, but then in the same conversation, he told me what he'd bought his girlfriend for christmas. If he was interested in me and flirting, why would he bring up his girlfriend?\",\n",
       " \"How do I show I want to hook up with my moms friend? He's 35 and I'm 16. He's given me a foot massage before and we always stay up late together talking and watching movies since I stay overnight a lot.\",\n",
       " 'My boyfriend and l have been having problems. He tells me he wants a break and during the break, he wants us to talk. He tells me he misses me soon after telling me he wants a break. What does this mean?',\n",
       " 'If my recruiter at Google said it was a \"really close call\" when I didn\\'t get an offer after an onsite interview, do you think she was just trying to be nice, or do they actually disclose that amount of vague information?',\n",
       " 'Will my scores of 321 for the GRE, 165 in the quantitative section, 156 in the verbal one, 96 for the TOEFL and 3.0 for the AWA affect my chances of admission into the top schools for an MS in the US?',\n",
       " 'How realistic is asking for a 175k base salary, 20% bonus, and 100K in stock per year at a very successful software corporation in the Bay Area (Google), for a computer science PhD (from a top 5 school) for a research-oriented role?',\n",
       " \"I'm doing my master's in information systems at the University of Washington. I have 3.5 years of experience in the Indian IT industry. I want to become a program manager at Microsoft/Google, etc. What is some advice on how I should prepare?\",\n",
       " 'If a mosquito appears to fly at its normal speed inside a moving vehicle with closed windows, is it really flying at its normal speed or is it flying at a speed relative to the speed of the vehicle to appear normal?',\n",
       " 'I have a crush on my best friend. I was trying to propose to her, but instead she gave me a surprise by proposing to me, and said that she was afraid of her family, and caste. What should I do now?',\n",
       " 'What should I do if my work asks me to work on a day I am scheduled to be off work and I am away? Should I answer and take the risk or ignore the calls and enjoy my planned day off?',\n",
       " 'Given that vector A +vector B+vector C=0 out of three vectors two are equal in magnitude and the magnitude of their vector is root 2 times that of either of the two having equal magnitude. What are the angles between the vectors?',\n",
       " 'I just spent the first night with my bf and I was surprised to find him staring at me several times while I was sleeping or even when I was moving in the room. What does this mean? Does he love me?',\n",
       " \"Human Brain: I've been hearing a lot of jokes about women being less brainy than men, is there any difference in the structural organization and functional operations in male and female brains? Why are women believed to be less courageous than men?\",\n",
       " \"I am a 19 year old who sacrificed his love for cricket in order to crack JEE. Well, that didn't happen. Now I am into a Bangalore-based engineering college. Should I go ahead and start now? Is it too late to start?\",\n",
       " \"I am the only child (24 years old) to my parents. Sometimes I feel like it would have been great if I had a sibling and now it's too late for that. Lots of pressure for a single child. What to do?\",\n",
       " 'What is the difference between the oxidation number of an atom in a compound and the formal charge on an atom in a compound? Why are they defined differently and how do they each compare with the actual charge on the atom?',\n",
       " 'Is it true that the Sufi Saint Khwaja Moinuddin Chishti of Ajmer was once a spy of Muhammad Ghori and played a prominent role in defeat of Prithvi Raj Chauhan and was later on killed by daughters of the defeated Rajputana king?',\n",
       " \"I quit TCS after working for 5 months. What can TCS do if I don't pay the 50000 bond amount and are there any people who have done so? Please let me know if there are any reported cases on this issue.\",\n",
       " 'My results for GRE diagnostic test were 169 for quant and 156 for verbal. How many months of preparation will I need to get more than 330 in the actual exam, considering that the verbal section is my weakest area in this?',\n",
       " \"What do doctors do if a patient feels like they are on drugs or have been drugged after a recent scenario, but the tests don't show anything after a urinalysis and blood test? Is it possible to get a more thorough test?\",\n",
       " 'Would not it be better if people start sorting out their own differences by talking rather than posting questions on Quora and then following some random advice given by some random person which is exactly equivalent to living life according to others?',\n",
       " \"If local detectives show up at your door and say your name came up in one of their investigations and they'd like you to come down to the station with them to talk about it, does that usually mean you're a suspect?\",\n",
       " 'I have been called to an interview for an MS in applied mechanics by IIT Madras. How is the MS course in IIT M and what about placements? Is it worth it to leave my current job in R&D for an MS?',\n",
       " 'I need to prepare a case study based on some currently ongoing business problem/strategy-change in any (taxation/finance/business process) US firm. I need to assess the problem, come up with solution and then make a presentation out of it. Can anyone suggest topics?',\n",
       " 'I have a marijuana drug test today. Last time I smoked was a week ago where I did 3 hits. That is the only time I smoked in a long while. What are the chances I will test positive after 7 days?',\n",
       " 'What is the best way to learn selenium automation tool . Can anybody help me with a detailed learning plan for learning Selenium ? Also plz share the best material to learn selenium testing  (preferably videos from beginner level to pro )',\n",
       " 'Are there instances in the Ramayana and the Mahabharatha where people of lower castes were respected and treated well by those of higher castes? Is there any tale of a backlash by the oppressed caste in any of the Itihasas or Puranas?',\n",
       " \"I have a Sky Watcher 90mm Maksutov S11320, which has a GoTo mount and autotracker. The hand controller works, but the auto tracker doesn't seem to work (e.g. I want to track Orion as it moves). What might I be doing wrong?\",\n",
       " 'A television camera is 30 feet from the sideline of a basketball court that is 94 feet long. The camera is located 7 feet from mid-court. Through what angle must it sweep in order to cover all the action on the court?',\n",
       " \"How do you use Asana sorting (based on Due Date or Priority) and why? If you sort by Due Date, sections (e.g. In progress, Ideas) don't make sense anymore, so I want to figure out how to work best with this tool.\",\n",
       " 'Me and my friends are going to Bangalore for 3 weeks for my official work. What are the best places in and around Bangalore to have real fun in my 3 weekends and party after 5 in the evening in weekdays?',\n",
       " 'During a hockey game, a puck is given an initial speed of 10 m/s. It slides 50 m on the horizontal ice before it stops due to friction. What is the coefficient of kinetic friction between the puck and the ice?',\n",
       " '2 equal glasses of the same type are respectively 1/3 and 1/4 full of milk. They are then filled up with water and the contents are mixed in a pot. What is the ratio of milk and water in the pot?',\n",
       " 'I am a game addict of Counter-Strike and I think I spend all my time playing Counter-Strike. Due to this, I am not able to focus on my studies in spite of being a good student. What should I do now?',\n",
       " \"Love: I'm deeply in love, and I can't stop thinking about him all day. This drives me crazy. How can I stop thinking about him, knowing that he most likely doesn't like me back and only sees me as a friend/sister?\",\n",
       " 'I have a friend who runs a Tim Hortons franchise and claims to make about 30k a month net profit. Is that possible? Can you tell me (even if discretely) what franchise you own and how much net profit you make?',\n",
       " 'How can a company file an H1B visa for the same person twice in the same month (March) in the same year? How can the company know the decision before April and then file another application, according to the following link?',\n",
       " 'A ball is thrown from the top of the building of a height of 80m. At the same instant, another ball is thrown upwards with a speed of 50m/s from the bottom of the building. At what time will both meet?',\n",
       " 'How many startups that started by non IIT / IIM are being funded by investors or VC in India to grow to the next stage? Is it because the alumni network is strong on the other side? Is it sheer talent?',\n",
       " 'A crate is slid across a floor. The mass of the crate is 200kg and the coefficient of static friction is 0.30. How much force is needed to keep the crate moving to the west with a constant velocity of 7m/s?',\n",
       " 'When the air conditioner is cooling the air, does it blow air at the temperature set by the thermostat or does the AC always blow the exact same temperature cold air until the house reaches the temperature set on the thermostat?',\n",
       " \"I am studying a bachelor's of technology in nanotechnology at Lovely Professional University. My institute is offering some minor courses with my BTech curriculum activity. Which course should I select as a minor course which can help me further in nanotechnology?\",\n",
       " 'I have got 269300 All India Rank in Jee Mains 2015 and my SC category All India Rank is 13615.Can I get DTU, NSIT or NITs? What are the possibilities of getting IT, Software Engineering, Mathematics n Computation branch at dtu?',\n",
       " 'I am intelligent and also have willpower, but I am too lazy to work and also a procrastinator. Whenever I try to improve, I do good for a couple of days but I lose interest eventually. How can I really improve?',\n",
       " \"I'm using the Sony Xperia E dual Bluetooth model. Whenever I want to download any app from Google's play store it shows 'there is insufficient space on the device', but the device has some space. How can I solve this problem?\",\n",
       " 'I stopped talking to girl completely whom I love after I got to know that she got engaged to a different guy. Now her marriage has been called off and I want to ask her out. How do I do it?',\n",
       " 'I am 25 working in digital marketing 9 hours a day. I want to spend another 5 to 8 hours for myself at home, to work on my startup. It is healthy to spend 15 to 18 hours daily for work?',\n",
       " 'I am a mechanical engineering student in my 3rd year. I want to become an automobile designer, but I am studying from a local college and this is not so good for achieving this goal. What should I do about this?',\n",
       " 'I am 14, 159cm, 50kg. My thighs are big and I have a bit of excessive abdominal fat. What can I do to lose fat? Some exercise I can do at home would be good. I do athletics once a week.',\n",
       " \"I have watched a lot of scary movies but I never seem to get scared. They're all too hokey for me. I want to actually see a movie where I become terrified. What are some good scary/horror movies I should watch?\",\n",
       " 'I am handicap. I have passion for computer & web. currently working as junior web developer. I have few start-up ideas. some time I think to settle down by getting government job (which I can get easily) what should I do?',\n",
       " 'I have a Bsc in microbiology and I want to go for my masters degree and am thinking of two options either public health or clinical and infectious disease. Which of the option is more advisable for me to go for?',\n",
       " 'A stone is thrown vertically upward with a velocity of 19.6 m/s. After 2 seconds, another stone is thrown upwards with a velocity of 9.8 m/s. When and where will these stones collide? Please answer the question with a step-by-step solution.',\n",
       " 'A child (by mistake) consumed paint thinner. When I called the paramedics for first aids, they advised me not to make the child vomit, even though that is the recommended procedure when other poisons are swallowed. What is reason for that?',\n",
       " 'How do I get stag entry is best clubs in Goa? We are four guys planning a trip during 1–4 October weekend. I have heard that clubs like Cubana and LPK do not allow stag entry, or it is super expensive.',\n",
       " \"I'm an 18 year old boy. How do I grow a beard? I have long sideburns & the shave beneath the jaw line is perfect and dense. What do I do for growing a normal moustache & beard on my cheeks?\",\n",
       " 'Analysis of data from the COBE survey indicates that the Milky Way is travelling at a certain velocity towards a particular point in the sky. Is it known whether our galaxy is oriented edge-on or face-on as it follows this trajectory?',\n",
       " 'What is difference between cse and it engineering? If one is only interested in coding and programming stuff should be pursue IT engineering? Also while answering please keep in mind about the colleges affiliated to WBUT (west bengal university of technology).',\n",
       " \"He's a junior in college living with six of his friends. He wants me to climb through his window instead of going through the front door. I know that pretty much makes me a booty call; how do I change that?\",\n",
       " 'A car is traveling at 26 meters per second and is accelerating at -13 m/s^2. After traveling, the driver brings the car to a complete stop. Using this equation -26+26t-6.5t^2, how long did it take the driver to stop the car?',\n",
       " 'I am currently working in IT with 30 lakhs per annum. I want to go to the next level in business management and I either have the same salary or a little more. What are my chances and path(s) to take?',\n",
       " 'Which is the best protocol to stream my network camera through RTSP? Do I need to switch over to a better protocol? Which is the best freeware RTSP library or any other protocol library which I can incorporate in my application?',\n",
       " \"I wake up every now and then feeling extremely angry (at a level where I wouldn't hesitate to badly injure or even kill the person I dreamt about). Why does this happen? I rarely experience such intense anger when I'm awake.\",\n",
       " 'I love one girl. She just broke up with her ex-boyfriend and I then put my proposal in front of her. She is asking me  to forget her. I do not know what to do now and how to convince her.',\n",
       " \"I am too soft and 'over-respect' people, which means I may not be able to criticize them, and appear as someone with no opinion or stance and seen as a malleable person. What steps should I take to overcome this weakness?\",\n",
       " 'The club has 37 members, 20 of whom are women and 17 of whom are men. The club needs to form a 4 person party-planning committee. How many committees are possible if the committee must have 2 women and 2 men?',\n",
       " 'In real life, if a person is convicted of murder, but the \"victim\" framed them for murder and faked their own death, can the defendant (if they are paroled) kill the \"victim\" and get away with it due to double jeopardy?',\n",
       " 'Is it relatively easy to get into the MSCS program at University of Chicago, as compared to other top universities? I have been reading a lot and from what I have read I believe their Theory and NLP Groups are strong.',\n",
       " 'What are the tax implications Dwolla, Venmo transactions? Some of my clients want to pay me through either Dwolla or Venmo. Which one should I use for commercial transactions? They not asking me for a W9 which is making me concerned.',\n",
       " 'My Netgear WNR2500 router randomly and often simply stops working. The modem is fine and there is internet connectivity but the router stops working and devices connected no longer have Internet access until the router is restarted. What is the problem?',\n",
       " \"How much fluoride is absorbed into your bloodstream when you brush your teeth, and how does this compare to the amount of fluorine that would be found normally in those who don't use fluoride toothpaste or mouthwash or drink fluoridated water?\",\n",
       " 'Mobile Advertising: Does each device have an unique IDFA? Does the IDFA change only when the user resets the device? Is it always user initiated? Is that the only difference between IDFA and UDID? And how is IDFV from these 2?',\n",
       " 'I lost my phone and got a new SIM with the same number. Can I activate the old Viber account on the new phone with the same number, and can I get the lost contacts through Viber on the new phone?',\n",
       " \"A card is drawn from a pack of cards. It's replaced, the pack is shuffled and another card is drawn. What is the probability that either card was an ace? What is the probability that either card was not an ace?\",\n",
       " \"No one cares about the bomb blast in Bangalore on Dec 28th 2014, yet no one really cares about it as the number of lives lost was just 1, but it's still a life. Is this how much Indians really care?\",\n",
       " 'My Motorola Moto G phone fell down and the glass is broken, the screen is blank in the upper half but the touch works fine all over the screen. Do I need to replace the screen too along with the glass?',\n",
       " 'My Motorola Moto G phone fell down and the glass is broken, the screen is blank in the upper half but the touch works fine all over the screen. Do I need to replace the screen too along with the glass?',\n",
       " \"I have a passcode with 4 numbers, how many combinations are there? The password can't have any of the same numbers and you can enter the code in whatever order. So, if the code is 1234, can you also enter: 4321?\",\n",
       " 'The club has 37 members, 20 of whom are women and 17 of whom are men. The club needs to form a 4 person party-planning committee. How many committees are possible if the committee must have 2 women and 2 men?',\n",
       " 'What is wrong with the analogy: \"If all human beings in the world make a single organism, an individual human would amount to a single cell in the body, and so much is the importance of an individual in the world\"?',\n",
       " 'I am intelligent and also have willpower, but I am too lazy to work and also a procrastinator. Whenever I try to improve, I do good for a couple of days but I lose interest eventually. How can I really improve?',\n",
       " 'What is a good wood to build your house with? I hear redwood is the best wood and doesnt need chemicals like treated wood to buy and if so what is the price compared to regular woods used to build houses?',\n",
       " 'If I live in the UK and am importing products from China to the USA to be sold through Amazon FBA, who pays for customs taxes? Do I always pay customs taxes regardless of the size/price of the product being imported?',\n",
       " 'In Singapore, residents (citizens and Permanent Residents) have an identification number and card (yes, very Big Brother). Is there a way to tell whether someone is a Singapore citizen or a \"mere\" Permanent Resident just by looking at the identification number?',\n",
       " 'In pre-independence India, did one need to get a visa to travel from one princely state to another and did citizens of various princely states have their own unique passports or did they have a single passport from the British Empire?',\n",
       " \"How much fluoride is absorbed into your bloodstream when you brush your teeth, and how does this compare to the amount of fluorine that would be found normally in those who don't use fluoride toothpaste or mouthwash or drink fluoridated water?\",\n",
       " \"If you could thank one person that you've never met for contributing to your life in some way, through an invention or a quote or a piece of advice to a general audience, etc., who would that person be and why?\",\n",
       " 'Website traffic analytics will show statistics for \"direct navigation\" which includes both typed in URL\\'s (domain +.com) in the URL bar, as well as those using bookmarks to get to a site. What is an estimate for the breakdown of each?',\n",
       " 'I was in contact with a girl for almost a year. I fell for her. She liked me, but then she changed her mind. Now, she says she never liked me and I have gotten too clingy. What should I do?',\n",
       " \"I made a fool out of myself by begging and writing calling texting my ex for the past 10 months since we've broken up. Did I ruin all of my chances? I really want her back what should I do now?\",\n",
       " 'Passports: I have filed my online passport application form, submitted it and taken an appointment also. But now I have found a mistake in it. Can I rectify it at the PSK on the appointment date? What can I do now?',\n",
       " 'I got placed in Amazon today as a Device Associate.I want to know what Work I have to do exactly and what is the growth in future in Amazon or in any other company If I switch to any other company?',\n",
       " 'My Motorola Moto G phone fell down and the glass is broken, the screen is blank in the upper half but the touch works fine all over the screen. Do I need to replace the screen too along with the glass?',\n",
       " 'Player A has n+1 coins, while B has n coins. Both players throw all of their coins simultaneously and observe the no. of heads. If all coins are fair, then what is the probability that A obtains more heads than B?',\n",
       " 'In the US, our history books tell us we invented almost everything. Do other countries recognize the US as inventing the car, light bulb, phone, computer, refrigerator, plane, steam engine, and the Internet? Or do they claim any of them too?',\n",
       " 'I sent a message to a friend on whatsapp at 5pm and his last seen was at 5.36 but my message still only has one tick. I can still see the profile picture etc so not blocked. What could cause this?',\n",
       " 'Compared to your own compensation, and in consideration of local labor markets and experience, how off the mark do you find salary surveys available from Salary.com, Indeed, Robert Half International, US Bureau of Labor and Statistics, and other freely available sources?',\n",
       " \"In season 4 of Breaking Bad, how is it possible that the special effects (CGI) of Gus's mutilated face looked much more realistic than Two Face's in the Dark Knight when the series clearly has less money than a Hollywood movie?\",\n",
       " 'I want to sail a luxury yacht from outside of the US to Aberdeen, South Dakota. What would be the route to go? Where could I dock a boat? How long would it take to get to Port of Alofi, Niue?',\n",
       " 'Which is better, in the context of a more formal or business email tone when sending an email prompting readers to open an attached document: 1. Please find attached the new Word document. 2. Attached please find the new Word document?',\n",
       " 'I have tried registering for tcs recruitments through jntu world and I cannot find my college name in the select college option. When I called tcs helpline they asked me to call up after two days. What do I do?',\n",
       " 'How tall will a 5 feet 8 15 year old be? My dad is 5 feet 6 and my mom is 5 feet 7. My brother is 5 feet 11 but he has a different mom as tall as me.',\n",
       " \"London, New York: Which city is more fun and interesting for single people in their 20's and 30's, London or New York?  Is one city better for one gender than the other (i.e. better for single men or single women)?\",\n",
       " 'To those who told a big lie to their parents and told them the truth years later - how many years did it take for you to tell your parents the truth and why did it take you so long?',\n",
       " 'Thomas Edison said: \"Tomorrow is my exam but I don\\'t care because a single sheet of paper can\\'t decide my future.\" But here in India, people are judged by results and not by their knowledge. How can you justify this?',\n",
       " \"I am a BSc computer science graduate. I just got selected in Infosys Ltd. and also in TCS Ltd., where TCS offers an MCA programme from Sastra University. Both the companies' designation is the same. Which one should I choose?\",\n",
       " 'I am considering buying processed cardamom directly from planters in the neighbouring state in reasonable quantities and selling it to restaurants, food suppliers and shops. What is the license type required for this business, transportation across states, etc., in Bangalore?',\n",
       " 'Does anyone know the purpose of watches that have a ring around them that you can turn. Usually they have marks that line up with the numbers on the dial, and usually one mark is different from all the others?',\n",
       " 'I am having trouble getting a job in the Mechanical Engineering field.  My resume’ is excellent.  My interviewing I have been told is “very good”.  My references are good.  I had my resume’ professionally done.  Should I get a Masters?',\n",
       " 'I am a MBBS graduate from Bangladesh with a 1 year internship completion and 6 month of work experience as a medical officer in Bangladesh. What is the process to start a job in Dubai even in non clinical career?',\n",
       " 'I am having problems joining and posting to groups on Facebook. I was blocked from joining for 30 days and it has been more than a month and I am still unable to join groups or post. Why is this?',\n",
       " 'If I hold one end of an extremely long (possibly infinitely long) and lightweight pole and start spinning, is it possible for the other end of the pole to exceed the speed of light? If not, what would stop it?',\n",
       " 'I am 17-years-old and whenever I motivate myself to achieve my goals, I get excited for a moment, but over the time, I forget about my motivation and how important it is to achieve that goal. What should I do?',\n",
       " \"I don't feel emotionally attached to anyone. I try to or pretend to but deep down I know I don't feel for anyone. Does it mean that I'm selfish or emotionally detached? What is wrong and what should I do?\",\n",
       " 'I am going to move from Mharashtra to Rajasthan, jaipur, I need to carry my bike, what will be the procedure I have to follow & what are the things I need to do for running my bike at Rajasthan...?',\n",
       " 'The screen of my Asus ZenFone 5 cracked a bit at the front cam, but the touch is working fine. What do I do now? How much will it cost me to replace only the screen and not the digitizer?',\n",
       " 'As I chat with my husband on WhatsApp, I never see him go from \"online\" to \"typing\" and when he is replying it shows him offline. After I receive his messages, it shows him back \"online\". How is this possible?',\n",
       " \"Why do some headphones make my ears so uncomfortable after 30 minutes of wear? How can I find headphones that don't make my ears so uncomfortable? Or alternatively, are there any creative ways I can wear them to minimize discomfort?\",\n",
       " 'Is it possible to get a travel certificate from Air India without having to visit an Air India office, as I have lost the boarding pass of one of my recent flights and need it to apply for my LTA?',\n",
       " \"I still have a lot of space left in my phone memory and on my external card, but I can't download apps from the Play Store. It just shows an error about a lack of space. Why is this happening?\",\n",
       " 'What is the process of trademark surrender in India? Also, if I have not renewed trademarks after 10 yrs, will it be cancelled automatically and no longer need explicit surrender? If yes, from where can I fetch its inactivity status?',\n",
       " '\"If people treat you like an option, leave them like a choice\" and \"If you feel that you are avoided by someone, never disturb them again.\" What is a brief explanation of both quotes? What is the difference between them?',\n",
       " 'Simplifying F= (AB+C+D) (C +D) (C +D+E) produces a) A B C + D b) A B D E + C D c) A E + C D E d) A B E + C e) None of the above?',\n",
       " \"I have passed all my CPA exams, and met the experience requirements, but I am stuck now as I only have a bachelor's degree with 128 credit hours. What is the cheapest, quickest way to meet the 150 credits requirement?\",\n",
       " 'I recently came across a business idea website that sourced Facebook and Twitter for a near real time (new ideas upon page refresh) flow of business / web startup ideas. Can anyone suggest the site I seem to have forgotten?',\n",
       " \"I'm a smart guy. Many girls stare at me wherever I go, but I don't have the guts to speak to anyone. How can I overcome this and be able to speak with girls normally as I do with guys?\",\n",
       " \"Google Nexus 7: How to change default action for playing video from Engadget app? I have chosen YouTube but it doesn't play. My HTC One X uses streaming media player. How to change this default action to streaming media player?\",\n",
       " \"What does it mean if a share is up by roughly $2k today in terms of what owning this share will mean annually? Do the other shares in the company reflect the exact same behavior as this value's current abilities?\",\n",
       " 'In the Indian mythological context should Vibhishana be considered a bad man for deserting his brother in hard times or good for siding with the right people? How should he be compared with Karna who made an almost opposite choice?',\n",
       " 'I tried deleting the Snapchat history by selecting \"clear conversations\" and it worked. However, when I send a picture to that same person I deleted the history, the saved messages from the past still appear, how do I fix this?',\n",
       " 'I want to start my pool site restaurant in Udaipur, Rajasthan. What information do I need to know on how to open, where to open, how much is the minimum land required and how much capital I need to invest?',\n",
       " 'For writing a minimal ammount of code on a complex project. What are some tricks you can use or language features that reduce a lot of work and do you know of any open source examples that implements those tricks?',\n",
       " 'I am being offered a job as a Solutions Architect in Microsoft Singapore. The job offer says level 62. This appears to be somewhat low in the hierarchy given that I have 17 years of IT consulting experience. Any feedback?',\n",
       " \"The income paid/credited showing on my 26AS statement is Rs. 1,25,367.44 (salary income) and on Form 16, the total income shown is Rs 1,33,209 (after deducting PF). Which one should I show in ITR 1 under 'Income from Chargeable Salaries'?\",\n",
       " 'I am a PhD research scholar in the department of chemical engineering and my thesis topic is related to granular flow. I want to do part of my research work from University of Pennsylvania. How do I approach for it?',\n",
       " 'I recently applied for some role at Github. I reached till the final interview round and it happened over Skype. I have got not response from them after that. Does this mean rejection or is my application still under process?',\n",
       " \"I am a BSc computer science graduate. I just got selected in Infosys Ltd. and also in TCS Ltd., where TCS offers an MCA programme from Sastra University. Both the companies' designation is the same. Which one should I choose?\",\n",
       " \"I am creating a LinkedIn authentication component for a ReactJS Flux project. LinkedIn's API doc says to add a script block to the footer, with some listener functions, etc. What is the best way to add that code into JSX?\",\n",
       " 'I tried deleting the Snapchat history by selecting \"clear conversations\" and it worked. However, when I send a picture to that same person I deleted the history, the saved messages from the past still appear, how do I fix this?',\n",
       " 'Studying well in intermediate and get into an IIT/NIT leads to good salaried campus placement though he might not have worked hard in Engineering. Studying well in Engineering in any other college might not. Is this fair for the country?',\n",
       " 'I pointed my mx records to Google email server. Now i am not receiving any email in my existing email addresses. I want it to be a dual delivery on both systems, existing email and Google app email. any help?',\n",
       " \"I met a guy in California last year and we had sex. Recently he's asked for nudes. I sent him topless nudes, but now he's asking for bottomless nudes and I'm not comfortable with that. How do I say no?\",\n",
       " '\"If people treat you like an option, leave them like a choice\" and \"If you feel that you are avoided by someone, never disturb them again.\" What is a brief explanation of both quotes? What is the difference between them?',\n",
       " 'I tried deleting the Snapchat history by selecting \"clear conversations\" and it worked. However, when I send a picture to that same person I deleted the history, the saved messages from the past still appear, how do I fix this?',\n",
       " 'I am a 37 year old single Indian man living in the Bay Area trying to meet women. Can some one advise me how and where to meet single women that are open to dating a guy from India? Thanks',\n",
       " 'Mario Lopez says he married Ali Landry after six years of dating and divorced in two weeks because he never loved her. How common is it for people to be together that long, get married, and not love each other?',\n",
       " 'My family moved to a new home one month ago. I need to apply for a passport, as I am going abroad 6 months from now. What documents can/should I submit at the passport Seva Kendra office as address proof?',\n",
       " 'I am currently on F-1 student visa and will be working on OPT soon. I want to get an auto loan but have only 1 year of credit history. Honda is not giving me the loan. Which credit union/bank will?',\n",
       " 'What will be fate of hinduism in future which has glorious past spread up to gulf on west , russia on north and combodia in east but now shrink ed in last 2000 years to only few parts of India?',\n",
       " \"I want to enlist into the Air Force and I scored a 90 on my ASVAB. I'm thinking about making a career out of this and I'm super interested in the RPA Sensor Operator job. Is this a good idea?\",\n",
       " 'I want to get an espresso machine, either Dolce Gusto or Nespresso, but I am confused. Does one type of any of these machines has its own capsules that only work for it? And which brands capsules flavors taste better?',\n",
       " '\"If people treat you like an option, leave them like a choice\" and \"If you feel that you are avoided by someone, never disturb them again.\" What is a brief explanation of both quotes? What is the difference between them?',\n",
       " 'What happens when a controlled demolition fails and does not bring down the building? If the building has to fall in on itself to not damage surrounding structures, how are they able to accomplish this after an initial failed demolition?',\n",
       " 'I want to record a podcast interview using 2 lapel microphones plugged into my iPhone using a splitter. Is there a way to have the 2 inputs record as separate vocal tracks? Do I need a special app or hardware?',\n",
       " 'In a kilometre race, if A gives B a 40 m start, A wins by 19 s.But if A gives B a 30 s start, B wins by 40 m. Find the time taken by B to run 5,000 m?',\n",
       " 'When older people are praised for being “vigorous, ” “active, ” and “youthful, ” does this send a message that combats or supports ageism? Explain your response fully and suggest an alternative way of talking about activity in old age',\n",
       " 'How I find website that are recently published? As far I know, website owner submits their webpage link in Google. But, in my case, people wont submit their link to my site. I need technical (do it by programming) solution.',\n",
       " 'I have learnt that stress is an internal resistance developed in the body due to the force applied. Does this mean that stress developed in the body during application of tensile forces, will be in the direction of compressive forces?',\n",
       " '\"If people treat you like an option, leave them like a choice\" and \"If you feel that you are avoided by someone, never disturb them again.\" What is a brief explanation of both quotes? What is the difference between them?',\n",
       " 'How can a national minimum wage raise the quality of morale and output of minimum wage workers when all it appears to do is guarantee minimum effort, job satisfaction and prospects for those workers who receive the national minimum wage?',\n",
       " 'I had dandruffs and was experiencing hair loss but then a pharmacist recomended me keto plus shampoo. using it I noticed that the dandruff decreased but the hair loss seems to have increased. is it normal? Will it grow back?',\n",
       " 'China is planning to introduce a policy called \"One belt, One Road\". Can we call this is a new silk route? How will this policy affect neighboring countries? Will this move help in improving international relations of China with Japan?',\n",
       " \"Is a bird an animal?  I keep having this argument with someone who says a bird is not an animal, it's a bird.  It doesn't meet the definition of a mammal, so is it really in a class by itself?\",\n",
       " 'Thomas Edison said: \"Tomorrow is my exam but I don\\'t care because a single sheet of paper can\\'t decide my future.\" But here in India, people are judged by results and not by their knowledge. How can you justify this?',\n",
       " \"How should one live one's life if one hates the vast majority of the human race because the vast majority of them are evil, malicious, sadistic, and sick in their own ways? Is one's life worth living in this situation?\",\n",
       " 'I am travelling to India vs London from New york and back. I have an indian passport and valid H1b visa (valid till Jan 15th, 2016) during the course of my travel. Do I need any other document to travel?',\n",
       " 'When an iPhone notification appears in the top bar, how can I acknowledge it (i.e. make the badge on the app not be there when I return to the home screen) without actually opening the app that triggered the notification?',\n",
       " 'I have just completed my B.Tech in petroleum engineering. My main aim is to get a job in an oil & gas company, be it private or PSU. What should I do now? Should I start preparing for any exam?',\n",
       " 'Do I have to pay corporate taxes on my business profits if I reinvest 100% of the profits back into the business? What if my starup lost $20,000 the previous year then made $100,000 this year in profit; tax $80,000?',\n",
       " 'Yesterday in Kabul Afghanistan a woman burned the holy book Quran and in reaction angry local people killed her and burned her: From the Islamic point of view what will be the punishment for those people who burned the lady?',\n",
       " 'There is a building with 100 floors. You are given 2 identical eggs. How do you use 2 eggs to find the threshold floor, where the egg will definitely break from any floor above floor N, including floor N itself.?',\n",
       " 'I want to learn a new language. I am an ETL Developer. I am pretty good at SQL and SAS. I have been using Teradata and SAS for the last five years. Which new language should I learn and why?',\n",
       " \"You're at a casino with two dice, if you roll a 5 you win, and get paid $10. What is your expected payout? If you play until you win (however long that takes) then stop, what is your expected payout?\",\n",
       " 'A projectile is thrown from a point P. It moves in such a way that its distance from P is always increasing. How would I find the maximum angle above the horizontal with which the projectile could have been thrown?',\n",
       " \"How old is too old to have never had a job? Does the fact that a person is, for example, nearly 30 and never had a 'job' in the conventional sense of the word a bad thing to potential employers?\",\n",
       " \"My Gujarat ACPC rank is 724. I wish to take admission in DA-IICT. What are my chances? If I don't get into DA-IICT which institutes amongst NIRMA and DDIT will be better considering that I wish to join computer engineering?\",\n",
       " \"I am a B.Tech computer science student. I've heard that data structures and algorithms are very important and are asked in every interview, but I have no interest in that topic. What other options do I have? (in computer science)\",\n",
       " 'If I want to get into reselling or flipping cars in the state of Illinois what expenses should I take into consideration such as the title, the city/state tax, and the vehicle sticker fees? How do I get around this?',\n",
       " 'What is it like to get married to someone else after you have been in a relationship with a boy for at least five years? How does it feel to not be with the one you dreamed all your life?',\n",
       " 'What happens to dead bodies before they arrive at their funeral? Do the individual funeral directors have their own storage facilities with rules about the maximum number of bodies each director is able to store, individual drawers and refrigerated conditions?',\n",
       " 'I tried deleting the Snapchat history by selecting \"clear conversations\" and it worked. However, when I send a picture to that same person I deleted the history, the saved messages from the past still appear, how do I fix this?',\n",
       " \"Is a bird an animal?  I keep having this argument with someone who says a bird is not an animal, it's a bird.  It doesn't meet the definition of a mammal, so is it really in a class by itself?\",\n",
       " 'Given the task of turning an oak barrel of water into a barrel of wine, and assuming you have control over the physical processes, what is required at the particle level? How much energy will be consumed in doing so?',\n",
       " 'I tried deleting the Snapchat history by selecting \"clear conversations\" and it worked. However, when I send a picture to that same person I deleted the history, the saved messages from the past still appear, how do I fix this?',\n",
       " \"I have been adopted by a cat and know nothing of cat behaviour. What does it mean when it rolls over on its back and bats it's feet at me? (or possibly 'kneads') And is low purring a good thing?\",\n",
       " \"This might sound weird, but how do I find my area of interest? I mean I know many things I enjoy and which I'm good at but I just can't put my finger on something that I'm a master at.\",\n",
       " 'If a major city is attacked with nuclear weapon, is it possible for the attacked country (which also has nuclear weapon) to not retaliate for fear of a chain reaction or will its citizens definitely pressure the government into retaliation?',\n",
       " \"Why isn't Austria absorbed into Germany given that Austria uses the same language, the people look alike, is geographically close to Germany, was a part of old Germany (Holy Roman Empire) and Austria voted for the Anschluss (annexation) in 1938?\",\n",
       " 'Is the relationship between what happens to the default mode network of the brain (reduced activation and functional connectivity) during certain types of meditation vs. what happens to the default mode network during flow experience (Csikszentmihalyi definition) very well understood?',\n",
       " 'I told my girlfriend that I needed some space and time for myself and she got angry and has not spoken to me in three days. Does the fault lie with me and most importantly how do I fix it?',\n",
       " \"I'm 17 years old boy from New Delhi, India. I've a business plan for startup. I know my idea will work but I've no idea how I can get funding? How to write business plan? Where I can get investors?\",\n",
       " 'You slam on the brakes of your car in a panic, and skid a certain distance on a straight level road. If you had been traveling twice as fast, what distance would the car have skidded, under the same conditions?',\n",
       " 'When I read books I always read aloud in my mind which slows my reading speed. I cannot read a book without reading aloud in my mind. I want improve my read speed. How can I get rid of it?',\n",
       " 'I need information about what it is like for a woman living in Kuala Lumpur from someone who is currently living there. I have a good job offer, but my family are saying that I will be in danger?',\n",
       " 'My ex-girlfriend is in my class and I am unable to face her. I feel emotionally tortured because I still have the same love for her. How do I face her? She hates me and I still love her?',\n",
       " 'The registration certificate of a bike has been lost. The vehicle was registered in Asansol, West Bengal (India), but I have now permanently shifted to Delhi . Do I now have to go there (WB) to procure a duplicate?',\n",
       " \"Is numerology real? For me it feels completely stupid. How can the letters in a name determine the success or failure of a business? Or the time when the baby is born, determine the fate of the baby's future?\",\n",
       " 'If a body goes from A to B with a velocity of 20 m/s and comes back from B to A with a velocity of 30 m/s, what is the average velocity of the body during the whole journey?',\n",
       " 'I am a Filipino and I was offered a monthly package of GBP 3,550 net of taxes to relocate somewhere in Old Parklane, England. Will the offered salary be enough to sustain the cost of living in the city?',\n",
       " 'I am preparing for GRE and I have qualified for SSC CGL Tier-1 exam. I have hardly a week gap betwen GRE and Tier-2. How should I start with my preparation so that I can score well in both?',\n",
       " \"What is the difference between an elephant's tusk and and an elephant's teeth? Is it just the size and shape that make them different or is there a difference in the material that each of them is made of?\",\n",
       " 'My laptop is having a problem. It happens many times. Suddenly, the mouse is not responding to any movement on the touch pad, but the keyboard is working. A few minutes after it restarts. How can I stop that?',\n",
       " \"What is it like to not share your secrets with anyone around you, because you know they'll speak all the unncessary and irrelevant things instead of helping you which is exactly opposite to what you want them to do?\",\n",
       " 'I have an old smart phone. Can I utilize its Bluetooth and display (hardware) and other required components to create a device which I can pair with my Android device that can create a something like a smart watch?',\n",
       " 'When is a good time to visit Dubai? During the Dubai Shopping Festival or before it, when the crowds will be less? And are the traveling deals for the DSF really worth it - or is it just marketing?',\n",
       " 'Shouldn\\'t Gordon have said \"He\\'s the hero Gotham NEEDS, but not the one it DESERVES right now\" instead of \"He\\'s the hero Gotham deserves, but not the one it needs right now\" for the Batman in The Dark Knight?',\n",
       " 'I am an IIT JEE 2016 aspirant. My concepts are not very clear in full physics and organics. I can do math well. I want to have a three digit rank in IIT 2016. What should I do now?',\n",
       " 'Consider an irreversible thermodynamic cycle, as its change in entropy will always be zero at the end of the cycle but what about the entropy of surrounding does that entropy increases if yes then how can we find it?',\n",
       " 'A 200g model rocket is observed to rise 100 m above the ground after launch. What must have been the launch speed of the rocket at the ground?  Do you use the equation  [math] \\\\frac{{mv_1}^2 }{2}+mgh_1=  \\\\frac{{mv_2}^2 }{2}+mgh_2[/math] ?',\n",
       " 'Tech Mahindra: I am a mechanical engineer and I have been placed in TM. Is there any chance that I can switch to a mechanical company after joining TM? How long does it take to get promoted in TM?',\n",
       " 'Shouldn\\'t Gordon have said \"He\\'s the hero Gotham NEEDS, but not the one it DESERVES right now\" instead of \"He\\'s the hero Gotham deserves, but not the one it needs right now\" for the Batman in The Dark Knight?',\n",
       " \"I plan to stop studying due to depression and live the rest of my life using my family's fortune. My family's fortune is definitely enough for me to live comfortably  life without working. Will I regret my decision later?\",\n",
       " 'Lately, most of the inspiring success stories carry a certain trend - the neglect for proper/formal education. Is this something worth sharing simply because most millionaires and billionaires nowadays are uneducated? Does this mean formal education is not necessary?',\n",
       " 'If almost all mothers care and stand up for their children while wives might lie or cheat or leave and are constantly demanding things, what is wrong with giving first priority to my mother and not to my wife?',\n",
       " 'A point charge Q is located just above the centre of the flat face of a hemisphere of radius R as shown in the adjacent figure. What is the electric flux through curved surface area and through flat surface?',\n",
       " 'I am looking to study in the RMIT, Melbourne the next semester. What are the chances of one getting a job there post the course ending? What are the different part time jobs students take up while studying there?',\n",
       " 'How many 6 digit numbers can be made using digits 1, 2, 3, 4, 5, and 6 without repetition such that the hundred digit is greater than the ten digit, and the ten is greater than the one digit?',\n",
       " 'I feel like crying. I am not proud of the stuff I do to make me happy. I think about killing myself and I believe I have no real friends. How can I overcome this? Why am I depressed?',\n",
       " 'Why is the human resource profession dominated by women? Statistics of various surveys depict that 70% of the human resources profession is dominated by women. It is just because women are empathetic and have a better emotional intelligence (EQ)?',\n",
       " 'I wish to get accepted in any of the top 10 universities in the world. What do I need to do to build a really good profile to get accepted into colleges like MIT, Caltech, Stanford, Michigan and Oxford?',\n",
       " \"How can you explain, in simple terms, that time doesn't exist and the past, 'now' and future exist simultaneously? Why do we perceive time and cannot perceive what is really there? If time doesn't exist, why do we age?\",\n",
       " \"I get jealous when my crush is talking or chatting to other boys. After seeing her talking to other boys, I don't like to talk to her, even when she comes to talk to me. What should I do?\",\n",
       " \"I am 23. And I don't have a basic degree. With an incomplete Diploma in computer science I feel lost. Please help. What should I do next to get an undergraduate degree? Which universities can I look up to?\",\n",
       " \"When downloading a WinRAR file that came as a mail attachment, it's not opening in my system even though I have WinRAR installed. The type of that file after getting downloaded is showing as Priceless. What should I do?\",\n",
       " \"I took a Mensa test but didn't qualify. I feel if I take it again, I will qualify. But they don't let you take it again. What other test can I take that is not expensive and readily available?\",\n",
       " \"How would we update our phone number in the UAN (Universal Account Number) portal to login to the UAN portal and manage an EPFO account, if we don't have our registered mobile with us or our service is disconnected?\",\n",
       " 'If I needed to quit my previous job due to stress and the desire to have time to change life trajectory, how do I explain to future employers this gap, and will they ignore my resume because of it?',\n",
       " 'I have been accumulating some money in my bank account but and I am hesitating whether to invest it buying an apartment (Rent revenue) or opt for a double diploma in a business school and pay for school fees?',\n",
       " 'My boyfriends ex-wife has been nothing but horrible towards me since I got with my boyfriend (her ex) but I find myself constantly stalking her Facebook, Instagram and Twitter despite how much I hate her. Is this a disorder?',\n",
       " 'Eleanor Roosevelt said \"Great minds discuss ideas; average minds discuss events; small minds discuss people.\" When I run or hike in nature, about 70% of the people I come across discuss other people. What does this say about humans?',\n",
       " 'In the movie The Grey (2012), what does the following quote by John mean: \"Once more into the fray. Into the last good fight I\\'ll ever know. Live and die on this day. Live and die on this day...\"?',\n",
       " \"Should I stop being around friends that are rude to me whenever I don't want to hang out with them, or if I have too many friends and don't get the chance to hang out with most of them?\",\n",
       " 'What happens if you are not able solve Facebook\\'s \"timed\" programming challenge in the allotted time? (But assume that you do manage to solve it some time later on your own) Do we still get a phone screening call?',\n",
       " \"How would we update our phone number in the UAN (Universal Account Number) portal to login to the UAN portal and manage an EPFO account, if we don't have our registered mobile with us or our service is disconnected?\",\n",
       " \"I love my girlfriend a lot and want to marry her but her family won't allow her to get married outside their caste whereas there is no problem from my side. what should i do to convince her parents?\",\n",
       " \"If someone kicks me out of their home suddenly while many of my belongings are inside, what is my legal right to go in to retrieve my belongings and make sure s/he hasn't kept or damaged any of them?\",\n",
       " 'How do I convince a girl who is not interested in a relationship because of the previous experiences and for the sake of her father but says I am more than a friend to her and she loves me?',\n",
       " \"How would we update our phone number in the UAN (Universal Account Number) portal to login to the UAN portal and manage an EPFO account, if we don't have our registered mobile with us or our service is disconnected?\",\n",
       " 'I would like to know about the common prefixes namely iso- and neo- which are used in organic nomenclature. I just wanted explanations about using these, I mean when and where to use these and what do these mean?',\n",
       " \"Avoiding Work: What is the easiest illness to fake in front of a doctor so you can get him to write you a note so that you won't have to go to work for the next couple of days?\",\n",
       " 'If a guy behaves cheesy to impress you, would you think he is fake and try to avoid him or acknowledge the fact that he is, after all, trying to impress you? So, why not give him a chance?',\n",
       " 'Three particles of mass 1kg, 2kg and 3kg are placed at the corners A, B and C respectively of an equilateral triangle ABC of edge 1m. How do I find the distance of their centre of mass from A?',\n",
       " \"Quora's default photo for a user who hasn't changed it yet can be interpreted as a man or a woman with short hair (at least for me). Was this intentional or am I just reading too much into this?\",\n",
       " 'How do women who have married much older men (>10 years) feel and think about their lives and husbands? Do they regret the marriage or wish they had married a younger man? Why did they select the older man?',\n",
       " 'I want to set up a 3 MW solar power plant in a 5 acre plain land in Andhra Pradesh. How much money do I need to invest (with Chinese technology)? Can we get any subsidy from the government?',\n",
       " 'There are 8 pills. They are all of the same size and colour. One pill weighs slightly more and is poisonous. You have a balanced scale and can only use it twice. How can you find the poisonous pill?',\n",
       " 'I have an H1B visa. Can I start a business online that includes a website and YouTube? Can I register it in my home town? In case it is possible then where should I pay the tax for it?',\n",
       " 'What is the best and cheapest way of hosting REST API as a startup? I am using AWS EC2, but I am not sure whether that is the best option or not for the startup who has limited budget.',\n",
       " \"How would we update our phone number in the UAN (Universal Account Number) portal to login to the UAN portal and manage an EPFO account, if we don't have our registered mobile with us or our service is disconnected?\",\n",
       " 'When a medication is advised to be dosed at \"between 1mg to 2mg/kg per day\" (as an example), would that be tantamount to recommending a man weighing 80 kilos to dose 80mg to 160mg of that medication per day?',\n",
       " 'I want a US phone number to be used in India. I want to receive calls on my mobile rather than on my laptop or iPad. What is the best way to achieve this and what are the charges?',\n",
       " 'I am 23 and single, I feel like I am ready for a relationship but everytime a guy comes along, even if he is the type of guy I prefer,  I just switch off. What is wrong with me?',\n",
       " 'I am building a resume builder website using PHP and MySQL. I am just a little bit familiar with PHP and I need to make a login page. So what is the flow to create a log in page?',\n",
       " 'You have eight balls all of the same size. 7 of them weigh the same, and one of them weighs slightly more. How can you find the ball that is heavier by using a balance and only two weighings?',\n",
       " \"I'm a 22 year old desperate girl. I have no money, no job, no college degree. Do you have any advice, or book recommendation about how to start a business, or anything that will make me progress, especially financially?\",\n",
       " \"I want a huge muscular chest. Could I get this by benching only 150 lbs and every workout increasing the number of reps I do? If I'm doing 300 reps with 150 lbs eventually, won't my chest be huge?\",\n",
       " 'If an American woman is married to anyone from Canada, the UK, Australia, or South Africa, can she still be eligible to contest as a governor of any state in the US or as a president of the US?',\n",
       " 'The thought of sex scares me every time. I am scared of the fact that someone is going to enter his penis into my vagina one day. Is this fear normal or do I need to consult some specialist?',\n",
       " \"My Instagram won't refresh anything. On the feed page, all it shows is the last picture I posted, which was 3 days ago (won't show any before that either). It won't load my news either. What should I do?\",\n",
       " 'I have activated 4G on my Airtel SIM, but whenever I try to recharge the 4G pack on Airtel, the website says I need a 4G SIM even though my SIM is already 4G. Who knows about this issue?',\n",
       " 'A particle moves along the x-axis so that at time t ≥ 0 its position is given by [math]x(t) = \\\\cos \\\\sqrt{t}[/math]. What is the velocity of the particle at the first instance the particle is at the origin?',\n",
       " 'Shouldn\\'t Gordon have said \"He\\'s the hero Gotham NEEDS, but not the one it DESERVES right now\" instead of \"He\\'s the hero Gotham deserves, but not the one it needs right now\" for the Batman in The Dark Knight?',\n",
       " 'You have eight balls all of the same size. 7 of them weigh the same, and one of them weighs slightly more. How can you find the ball that is heavier by using a balance and only two weighings?',\n",
       " \"My Instagram won't refresh anything. On the feed page, all it shows is the last picture I posted, which was 3 days ago (won't show any before that either). It won't load my news either. What should I do?\",\n",
       " \"I'm 37 years old, athletic but with a bad lower back.  This winter my son is almost 5. What should we learn together? Skiing or snowboarding? My goal is to establish a fun family activity for years to come?\",\n",
       " \"The first four Caliphs after the Prophet Muhammad are known as the Rightly Guided Caliphs (Rāshidūn); Abu Bakr, Umar, Uthman, and 'Ali. Does this suggest, according to Sunni sources, that these men did not make mistakes in their administrations?\",\n",
       " 'People follow the rules to make their lives better knowing that they are safe. Will they follow the same rules if they are uncertain of their lives and they know that they are going to die at any time?',\n",
       " 'What are a few safe places to in live near Romford (within 3-5 miles)? And what are the tenancy rules for expats in the UK? Is it the usual 1 month rent as advance or is it something different?',\n",
       " 'What are the differences between Adipex and crystal meth? My DH seems to think they are the same. I know they are not, though the internet seems to lack information on this. What is some elaborate information on this?',\n",
       " 'I have done MBA in marketing from a tier 3 college, I am not happy with my current job in a bank (1 year in sales), I want a stable job. Can I go for another MBA in HR?',\n",
       " 'Why would a Qantas airplane flying from Brisbane to Perth not follow a straight line route and rather follow the route as shown in the picture? Will it not make sense to travel straight and save time and fuel?',\n",
       " 'If you run a lot and you get really bad pain half way down the back of your calf down to your ankle and get excruciating pain when you put your foot flat on the floor what is it?',\n",
       " 'A car goes 15km on a litre of petrol. When it is driven at 60kms per hour it only goes 80% as far. How many litres of petrol will it take to travel 120kms driving at 60km per hour?',\n",
       " 'I want to set up a 3 MW solar power plant in a 5 acre plain land in Andhra Pradesh. How much money do I need to invest (with Chinese technology)? Can we get any subsidy from the government?',\n",
       " 'As I understand it the doppler has three sounds: monophasic, biphasic and triphasic. These sounds relate to how well the vascular system is functioning. How do the changes in the vascular system cause the different sounds that are produced?',\n",
       " 'How easy/difficult is it for an Indian banker to get a banking job in the USA? Are there any prerequisites (like certifications or a local US degree) that are needed for anyone to get banking jobs in the USA?',\n",
       " 'I am 33 years old and I want to get 1 crore 50 thousand after 15 years with mutual funds invested without tax. I can invest in the SIP for 15000 per month. What are some good mutual funds?',\n",
       " \"How is the iPill or unwanted 72 taken? I've heard that it is taken within 72 hours but works better if taken in 24 hours. Is one pill enough or do I have to take another after some time?\",\n",
       " \"How would we update our phone number in the UAN (Universal Account Number) portal to login to the UAN portal and manage an EPFO account, if we don't have our registered mobile with us or our service is disconnected?\",\n",
       " \"I am tired of having hair that looks like thin, frizzy threads. It's been years since my hair grew - in length or in thickness. I oil and shampoo my hair twice a week. What else can I do?\",\n",
       " 'I cannot fully understand how Hadoop Yarn and Apache Spark work, and I am not familiar with terms like resource manager, cluster manager, and so on. Should I first study distributed systems? If so, what are some recommended resources?',\n",
       " \"Most of the students in your class spend a lot of time indoors playing with gadgets. They don't want to play outdoor games. What should be done to encourage students to play outdoor games and lead a healthy lifestyle?\",\n",
       " \"Both India and the US are big democracies yet the US has more independent states and laws when compared to India. What is the concept behind so many independent states and doesn't it cause conflict in laws between states?\",\n",
       " \"I was rejected by Google after the on-site interview. I'm almost sure I didn't do great in only one out of all the 5 interviews. Is my judgement plain wrong or is one insufficient interview enough to be rejected?\",\n",
       " \"I have a senior project to do. We're asked to come up with practical topics that can be experimented on and that have an actual application for the benefit of the society. What are some good topics for this?\",\n",
       " 'In a computer instruction format, the instruction length is 16 bits and the size of an address field is 4 bits. Is it possible to have: 15 3-address instructions, 256 2-address instructions, and 32 0-address instructions using the format?',\n",
       " 'What kind of work culture we have at Grofers nowadays? In the initial phase I heared that work culture is not so good, you have to work 7 days and long hours a day too. is it still same?',\n",
       " 'I was recently hired at Accenture in the Netherlands in technology consultancy. I was hired at level 11 analyst with 12 months at this level. How much time will it take me to get my first promotion to consultant?',\n",
       " \"My girlfriend's ex-boyfriend keeps calling and texting her a year after they had broken up, even after she has told him that she has a boyfriend now. Can I call him and tell him to stop calling my girlfriend?\",\n",
       " \"I get jealous when my crush is talking or chatting to other boys. After seeing her talking to other boys, I don't like to talk to her, even when she comes to talk to me. What should I do?\",\n",
       " 'I am a chemical engineering student in an NIT. I want to know how to apply for internships abroad for my branch. My GPA is around 6. Will I be able to do an internship abroad with that GPA?',\n",
       " 'Telephones: I sent a calendar invite to someone through Outlook.  They in turn proposed a new time, but I am unable to see what new time they proposed when I am on my iPhone.  How do I fix this?',\n",
       " \"S and T are the centers of their respective circles. The two circles are mutually tangent at point U. If segment RS = d, what is the radius of the smaller circle in terms of d and 'theta' (angle)?\",\n",
       " \"I passed 12th in 2014 and that year I didn't give the JEE and next year in 2015 I appeared for the 1st time. Can I be eligible for the JEE Advance 2016 if cleared the JEE Main 2016?\",\n",
       " 'Ethernet has a maximum speed of 1 gbps and wireless gives a maximum of 300 mbps. Can some one explain me what the speed here means and how is it related to the speed I subscribed to my ISP?',\n",
       " 'I am a final year M.Tech student from MIT, Manipal. I had a backlog in the 1st semester. My internal marks are low. I want to de-register instead of writing a make up. Is there a chance to re-register?',\n",
       " 'I was going to buy an MSI gaming laptop but I heard that it gets spoilt very easily. People also said that they use cheap parts. Is it true? If not MSI then which company is the best replacement?',\n",
       " 'I want to offer my private car (without a driver) on a monthly rental basis to Uber/OLA or any office transport service/rent a car service in Kolkata. How much rent can I expect? Which one is the best option?',\n",
       " 'I am an Indian commerce student studying in 12th. After my 12th, if I want to learn Android app developing and website making and online business, which career option should I choose: an MBA or some other degree course?',\n",
       " 'What should you do if you tell someone whom you consider a very good friend an idea you have for a business and then about 8 months later via Facebook this friend announces she is starting that same business?',\n",
       " 'An ex-employer is saying that I passed confidential information to a rival. Am I right in saying that they would only be able to sue me for damages if they could prove that I passed their secrets to rivals?',\n",
       " \"What bars or restaurants in San Francisco are affiliated (officially or unofficially) with sports teams? (i.e. Where can I go to watch a professional or college sports team's games if that team is not based in San Francisco?)\",\n",
       " 'What could these students of Hyderabad College who got washed away within minutes of surprise flash floods, caused due to the unannounced release of water from a dam upstream, have done differently to increase their chances of survival?',\n",
       " 'What are the ways for a student from a college in India, where CS companies like Google, Facebook, Microsoft, Amazon etc do not come for campus recruitment, to get a job in them within 0-3 years of graduation?',\n",
       " 'I saw in the news that a young girl is married to a old guy in Arab land. Does that mean he is following the Muhammad way of life, who had married Aisha who was 9 years old?',\n",
       " 'I have not received the Aadhaar card by post, but I am able to download it. There is no other problem as well when I checked my Aadhaar status. What should I do to get it by post?',\n",
       " 'If a women cannot get pregnant just by the male pre-cum coming in contact with the egg, then why is \"coitus interruptus,\" i.e. the male withdrawing the penis just before ejaculation, not considered a reliable form of contraception?',\n",
       " \"I was born to Indian parents in USA. I came back to India at the age of 1 without an American passport, on my mother's passport. What is the procedure to claim US citizenship by right of birth?\",\n",
       " 'I hv signed a 5 yr bond for pvt cmpny nw I hv completd 1 yr for bond break I hv to pay 1.5lac if I got govt job will bond break or I hv to pay 1.5lac?',\n",
       " 'If IQ is not an accurate predictor of intelligence, how do we explain the fact that people with reported IQs of 140 and above have a better long term/short term memory, cognitive skills, and a higher linguistic aptitude?',\n",
       " \"It's my first job and my first time as a civil engineer. My project is now starting to clear the area and site grading will follow. What are the important things I should not forget in site grading?\",\n",
       " \"My dog doesn't greet me at the door when I come home from work; he just looks at me and then ignores me. But when a friend visits, my dog gets really excited. Does my dog dislike me?\",\n",
       " \"Will Donald Trump's reforms work with the American people? Will it hurt the people from India who are doing their MS and/or PhD and trying to find jobs there? Will it hurt the IT people in H1B visa?\",\n",
       " 'I enjoy performing oral sex on my girlfriend, but she always gets wet too quickly. After that, liquid comes from her vagina, causing her vagina to have a strong smell and a salty taste. What should I do?',\n",
       " 'How do we know if an atom in a molecule has donated an electron to another atom as in ionic bond or if it is just sharing a valence electron with another atom as in a covalent bond?',\n",
       " 'What should I learn, User Experience or Software Engineering, from the perspective of finding a entry job in US, potential of the profession in future, and job flexibility? How essential is it for UX professional to draw UI?',\n",
       " \"I want to install Yelp on my mobile but can't because this app uses location services to operate, and unfortunately, it is not available in my country. Is there a way for me to hack my smartphone's coordinates?\",\n",
       " 'I enjoy performing oral sex on my girlfriend, but she always gets wet too quickly. After that, liquid comes from her vagina, causing her vagina to have a strong smell and a salty taste. What should I do?',\n",
       " \"I have done my B.Tech in electronics and communication and I want to do my master's in mechatronics from Germany. As I am from ECE, what are the prerequisites that I need to get into the mechatronics program?\",\n",
       " \"I am using Sybase database in my MVC4 application. To interact with Sybase I have extended Enterprise Library 6. but I can't find any example of generic repository interface and base class using the same? Is there any?\",\n",
       " 'What are common food costs in the assisted living/retirement living/nursing home industry? For instance, is there a common rule of thumb for food cost per resident? Specifically in the midwest but elsewhere in the U.S. appreciated as well.',\n",
       " 'If I was a God, could I drive Street View car from Munich to Moscow, ignoring both potential sources of trouble - privacy regulations in Germany and border checkpoints in Belarus and Russia and get completely gap-less coverage?',\n",
       " \"What can I do to help a very hardworking man, who is working on earning his CPA license, find a good accountant job? Any advice. He is trying so hard and no interviews or offers. It's so hard.\",\n",
       " 'If [math]2 ^x 3 ^ y 6 ^ z = 3 ^ x 6 ^ y 2 ^ z = 6 ^ x 2 ^ y 3 ^ z = 10[/math], then what is the value of [math]x[/math]?',\n",
       " 'I am 17 years old and I am looking for a online job that would support my education and would not require to use a credit card (since I dont have a bank account).What websites do you recommend?',\n",
       " 'I enjoy performing oral sex on my girlfriend, but she always gets wet too quickly. After that, liquid comes from her vagina, causing her vagina to have a strong smell and a salty taste. What should I do?',\n",
       " 'I bought the new Moto G 3 Gen and when I tried to connect it with the WiFi it says there is an authentication problem, but my other devices are connected easily. How can I fix this problem?',\n",
       " 'Suppose I sent a text on WhatsApp to my friend. It shows a single tick. Then I blocked the friend and unblocked him. Will he receive my messages, which were showing a single tick before I blocked him?',\n",
       " 'I\\'ve heard that people in the IQ range of 130s are capable of \"moderate literature\" and PhD in \"soft sciences\". I have an IQ of 132 and want a PhD in Astrophysics. Should I look into other jobs?',\n",
       " 'I was not able to give my BCom 1st year last exam because of chicken pox. Now I will have to give my back paper and the back paper will destroy my future. What should I do now?',\n",
       " 'Star Wars (creative franchise): Why is Darth Vader allowed into Jedi heaven in the last scene of Return of the Jedi even though, in addition to many murders, he helped commit genocide against the entire planet of Alderaan?',\n",
       " 'When it comes to affixing an Indian postal order with the RTI application to be dispatched, should I simply staple it with the entire lot, use a safety pin instead or can it be affixed using a glue?',\n",
       " \"Why does Europe have a voltage of 220 V, Japan has 100 V, and North America has 110 V? Is 220 V better, more dangerous, or more efficient? Why doesn't the world converge into a more unified voltage?\",\n",
       " 'I am having a home loan of 18 lakhs and my in hand salary is 50 thousands. I get annual payment of 1.5 lakh. Should I plan for the home loan principal or should I buy any plot?',\n",
       " 'When I look at some math Olympiad problems I feel really intimidated. I only know how to solve basic problems, nothing special, but I like math very much. Is there any hope for me to become a mathematician?',\n",
       " 'How much does an Ola cab charge for a 17-20 km ride in Kolkata? Does it charge more than the normal cabs? Normal AC cabs charge the same as the non-AC cabs. What is special about Ola cabs?',\n",
       " 'I enjoy performing oral sex on my girlfriend, but she always gets wet too quickly. After that, liquid comes from her vagina, causing her vagina to have a strong smell and a salty taste. What should I do?',\n",
       " 'A can finish a work in 18 days and B can do the same work in 15 days. B worked for 10 days and left the job. In how many days A alone can finish the remaining work?',\n",
       " 'How will daily activities worldwide be affected if days become longer (more than a few hours) as a sudden change in our present world, if it does not cause a change in natural patterns and only increase time?',\n",
       " \"At one point, you come across people who get a lot of things even though they don't deserve it whereas you don't succeed even when working very hard. How would you comfort yourself at that point in life?\",\n",
       " 'I am a candidate from OBC background. I have got 84% in 10th standard and 89.6% in 12th standard. What should be my ideal CPI in college and the CAT score to get into IIM A, B, C?',\n",
       " \"Preparing for gate 2016 Ece. Haven't joined classes, bought nodia books. Want to buy gate academy e-lectures and its test series. Shall I buy it. Does any other institute provides e lectures? It is it fine without e-lectures?\",\n",
       " 'Is an online eye test like Opternative the future of eye care or is it convenience for convenience sake, given that you still have to go to a physical eye specialist to get an actual eye health examination?',\n",
       " \"My phone is not charging properly. Rather, charge is draining when charger connected. After trying for days the mechanic couldn't fix it and decided to use a diode to direct the charging. Will this cause a battery/phone explosion?\",\n",
       " 'Do you think the passing of the GST bill proposed by the BJP would enhance the economy and would it be beneficial to the common man? If so, how would it serve as a surplus to the country?',\n",
       " \"I have applied for a Tatkaal passport. In that there is Annexure 'F'. What can I do if a gazetted officer refuses to sign the Annexure 'F' in their official letter pad saying that they don't know me?\",\n",
       " 'A man dressed in all black is walking down a country lane. Suddenly, a large black car without any lights on comes round the corner and screeches to a halt. How did the car know he was there?',\n",
       " \"I love a girl, but she doesn't love me and she wants to stay friends. I made it clear that I don't want her friendship but she still insists on staying in my life. What should I do?\",\n",
       " 'I enjoy performing oral sex on my girlfriend, but she always gets wet too quickly. After that, liquid comes from her vagina, causing her vagina to have a strong smell and a salty taste. What should I do?',\n",
       " 'I decided not to go to an exam as I was not well-prepared, but now I have to wait another 6 months for this exam as my future depends on it. How should I use these 6 months?',\n",
       " 'I have a startup idea, How can I approach venture capitalists, I have sent a mail but there is no response from them. How can I approach them? Will they permit if I directly go to their office?',\n",
       " \"I love a girl, but she doesn't love me and she wants to stay friends. I made it clear that I don't want her friendship but she still insists on staying in my life. What should I do?\",\n",
       " \"If you found a guy over social media and then got involved with each other or developed mutual feelings for each other, but then the guy doesn't want to show his face, what would you think of it?\",\n",
       " \"I have a low academic score. I failed twice in maths, twice in higher secondary and thrice in 10th but I'm really clever and intelligent. Do I still have chance to be selected as an intern at Apple?\",\n",
       " \"I am planning for a Goa trip for 2 to 3 days, but I don't have any idea about Goa. How can I plan a proper trip and what stuff should I not miss when I go there?\",\n",
       " \"I reported my passport as lost (and got a new one) but then found it again. There's a UK visa (General Visit) in it that's still valid. Would I be able to use this by carrying both passports?\",\n",
       " \"I'm freaking out about having to pay child support. I hear some stories about men pretty much being slaves while the mother of the child is living in paradise. What are the challenges I'm going to face ?\",\n",
       " 'Every year several languages die out. Some people think that this is not important because life will be easier if there are fewer language in the world. To what extent do you agree or disagree with this opinion?',\n",
       " 'In Indian Railways, most of the platforms are much below the train level. What is the reason of such height difference of platform and train? What are the stations where platform and train are at almost same level?',\n",
       " 'If I have no job, what is the best way to lose weight if I have nothing else to do for 1 month? Can I stay at the gym for 10 hours everyday in the next 30 days?',\n",
       " 'In a pick 4 game, you pay $1 to select a sequence of four digits, from 0 to 9, numbers can repeat. If you buy one ticket and win, you get $5000. What is the probability of winning?',\n",
       " 'Tom Clancy mentions about the existence of Red Route 1 in his novel the Hunt for Red October. Does it really exist? I mean was it really used by soviet subs? Or is it a work of fiction?',\n",
       " 'I have not attended any class this semester till now. Neither have I submitted the admission fees by the last date. Is there any chance of getting back to DTU? Or have they put me out of college?',\n",
       " 'Imagine someone who has a predator as a pet since it was born. Even though the animal is not taught to be wild his predator instincts seem to be inherited. Have we as humans lost our animal instincts?',\n",
       " 'If I have 6000 people who liked my page and I reached 4000 with my previous post, will my next post reach the same people or Facebook is going to show my posts to other people as well?',\n",
       " \"My Whatsapp chat history is stuck with a particular group's chat. I have tried many means but couldn't find a way to clear it. Can anyone help me? When I try to delete it, Whatsapp hangs and crashes!\",\n",
       " \"My ZenFone 5's USB connection is not being detected in my PC. I only can see it charging when I connect it, without even getting a popup. I tried MTP, installing drivers and everything. What can I do?\",\n",
       " \"I'm a fourth year medical student and I feel like I know nothing about medicine. It feels like I'll never become a doctor, let alone a good doctor. Is this a common feeling? Will it fade with time?\",\n",
       " 'Is it normal to be still in love with that person even if I know there is no future. If yes, then let me know about some efficient solution to get over it other than finding someone else?',\n",
       " 'I\\'m 15, 5\\'2\", and I got my period when I was 10. I\\'ve heard that girls will stop growing 2 years after they menstruate. Is this true? If yes, are there any ways for me to grow taller?',\n",
       " 'How many calories do you reckon I lose if I purge about 20-30 minutes after meals or right away after meals? How does the calorie absorption get affected? Is it the type of food or timing after meals?',\n",
       " 'I am currently an F1 student and will be working on OPT soon. Can I get my wife to the US when I am on OPT (H1B will be in process)? She wants to work in the US.',\n",
       " 'How can I implement XML sitemaps  for multilingual websites?   Should I include all the links in one xml sitemap file?   OR   Should I create different XML sitemap files for each language ex: sitemap_en.xml, sitemap_fr.xml and one sitemap_index.xml file?',\n",
       " 'I have been interning as an apprentice for a company for a month. I have to submit a project report based on my work. What should be the format and how should I go with the introductory part?',\n",
       " 'When I start copying some big file in my pen drive initially it gives 89-90mbps and then speed drops to 6-7 mbps. The same things happens when i restart the process. Whats the reason for this speed variation?',\n",
       " 'I am expecting a score of 22 in XAT 2016. I scored 11 in DM, 5.75 in quant and 5.25 in VA. I am in the general category. Are XIMB (HRM) and IMT G possible with this score?',\n",
       " 'What is the best way for a single woman to find a single, wealthy man that will marry her and take care of her financially (this also includes other parts of a relationship like love, trust and companionship)?',\n",
       " 'If we could see to the farthest reaches of the known universe in \"real time\", as opposed to how it appears through telescopes now, what would everything that old be like? What is it like out there now?',\n",
       " \"What can I do to help a very hardworking man, who is working on earning his CPA license, find a good accountant job? Any advice. He is trying so hard and no interviews or offers. It's so hard.\",\n",
       " \"I play on the computer. Recently, I bought a PS4 and I tried an FPS game. On the computer I am very good but on the console I can't even aim. What should I do to get better?\",\n",
       " 'How difficult/easy is it for owners (or their marketing people) of independent upscale fashion boutiques to differentiate themselves in the marketplace? How difficult/easy is it for them to create and execute fresh marketing campaigns on a continuous basis?',\n",
       " \"Do authorities/police pay the reward money to those who provide concrete information on 'wanted' people? Or it is just a marketing tactic to target the roadside dwellers who are at a greater chance of seeing these wanted suspects?\",\n",
       " \"My stalker added me on Facebook using a fake profile and after a couple of days she got my mobile number. I haven't added my number on social networking sites for sure. How did she get my number?\",\n",
       " \"I'm presenting some mobile app designs for a portfolio presentation in an interview. Should I make the designs be the full height of the PowerPoint, or do I need to make room for a title of the screen?\",\n",
       " \"Is it realistic to hold out hope for a long-distance online relationship in which we've never met in person or am I simply avoiding reality? Is it weird he calls me his gf even though we've never met?\",\n",
       " \"Why does Europe have a voltage of 220 V, Japan has 100 V, and North America has 110 V? Is 220 V better, more dangerous, or more efficient? Why doesn't the world converge into a more unified voltage?\",\n",
       " \"My upload speed in uTorrent is triple or even 4 times faster than the download speed. Shouldn't I be getting more for downloads if I am getting higher speeds in uploads? How can I increase the download speed?\",\n",
       " 'My daughter made a very wrong decision in life and ruined her life. She is over 20 and told me, \"I have very low self-esteem because of you.\" What exactly does it mean? What did I do wrong?',\n",
       " 'I enjoy performing oral sex on my girlfriend, but she always gets wet too quickly. After that, liquid comes from her vagina, causing her vagina to have a strong smell and a salty taste. What should I do?',\n",
       " 'After ten years of experience in Microsoft related technologies (C#, .NET, Powershell, MVC), in both test and development roles I am earning a salary of 10L per annum. How much should I be earning as per market standards?',\n",
       " \"I love a girl, but she doesn't love me and she wants to stay friends. I made it clear that I don't want her friendship but she still insists on staying in my life. What should I do?\",\n",
       " \"My upload speed in uTorrent is triple or even 4 times faster than the download speed. Shouldn't I be getting more for downloads if I am getting higher speeds in uploads? How can I increase the download speed?\",\n",
       " 'I am a 23-year-old MSc physics graduate from India. I am presently working in the proposals department of an engineering company. If I have to further my career in the technical side, what do I need to do?',\n",
       " \"On the 15th I am going to Germany, but this is my first time travelling alone. I am very nervous because I don't know anything like boarding. What is the step-by-step boarding procedure from Delhi International Airport T3?\",\n",
       " 'What was life like in Rome after the fall of the Western empire in 476, during the Ostrogothic occupation, when the Byzantines reclaimed the city in the mid sixth century, and when the Franks settled in after that?',\n",
       " 'I enjoy performing oral sex on my girlfriend, but she always gets wet too quickly. After that, liquid comes from her vagina, causing her vagina to have a strong smell and a salty taste. What should I do?',\n",
       " \"I was selected in the WISTA domain of Wipro through campus selection but later when I received my appointment letter I realized that Wipro changed my domain to GIS. Isn't it a fraud case? What should I do?\",\n",
       " 'Why are the well educated and well brought up people going and joining the ignorant and barbaric Islamic fanatics ISIS? What could be the possible reason which drives these sane minded people to be so blind and irrational?',\n",
       " 'Cost for 1kg of A is 260 USD and 1kg of B is 380. AB is made by mixing A and B. If 1kg of AB costs 300, what was the ratio that A and B has mixed?',\n",
       " 'How should I start a political campaign in my village for Gram Panchayat elections? As a 20 year old, what is the chance of winning in the elections when all other contestants are more than 30 years old?',\n",
       " \"My stalker added me on Facebook using a fake profile and after a couple of days she got my mobile number. I haven't added my number on social networking sites for sure. How did she get my number?\",\n",
       " 'Let S = {−1, 0, 2, 4, 7}. Find f (S) if a) f (x) = 1. b) f (x) = 2x + 1. c) f (x) = x /5. d) f (x) = (x2 + 1) /3.?',\n",
       " 'What are common food costs in the assisted living/retirement living/nursing home industry? For instance, is there a common rule of thumb for food cost per resident? Specifically in the midwest but elsewhere in the U.S. appreciated as well.',\n",
       " 'If we have a negative trait because of our genes, would it be possible to fix it and stop it from having an undesirable effect in our lives? Are we stuck with it even as we grow old?',\n",
       " 'We all knows that universe is expanding. Suppose that there are two different galaxies travelling in the opposite direction from each other at the speed of light. Can one will be able to see the other one ever?',\n",
       " 'In the movie Iron Eagle, Doug tells Chappy \"I have something that can make up some time,\" and proceeds to play One Vision by Queen. Why does this make up time more than just going faster without music?',\n",
       " 'I am working with a software company and they have asked me to work on a tool provided by PEGA. What information can you give to me on PEGA and the future scope as a PEGA tool developer?',\n",
       " 'I enjoy performing oral sex on my girlfriend, but she always gets wet too quickly. After that, liquid comes from her vagina, causing her vagina to have a strong smell and a salty taste. What should I do?',\n",
       " \"Three weeks ago, I was driving across the country and I got a speeding ticket. I lost it. I don't know the county or the claim number. I believe it was somewhere in Iowa. What should I do?\",\n",
       " 'There is a girl whom I want to ask out. We both work in the same organisation, the problem is that I have never talked to her nor do we have any common friends. How should I proceed?',\n",
       " \"My Moto G2 has been restarting automatically and I can't see anything except the Moto logo (blue circle with a white M). I have not seen my home screen since this morning. How do I repair my phone?\",\n",
       " \"I am bald on the right side above my ear because of an electric shock at the age of 1 and I don't have my right side log. Now I am 18. How can I style my hair?\",\n",
       " 'A can finish a work in 18 days and B can do the same work in 15 days. B worked for 10 days and left the job. In how many days A alone can finish the remaining work?',\n",
       " 'According to Indian constituency article 24 child labour is prohibited. Does that mean the children who are working in Bollywood and dramas are not doing labour, but the children working in industries are doing labour? Why this distinction?',\n",
       " \"I'm solving exercises of artificial neural network and there is a question related to the perceptron learning rule. In perceptron, if threshold < learning rate, does the exact value of threshold matter? Does it matter if threshold>learning rate?\",\n",
       " 'Do you think the passing of the GST bill proposed by the BJP would enhance the economy and would it be beneficial to the common man? If so, how would it serve as a surplus to the country?',\n",
       " \"I am not able to open or view my application form although I have filled up the form successfully and got the acknowledgment mail from SSC also. What do I do if it's showing an incorrect Regd ID?\",\n",
       " 'From a group of 7 men and 6 women, five persons are to be selected to form a committee so that at least 3 men are there on the committee. In how many ways can it be done?',\n",
       " 'Who are the 4 influential philosophers whose ideas influenced the Founding Fathers in setting up the structure of the American government? Where in the Constitution or in the modern American system do we see these ideas being applied?',\n",
       " \"I have applied for a Tatkaal passport. In that there is Annexure 'F'. What can I do if a gazetted officer refuses to sign the Annexure 'F' in their official letter pad saying that they don't know me?\",\n",
       " 'I am a computer engineering student and it is my second year at university. I am taking a digital design course and am interested in what I am learning. I want to learn more. How should I start?',\n",
       " 'My wife and I regularly reuse styrofoam cups after washing in the dishwasher. Friends suggest that we are creating a health hazard for ourselves. I understrand styrofoam is considered safe but what about our reuse over and over?',\n",
       " 'I want to make an SQL query. I have a series of dates given in a column. I want to show all the dates starting from the given date to the end date. How can I do this?',\n",
       " 'I am selling through Ebay and other website in all over India. My turnover is less than Rs.50000/- per year. What kind of registration I needed VAT/CST or can sell without any registration because of this low turnover?',\n",
       " 'I am an 18-year-old. I find certain older women very attractive, and when they act friendly with me, I do not show a very positive response, however later on I lustily fantasize about them. Is this very wrong?',\n",
       " 'I am creating an Artificial Neural Network program and need to use Gaussian, Sigmoid, ramp, linear and step transfer (activation) functions. What are some examples that I could use to use use each of the transfer functions separately?',\n",
       " 'My little dog takes her food from her dish, which is on a hard surface and walks about six feet to a carpeted surface. She sets it down and promptly eats it. Why does she do this?',\n",
       " 'I have an intracluster correlation matrix, symmetric matrix capturing correlation between clusters (based on k means). What is a nice way to represent these clusters graphically using this matrix and the post intra-cluster correlation of each variable?',\n",
       " \"It seems that receiving anal sex would hurt, but I've read that it's very pleasurable. My theory is that gay men are born with more nerve endings and thus are more sensitive there. What do you think?\",\n",
       " \"Apps like Facebook and Messenger keep restarting even after I force to stop them. I've tried Greenify and it also didn't work. I'm on a non rooted phone. How can I force the apps to stop restarting?\",\n",
       " 'How can you prove that the path of a point which possesses two constant velocities one along a fixed direction and the other perpendicular to the radius vector drawn from a fixed point is a conic section?',\n",
       " 'A car travels 40 kilometers at an average speed of 80 km/h and then travels 40 kilometers at an average speed of 40 km/h. What is the average speed of the car for this 80 km trip?',\n",
       " 'In India, is there a limit on the number of insurance policies an individual can hold? In the case of death of the person insured, will his family get benefits from all the insurance policies he had?',\n",
       " ...]"
      ]
     },
     "execution_count": 211,
     "metadata": {},
     "output_type": "execute_result"
    }
   ],
   "source": [
    "documents"
   ]
  },
  {
   "cell_type": "code",
   "execution_count": null,
   "metadata": {},
   "outputs": [],
   "source": []
  }
 ],
 "metadata": {
  "kernelspec": {
   "display_name": "Python 3",
   "language": "python",
   "name": "python3"
  },
  "language_info": {
   "codemirror_mode": {
    "name": "ipython",
    "version": 3
   },
   "file_extension": ".py",
   "mimetype": "text/x-python",
   "name": "python",
   "nbconvert_exporter": "python",
   "pygments_lexer": "ipython3",
   "version": "3.11.5"
  }
 },
 "nbformat": 4,
 "nbformat_minor": 2
}
