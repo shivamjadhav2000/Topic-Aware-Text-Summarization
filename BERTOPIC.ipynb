{
 "cells": [
  {
   "cell_type": "code",
   "execution_count": 205,
   "metadata": {},
   "outputs": [],
   "source": [
    "import pandas as pd\n",
    "from sentence_transformers import SentenceTransformer\n",
    "from bertopic import BERTopic\n",
    "\n",
    "# Load your dataset\n",
    "df = pd.read_csv('./dataset/quora_questions_filtered.csv')\n",
    "documents = list(df['Question'])\n",
    "\n"
   ]
  },
  {
   "cell_type": "code",
   "execution_count": 113,
   "metadata": {},
   "outputs": [],
   "source": [
    "# !pip install textblob"
   ]
  },
  {
   "cell_type": "code",
   "execution_count": 114,
   "metadata": {},
   "outputs": [
    {
     "name": "stderr",
     "output_type": "stream",
     "text": [
      "[nltk_data] Downloading package stopwords to\n",
      "[nltk_data]     C:\\Users\\jadha\\AppData\\Roaming\\nltk_data...\n",
      "[nltk_data]   Package stopwords is already up-to-date!\n"
     ]
    }
   ],
   "source": [
    "import nltk\n",
    "from nltk.corpus import stopwords\n",
    "import re\n",
    "\n",
    "# Download stopwords from nltk\n",
    "nltk.download('stopwords')\n",
    "stop_words = set(stopwords.words('english'))"
   ]
  },
  {
   "cell_type": "code",
   "execution_count": 116,
   "metadata": {},
   "outputs": [],
   "source": [
    "def preprocess_text(doc):\n",
    "    # Convert to lowercase\n",
    "    doc = doc.lower()\n",
    "    \n",
    "    # Remove stopwords\n",
    "    doc = ' '.join([word for word in doc.split() if word not in stop_words])\n",
    "    \n",
    "    return doc"
   ]
  },
  {
   "cell_type": "code",
   "execution_count": 117,
   "metadata": {},
   "outputs": [],
   "source": [
    "documents_preprocessed = [preprocess_text(doc) for doc in documents]"
   ]
  },
  {
   "cell_type": "code",
   "execution_count": 118,
   "metadata": {},
   "outputs": [
    {
     "name": "stderr",
     "output_type": "stream",
     "text": [
      "Batches: 100%|██████████| 961/961 [04:13<00:00,  3.79it/s]\n"
     ]
    }
   ],
   "source": [
    "# Initialize the BERT model\n",
    "model = SentenceTransformer('all-MiniLM-L6-v2')  # Or choose another model\n",
    "\n",
    "# Create embeddings for the documents\n",
    "embeddings = model.encode(documents, show_progress_bar=True)\n"
   ]
  },
  {
   "cell_type": "code",
   "execution_count": 240,
   "metadata": {},
   "outputs": [],
   "source": [
    "num_topics = 8\n",
    "topic_model = BERTopic(nr_topics=num_topics,n_gram_range=(15,40), min_topic_size= 20,top_n_words=20)\n",
    "\n",
    "# Fit the model on the embeddings\n",
    "topics, probs = topic_model.fit_transform(documents, embeddings)\n"
   ]
  },
  {
   "cell_type": "code",
   "execution_count": 241,
   "metadata": {},
   "outputs": [
    {
     "name": "stdout",
     "output_type": "stream",
     "text": [
      "{-1: [('would be safe for unmarried couples without the harassment of police hotel staff and moral police', 0.00017065340376948578), ('be safe for unmarried couples without the harassment of police hotel staff and moral police', 0.00017065340376948578), ('would be safe for unmarried couples without the harassment of police hotel staff and moral', 0.00017065340376948578), ('hillstation would be safe for unmarried couples without the harassment of police hotel staff and moral', 0.00014364996949599784), ('hillstation would be safe for unmarried couples without the harassment of police hotel staff and moral police', 0.00014364996949599784), ('hillstation would be safe for unmarried couples without the harassment of police hotel staff and', 0.00014364996949599784), ('safe for unmarried couples without the harassment of police hotel staff and moral police what', 5.0221127793967085e-05), ('be safe for unmarried couples without the harassment of police hotel staff and moral police what', 5.0221127793967085e-05), ('would be safe for unmarried couples without the harassment of police hotel staff and moral police what', 5.0221127793967085e-05), ('was the significance of the battle of somme and how did this battle compare and contrast to the battle of', 4.096576026929056e-05), ('what was the significance of the battle of somme and how did this battle compare and contrast to the battle', 4.096576026929056e-05), ('what was the significance of the battle of somme and how did this battle compare and contrast to', 4.096576026929056e-05), ('the significance of the battle of somme and how did this battle compare and contrast to the battle', 4.096576026929056e-05), ('significance of the battle of somme and how did this battle compare and contrast to the', 4.096576026929056e-05), ('the significance of the battle of somme and how did this battle compare and contrast to the', 4.096576026929056e-05), ('what was the significance of the battle of somme and how did this battle compare and contrast to the battle of', 4.096576026929056e-05), ('what was the significance of the battle of somme and how did this battle compare and contrast to the', 4.096576026929056e-05), ('what was the significance of the battle of somme and how did this battle compare', 4.096576026929056e-05), ('battle of somme and how did this battle compare and contrast to the battle of', 4.096576026929056e-05), ('significance of the battle of somme and how did this battle compare and contrast to the battle of', 4.096576026929056e-05)], 0: [('what were the major effects of the cambodia earthquake and how do these effects compare', 0.0009081644700772624), ('what were the major effects of the cambodia earthquake and how do these effects compare to the', 0.0009081644700772624), ('were the major effects of the cambodia earthquake and how do these effects compare to', 0.0009081644700772624), ('what were the major effects of the cambodia earthquake and how do these effects compare to', 0.0009081644700772624), ('were the major effects of the cambodia earthquake and how do these effects compare to the', 0.0009081644700772624), ('the major effects of the cambodia earthquake and how do these effects compare to the', 0.0009081644700772624), ('be safe for unmarried couples without the harassment of police hotel staff and moral police', 0.0007205090655332723), ('would be safe for unmarried couples without the harassment of police hotel staff and moral', 0.0007205090655332723), ('would be safe for unmarried couples without the harassment of police hotel staff and moral police', 0.0007205090655332723), ('was the significance of the battle of somme and how did this battle compare and contrast to', 0.0006987994472653621), ('what was the significance of the battle of somme and how did this battle compare and contrast to the battle', 0.0006987994472653621), ('was the significance of the battle of somme and how did this battle compare and contrast to the', 0.0006987994472653621), ('significance of the battle of somme and how did this battle compare and contrast to the', 0.0006987994472653621), ('what was the significance of the battle of somme and how did this battle compare and contrast to the battle of', 0.0006987994472653621), ('the significance of the battle of somme and how did this battle compare and contrast to the battle', 0.0006987994472653621), ('the significance of the battle of somme and how did this battle compare and contrast to the battle of', 0.0006987994472653621), ('what was the significance of the battle of somme and how did this battle compare and contrast to the', 0.0006987994472653621), ('significance of the battle of somme and how did this battle compare and contrast to the battle', 0.0006987994472653621), ('the battle of somme and how did this battle compare and contrast to the battle', 0.0006987994472653621), ('of the battle of somme and how did this battle compare and contrast to the', 0.0006987994472653621)], 1: [('what are the strongest majors in terms of job prospects and what are the weakest', 0.00017760637052666054), ('what are the strongest majors in terms of job prospects and what are the weakest majors', 0.00017760637052666054), ('are the strongest majors in terms of job prospects and what are the weakest majors at', 0.00017760637052666054), ('are the strongest majors in terms of job prospects and what are the weakest majors', 0.00017760637052666054), ('the strongest majors in terms of job prospects and what are the weakest majors at', 0.00017760637052666054), ('what are the strongest majors in terms of job prospects and what are the weakest majors at', 0.00017760637052666054), ('quora ask questions here when they can get them on google and why is quora just questionanswer site will it', 0.0001356268612805097), ('ask questions here when they can get them on google and why is quora just questionanswer site will', 0.0001356268612805097), ('ask questions here when they can get them on google and why is quora just questionanswer site will it', 0.0001356268612805097), ('ask questions here when they can get them on google and why is quora just questionanswer site will it expand', 0.0001356268612805097), ('questions here when they can get them on google and why is quora just questionanswer', 0.0001356268612805097), ('questions here when they can get them on google and why is quora just questionanswer site', 0.0001356268612805097), ('questions here when they can get them on google and why is quora just questionanswer site will', 0.0001356268612805097), ('questions here when they can get them on google and why is quora just questionanswer site will it', 0.0001356268612805097), ('questions here when they can get them on google and why is quora just questionanswer site will it expand', 0.0001356268612805097), ('quora ask questions here when they can get them on google and why is quora just questionanswer site will it expand', 0.0001356268612805097), ('quora ask questions here when they can get them on google and why is quora just questionanswer site will', 0.0001356268612805097), ('quora ask questions here when they can get them on google and why is quora just questionanswer site', 0.0001356268612805097), ('quora ask questions here when they can get them on google and why is quora just questionanswer', 0.0001356268612805097), ('quora ask questions here when they can get them on google and why is quora just', 0.0001356268612805097)], 2: [('meth out of my system in less than days so can pass my drug test', 0.00013907841192960254), ('how can get meth out of my system in less than days so can pass my', 0.00013907841192960254), ('can get meth out of my system in less than days so can pass my drug', 0.00013907841192960254), ('can get meth out of my system in less than days so can pass my drug test', 0.00013907841192960254), ('get meth out of my system in less than days so can pass my drug test', 0.00013907841192960254), ('get meth out of my system in less than days so can pass my drug', 0.00013907841192960254), ('how can get meth out of my system in less than days so can pass', 0.00013907841192960254), ('how can get meth out of my system in less than days so can pass my drug', 0.00013907841192960254), ('how can get meth out of my system in less than days so can pass my drug test', 0.00013907841192960254), ('can get meth out of my system in less than days so can pass my', 0.00013907841192960254), ('were drawn without replacement from pack of 52 cards what is the probability that they are', 0.00011641666708163821), ('drawn without replacement from pack of 52 cards what is the probability that they are both', 0.00011641666708163821), ('drawn without replacement from pack of 52 cards what is the probability that they are', 0.00011641666708163821), ('cards were drawn without replacement from pack of 52 cards what is the probability that', 0.00011641666708163821), ('drawn without replacement from pack of 52 cards what is the probability that they are both kings', 0.00011641666708163821), ('were drawn without replacement from pack of 52 cards what is the probability that they', 0.00011641666708163821), ('were drawn without replacement from pack of 52 cards what is the probability that they are both', 0.00011641666708163821), ('two cards were drawn without replacement from pack of 52 cards what is the probability that they are both', 0.00011641666708163821), ('two cards were drawn without replacement from pack of 52 cards what is the probability that they are both kings', 0.00011641666708163821), ('cards were drawn without replacement from pack of 52 cards what is the probability that they', 0.00011641666708163821)], 3: [('of the universe is infinite and more and more of it is created as the universe', 0.0001831234385870469), ('if universe expands and vacuum energy is created with it with no limitis there infinite potential energyinfinite vacuum', 0.0001831234385870469), ('energy infinite because the expansion of the universe is infinite and more and more of it is created', 0.0001831234385870469), ('energy is created with it with no limitis there infinite potential energyinfinite vacuum energy that can be', 0.0001831234385870469), ('energy infinite because the expansion of the universe is infinite and more and more of it is created as the', 0.0001831234385870469), ('infinite because the expansion of the universe is infinite and more and more of it', 0.0001831234385870469), ('energy infinite because the expansion of the universe is infinite and more and more of it is created as the universe expands', 0.0001831234385870469), ('is darkvacuum energy infinite because the expansion of the universe is infinite and more and more of it', 0.0001831234385870469), ('vacuum energy is created with it with no limitis there infinite potential energyinfinite vacuum energy that can be', 0.0001831234385870469), ('vacuum energy is created with it with no limitis there infinite potential energyinfinite vacuum energy that can', 0.0001831234385870469), ('vacuum energy is created with it with no limitis there infinite potential energyinfinite vacuum energy that', 0.0001831234385870469), ('vacuum energy is created with it with no limitis there infinite potential energyinfinite vacuum energy', 0.0001831234385870469), ('energy infinite because the expansion of the universe is infinite and more and more of it', 0.0001831234385870469), ('energy infinite because the expansion of the universe is infinite and more and more of it is created as the universe', 0.0001831234385870469), ('energy infinite because the expansion of the universe is infinite and more and more of', 0.0001831234385870469), ('of the universe is infinite and more and more of it is created as the universe expands', 0.0001831234385870469), ('if universe expands and vacuum energy is created with it with no limitis there infinite potential energyinfinite', 0.0001831234385870469), ('darkvacuum energy infinite because the expansion of the universe is infinite and more and more of it is created as the universe', 0.0001831234385870469), ('darkvacuum energy infinite because the expansion of the universe is infinite and more and more of it is created as the universe expands', 0.0001831234385870469), ('vacuum energy is created with it with no limitis there infinite potential energyinfinite vacuum energy that can be created', 0.0001831234385870469)], 4: [('texted me right after to say he had fun why is he not contacting me', 0.00013655017316368796), ('date and he tried to kiss me and texted me right after to say he had fun why is he not contacting', 0.00013655017316368796), ('and he tried to kiss me and texted me right after to say he had fun why is he not contacting me', 0.00013655017316368796), ('me right after to say he had fun why is he not contacting me at all', 0.00013655017316368796), ('texted me right after to say he had fun why is he not contacting me at', 0.00013655017316368796), ('me right after to say he had fun why is he not contacting me at all for days', 0.00013655017316368796), ('date and he tried to kiss me and texted me right after to say he had fun why is he not contacting me', 0.00013655017316368796), ('to kiss me and texted me right after to say he had fun why is', 0.00013655017316368796), ('to kiss me and texted me right after to say he had fun why is he', 0.00013655017316368796), ('to kiss me and texted me right after to say he had fun why is he not', 0.00013655017316368796), ('to kiss me and texted me right after to say he had fun why is he not contacting', 0.00013655017316368796), ('to kiss me and texted me right after to say he had fun why is he not contacting me', 0.00013655017316368796), ('to kiss me and texted me right after to say he had fun why is he not contacting me at', 0.00013655017316368796), ('after to say he had fun why is he not contacting me at all for days now', 0.00013655017316368796), ('tried to kiss me and texted me right after to say he had fun why is', 0.00013655017316368796), ('after to say he had fun why is he not contacting me at all for', 0.00013655017316368796), ('to say he had fun why is he not contacting me at all for days', 0.00013655017316368796), ('to say he had fun why is he not contacting me at all for days now', 0.00013655017316368796), ('to kiss me and texted me right after to say he had fun why is he not contacting me at all', 0.00013655017316368796), ('to kiss me and texted me right after to say he had fun why is he not contacting me at all for', 0.00013655017316368796)], 5: [('password and the email address used to create my snapchat account how can log in or at least change my', 0.00019782634984948522), ('the email address used to create my snapchat account how can log in or at least change', 0.00019782634984948522), ('my password and the email address used to create my snapchat account how can log in or at least change', 0.00019782634984948522), ('password and the email address used to create my snapchat account how can log in or at least', 0.00019782634984948522), ('password and the email address used to create my snapchat account how can log in or at least change', 0.00019782634984948522), ('password and the email address used to create my snapchat account how can log in or at least change my email address or password', 0.00019782634984948522), ('my password and the email address used to create my snapchat account how can log in or', 0.00019782634984948522), ('password and the email address used to create my snapchat account how can log in or at least change my email', 0.00019782634984948522), ('password and the email address used to create my snapchat account how can log in or at least change my email address', 0.00019782634984948522), ('my password and the email address used to create my snapchat account how can log in', 0.00019782634984948522), ('my password and the email address used to create my snapchat account how can log in or at', 0.00019782634984948522), ('to create my snapchat account how can log in or at least change my email', 0.00019782634984948522), ('to create my snapchat account how can log in or at least change my email address', 0.00019782634984948522), ('to create my snapchat account how can log in or at least change my email address or password', 0.00019782634984948522), ('to create my snapchat account how can log in or at least change my email address or', 0.00019782634984948522), ('the email address used to create my snapchat account how can log in or at least change my email address or password', 0.00019782634984948522), ('the email address used to create my snapchat account how can log in or at least change my email address or', 0.00019782634984948522), ('the email address used to create my snapchat account how can log in or at least change my email address', 0.00019782634984948522), ('my snapchat account how can log in or at least change my email address or', 0.00019782634984948522), ('my snapchat account how can log in or at least change my email address or password', 0.00019782634984948522)], 6: [('are the safety precautions on handling shotguns proposed by the nra in the entire us including its territories and possessions', 0.001020468538193911), ('on handling shotguns proposed by the nra in the entire us including its territories and possessions', 0.001020468538193911), ('are the safety precautions on handling shotguns proposed by the nra in the entire us including', 0.001020468538193911), ('what are the safety precautions on handling shotguns proposed by the nra in the entire us', 0.001020468538193911), ('safety precautions on handling shotguns proposed by the nra in the entire us including its territories and possessions', 0.001020468538193911), ('are the safety precautions on handling shotguns proposed by the nra in the entire us including its', 0.001020468538193911), ('safety precautions on handling shotguns proposed by the nra in the entire us including its territories and', 0.001020468538193911), ('are the safety precautions on handling shotguns proposed by the nra in the entire us including its territories and', 0.001020468538193911), ('what are the safety precautions on handling shotguns proposed by the nra in the entire', 0.001020468538193911), ('precautions on handling shotguns proposed by the nra in the entire us including its territories', 0.001020468538193911), ('precautions on handling shotguns proposed by the nra in the entire us including its territories and possessions', 0.001020468538193911), ('are the safety precautions on handling shotguns proposed by the nra in the entire us including its territories', 0.001020468538193911), ('precautions on handling shotguns proposed by the nra in the entire us including its territories and', 0.001020468538193911), ('what are the safety precautions on handling shotguns proposed by the nra in the entire us including its territories and possessions', 0.001020468538193911), ('what are the safety precautions on handling shotguns proposed by the nra in the entire us including', 0.001020468538193911), ('what are the safety precautions on handling shotguns proposed by the nra in the entire us including its', 0.001020468538193911), ('what are the safety precautions on handling shotguns proposed by the nra in the entire us including its territories', 0.001020468538193911), ('what are the safety precautions on handling shotguns proposed by the nra in the entire us including its territories and', 0.001020468538193911), ('are the safety precautions on handling shotguns proposed by the nra in the entire us', 0.001020468538193911), ('safety precautions on handling shotguns proposed by the nra in the entire us including its territories', 0.001020468538193911)]}\n"
     ]
    },
    {
     "data": {
      "application/vnd.plotly.v1+json": {
       "config": {
        "plotlyServerURL": "https://plot.ly"
       },
       "data": [
        {
         "customdata": [
          [
           0,
           "what were the major effects of the cambodia earthquake and how do these effects compare | what were the major effects of the cambodia earthquake and how do these effects compare to the | were the major effects of the cambodia earthquake and how do these effects compare to | what were the major effects of the cambodia earthquake and how do these effects compare to | were the major effects of the cambodia earthquake and how do these effects compare to the",
           4468
          ],
          [
           1,
           "what are the strongest majors in terms of job prospects and what are the weakest | what are the strongest majors in terms of job prospects and what are the weakest majors | are the strongest majors in terms of job prospects and what are the weakest majors at | are the strongest majors in terms of job prospects and what are the weakest majors | the strongest majors in terms of job prospects and what are the weakest majors at",
           4077
          ],
          [
           2,
           "meth out of my system in less than days so can pass my drug test | how can get meth out of my system in less than days so can pass my | can get meth out of my system in less than days so can pass my drug | can get meth out of my system in less than days so can pass my drug test | get meth out of my system in less than days so can pass my drug test",
           2371
          ],
          [
           3,
           "of the universe is infinite and more and more of it is created as the universe | if universe expands and vacuum energy is created with it with no limitis there infinite potential energyinfinite vacuum | energy infinite because the expansion of the universe is infinite and more and more of it is created | energy is created with it with no limitis there infinite potential energyinfinite vacuum energy that can be | energy infinite because the expansion of the universe is infinite and more and more of it is created as the",
           2177
          ],
          [
           4,
           "texted me right after to say he had fun why is he not contacting me | date and he tried to kiss me and texted me right after to say he had fun why is he not contacting | and he tried to kiss me and texted me right after to say he had fun why is he not contacting me | me right after to say he had fun why is he not contacting me at all | texted me right after to say he had fun why is he not contacting me at",
           1798
          ],
          [
           5,
           "password and the email address used to create my snapchat account how can log in or at least change my | the email address used to create my snapchat account how can log in or at least change | my password and the email address used to create my snapchat account how can log in or at least change | password and the email address used to create my snapchat account how can log in or at least | password and the email address used to create my snapchat account how can log in or at least change",
           1751
          ],
          [
           6,
           "are the safety precautions on handling shotguns proposed by the nra in the entire us including its territories and possessions | on handling shotguns proposed by the nra in the entire us including its territories and possessions | are the safety precautions on handling shotguns proposed by the nra in the entire us including | what are the safety precautions on handling shotguns proposed by the nra in the entire us | safety precautions on handling shotguns proposed by the nra in the entire us including its territories and possessions",
           648
          ]
         ],
         "hovertemplate": "<b>Topic %{customdata[0]}</b><br>%{customdata[1]}<br>Size: %{customdata[2]}",
         "legendgroup": "",
         "marker": {
          "color": "#B0BEC5",
          "line": {
           "color": "DarkSlateGrey",
           "width": 2
          },
          "size": [
           4468,
           4077,
           2371,
           2177,
           1798,
           1751,
           648
          ],
          "sizemode": "area",
          "sizeref": 2.7925,
          "symbol": "circle"
         },
         "mode": "markers",
         "name": "",
         "orientation": "v",
         "showlegend": false,
         "type": "scatter",
         "x": [
          9.477428436279297,
          10.644536972045898,
          -18.776988983154297,
          -18.38701820373535,
          -18.021400451660156,
          10.300434112548828,
          8.970817565917969
         ],
         "xaxis": "x",
         "y": [
          17.42230796813965,
          18.576454162597656,
          2.6499314308166504,
          3.0477943420410156,
          3.415571928024292,
          18.239097595214844,
          16.92036247253418
         ],
         "yaxis": "y"
        }
       ],
       "layout": {
        "annotations": [
         {
          "showarrow": false,
          "text": "D1",
          "x": -21.59353733062744,
          "y": 11.80768200159073,
          "yshift": 10
         },
         {
          "showarrow": false,
          "text": "D2",
          "x": -4.676159906387329,
          "xshift": 10,
          "y": 21.362922286987306
         }
        ],
        "height": 650,
        "hoverlabel": {
         "bgcolor": "white",
         "font": {
          "family": "Rockwell",
          "size": 16
         }
        },
        "legend": {
         "itemsizing": "constant",
         "tracegroupgap": 0
        },
        "margin": {
         "t": 60
        },
        "shapes": [
         {
          "line": {
           "color": "#CFD8DC",
           "width": 2
          },
          "type": "line",
          "x0": -4.676159906387329,
          "x1": -4.676159906387329,
          "y0": 2.252441716194153,
          "y1": 21.362922286987306
         },
         {
          "line": {
           "color": "#9E9E9E",
           "width": 2
          },
          "type": "line",
          "x0": -21.59353733062744,
          "x1": 12.241217517852784,
          "y0": 11.80768200159073,
          "y1": 11.80768200159073
         }
        ],
        "sliders": [
         {
          "active": 0,
          "pad": {
           "t": 50
          },
          "steps": [
           {
            "args": [
             {
              "marker.color": [
               [
                "red",
                "#B0BEC5",
                "#B0BEC5",
                "#B0BEC5",
                "#B0BEC5",
                "#B0BEC5",
                "#B0BEC5"
               ]
              ]
             }
            ],
            "label": "Topic 0",
            "method": "update"
           },
           {
            "args": [
             {
              "marker.color": [
               [
                "#B0BEC5",
                "red",
                "#B0BEC5",
                "#B0BEC5",
                "#B0BEC5",
                "#B0BEC5",
                "#B0BEC5"
               ]
              ]
             }
            ],
            "label": "Topic 1",
            "method": "update"
           },
           {
            "args": [
             {
              "marker.color": [
               [
                "#B0BEC5",
                "#B0BEC5",
                "red",
                "#B0BEC5",
                "#B0BEC5",
                "#B0BEC5",
                "#B0BEC5"
               ]
              ]
             }
            ],
            "label": "Topic 2",
            "method": "update"
           },
           {
            "args": [
             {
              "marker.color": [
               [
                "#B0BEC5",
                "#B0BEC5",
                "#B0BEC5",
                "red",
                "#B0BEC5",
                "#B0BEC5",
                "#B0BEC5"
               ]
              ]
             }
            ],
            "label": "Topic 3",
            "method": "update"
           },
           {
            "args": [
             {
              "marker.color": [
               [
                "#B0BEC5",
                "#B0BEC5",
                "#B0BEC5",
                "#B0BEC5",
                "red",
                "#B0BEC5",
                "#B0BEC5"
               ]
              ]
             }
            ],
            "label": "Topic 4",
            "method": "update"
           },
           {
            "args": [
             {
              "marker.color": [
               [
                "#B0BEC5",
                "#B0BEC5",
                "#B0BEC5",
                "#B0BEC5",
                "#B0BEC5",
                "red",
                "#B0BEC5"
               ]
              ]
             }
            ],
            "label": "Topic 5",
            "method": "update"
           },
           {
            "args": [
             {
              "marker.color": [
               [
                "#B0BEC5",
                "#B0BEC5",
                "#B0BEC5",
                "#B0BEC5",
                "#B0BEC5",
                "#B0BEC5",
                "red"
               ]
              ]
             }
            ],
            "label": "Topic 6",
            "method": "update"
           }
          ]
         }
        ],
        "template": {
         "data": {
          "bar": [
           {
            "error_x": {
             "color": "rgb(36,36,36)"
            },
            "error_y": {
             "color": "rgb(36,36,36)"
            },
            "marker": {
             "line": {
              "color": "white",
              "width": 0.5
             },
             "pattern": {
              "fillmode": "overlay",
              "size": 10,
              "solidity": 0.2
             }
            },
            "type": "bar"
           }
          ],
          "barpolar": [
           {
            "marker": {
             "line": {
              "color": "white",
              "width": 0.5
             },
             "pattern": {
              "fillmode": "overlay",
              "size": 10,
              "solidity": 0.2
             }
            },
            "type": "barpolar"
           }
          ],
          "carpet": [
           {
            "aaxis": {
             "endlinecolor": "rgb(36,36,36)",
             "gridcolor": "white",
             "linecolor": "white",
             "minorgridcolor": "white",
             "startlinecolor": "rgb(36,36,36)"
            },
            "baxis": {
             "endlinecolor": "rgb(36,36,36)",
             "gridcolor": "white",
             "linecolor": "white",
             "minorgridcolor": "white",
             "startlinecolor": "rgb(36,36,36)"
            },
            "type": "carpet"
           }
          ],
          "choropleth": [
           {
            "colorbar": {
             "outlinewidth": 1,
             "tickcolor": "rgb(36,36,36)",
             "ticks": "outside"
            },
            "type": "choropleth"
           }
          ],
          "contour": [
           {
            "colorbar": {
             "outlinewidth": 1,
             "tickcolor": "rgb(36,36,36)",
             "ticks": "outside"
            },
            "colorscale": [
             [
              0,
              "#440154"
             ],
             [
              0.1111111111111111,
              "#482878"
             ],
             [
              0.2222222222222222,
              "#3e4989"
             ],
             [
              0.3333333333333333,
              "#31688e"
             ],
             [
              0.4444444444444444,
              "#26828e"
             ],
             [
              0.5555555555555556,
              "#1f9e89"
             ],
             [
              0.6666666666666666,
              "#35b779"
             ],
             [
              0.7777777777777778,
              "#6ece58"
             ],
             [
              0.8888888888888888,
              "#b5de2b"
             ],
             [
              1,
              "#fde725"
             ]
            ],
            "type": "contour"
           }
          ],
          "contourcarpet": [
           {
            "colorbar": {
             "outlinewidth": 1,
             "tickcolor": "rgb(36,36,36)",
             "ticks": "outside"
            },
            "type": "contourcarpet"
           }
          ],
          "heatmap": [
           {
            "colorbar": {
             "outlinewidth": 1,
             "tickcolor": "rgb(36,36,36)",
             "ticks": "outside"
            },
            "colorscale": [
             [
              0,
              "#440154"
             ],
             [
              0.1111111111111111,
              "#482878"
             ],
             [
              0.2222222222222222,
              "#3e4989"
             ],
             [
              0.3333333333333333,
              "#31688e"
             ],
             [
              0.4444444444444444,
              "#26828e"
             ],
             [
              0.5555555555555556,
              "#1f9e89"
             ],
             [
              0.6666666666666666,
              "#35b779"
             ],
             [
              0.7777777777777778,
              "#6ece58"
             ],
             [
              0.8888888888888888,
              "#b5de2b"
             ],
             [
              1,
              "#fde725"
             ]
            ],
            "type": "heatmap"
           }
          ],
          "heatmapgl": [
           {
            "colorbar": {
             "outlinewidth": 1,
             "tickcolor": "rgb(36,36,36)",
             "ticks": "outside"
            },
            "colorscale": [
             [
              0,
              "#440154"
             ],
             [
              0.1111111111111111,
              "#482878"
             ],
             [
              0.2222222222222222,
              "#3e4989"
             ],
             [
              0.3333333333333333,
              "#31688e"
             ],
             [
              0.4444444444444444,
              "#26828e"
             ],
             [
              0.5555555555555556,
              "#1f9e89"
             ],
             [
              0.6666666666666666,
              "#35b779"
             ],
             [
              0.7777777777777778,
              "#6ece58"
             ],
             [
              0.8888888888888888,
              "#b5de2b"
             ],
             [
              1,
              "#fde725"
             ]
            ],
            "type": "heatmapgl"
           }
          ],
          "histogram": [
           {
            "marker": {
             "line": {
              "color": "white",
              "width": 0.6
             }
            },
            "type": "histogram"
           }
          ],
          "histogram2d": [
           {
            "colorbar": {
             "outlinewidth": 1,
             "tickcolor": "rgb(36,36,36)",
             "ticks": "outside"
            },
            "colorscale": [
             [
              0,
              "#440154"
             ],
             [
              0.1111111111111111,
              "#482878"
             ],
             [
              0.2222222222222222,
              "#3e4989"
             ],
             [
              0.3333333333333333,
              "#31688e"
             ],
             [
              0.4444444444444444,
              "#26828e"
             ],
             [
              0.5555555555555556,
              "#1f9e89"
             ],
             [
              0.6666666666666666,
              "#35b779"
             ],
             [
              0.7777777777777778,
              "#6ece58"
             ],
             [
              0.8888888888888888,
              "#b5de2b"
             ],
             [
              1,
              "#fde725"
             ]
            ],
            "type": "histogram2d"
           }
          ],
          "histogram2dcontour": [
           {
            "colorbar": {
             "outlinewidth": 1,
             "tickcolor": "rgb(36,36,36)",
             "ticks": "outside"
            },
            "colorscale": [
             [
              0,
              "#440154"
             ],
             [
              0.1111111111111111,
              "#482878"
             ],
             [
              0.2222222222222222,
              "#3e4989"
             ],
             [
              0.3333333333333333,
              "#31688e"
             ],
             [
              0.4444444444444444,
              "#26828e"
             ],
             [
              0.5555555555555556,
              "#1f9e89"
             ],
             [
              0.6666666666666666,
              "#35b779"
             ],
             [
              0.7777777777777778,
              "#6ece58"
             ],
             [
              0.8888888888888888,
              "#b5de2b"
             ],
             [
              1,
              "#fde725"
             ]
            ],
            "type": "histogram2dcontour"
           }
          ],
          "mesh3d": [
           {
            "colorbar": {
             "outlinewidth": 1,
             "tickcolor": "rgb(36,36,36)",
             "ticks": "outside"
            },
            "type": "mesh3d"
           }
          ],
          "parcoords": [
           {
            "line": {
             "colorbar": {
              "outlinewidth": 1,
              "tickcolor": "rgb(36,36,36)",
              "ticks": "outside"
             }
            },
            "type": "parcoords"
           }
          ],
          "pie": [
           {
            "automargin": true,
            "type": "pie"
           }
          ],
          "scatter": [
           {
            "fillpattern": {
             "fillmode": "overlay",
             "size": 10,
             "solidity": 0.2
            },
            "type": "scatter"
           }
          ],
          "scatter3d": [
           {
            "line": {
             "colorbar": {
              "outlinewidth": 1,
              "tickcolor": "rgb(36,36,36)",
              "ticks": "outside"
             }
            },
            "marker": {
             "colorbar": {
              "outlinewidth": 1,
              "tickcolor": "rgb(36,36,36)",
              "ticks": "outside"
             }
            },
            "type": "scatter3d"
           }
          ],
          "scattercarpet": [
           {
            "marker": {
             "colorbar": {
              "outlinewidth": 1,
              "tickcolor": "rgb(36,36,36)",
              "ticks": "outside"
             }
            },
            "type": "scattercarpet"
           }
          ],
          "scattergeo": [
           {
            "marker": {
             "colorbar": {
              "outlinewidth": 1,
              "tickcolor": "rgb(36,36,36)",
              "ticks": "outside"
             }
            },
            "type": "scattergeo"
           }
          ],
          "scattergl": [
           {
            "marker": {
             "colorbar": {
              "outlinewidth": 1,
              "tickcolor": "rgb(36,36,36)",
              "ticks": "outside"
             }
            },
            "type": "scattergl"
           }
          ],
          "scattermapbox": [
           {
            "marker": {
             "colorbar": {
              "outlinewidth": 1,
              "tickcolor": "rgb(36,36,36)",
              "ticks": "outside"
             }
            },
            "type": "scattermapbox"
           }
          ],
          "scatterpolar": [
           {
            "marker": {
             "colorbar": {
              "outlinewidth": 1,
              "tickcolor": "rgb(36,36,36)",
              "ticks": "outside"
             }
            },
            "type": "scatterpolar"
           }
          ],
          "scatterpolargl": [
           {
            "marker": {
             "colorbar": {
              "outlinewidth": 1,
              "tickcolor": "rgb(36,36,36)",
              "ticks": "outside"
             }
            },
            "type": "scatterpolargl"
           }
          ],
          "scatterternary": [
           {
            "marker": {
             "colorbar": {
              "outlinewidth": 1,
              "tickcolor": "rgb(36,36,36)",
              "ticks": "outside"
             }
            },
            "type": "scatterternary"
           }
          ],
          "surface": [
           {
            "colorbar": {
             "outlinewidth": 1,
             "tickcolor": "rgb(36,36,36)",
             "ticks": "outside"
            },
            "colorscale": [
             [
              0,
              "#440154"
             ],
             [
              0.1111111111111111,
              "#482878"
             ],
             [
              0.2222222222222222,
              "#3e4989"
             ],
             [
              0.3333333333333333,
              "#31688e"
             ],
             [
              0.4444444444444444,
              "#26828e"
             ],
             [
              0.5555555555555556,
              "#1f9e89"
             ],
             [
              0.6666666666666666,
              "#35b779"
             ],
             [
              0.7777777777777778,
              "#6ece58"
             ],
             [
              0.8888888888888888,
              "#b5de2b"
             ],
             [
              1,
              "#fde725"
             ]
            ],
            "type": "surface"
           }
          ],
          "table": [
           {
            "cells": {
             "fill": {
              "color": "rgb(237,237,237)"
             },
             "line": {
              "color": "white"
             }
            },
            "header": {
             "fill": {
              "color": "rgb(217,217,217)"
             },
             "line": {
              "color": "white"
             }
            },
            "type": "table"
           }
          ]
         },
         "layout": {
          "annotationdefaults": {
           "arrowhead": 0,
           "arrowwidth": 1
          },
          "autotypenumbers": "strict",
          "coloraxis": {
           "colorbar": {
            "outlinewidth": 1,
            "tickcolor": "rgb(36,36,36)",
            "ticks": "outside"
           }
          },
          "colorscale": {
           "diverging": [
            [
             0,
             "rgb(103,0,31)"
            ],
            [
             0.1,
             "rgb(178,24,43)"
            ],
            [
             0.2,
             "rgb(214,96,77)"
            ],
            [
             0.3,
             "rgb(244,165,130)"
            ],
            [
             0.4,
             "rgb(253,219,199)"
            ],
            [
             0.5,
             "rgb(247,247,247)"
            ],
            [
             0.6,
             "rgb(209,229,240)"
            ],
            [
             0.7,
             "rgb(146,197,222)"
            ],
            [
             0.8,
             "rgb(67,147,195)"
            ],
            [
             0.9,
             "rgb(33,102,172)"
            ],
            [
             1,
             "rgb(5,48,97)"
            ]
           ],
           "sequential": [
            [
             0,
             "#440154"
            ],
            [
             0.1111111111111111,
             "#482878"
            ],
            [
             0.2222222222222222,
             "#3e4989"
            ],
            [
             0.3333333333333333,
             "#31688e"
            ],
            [
             0.4444444444444444,
             "#26828e"
            ],
            [
             0.5555555555555556,
             "#1f9e89"
            ],
            [
             0.6666666666666666,
             "#35b779"
            ],
            [
             0.7777777777777778,
             "#6ece58"
            ],
            [
             0.8888888888888888,
             "#b5de2b"
            ],
            [
             1,
             "#fde725"
            ]
           ],
           "sequentialminus": [
            [
             0,
             "#440154"
            ],
            [
             0.1111111111111111,
             "#482878"
            ],
            [
             0.2222222222222222,
             "#3e4989"
            ],
            [
             0.3333333333333333,
             "#31688e"
            ],
            [
             0.4444444444444444,
             "#26828e"
            ],
            [
             0.5555555555555556,
             "#1f9e89"
            ],
            [
             0.6666666666666666,
             "#35b779"
            ],
            [
             0.7777777777777778,
             "#6ece58"
            ],
            [
             0.8888888888888888,
             "#b5de2b"
            ],
            [
             1,
             "#fde725"
            ]
           ]
          },
          "colorway": [
           "#1F77B4",
           "#FF7F0E",
           "#2CA02C",
           "#D62728",
           "#9467BD",
           "#8C564B",
           "#E377C2",
           "#7F7F7F",
           "#BCBD22",
           "#17BECF"
          ],
          "font": {
           "color": "rgb(36,36,36)"
          },
          "geo": {
           "bgcolor": "white",
           "lakecolor": "white",
           "landcolor": "white",
           "showlakes": true,
           "showland": true,
           "subunitcolor": "white"
          },
          "hoverlabel": {
           "align": "left"
          },
          "hovermode": "closest",
          "mapbox": {
           "style": "light"
          },
          "paper_bgcolor": "white",
          "plot_bgcolor": "white",
          "polar": {
           "angularaxis": {
            "gridcolor": "rgb(232,232,232)",
            "linecolor": "rgb(36,36,36)",
            "showgrid": false,
            "showline": true,
            "ticks": "outside"
           },
           "bgcolor": "white",
           "radialaxis": {
            "gridcolor": "rgb(232,232,232)",
            "linecolor": "rgb(36,36,36)",
            "showgrid": false,
            "showline": true,
            "ticks": "outside"
           }
          },
          "scene": {
           "xaxis": {
            "backgroundcolor": "white",
            "gridcolor": "rgb(232,232,232)",
            "gridwidth": 2,
            "linecolor": "rgb(36,36,36)",
            "showbackground": true,
            "showgrid": false,
            "showline": true,
            "ticks": "outside",
            "zeroline": false,
            "zerolinecolor": "rgb(36,36,36)"
           },
           "yaxis": {
            "backgroundcolor": "white",
            "gridcolor": "rgb(232,232,232)",
            "gridwidth": 2,
            "linecolor": "rgb(36,36,36)",
            "showbackground": true,
            "showgrid": false,
            "showline": true,
            "ticks": "outside",
            "zeroline": false,
            "zerolinecolor": "rgb(36,36,36)"
           },
           "zaxis": {
            "backgroundcolor": "white",
            "gridcolor": "rgb(232,232,232)",
            "gridwidth": 2,
            "linecolor": "rgb(36,36,36)",
            "showbackground": true,
            "showgrid": false,
            "showline": true,
            "ticks": "outside",
            "zeroline": false,
            "zerolinecolor": "rgb(36,36,36)"
           }
          },
          "shapedefaults": {
           "fillcolor": "black",
           "line": {
            "width": 0
           },
           "opacity": 0.3
          },
          "ternary": {
           "aaxis": {
            "gridcolor": "rgb(232,232,232)",
            "linecolor": "rgb(36,36,36)",
            "showgrid": false,
            "showline": true,
            "ticks": "outside"
           },
           "baxis": {
            "gridcolor": "rgb(232,232,232)",
            "linecolor": "rgb(36,36,36)",
            "showgrid": false,
            "showline": true,
            "ticks": "outside"
           },
           "bgcolor": "white",
           "caxis": {
            "gridcolor": "rgb(232,232,232)",
            "linecolor": "rgb(36,36,36)",
            "showgrid": false,
            "showline": true,
            "ticks": "outside"
           }
          },
          "title": {
           "x": 0.05
          },
          "xaxis": {
           "automargin": true,
           "gridcolor": "rgb(232,232,232)",
           "linecolor": "rgb(36,36,36)",
           "showgrid": false,
           "showline": true,
           "ticks": "outside",
           "title": {
            "standoff": 15
           },
           "zeroline": false,
           "zerolinecolor": "rgb(36,36,36)"
          },
          "yaxis": {
           "automargin": true,
           "gridcolor": "rgb(232,232,232)",
           "linecolor": "rgb(36,36,36)",
           "showgrid": false,
           "showline": true,
           "ticks": "outside",
           "title": {
            "standoff": 15
           },
           "zeroline": false,
           "zerolinecolor": "rgb(36,36,36)"
          }
         }
        },
        "title": {
         "font": {
          "color": "Black",
          "size": 22
         },
         "text": "<b>Intertopic Distance Map</b>",
         "x": 0.5,
         "xanchor": "center",
         "y": 0.95,
         "yanchor": "top"
        },
        "width": 650,
        "xaxis": {
         "anchor": "y",
         "domain": [
          0,
          1
         ],
         "range": [
          -21.59353733062744,
          12.241217517852784
         ],
         "title": {
          "text": ""
         },
         "visible": false
        },
        "yaxis": {
         "anchor": "x",
         "domain": [
          0,
          1
         ],
         "range": [
          2.252441716194153,
          21.362922286987306
         ],
         "title": {
          "text": ""
         },
         "visible": false
        }
       }
      }
     },
     "metadata": {},
     "output_type": "display_data"
    }
   ],
   "source": [
    "# Print topics with their top words\n",
    "print(topic_model.get_topics())\n",
    "\n",
    "# Optional: Visualize topics\n",
    "topic_model.visualize_topics()\n"
   ]
  },
  {
   "cell_type": "code",
   "execution_count": null,
   "metadata": {},
   "outputs": [
    {
     "name": "stdout",
     "output_type": "stream",
     "text": [
      "Topic 0:\n",
      "  what were the major effects of the cambodia earthquake and how do these effects compare: 0.0009\n",
      "  what were the major effects of the cambodia earthquake and how do these effects compare to the: 0.0009\n",
      "  were the major effects of the cambodia earthquake and how do these effects compare to: 0.0009\n",
      "  what were the major effects of the cambodia earthquake and how do these effects compare to: 0.0009\n",
      "  were the major effects of the cambodia earthquake and how do these effects compare to the: 0.0009\n",
      "  the major effects of the cambodia earthquake and how do these effects compare to the: 0.0009\n",
      "  be safe for unmarried couples without the harassment of police hotel staff and moral police: 0.0007\n",
      "  would be safe for unmarried couples without the harassment of police hotel staff and moral: 0.0007\n",
      "  would be safe for unmarried couples without the harassment of police hotel staff and moral police: 0.0007\n",
      "  was the significance of the battle of somme and how did this battle compare and contrast to: 0.0007\n",
      "  what was the significance of the battle of somme and how did this battle compare and contrast to the battle: 0.0007\n",
      "  was the significance of the battle of somme and how did this battle compare and contrast to the: 0.0007\n",
      "  significance of the battle of somme and how did this battle compare and contrast to the: 0.0007\n",
      "  what was the significance of the battle of somme and how did this battle compare and contrast to the battle of: 0.0007\n",
      "  the significance of the battle of somme and how did this battle compare and contrast to the battle: 0.0007\n",
      "  the significance of the battle of somme and how did this battle compare and contrast to the battle of: 0.0007\n",
      "  what was the significance of the battle of somme and how did this battle compare and contrast to the: 0.0007\n",
      "  significance of the battle of somme and how did this battle compare and contrast to the battle: 0.0007\n",
      "  the battle of somme and how did this battle compare and contrast to the battle: 0.0007\n",
      "  of the battle of somme and how did this battle compare and contrast to the: 0.0007\n",
      "\n",
      "\n",
      "Topic 1:\n",
      "  what are the strongest majors in terms of job prospects and what are the weakest: 0.0002\n",
      "  what are the strongest majors in terms of job prospects and what are the weakest majors: 0.0002\n",
      "  are the strongest majors in terms of job prospects and what are the weakest majors at: 0.0002\n",
      "  are the strongest majors in terms of job prospects and what are the weakest majors: 0.0002\n",
      "  the strongest majors in terms of job prospects and what are the weakest majors at: 0.0002\n",
      "  what are the strongest majors in terms of job prospects and what are the weakest majors at: 0.0002\n",
      "  quora ask questions here when they can get them on google and why is quora just questionanswer site will it: 0.0001\n",
      "  ask questions here when they can get them on google and why is quora just questionanswer site will: 0.0001\n",
      "  ask questions here when they can get them on google and why is quora just questionanswer site will it: 0.0001\n",
      "  ask questions here when they can get them on google and why is quora just questionanswer site will it expand: 0.0001\n",
      "  questions here when they can get them on google and why is quora just questionanswer: 0.0001\n",
      "  questions here when they can get them on google and why is quora just questionanswer site: 0.0001\n",
      "  questions here when they can get them on google and why is quora just questionanswer site will: 0.0001\n",
      "  questions here when they can get them on google and why is quora just questionanswer site will it: 0.0001\n",
      "  questions here when they can get them on google and why is quora just questionanswer site will it expand: 0.0001\n",
      "  quora ask questions here when they can get them on google and why is quora just questionanswer site will it expand: 0.0001\n",
      "  quora ask questions here when they can get them on google and why is quora just questionanswer site will: 0.0001\n",
      "  quora ask questions here when they can get them on google and why is quora just questionanswer site: 0.0001\n",
      "  quora ask questions here when they can get them on google and why is quora just questionanswer: 0.0001\n",
      "  quora ask questions here when they can get them on google and why is quora just: 0.0001\n",
      "\n",
      "\n",
      "Topic 2:\n",
      "  meth out of my system in less than days so can pass my drug test: 0.0001\n",
      "  how can get meth out of my system in less than days so can pass my: 0.0001\n",
      "  can get meth out of my system in less than days so can pass my drug: 0.0001\n",
      "  can get meth out of my system in less than days so can pass my drug test: 0.0001\n",
      "  get meth out of my system in less than days so can pass my drug test: 0.0001\n",
      "  get meth out of my system in less than days so can pass my drug: 0.0001\n",
      "  how can get meth out of my system in less than days so can pass: 0.0001\n",
      "  how can get meth out of my system in less than days so can pass my drug: 0.0001\n",
      "  how can get meth out of my system in less than days so can pass my drug test: 0.0001\n",
      "  can get meth out of my system in less than days so can pass my: 0.0001\n",
      "  were drawn without replacement from pack of 52 cards what is the probability that they are: 0.0001\n",
      "  drawn without replacement from pack of 52 cards what is the probability that they are both: 0.0001\n",
      "  drawn without replacement from pack of 52 cards what is the probability that they are: 0.0001\n",
      "  cards were drawn without replacement from pack of 52 cards what is the probability that: 0.0001\n",
      "  drawn without replacement from pack of 52 cards what is the probability that they are both kings: 0.0001\n",
      "  were drawn without replacement from pack of 52 cards what is the probability that they: 0.0001\n",
      "  were drawn without replacement from pack of 52 cards what is the probability that they are both: 0.0001\n",
      "  two cards were drawn without replacement from pack of 52 cards what is the probability that they are both: 0.0001\n",
      "  two cards were drawn without replacement from pack of 52 cards what is the probability that they are both kings: 0.0001\n",
      "  cards were drawn without replacement from pack of 52 cards what is the probability that they: 0.0001\n",
      "\n",
      "\n",
      "Topic 3:\n",
      "  of the universe is infinite and more and more of it is created as the universe: 0.0002\n",
      "  if universe expands and vacuum energy is created with it with no limitis there infinite potential energyinfinite vacuum: 0.0002\n",
      "  energy infinite because the expansion of the universe is infinite and more and more of it is created: 0.0002\n",
      "  energy is created with it with no limitis there infinite potential energyinfinite vacuum energy that can be: 0.0002\n",
      "  energy infinite because the expansion of the universe is infinite and more and more of it is created as the: 0.0002\n",
      "  infinite because the expansion of the universe is infinite and more and more of it: 0.0002\n",
      "  energy infinite because the expansion of the universe is infinite and more and more of it is created as the universe expands: 0.0002\n",
      "  is darkvacuum energy infinite because the expansion of the universe is infinite and more and more of it: 0.0002\n",
      "  vacuum energy is created with it with no limitis there infinite potential energyinfinite vacuum energy that can be: 0.0002\n",
      "  vacuum energy is created with it with no limitis there infinite potential energyinfinite vacuum energy that can: 0.0002\n",
      "  vacuum energy is created with it with no limitis there infinite potential energyinfinite vacuum energy that: 0.0002\n",
      "  vacuum energy is created with it with no limitis there infinite potential energyinfinite vacuum energy: 0.0002\n",
      "  energy infinite because the expansion of the universe is infinite and more and more of it: 0.0002\n",
      "  energy infinite because the expansion of the universe is infinite and more and more of it is created as the universe: 0.0002\n",
      "  energy infinite because the expansion of the universe is infinite and more and more of: 0.0002\n",
      "  of the universe is infinite and more and more of it is created as the universe expands: 0.0002\n",
      "  if universe expands and vacuum energy is created with it with no limitis there infinite potential energyinfinite: 0.0002\n",
      "  darkvacuum energy infinite because the expansion of the universe is infinite and more and more of it is created as the universe: 0.0002\n",
      "  darkvacuum energy infinite because the expansion of the universe is infinite and more and more of it is created as the universe expands: 0.0002\n",
      "  vacuum energy is created with it with no limitis there infinite potential energyinfinite vacuum energy that can be created: 0.0002\n",
      "\n",
      "\n",
      "Topic 4:\n",
      "  texted me right after to say he had fun why is he not contacting me: 0.0001\n",
      "  date and he tried to kiss me and texted me right after to say he had fun why is he not contacting: 0.0001\n",
      "  and he tried to kiss me and texted me right after to say he had fun why is he not contacting me: 0.0001\n",
      "  me right after to say he had fun why is he not contacting me at all: 0.0001\n",
      "  texted me right after to say he had fun why is he not contacting me at: 0.0001\n",
      "  me right after to say he had fun why is he not contacting me at all for days: 0.0001\n",
      "  date and he tried to kiss me and texted me right after to say he had fun why is he not contacting me: 0.0001\n",
      "  to kiss me and texted me right after to say he had fun why is: 0.0001\n",
      "  to kiss me and texted me right after to say he had fun why is he: 0.0001\n",
      "  to kiss me and texted me right after to say he had fun why is he not: 0.0001\n",
      "  to kiss me and texted me right after to say he had fun why is he not contacting: 0.0001\n",
      "  to kiss me and texted me right after to say he had fun why is he not contacting me: 0.0001\n",
      "  to kiss me and texted me right after to say he had fun why is he not contacting me at: 0.0001\n",
      "  after to say he had fun why is he not contacting me at all for days now: 0.0001\n",
      "  tried to kiss me and texted me right after to say he had fun why is: 0.0001\n",
      "  after to say he had fun why is he not contacting me at all for: 0.0001\n",
      "  to say he had fun why is he not contacting me at all for days: 0.0001\n",
      "  to say he had fun why is he not contacting me at all for days now: 0.0001\n",
      "  to kiss me and texted me right after to say he had fun why is he not contacting me at all: 0.0001\n",
      "  to kiss me and texted me right after to say he had fun why is he not contacting me at all for: 0.0001\n",
      "\n",
      "\n",
      "Topic 5:\n",
      "  password and the email address used to create my snapchat account how can log in or at least change my: 0.0002\n",
      "  the email address used to create my snapchat account how can log in or at least change: 0.0002\n",
      "  my password and the email address used to create my snapchat account how can log in or at least change: 0.0002\n",
      "  password and the email address used to create my snapchat account how can log in or at least: 0.0002\n",
      "  password and the email address used to create my snapchat account how can log in or at least change: 0.0002\n",
      "  password and the email address used to create my snapchat account how can log in or at least change my email address or password: 0.0002\n",
      "  my password and the email address used to create my snapchat account how can log in or: 0.0002\n",
      "  password and the email address used to create my snapchat account how can log in or at least change my email: 0.0002\n",
      "  password and the email address used to create my snapchat account how can log in or at least change my email address: 0.0002\n",
      "  my password and the email address used to create my snapchat account how can log in: 0.0002\n",
      "  my password and the email address used to create my snapchat account how can log in or at: 0.0002\n",
      "  to create my snapchat account how can log in or at least change my email: 0.0002\n",
      "  to create my snapchat account how can log in or at least change my email address: 0.0002\n",
      "  to create my snapchat account how can log in or at least change my email address or password: 0.0002\n",
      "  to create my snapchat account how can log in or at least change my email address or: 0.0002\n",
      "  the email address used to create my snapchat account how can log in or at least change my email address or password: 0.0002\n",
      "  the email address used to create my snapchat account how can log in or at least change my email address or: 0.0002\n",
      "  the email address used to create my snapchat account how can log in or at least change my email address: 0.0002\n",
      "  my snapchat account how can log in or at least change my email address or: 0.0002\n",
      "  my snapchat account how can log in or at least change my email address or password: 0.0002\n",
      "\n",
      "\n",
      "Topic 6:\n",
      "  are the safety precautions on handling shotguns proposed by the nra in the entire us including its territories and possessions: 0.0010\n",
      "  on handling shotguns proposed by the nra in the entire us including its territories and possessions: 0.0010\n",
      "  are the safety precautions on handling shotguns proposed by the nra in the entire us including: 0.0010\n",
      "  what are the safety precautions on handling shotguns proposed by the nra in the entire us: 0.0010\n",
      "  safety precautions on handling shotguns proposed by the nra in the entire us including its territories and possessions: 0.0010\n",
      "  are the safety precautions on handling shotguns proposed by the nra in the entire us including its: 0.0010\n",
      "  safety precautions on handling shotguns proposed by the nra in the entire us including its territories and: 0.0010\n",
      "  are the safety precautions on handling shotguns proposed by the nra in the entire us including its territories and: 0.0010\n",
      "  what are the safety precautions on handling shotguns proposed by the nra in the entire: 0.0010\n",
      "  precautions on handling shotguns proposed by the nra in the entire us including its territories: 0.0010\n",
      "  precautions on handling shotguns proposed by the nra in the entire us including its territories and possessions: 0.0010\n",
      "  are the safety precautions on handling shotguns proposed by the nra in the entire us including its territories: 0.0010\n",
      "  precautions on handling shotguns proposed by the nra in the entire us including its territories and: 0.0010\n",
      "  what are the safety precautions on handling shotguns proposed by the nra in the entire us including its territories and possessions: 0.0010\n",
      "  what are the safety precautions on handling shotguns proposed by the nra in the entire us including: 0.0010\n",
      "  what are the safety precautions on handling shotguns proposed by the nra in the entire us including its: 0.0010\n",
      "  what are the safety precautions on handling shotguns proposed by the nra in the entire us including its territories: 0.0010\n",
      "  what are the safety precautions on handling shotguns proposed by the nra in the entire us including its territories and: 0.0010\n",
      "  are the safety precautions on handling shotguns proposed by the nra in the entire us: 0.0010\n",
      "  safety precautions on handling shotguns proposed by the nra in the entire us including its territories: 0.0010\n",
      "\n",
      "\n"
     ]
    }
   ],
   "source": [
    "topicsDocs=[]\n",
    "# Get the top 30 words for each topic\n",
    "for topic_num in set(topics):\n",
    "    if topic_num == -1:\n",
    "        continue  # Skip the -1 topic as it represents outliers\n",
    "    \n",
    "    top_words = topic_model.get_topic(topic_num)  # Get the top 30 words\n",
    "    print(f\"Topic {topic_num}:\")\n",
    "    for word, score in top_words[:]:\n",
    "        print(f\"  {word}: {score:.4f}\")\n",
    "    doc=\" \".join([ word for word, score in top_words])\n",
    "\n",
    "    topicsDocs.append([doc,topic_num])\n",
    "    print(\"\\n\")\n"
   ]
  },
  {
   "cell_type": "code",
   "execution_count": 196,
   "metadata": {},
   "outputs": [
    {
     "data": {
      "text/plain": [
       "[['would be safe for unmarried couples without the harassment of police hotel staff and moral police would be safe for unmarried couples without the harassment of police hotel staff and moral be safe for unmarried couples without the harassment of police hotel staff and moral police were the major effects of the cambodia earthquake and how do these effects compare to the were the major effects of the cambodia earthquake and how do these effects compare to what were the major effects of the cambodia earthquake and how do these effects compare the major effects of the cambodia earthquake and how do these effects compare to the what were the major effects of the cambodia earthquake and how do these effects compare to what were the major effects of the cambodia earthquake and how do these effects compare to the significance of the battle of somme and how did this battle compare and contrast to the battle battle of somme and how did this battle compare and contrast to the battle of significance of the battle of somme and how did this battle compare and contrast to the battle of significance of the battle of somme and how did this battle compare and contrast to the the battle of somme and how did this battle compare and contrast to the battle of significance of the battle of somme and how did this battle compare and contrast to was the significance of the battle of somme and how did this battle compare and contrast to the the significance of the battle of somme and how did this battle compare and contrast to the battle what was the significance of the battle of somme and how did this battle compare what was the significance of the battle of somme and how did this battle compare and contrast to what was the significance of the battle of somme and how did this battle compare and',\n",
       "  0],\n",
       " ['are the strongest majors in terms of job prospects and what are the weakest majors at are the strongest majors in terms of job prospects and what are the weakest majors what are the strongest majors in terms of job prospects and what are the weakest majors what are the strongest majors in terms of job prospects and what are the weakest what are the strongest majors in terms of job prospects and what are the weakest majors at the strongest majors in terms of job prospects and what are the weakest majors at people on quora ask questions here when they can get them on google and why is quora just questionanswer site when they can get them on google and why is quora just questionanswer site will how come people on quora ask questions here when they can get them on google and why is on quora ask questions here when they can get them on google and why is how come people on quora ask questions here when they can get them on google and ask questions here when they can get them on google and why is quora just questionanswer site will it expand on quora ask questions here when they can get them on google and why is quora just questionanswer site will come people on quora ask questions here when they can get them on google and ask questions here when they can get them on google and why is quora just questionanswer site ask questions here when they can get them on google and why is quora just questionanswer site will ask questions here when they can get them on google and why is quora just on quora ask questions here when they can get them on google and why is quora ask questions here when they can get them on google and why is quora just questionanswer on quora ask questions here when they can get them on google and why is quora just questionanswer',\n",
       "  1],\n",
       " ['untreatable and lifelong disabling neurological disease what is the easiest and most painless way can commit have an untreatable and lifelong disabling neurological disease what is the easiest and most painless way can commit an untreatable and lifelong disabling neurological disease what is the easiest and most painless way can commit and lifelong disabling neurological disease what is the easiest and most painless way can commit suicide an untreatable and lifelong disabling neurological disease what is the easiest and most painless way can and lifelong disabling neurological disease what is the easiest and most painless way can commit have an untreatable and lifelong disabling neurological disease what is the easiest and most painless have an untreatable and lifelong disabling neurological disease what is the easiest and most painless way can have an untreatable and lifelong disabling neurological disease what is the easiest and most painless way have an untreatable and lifelong disabling neurological disease what is the easiest and most painless way can commit suicide untreatable and lifelong disabling neurological disease what is the easiest and most painless way can an untreatable and lifelong disabling neurological disease what is the easiest and most painless way untreatable and lifelong disabling neurological disease what is the easiest and most painless way can commit suicide lifelong disabling neurological disease what is the easiest and most painless way can commit suicide an untreatable and lifelong disabling neurological disease what is the easiest and most painless way can commit suicide meth out of my system in less than days so can pass my drug test how can get meth out of my system in less than days so can pass my drug test can get meth out of my system in less than days so can pass my drug test can get meth out of my system in less than days so can pass my drug can get meth out of my system in less than days so can pass my',\n",
       "  2],\n",
       " ['address used to create my snapchat account how can log in or at least change my forgot my password and the email address used to create my snapchat account how can log in create my snapchat account how can log in or at least change my email address or and the email address used to create my snapchat account how can log in or and the email address used to create my snapchat account how can log in or at least change address used to create my snapchat account how can log in or at least change my email address or and the email address used to create my snapchat account how can log in or at least change my email address used to create my snapchat account how can log in or at least change my email address or password the email address used to create my snapchat account how can log in or at least the email address used to create my snapchat account how can log in or at least change the email address used to create my snapchat account how can log in or at least change my email address the email address used to create my snapchat account how can log in or at least change my email address used to create my snapchat account how can log in or at least change create my snapchat account how can log in or at least change my email address or password to create my snapchat account how can log in or at least change my email address or to create my snapchat account how can log in or at least change my email address or password snapchat account how can log in or at least change my email address or password used to create my snapchat account how can log in or at least change my email address used to create my snapchat account how can log in or at least change my email address or email address used to create my snapchat account how can log in or at least change my email address',\n",
       "  3],\n",
       " ['cards were drawn without replacement from pack of 52 cards what is the probability that they are both cards were drawn without replacement from pack of 52 cards what is the probability that they two cards were drawn without replacement from pack of 52 cards what is the probability that they are both kings two cards were drawn without replacement from pack of 52 cards what is the probability that they are both two cards were drawn without replacement from pack of 52 cards what is the probability two cards were drawn without replacement from pack of 52 cards what is the probability that they are two cards were drawn without replacement from pack of 52 cards what is the probability that they drawn without replacement from pack of 52 cards what is the probability that they are both kings two cards were drawn without replacement from pack of 52 cards what is the probability that were drawn without replacement from pack of 52 cards what is the probability that they cards were drawn without replacement from pack of 52 cards what is the probability that without replacement from pack of 52 cards what is the probability that they are both kings replacement from pack of 52 cards what is the probability that they are both kings were drawn without replacement from pack of 52 cards what is the probability that they are were drawn without replacement from pack of 52 cards what is the probability that they are both were drawn without replacement from pack of 52 cards what is the probability that they are both kings cards were drawn without replacement from pack of 52 cards what is the probability that they are both kings without replacement from pack of 52 cards what is the probability that they are both drawn without replacement from pack of 52 cards what is the probability that they are cards were drawn without replacement from pack of 52 cards what is the probability that they are',\n",
       "  4],\n",
       " ['the universe is infinite and more and more of it is created as the universe expands darkvacuum energy infinite because the expansion of the universe is infinite and more and more of it is expands and vacuum energy is created with it with no limitis there infinite potential energyinfinite vacuum energy that can be expands and vacuum energy is created with it with no limitis there infinite potential energyinfinite because the expansion of the universe is infinite and more and more of it is created as the universe expands created with it with no limitis there infinite potential energyinfinite vacuum energy that can be created created with it with no limitis there infinite potential energyinfinite vacuum energy that can be vacuum energy is created with it with no limitis there infinite potential energyinfinite vacuum energy that can be created because the expansion of the universe is infinite and more and more of it is created as because the expansion of the universe is infinite and more and more of it is created vacuum energy is created with it with no limitis there infinite potential energyinfinite vacuum energy that can be vacuum energy is created with it with no limitis there infinite potential energyinfinite vacuum energy that can because the expansion of the universe is infinite and more and more of it is vacuum energy is created with it with no limitis there infinite potential energyinfinite vacuum energy that vacuum energy is created with it with no limitis there infinite potential energyinfinite vacuum energy and vacuum energy is created with it with no limitis there infinite potential energyinfinite vacuum and vacuum energy is created with it with no limitis there infinite potential energyinfinite vacuum energy and vacuum energy is created with it with no limitis there infinite potential energyinfinite vacuum energy that and vacuum energy is created with it with no limitis there infinite potential energyinfinite vacuum energy that can and vacuum energy is created with it with no limitis there infinite potential energyinfinite vacuum energy that can be',\n",
       "  5]]"
      ]
     },
     "execution_count": 196,
     "metadata": {},
     "output_type": "execute_result"
    }
   ],
   "source": [
    "topicsDocs"
   ]
  },
  {
   "cell_type": "code",
   "execution_count": 244,
   "metadata": {},
   "outputs": [],
   "source": [
    "topic_id_to_label = {\n",
    "0:\"Cambodia Earthquake and Historical Battles\",\n",
    "1:\"Job Prospects by Major\",\n",
    "2:\"Drug Testing and Probability\",\n",
    "3:\"Universe and Energy\",\n",
    "4:\"Dating and Communication\",\n",
    "5:\"Snapchat Account Recovery\",\n",
    "6:\"Gun Safety Regulations\",\n",
    "}\n"
   ]
  },
  {
   "cell_type": "code",
   "execution_count": 245,
   "metadata": {},
   "outputs": [],
   "source": [
    "def SaveTopicsToFile(topic_model, n_words, file_name,title):\n",
    "    with open(file_name, 'w') as f:\n",
    "        f.write(title + '\\n\\n')\n",
    "        for topic_num in set(topics):\n",
    "            if topic_num == -1:\n",
    "                continue  # Skip the -1 topic as it represents outliers\n",
    "            f.write(f\"The Topic {topic_id_to_label[topic_num]}:\\n\")\n",
    "            top_words = topic_model.get_topic(topic_num)[:n_words]  # Get the top 30 words\n",
    "            for word, score in top_words:\n",
    "                f.write(f\"{word}:\\n\")\n",
    "            f.write(\"\\n\\n\")\n",
    "        f.close()"
   ]
  },
  {
   "cell_type": "code",
   "execution_count": 246,
   "metadata": {},
   "outputs": [],
   "source": [
    "SaveTopicsToFile(topic_model, 5, 'BerTopic.txt','topics With BerTopic and ngrams')"
   ]
  },
  {
   "cell_type": "code",
   "execution_count": 247,
   "metadata": {},
   "outputs": [],
   "source": [
    "df['Topic']=topics"
   ]
  },
  {
   "cell_type": "code",
   "execution_count": 248,
   "metadata": {},
   "outputs": [
    {
     "data": {
      "text/plain": [
       "Topic\n",
       "-1    13445\n",
       " 0     4468\n",
       " 1     4077\n",
       " 2     2371\n",
       " 3     2177\n",
       " 4     1798\n",
       " 5     1751\n",
       " 6      648\n",
       "Name: count, dtype: int64"
      ]
     },
     "execution_count": 248,
     "metadata": {},
     "output_type": "execute_result"
    }
   ],
   "source": [
    "df['Topic'].value_counts()"
   ]
  },
  {
   "cell_type": "code",
   "execution_count": 249,
   "metadata": {},
   "outputs": [],
   "source": [
    "df[\"Topic_Label\"] = df[\"Topic\"].map(topic_id_to_label).fillna(\"General\")\n"
   ]
  },
  {
   "cell_type": "code",
   "execution_count": 250,
   "metadata": {},
   "outputs": [
    {
     "data": {
      "text/html": [
       "<div>\n",
       "<style scoped>\n",
       "    .dataframe tbody tr th:only-of-type {\n",
       "        vertical-align: middle;\n",
       "    }\n",
       "\n",
       "    .dataframe tbody tr th {\n",
       "        vertical-align: top;\n",
       "    }\n",
       "\n",
       "    .dataframe thead th {\n",
       "        text-align: right;\n",
       "    }\n",
       "</style>\n",
       "<table border=\"1\" class=\"dataframe\">\n",
       "  <thead>\n",
       "    <tr style=\"text-align: right;\">\n",
       "      <th></th>\n",
       "      <th>Question</th>\n",
       "      <th>Topic</th>\n",
       "      <th>Topic_Label</th>\n",
       "    </tr>\n",
       "  </thead>\n",
       "  <tbody>\n",
       "    <tr>\n",
       "      <th>0</th>\n",
       "      <td>Like everyone else (here in U.S), I work with ...</td>\n",
       "      <td>-1</td>\n",
       "      <td>General</td>\n",
       "    </tr>\n",
       "    <tr>\n",
       "      <th>1</th>\n",
       "      <td>Hello dear's people. i have a fictief research...</td>\n",
       "      <td>6</td>\n",
       "      <td>Gun Safety Regulations</td>\n",
       "    </tr>\n",
       "    <tr>\n",
       "      <th>2</th>\n",
       "      <td>A lady buys goods worth 200 bucks from a shop ...</td>\n",
       "      <td>2</td>\n",
       "      <td>Drug Testing and Probability</td>\n",
       "    </tr>\n",
       "    <tr>\n",
       "      <th>3</th>\n",
       "      <td>I am turning 25 in about a month and am curren...</td>\n",
       "      <td>1</td>\n",
       "      <td>Job Prospects by Major</td>\n",
       "    </tr>\n",
       "    <tr>\n",
       "      <th>4</th>\n",
       "      <td>I'm a 34 years old married to a woman. I had a...</td>\n",
       "      <td>4</td>\n",
       "      <td>Dating and Communication</td>\n",
       "    </tr>\n",
       "    <tr>\n",
       "      <th>5</th>\n",
       "      <td>My employer has told me that we can not accept...</td>\n",
       "      <td>-1</td>\n",
       "      <td>General</td>\n",
       "    </tr>\n",
       "    <tr>\n",
       "      <th>6</th>\n",
       "      <td>I have been using my girlfriend for a sexual r...</td>\n",
       "      <td>4</td>\n",
       "      <td>Dating and Communication</td>\n",
       "    </tr>\n",
       "    <tr>\n",
       "      <th>7</th>\n",
       "      <td>You have 100 coins laying flat on a table, eac...</td>\n",
       "      <td>2</td>\n",
       "      <td>Drug Testing and Probability</td>\n",
       "    </tr>\n",
       "    <tr>\n",
       "      <th>8</th>\n",
       "      <td>I broke up with him. I love him so much but we...</td>\n",
       "      <td>4</td>\n",
       "      <td>Dating and Communication</td>\n",
       "    </tr>\n",
       "    <tr>\n",
       "      <th>9</th>\n",
       "      <td>I broke up with him. I love him so much but we...</td>\n",
       "      <td>4</td>\n",
       "      <td>Dating and Communication</td>\n",
       "    </tr>\n",
       "  </tbody>\n",
       "</table>\n",
       "</div>"
      ],
      "text/plain": [
       "                                            Question  Topic  \\\n",
       "0  Like everyone else (here in U.S), I work with ...     -1   \n",
       "1  Hello dear's people. i have a fictief research...      6   \n",
       "2  A lady buys goods worth 200 bucks from a shop ...      2   \n",
       "3  I am turning 25 in about a month and am curren...      1   \n",
       "4  I'm a 34 years old married to a woman. I had a...      4   \n",
       "5  My employer has told me that we can not accept...     -1   \n",
       "6  I have been using my girlfriend for a sexual r...      4   \n",
       "7  You have 100 coins laying flat on a table, eac...      2   \n",
       "8  I broke up with him. I love him so much but we...      4   \n",
       "9  I broke up with him. I love him so much but we...      4   \n",
       "\n",
       "                    Topic_Label  \n",
       "0                       General  \n",
       "1        Gun Safety Regulations  \n",
       "2  Drug Testing and Probability  \n",
       "3        Job Prospects by Major  \n",
       "4      Dating and Communication  \n",
       "5                       General  \n",
       "6      Dating and Communication  \n",
       "7  Drug Testing and Probability  \n",
       "8      Dating and Communication  \n",
       "9      Dating and Communication  "
      ]
     },
     "execution_count": 250,
     "metadata": {},
     "output_type": "execute_result"
    }
   ],
   "source": [
    "df.loc[:,['Question','Topic','Topic_Label']].head(10)"
   ]
  },
  {
   "cell_type": "code",
   "execution_count": 251,
   "metadata": {},
   "outputs": [],
   "source": [
    "df.to_csv('./results/bertopic/results.csv', index=False)"
   ]
  },
  {
   "cell_type": "code",
   "execution_count": null,
   "metadata": {},
   "outputs": [],
   "source": []
  }
 ],
 "metadata": {
  "kernelspec": {
   "display_name": "Python 3",
   "language": "python",
   "name": "python3"
  },
  "language_info": {
   "codemirror_mode": {
    "name": "ipython",
    "version": 3
   },
   "file_extension": ".py",
   "mimetype": "text/x-python",
   "name": "python",
   "nbconvert_exporter": "python",
   "pygments_lexer": "ipython3",
   "version": "3.11.5"
  }
 },
 "nbformat": 4,
 "nbformat_minor": 2
}
