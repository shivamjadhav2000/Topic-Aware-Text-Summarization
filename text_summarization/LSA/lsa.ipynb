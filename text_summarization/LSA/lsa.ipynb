{
 "cells": [
  {
   "cell_type": "code",
   "execution_count": 1,
   "metadata": {},
   "outputs": [],
   "source": [
    "from sklearn.feature_extraction.text import TfidfVectorizer\n",
    "from sklearn.decomposition import TruncatedSVD\n",
    "import numpy as np"
   ]
  },
  {
   "cell_type": "code",
   "execution_count": 8,
   "metadata": {},
   "outputs": [
    {
     "data": {
      "text/plain": [
       "'c:\\\\Users\\\\jadha\\\\Documents\\\\Topic-Aware-Text-Summarization\\\\text_summarization\\\\LSA'"
      ]
     },
     "execution_count": 8,
     "metadata": {},
     "output_type": "execute_result"
    }
   ],
   "source": [
    "pwd"
   ]
  },
  {
   "cell_type": "code",
   "execution_count": 34,
   "metadata": {},
   "outputs": [],
   "source": [
    "import pandas as pd\n",
    "df=pd.read_csv('../../results/LDA/Lda_topics.csv')\n",
    "df['Question'] = df['Question'].astype(str).apply(lambda x: x.lower())"
   ]
  },
  {
   "cell_type": "code",
   "execution_count": 36,
   "metadata": {},
   "outputs": [],
   "source": [
    "df.drop(columns=['Unnamed: 0'],inplace=True)"
   ]
  },
  {
   "cell_type": "code",
   "execution_count": 37,
   "metadata": {},
   "outputs": [
    {
     "data": {
      "text/html": [
       "<div>\n",
       "<style scoped>\n",
       "    .dataframe tbody tr th:only-of-type {\n",
       "        vertical-align: middle;\n",
       "    }\n",
       "\n",
       "    .dataframe tbody tr th {\n",
       "        vertical-align: top;\n",
       "    }\n",
       "\n",
       "    .dataframe thead th {\n",
       "        text-align: right;\n",
       "    }\n",
       "</style>\n",
       "<table border=\"1\" class=\"dataframe\">\n",
       "  <thead>\n",
       "    <tr style=\"text-align: right;\">\n",
       "      <th></th>\n",
       "      <th>Question</th>\n",
       "      <th>doclen</th>\n",
       "      <th>TopicId</th>\n",
       "      <th>Topic</th>\n",
       "    </tr>\n",
       "  </thead>\n",
       "  <tbody>\n",
       "    <tr>\n",
       "      <th>0</th>\n",
       "      <td>like everyone else (here in u.s), i work with ...</td>\n",
       "      <td>125</td>\n",
       "      <td>3</td>\n",
       "      <td>Relationships</td>\n",
       "    </tr>\n",
       "    <tr>\n",
       "      <th>1</th>\n",
       "      <td>hello dear's people. i have a fictief research...</td>\n",
       "      <td>80</td>\n",
       "      <td>3</td>\n",
       "      <td>Relationships</td>\n",
       "    </tr>\n",
       "    <tr>\n",
       "      <th>2</th>\n",
       "      <td>a lady buys goods worth 200 bucks from a shop ...</td>\n",
       "      <td>77</td>\n",
       "      <td>3</td>\n",
       "      <td>Relationships</td>\n",
       "    </tr>\n",
       "    <tr>\n",
       "      <th>3</th>\n",
       "      <td>i am turning 25 in about a month and am curren...</td>\n",
       "      <td>73</td>\n",
       "      <td>5</td>\n",
       "      <td>Exam and university</td>\n",
       "    </tr>\n",
       "    <tr>\n",
       "      <th>4</th>\n",
       "      <td>i'm a 34 years old married to a woman. i had a...</td>\n",
       "      <td>73</td>\n",
       "      <td>3</td>\n",
       "      <td>Relationships</td>\n",
       "    </tr>\n",
       "  </tbody>\n",
       "</table>\n",
       "</div>"
      ],
      "text/plain": [
       "                                            Question  doclen  TopicId  \\\n",
       "0  like everyone else (here in u.s), i work with ...     125        3   \n",
       "1  hello dear's people. i have a fictief research...      80        3   \n",
       "2  a lady buys goods worth 200 bucks from a shop ...      77        3   \n",
       "3  i am turning 25 in about a month and am curren...      73        5   \n",
       "4  i'm a 34 years old married to a woman. i had a...      73        3   \n",
       "\n",
       "                 Topic  \n",
       "0        Relationships  \n",
       "1        Relationships  \n",
       "2        Relationships  \n",
       "3  Exam and university  \n",
       "4        Relationships  "
      ]
     },
     "execution_count": 37,
     "metadata": {},
     "output_type": "execute_result"
    }
   ],
   "source": [
    "df.head()"
   ]
  },
  {
   "cell_type": "code",
   "execution_count": 46,
   "metadata": {},
   "outputs": [],
   "source": [
    "grouped = df.groupby('TopicId')\n",
    "\n",
    "# Retrieve a DataFrame for a specific topic, e.g., topic 0\n",
    "topic_0_df = grouped.get_group(0).drop(columns='TopicId')"
   ]
  },
  {
   "cell_type": "code",
   "execution_count": 47,
   "metadata": {},
   "outputs": [
    {
     "data": {
      "text/html": [
       "<div>\n",
       "<style scoped>\n",
       "    .dataframe tbody tr th:only-of-type {\n",
       "        vertical-align: middle;\n",
       "    }\n",
       "\n",
       "    .dataframe tbody tr th {\n",
       "        vertical-align: top;\n",
       "    }\n",
       "\n",
       "    .dataframe thead th {\n",
       "        text-align: right;\n",
       "    }\n",
       "</style>\n",
       "<table border=\"1\" class=\"dataframe\">\n",
       "  <thead>\n",
       "    <tr style=\"text-align: right;\">\n",
       "      <th></th>\n",
       "      <th>Question</th>\n",
       "      <th>doclen</th>\n",
       "      <th>Topic</th>\n",
       "    </tr>\n",
       "  </thead>\n",
       "  <tbody>\n",
       "    <tr>\n",
       "      <th>20</th>\n",
       "      <td>what is the cost of a lte base station (enodeb...</td>\n",
       "      <td>64</td>\n",
       "      <td>Government</td>\n",
       "    </tr>\n",
       "    <tr>\n",
       "      <th>53</th>\n",
       "      <td>a rabbit, a cabbage, a fox, and a farmer are a...</td>\n",
       "      <td>60</td>\n",
       "      <td>Government</td>\n",
       "    </tr>\n",
       "    <tr>\n",
       "      <th>82</th>\n",
       "      <td>my iphone 6 was lost/stolen 6 days ago. i enab...</td>\n",
       "      <td>57</td>\n",
       "      <td>Government</td>\n",
       "    </tr>\n",
       "    <tr>\n",
       "      <th>113</th>\n",
       "      <td>i m 14 and my vocal range is from e2 to a5 (le...</td>\n",
       "      <td>54</td>\n",
       "      <td>Government</td>\n",
       "    </tr>\n",
       "    <tr>\n",
       "      <th>119</th>\n",
       "      <td>i m 14 and my vocal range is from e2 to a5 (le...</td>\n",
       "      <td>54</td>\n",
       "      <td>Government</td>\n",
       "    </tr>\n",
       "  </tbody>\n",
       "</table>\n",
       "</div>"
      ],
      "text/plain": [
       "                                              Question  doclen       Topic\n",
       "20   what is the cost of a lte base station (enodeb...      64  Government\n",
       "53   a rabbit, a cabbage, a fox, and a farmer are a...      60  Government\n",
       "82   my iphone 6 was lost/stolen 6 days ago. i enab...      57  Government\n",
       "113  i m 14 and my vocal range is from e2 to a5 (le...      54  Government\n",
       "119  i m 14 and my vocal range is from e2 to a5 (le...      54  Government"
      ]
     },
     "execution_count": 47,
     "metadata": {},
     "output_type": "execute_result"
    }
   ],
   "source": [
    "topic_0_df.head()"
   ]
  },
  {
   "cell_type": "code",
   "execution_count": 68,
   "metadata": {},
   "outputs": [
    {
     "name": "stdout",
     "output_type": "stream",
     "text": [
      "{3: 'Relationships', 5: 'Exam and university', 1: 'Online Business', 0: 'Government', 2: 'Social Harassment', 4: 'carrer'}\n"
     ]
    }
   ],
   "source": [
    "topic_id_name_map = df[['TopicId', 'Topic']].drop_duplicates().set_index('TopicId')['Topic'].to_dict()\n",
    "print(topic_id_name_map)"
   ]
  },
  {
   "cell_type": "code",
   "execution_count": 69,
   "metadata": {},
   "outputs": [
    {
     "name": "stdout",
     "output_type": "stream",
     "text": [
      "Topic: Relationships\n",
      "                                            Question  doclen          Topic\n",
      "0  like everyone else (here in u.s), i work with ...     125  Relationships\n",
      "1  hello dear's people. i have a fictief research...      80  Relationships\n",
      "2  a lady buys goods worth 200 bucks from a shop ...      77  Relationships\n",
      "4  i'm a 34 years old married to a woman. i had a...      73  Relationships\n",
      "6  i have been using my girlfriend for a sexual r...      71  Relationships\n",
      "\n",
      "\n",
      "\n",
      "Topic: Exam and university\n",
      "                                             Question  doclen  \\\n",
      "3   i am turning 25 in about a month and am curren...      73   \n",
      "7   you have 100 coins laying flat on a table, eac...      68   \n",
      "16  i belong to obc. my ctc is 7 lacs per annum bu...      64   \n",
      "17  i have 2.6 years of it experience. i got marri...      64   \n",
      "30  i have scored 72% marks in 10th, 80% marks in ...      62   \n",
      "\n",
      "                  Topic  \n",
      "3   Exam and university  \n",
      "7   Exam and university  \n",
      "16  Exam and university  \n",
      "17  Exam and university  \n",
      "30  Exam and university  \n",
      "\n",
      "\n",
      "\n",
      "Topic: Online Business\n",
      "                                             Question  doclen            Topic\n",
      "5   my employer has told me that we can not accept...      72  Online Business\n",
      "11  how often should i massage my face with argan ...      66  Online Business\n",
      "24  i'm looking for concepts with words that descr...      63  Online Business\n",
      "39  i have a laptop with 4gb ram, amd a8-6410 apu ...      61  Online Business\n",
      "41  i have a laptop with 4gb ram, amd a8-6410 apu ...      61  Online Business\n",
      "\n",
      "\n",
      "\n",
      "Topic: Government\n",
      "                                              Question  doclen       Topic\n",
      "20   what is the cost of a lte base station (enodeb...      64  Government\n",
      "53   a rabbit, a cabbage, a fox, and a farmer are a...      60  Government\n",
      "82   my iphone 6 was lost/stolen 6 days ago. i enab...      57  Government\n",
      "113  i m 14 and my vocal range is from e2 to a5 (le...      54  Government\n",
      "119  i m 14 and my vocal range is from e2 to a5 (le...      54  Government\n",
      "\n",
      "\n",
      "\n",
      "Topic: Social Harassment\n",
      "                                             Question  doclen  \\\n",
      "29  i have booked a ticket in irctc and made a tra...      62   \n",
      "55  i tried to add money to my paytm account twice...      59   \n",
      "56  i tried to add money to my paytm account twice...      59   \n",
      "58  i tried to add money to my paytm account twice...      59   \n",
      "60  i tried to add money to my paytm account twice...      59   \n",
      "\n",
      "                Topic  \n",
      "29  Social Harassment  \n",
      "55  Social Harassment  \n",
      "56  Social Harassment  \n",
      "58  Social Harassment  \n",
      "60  Social Harassment  \n",
      "\n",
      "\n",
      "\n",
      "Topic: carrer\n",
      "                                             Question  doclen   Topic\n",
      "31  a capacitor is charged by an 8v battery. when ...      62  carrer\n",
      "36  four persons k, l, m, and n are initially at t...      61  carrer\n",
      "43  two trains each travelling with a speed of 37....      61  carrer\n",
      "48  is it \"i am on the bus\" or \"i am in the bus\"? ...      60  carrer\n",
      "59  a crew team rows a boat at a rate of 20 km/h i...      59  carrer\n",
      "\n",
      "\n",
      "\n"
     ]
    }
   ],
   "source": [
    "for topic_id, topic_name in topic_id_name_map.items():\n",
    "    topic_df = grouped.get_group(topic_id).drop(columns='TopicId')\n",
    "    print(f'Topic: {topic_name}')\n",
    "    print(topic_df.head())\n",
    "    print('\\n\\n')"
   ]
  },
  {
   "cell_type": "code",
   "execution_count": 88,
   "metadata": {},
   "outputs": [
    {
     "name": "stdout",
     "output_type": "stream",
     "text": [
      "Summary: what are good gifts for a foreign visitor to bring when they're invited to someone's home in turkey for the first time? what are good gifts for a foreign visitor to bring when they're invited to someone's home in turkey for the first time? what are good gifts for a foreign visitor to bring when they're invited to someone's home in pakistan for the first time? what are good gifts for a foreign visitor to bring when they're invited to someone's home in turkey for the first time? what are good gifts for a foreign visitor to bring when they're invited to someone's home in australia for the first time? what are good gifts for a foreign visitor to bring when they're invited to someone's home in australia for the first time? what are good gifts for a foreign visitor to bring when they're invited to someone's home in pakistan for the first time? what are good gifts for a foreign visitor to bring when they're invited to someone's home in pakistan for the first time? what are good gifts for a foreign visitor to bring when they're invited to someone's home in india for the first time? what are good gifts for a foreign visitor to bring when they're invited to someone's home in australia for the first time? what are good gifts for a foreign visitor to bring when they're invited to someone's home in australia for the first time? what are good gifts for a foreign visitor to bring when they're invited to someone's home in australia for the first time? what are good gifts for a foreign visitor to bring when they're invited to someone's home in australia for the first time? what are good gifts for a foreign visitor to bring when they're invited to someone's home in turkey for the first time? what are good gifts for a foreign visitor to bring when they're invited to someone's home in australia for the first time? what are good gifts for a foreign visitor to bring when they're invited to someone's home in turkey for the first time? what are good gifts for a foreign visitor to bring when they're invited to someone's home in pakistan for the first time? what are good gifts for a foreign visitor to bring when they're invited to someone's home in australia for the first time? what are good gifts for a foreign visitor to bring when they're invited to someone's home in turkey for the first time? what are good gifts for a foreign visitor to bring when they're invited to someone's home in australia for the first time? what are good gifts for a foreign visitor to bring when they're invited to someone's home in turkey for the first time? what are good gifts for a foreign visitor to bring when they're invited to someone's home in pakistan for the first time? what are good gifts for a foreign visitor to bring when they're invited to someone's home in pakistan for the first time? what are good gifts for a foreign visitor to bring when they're invited to someone's home in australia for the first time? what are good gifts for a foreign visitor to bring when they're invited to someone's home in pakistan for the first time? what are good gifts for a foreign visitor to bring when they're invited to someone's home in turkey for the first time? what are good gifts for a foreign visitor to bring when they're invited to someone's home in pakistan for the first time? what are good gifts for a foreign visitor to bring when they're invited to someone's home in turkey for the first time? what are good gifts for a foreign visitor to bring when they're invited to someone's home in australia for the first time? what are good gifts for a foreign visitor to bring when they're invited to someone's home in turkey for the first time?\n",
      "Summary: how come people on quora ask questions here, when they can get them on google and why is quora just a question/answer site, will it expand? how come people on quora ask questions here, when they can get them on google and why is quora just a question/answer site, will it expand? how come people on quora ask questions here, when they can get them on google and why is quora just a question/answer site, will it expand? how come people on quora ask questions here, when they can get them on google and why is quora just a question/answer site, will it expand? how come people on quora ask questions here, when they can get them on google and why is quora just a question/answer site, will it expand? how come people on quora ask questions here, when they can get them on google and why is quora just a question/answer site, will it expand? how come people on quora ask questions here, when they can get them on google and why is quora just a question/answer site, will it expand? how come people on quora ask questions here, when they can get them on google and why is quora just a question/answer site, will it expand? how come people on quora ask questions here, when they can get them on google and why is quora just a question/answer site, will it expand? how come people on quora ask questions here, when they can get them on google and why is quora just a question/answer site, will it expand? how come people on quora ask questions here, when they can get them on google and why is quora just a question/answer site, will it expand? how come people on quora ask questions here, when they can get them on google and why is quora just a question/answer site, will it expand? how come people on quora ask questions here, when they can get them on google and why is quora just a question/answer site, will it expand? how come people on quora ask questions here, when they can get them on google and why is quora just a question/answer site, will it expand? how come people on quora ask questions here, when they can get them on google and why is quora just a question/answer site, will it expand? how come people on quora ask questions here, when they can get them on google and why is quora just a question/answer site, will it expand? how come people on quora ask questions here, when they can get them on google and why is quora just a question/answer site, will it expand? how come people on quora ask questions here, when they can get them on google and why is quora just a question/answer site, will it expand? how come people on quora ask questions here, when they can get them on google and why is quora just a question/answer site, will it expand? how come people on quora ask questions here, when they can get them on google and why is quora just a question/answer site, will it expand? how come people on quora ask questions here, when they can get them on google and why is quora just a question/answer site, will it expand? how come people on quora ask questions here, when they can get them on google and why is quora just a question/answer site, will it expand? how come people on quora ask questions here, when they can get them on google and why is quora just a question/answer site, will it expand? how come people on quora ask questions here, when they can get them on google and why is quora just a question/answer site, will it expand? how come people on quora ask questions here, when they can get them on google and why is quora just a question/answer site, will it expand? how come people on quora ask questions here, when they can get them on google and why is quora just a question/answer site, will it expand? how come people on quora ask questions here, when they can get them on google and why is quora just a question/answer site, will it expand? how come people on quora ask questions here, when they can get them on google and why is quora just a question/answer site, will it expand? how come people on quora ask questions here, when they can get them on google and why is quora just a question/answer site, will it expand? why do people ask questions on quora that are just as, if not more than easier to, look up with a search engine?\n",
      "Summary: what are the safety precautions on handling shotguns proposed by the nra in the entire u.s. including it’s territories and possessions? 2 what are the safety precautions on handling shotguns proposed by the nra in the entire u.s. including it’s territories and possessions? 2 what are the safety precautions on handling shotguns proposed by the nra in the entire u.s. including it’s territories and possessions? 3 what are the safety precautions on handling shotguns proposed by the nra in the entire u.s. including it’s territories and possessions? 3 what are the safety precautions on handling shotguns proposed by the nra in the entire u.s. including it’s territories and possessions? 2 what are the safety precautions on handling shotguns proposed by the nra in the entire u.s. including it’s territories and possessions? 2 what are the safety precautions on handling shotguns proposed by the nra in the entire u.s. including it’s territories and possessions? 3 what are the safety precautions on handling shotguns proposed by the nra in the entire u.s. including it’s territories and possessions? 3 what are the safety precautions on handling shotguns proposed by the nra in the entire u.s. including it’s territories and possessions? 4 what are the safety precautions on handling shotguns proposed by the nra in the entire u.s. including it’s territories and possessions? 2 what are the safety precautions on handling shotguns proposed by the nra in the entire u.s. including it’s territories and possessions? 2 what are the safety precautions on handling shotguns proposed by the nra in the entire u.s. including it’s territories and possessions? 2 what are the safety precautions on handling shotguns proposed by the nra in the entire u.s. including it’s territories and possessions? 3 what are the safety precautions on handling shotguns proposed by the nra in the entire u.s. including it’s territories and possessions? 2 what are the safety precautions on handling shotguns proposed by the nra in the entire u.s. including it’s territories and possessions? 3 what are the safety precautions on handling shotguns proposed by the nra in the entire u.s. including it’s territories and possessions? 1 what are the safety precautions on handling shotguns proposed by the nra in the entire u.s. including it’s territories and possessions? 2 what are the safety precautions on handling shotguns proposed by the nra in the entire u.s. including it’s territories and possessions? 2 what are the safety precautions on handling shotguns proposed by the nra in the entire u.s. including it’s territories and possessions? 3 what are the safety precautions on handling shotguns proposed by the nra in the entire u.s. including it’s territories and possessions? 2 what are the safety precautions on handling shotguns proposed by the nra in the entire u.s. including it’s territories and possessions? 3 what are the safety precautions on handling shotguns proposed by the nra in the entire u.s. including it’s territories and possessions? 2 what are the safety precautions on handling shotguns proposed by the nra in the entire u.s. including it’s territories and possessions? 2 what are the safety precautions on handling shotguns proposed by the nra in the entire u.s. including it’s territories and possessions? 3 what are the safety precautions on handling shotguns proposed by the nra in the entire u.s. including it’s territories and possessions? 3 what are the safety precautions on handling shotguns proposed by the nra in the entire u.s. including it’s territories and possessions? 2 what are the safety precautions on handling shotguns proposed by the nra in the entire u.s. including it’s territories and possessions? 1 what are the safety precautions on handling shotguns proposed by the nra in the entire u.s. including it’s territories and possessions? 2 what are the safety precautions on handling shotguns proposed by the nra in the entire u.s. including it’s territories and possessions? 3 what are the safety precautions on handling shotguns proposed by the nra in the entire u.s. including it’s territories and possessions? 2\n",
      "Summary: how is black money curbed with the ban of 1000 rupee notes and introducing new 500 and 2000 rupee notes? how is black money curbed with the ban of 1000 rupee notes and introducing new 500 and 2000 rupee notes? how is black money curbed with the ban of 1000 rupee notes and introducing new 500 and 2000 rupee notes? how is black money curbed with the ban of 1000 rupee notes and introducing new 500 and 2000 rupee notes? how is black money curbed with the ban of 1000 rupee notes and introducing new 500 and 2000 rupee notes? how is black money curbed with the ban of 1000 rupee notes and introducing new 500 and 2000 rupee notes? how is black money curbed with the ban of 1000 rupee notes and introducing new 500 and 2000 rupee notes? how is black money curbed with the ban of 1000 rupee notes and introducing new 500 and 2000 rupee notes? how is black money curbed with the ban of 1000 rupee notes and introducing new 500 and 2000 rupee notes? how is black money curbed with the ban of 1000 rupee notes and introducing new 500 and 2000 rupee notes? how is black money curbed with the ban of 1000 rupee notes and introducing new 500 and 2000 rupee notes? how is black money curbed with the ban of 1000 rupee notes and introducing new 500 and 2000 rupee notes? how is black money curbed with the ban of 1000 rupee notes and introducing new 500 and 2000 rupee notes? how is black money curbed with the ban of 1000 rupee notes and introducing new 500 and 2000 rupee notes? how is black money curbed with the ban of 1000 rupee notes and introducing new 500 and 2000 rupee notes? how is black money curbed with the ban of 1000 rupee notes and introducing new 500 and 2000 rupee notes? how is black money curbed with the ban of 1000 rupee notes and introducing new 500 and 2000 rupee notes? how is black money curbed with the ban of 1000 rupee notes and introducing new 500 and 2000 rupee notes? how is black money curbed with the ban of 1000 rupee notes and introducing new 500 and 2000 rupee notes? how is black money curbed with the ban of 1000 rupee notes and introducing new 500 and 2000 rupee notes? how is black money curbed with the ban of 1000 rupee notes and introducing new 500 and 2000 rupee notes? how is black money curbed with the ban of 1000 rupee notes and introducing new 500 and 2000 rupee notes? how is black money curbed with the ban of 1000 rupee notes and introducing new 500 and 2000 rupee notes? how is black money curbed with the ban of 1000 rupee notes and introducing new 500 and 2000 rupee notes? how is black money curbed with the ban of 1000 rupee notes and introducing new 500 and 2000 rupee notes? how is black money curbed with the ban of 1000 rupee notes and introducing new 500 and 2000 rupee notes? how is black money curbed with the ban of 1000 rupee notes and introducing new 500 and 2000 rupee notes? how is black money curbed with the ban of 1000 rupee notes and introducing new 500 and 2000 rupee notes? how is black money curbed with the ban of 1000 rupee notes and introducing new 500 and 2000 rupee notes? how is black money curbed with the ban of 1000 rupee notes and introducing new 500 and 2000 rupee notes?\n",
      "Summary: what were the major effects of the cambodia earthquake, and how do these effects compare to the sanriku earthquake in 1611? what were the major effects of the cambodia earthquake, and how do these effects compare to the sanriku earthquake in 1611? what were the major effects of the cambodia earthquake, and how do these effects compare to the sanriku earthquake in 1611? what were the major effects of the cambodia earthquake, and how do these effects compare to the vallenar earthquake in 1922? what were the major effects of the cambodia earthquake, and how do these effects compare to the sanriku earthquake in 1611? what were the major effects of the cambodia earthquake, and how do these effects compare to the vallenar earthquake in 1922? what were the major effects of the cambodia earthquake, and how do these effects compare to the vallenar earthquake in 1922? what were the major effects of the cambodia earthquake, and how do these effects compare to the sanriku earthquake in 1611? what were the major effects of the cambodia earthquake, and how do these effects compare to the sanriku earthquake in 1611? what were the major effects of the cambodia earthquake, and how do these effects compare to the sanriku earthquake in 1611? what were the major effects of the cambodia earthquake, and how do these effects compare to the vallenar earthquake in 1922? what were the major effects of the cambodia earthquake, and how do these effects compare to the vallenar earthquake in 1922? what were the major effects of the cambodia earthquake, and how do these effects compare to the sanriku earthquake in 1611? what were the major effects of the cambodia earthquake, and how do these effects compare to the vallenar earthquake in 1922? what were the major effects of the cambodia earthquake, and how do these effects compare to the sanriku earthquake in 1611? what were the major effects of the cambodia earthquake, and how do these effects compare to the sanriku earthquake in 1611? what were the major effects of the cambodia earthquake, and how do these effects compare to the sanriku earthquake in 1611? what were the major effects of the cambodia earthquake, and how do these effects compare to the sanriku earthquake in 1611? what were the major effects of the cambodia earthquake, and how do these effects compare to the sanriku earthquake in 1611? what were the major effects of the cambodia earthquake, and how do these effects compare to the sanriku earthquake in 1611? what were the major effects of the cambodia earthquake, and how do these effects compare to the sanriku earthquake in 1611? what were the major effects of the cambodia earthquake, and how do these effects compare to the vallenar earthquake in 1922? what were the major effects of the cambodia earthquake, and how do these effects compare to the sanriku earthquake in 1611? what were the major effects of the cambodia earthquake, and how do these effects compare to the vallenar earthquake in 1922? what were the major effects of the cambodia earthquake, and how do these effects compare to the sanriku earthquake in 1611? what were the major effects of the cambodia earthquake, and how do these effects compare to the sanriku earthquake in 1611? what were the major effects of the cambodia earthquake, and how do these effects compare to the sanriku earthquake in 1611? what were the major effects of the cambodia earthquake, and how do these effects compare to the vallenar earthquake in 1922? what were the major effects of the cambodia earthquake, and how do these effects compare to the sanriku earthquake in 1611? what were the major effects of the cambodia earthquake, and how do these effects compare to the sanriku earthquake in 1611?\n",
      "Summary: if universe expands and vacuum energy is created with it (with no limit),is there infinite potential energy/infinite vacuum energy that can be created? if universe expands and vacuum energy is created with it (with no limit),is there infinite potential energy/infinite vacuum energy that can be created? if universe expands and vacuum energy is created with it (with no limit),is there infinite potential energy/infinite vacuum energy that can be created? if universe expands and vacuum energy is created with it (with no limit),is there infinite potential energy/infinite vacuum energy that can be created? if universe expands and vacuum energy is created with it (with no limit),is there infinite potential energy/infinite vacuum energy that can be created? if universe expands and vacuum energy is created with it (with no limit),is there infinite potential energy/infinite vacuum energy that can be created? if universe expands and vacuum energy is created with it (with no limit),is there infinite potential energy/infinite vacuum energy that can be created? if universe expands and vacuum energy is created with it (with no limit),is there infinite potential energy/infinite vacuum energy that can be created? if universe expands and vacuum energy is created with it (with no limit),is there infinite potential energy/infinite vacuum energy that can be created? if universe expands and vacuum energy is created with it (with no limit),is there infinite potential energy/infinite vacuum energy that can be created? if universe expands and vacuum energy is created with it (with no limit),is there infinite potential energy/infinite vacuum energy that can be created? if universe expands and vacuum energy is created with it (with no limit),is there infinite potential energy/infinite vacuum energy that can be created? if universe expands and vacuum energy is created with it (with no limit),is there infinite potential energy/infinite vacuum energy that can be created? if universe expands and vacuum energy is created with it (with no limit),is there infinite potential energy/infinite vacuum energy that can be created? if universe expands and vacuum energy is created with it (with no limit),is there infinite potential energy/infinite vacuum energy that can be created? if universe expands without limit and dark/vacuum/gravitational energy is created with it, is potential energy (the energy that can be created) infinite? if universe expands without limit and dark/vacuum/gravitational energy is created with it, is potential energy (the energy that can be created) infinite? if universe expands without limit and dark/vacuum/gravitational energy is created with it, is potential energy (the energy that can be created) infinite? if universe expands without limit and dark/vacuum/gravitational energy is created with it, is potential energy (the energy that can be created) infinite? if universe expands without limit and dark/vacuum/gravitational energy is created with it, is potential energy (the energy that can be created) infinite? if universe expands without limit and dark/vacuum/gravitational energy is created with it, is potential energy (the energy that can be created) infinite? if universe expands without limit and dark/vacuum/gravitational energy is created with it, is potential energy (the energy that can be created) infinite? if universe expands without limit and dark/vacuum/gravitational energy is created with it, is potential energy (the energy that can be created) infinite? if universe expands without limit and dark/vacuum/gravitational energy is created with it, is potential energy (the energy that can be created) infinite? if universe expands without limit and dark/vacuum/gravitational energy is created with it, is potential energy (the energy that can be created) infinite? if universe expands without limit and dark/vacuum/gravitational energy is created with it, is potential energy (the energy that can be created) infinite? if universe expands without limit and dark/vacuum/gravitational energy is created with it, is potential energy (the energy that can be created) infinite? if universe expands without limit and dark/vacuum/gravitational energy is created with it, is potential energy (the energy that can be created) infinite? if universe expands without limit and dark/vacuum/gravitational energy is created with it, is potential energy (the energy that can be created) infinite? if universe expands without limit and dark/vacuum/gravitational energy is created with it, is potential energy (the energy that can be created) infinite?\n"
     ]
    }
   ],
   "source": [
    "with open('topic_summary.txt', 'w',encoding=\"utf-8\") as f:\n",
    "    f.write('Topic Summary\\n\\n')\n",
    "    for key,value in topic_id_name_map.items():\n",
    "        f.write(f'Topic: {value}\\n')\n",
    "        topic_df = grouped.get_group(key).drop(columns='TopicId')\n",
    "        f.write(f'Total number of questions: {topic_df.shape[0]}\\n')\n",
    "        documents = topic_df['Question'].values\n",
    "        vectorizer = TfidfVectorizer()\n",
    "        tfidf_matrix = vectorizer.fit_transform(documents)\n",
    "        n_components = 2  # Choose number of concepts to retain\n",
    "        lsa = TruncatedSVD(n_components=n_components)\n",
    "        lsa_matrix = lsa.fit_transform(tfidf_matrix)\n",
    "        sentence_scores = np.sum(lsa_matrix, axis=1)\n",
    "        top_sentence_indices = sentence_scores.argsort()[-30:]  # Select top 50 sentences for summary\n",
    "        summary = [documents[i] for i in sorted(top_sentence_indices)]\n",
    "        print(\"Summary:\", \" \".join(summary))\n",
    "        f.write(\"Summary: \" + \"\\n \".join(summary) + '\\n\\n')\n",
    "\n"
   ]
  },
  {
   "cell_type": "code",
   "execution_count": null,
   "metadata": {},
   "outputs": [],
   "source": []
  }
 ],
 "metadata": {
  "kernelspec": {
   "display_name": "Python 3",
   "language": "python",
   "name": "python3"
  },
  "language_info": {
   "codemirror_mode": {
    "name": "ipython",
    "version": 3
   },
   "file_extension": ".py",
   "mimetype": "text/x-python",
   "name": "python",
   "nbconvert_exporter": "python",
   "pygments_lexer": "ipython3",
   "version": "3.11.5"
  }
 },
 "nbformat": 4,
 "nbformat_minor": 2
}
