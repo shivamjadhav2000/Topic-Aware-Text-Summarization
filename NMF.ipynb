{
 "cells": [
  {
   "cell_type": "code",
   "execution_count": 1,
   "metadata": {},
   "outputs": [
    {
     "name": "stdout",
     "output_type": "stream",
     "text": [
      "NMF - The top 20 words for topic #0: ['police', 'hotel', 'safe', 'staff', 'unmarried', 'moral', 'couples', 'harassment', 'station', 'hill', 'hills', 'nallamala', 'pune', 'ananthagiri', 'shimla', 'kolkata', 'manali', 'srinagar', 'ooty', 'deolo']\n",
      "NMF - The top 20 words for topic #1: ['does', 'mean', 'compare', 'lake', 'lakes', 'make', 'person', 'come', 'water', 'long', 'work', 'says', 'great', 'matter', 'convictions', 'wildlife', 'feel', 'say', 'differ', 'know']\n",
      "NMF - The top 20 words for topic #2: ['battle', 'did', 'compare', 'contrast', 'significance', 'somme', 'desert', 'calabria', 'arthur', 'port', 'ones', 'temperatures', 'average', 'bataan', 'rostov', 'borodino', 'cold', 'gobi', 'leningrad', 'nanshan']\n",
      "NMF - The top 20 words for topic #3: ['want', 'year', 'india', 'years', 'old', 'don', 'know', 'best', 'job', 'start', 'make', 'work', 'engineering', 'life', 'need', 'account', 'just', 'student', 'number', 'way']\n",
      "NMF - The top 20 words for topic #4: ['notes', '500', '1000', 'money', 'black', 'rupee', 'rs', 'new', '2000', 'indian', 'government', 'india', 'decision', 'ban', 'modi', 'introducing', 'rupees', 'note', 'banning', 'currency']\n",
      "NMF - The top 20 words for topic #5: ['effects', 'earthquake', 'compare', 'major', 'cambodia', 'desert', 'ones', 'average', 'temperatures', 'islands', 'cold', 'gobi', 'sanriku', 'great', 'andreanof', '1957', '1611', 'vallenar', '1922', '1700']\n",
      "NMF - The top 20 words for topic #6: ['energy', 'infinite', 'created', 'vacuum', 'universe', 'potential', 'dark', 'expands', 'limit', 'expansion', 'gravitational', 'real', 'potentiality', 'particles', 'virtual', 'conserved', 'expanding', 'exist', 'mean', 'know']\n",
      "NMF - The top 20 words for topic #7: ['time', 'good', 'home', 'foreign', 'bring', 'visitor', 'gifts', 'invited', 'long', 'days', 'job', 'day', 'best', 'idea', 'bad', 'test', 'did', 'just', 'speed', 'way']\n",
      "NMF - The top 20 words for topic #8: ['like', 'people', 'feel', 'just', 'don', 'know', 'quora', 'girl', 'think', 'life', 'questions', 'google', 'did', 'look', 'ask', 'use', 'make', 'things', 'facebook', 'person']\n",
      "NMF - The top 20 words for topic #9: ['math', 'frac', 'text', 'value', 'alpha', 'sum', 'number', 'sim', 'bin', 'equation', 'let', 'beta', '16', 'discrete', '100', 'line', '_0', '10', 'roots', '4a']\n"
     ]
    }
   ],
   "source": [
    "import pandas as pd\n",
    "from sklearn.feature_extraction.text import CountVectorizer\n",
    "from sklearn.decomposition import NMF\n",
    "\n",
    "# Load dataset\n",
    "df = pd.read_csv('./dataset/quora_questions_filtered.csv')\n",
    "documents = list(df['Question'])\n",
    "\n",
    "# Preprocess text (you can add more preprocessing steps as needed)\n",
    "def preprocess_text(text):\n",
    "    return text.lower()  # Convert to lowercase\n",
    "\n",
    "documents = [preprocess_text(doc) for doc in documents]\n",
    "\n",
    "# Create Document-Term Matrix (DTM)\n",
    "cv = CountVectorizer(max_df=0.95, min_df=2, stop_words='english')\n",
    "dtm = cv.fit_transform(documents)\n",
    "\n",
    "# Fit NMF Model\n",
    "n_topics = 10  # Adjust the number of topics as needed\n",
    "nmf = NMF(n_components=n_topics, random_state=42)\n",
    "nmf.fit(dtm)\n",
    "\n",
    "# Function to get top words per topic\n",
    "def get_top_words_per_topic(model, feature_names, n_top_words=20):\n",
    "    topics = []\n",
    "    for topic_idx, topic in enumerate(model.components_):\n",
    "        top_words_indices = topic.argsort()[-n_top_words:][::-1]\n",
    "        top_words = [feature_names[i] for i in top_words_indices]\n",
    "        topics.append(top_words)\n",
    "    return topics\n",
    "\n",
    "# Get feature names (words)\n",
    "feature_names = cv.get_feature_names_out()\n",
    "\n",
    "# Get top words for each topic\n",
    "nmf_topics = get_top_words_per_topic(nmf, feature_names)\n",
    "for i, topic in enumerate(nmf_topics):\n",
    "    print(f\"NMF - The top 20 words for topic #{i}: {topic}\")\n",
    "\n",
    "# Optional: Calculate Coherence Score\n",
    "# Note: You can calculate coherence scores for NMF similarly if desired, but it might require additional setup.\n"
   ]
  },
  {
   "cell_type": "code",
   "execution_count": 5,
   "metadata": {},
   "outputs": [],
   "source": [
    "labels=[\n",
    " \"Government\",\n",
    "    \"Online Business\",\n",
    "    \"Social Harassment\",\n",
    "    \"Relationships\",\n",
    "    \"cosmology and physics\",\n",
    "    \"Exam and university\",\n",
    "    \"carrer\",\n",
    "    \"Education\",\n",
    "    \"Mathematics\",\n",
    "    \"Accommodation\",\n",
    "    \"Historical Battles\",\n",
    "    \"Geological and Environmental Effects\",\n",
    "    \" Water Comparisons\"\n",
    "    ]"
   ]
  },
  {
   "cell_type": "code",
   "execution_count": 6,
   "metadata": {},
   "outputs": [],
   "source": [
    "from transformers import pipeline\n",
    "\n",
    "# Load a text classification model (you can choose a specific model for your needs)\n",
    "classifier = pipeline(\"zero-shot-classification\", model=\"facebook/bart-large-mnli\")\n",
    "\n",
    "def generate_label(words,candidate_labels):\n",
    "    input_text = f\"Words: {', '.join(words)}\"\n",
    "    \n",
    "    # Candidate labels to guide classification, this can be modified based on common topics in your data\n",
    "\n",
    "    generated = classifier(input_text, candidate_labels=candidate_labels)\n",
    "    \n",
    "    # Return the top label\n",
    "    return generated['labels'][0]"
   ]
  },
  {
   "cell_type": "code",
   "execution_count": 15,
   "metadata": {},
   "outputs": [],
   "source": [
    "def SaveTopicsToFile(model, cv, n_words, file_name,title):\n",
    "    with open(file_name, 'w') as f:\n",
    "        f.write(title + '\\n\\n')\n",
    "        for index, topic in enumerate(model.components_):\n",
    "            f.write(f\"The top {n_words} words for topic #{index}:\\n\")\n",
    "            top_words = [cv.get_feature_names_out()[i] for i in topic.argsort()[-n_words:]]\n",
    "            f.write(', '.join(top_words) + '\\n\\n')\n",
    "    print(f\"Topics have been successfully saved to {file_name}\")\n"
   ]
  },
  {
   "cell_type": "code",
   "execution_count": 16,
   "metadata": {},
   "outputs": [
    {
     "name": "stdout",
     "output_type": "stream",
     "text": [
      "Topics have been successfully saved to topics_NMF.txt\n"
     ]
    }
   ],
   "source": [
    "SaveTopicsToFile(nmf, cv, 20, 'topics_NMF.txt','topic modeling NMF used 10 topics')"
   ]
  },
  {
   "cell_type": "code",
   "execution_count": 7,
   "metadata": {},
   "outputs": [
    {
     "name": "stdout",
     "output_type": "stream",
     "text": [
      "Topic 0 ['police', 'hotel', 'safe', 'staff', 'unmarried', 'moral', 'couples', 'harassment', 'station', 'hill', 'hills', 'nallamala', 'pune', 'ananthagiri', 'shimla', 'kolkata', 'manali', 'srinagar', 'ooty', 'deolo']\n",
      "Topic 0 is about Accommodation\n",
      "Topic 1 ['does', 'mean', 'compare', 'lake', 'lakes', 'make', 'person', 'come', 'water', 'long', 'work', 'says', 'great', 'matter', 'convictions', 'wildlife', 'feel', 'say', 'differ', 'know']\n",
      "Topic 1 is about  Water Comparisons\n",
      "Topic 2 ['battle', 'did', 'compare', 'contrast', 'significance', 'somme', 'desert', 'calabria', 'arthur', 'port', 'ones', 'temperatures', 'average', 'bataan', 'rostov', 'borodino', 'cold', 'gobi', 'leningrad', 'nanshan']\n",
      "Topic 2 is about Historical Battles\n",
      "Topic 3 ['want', 'year', 'india', 'years', 'old', 'don', 'know', 'best', 'job', 'start', 'make', 'work', 'engineering', 'life', 'need', 'account', 'just', 'student', 'number', 'way']\n",
      "Topic 3 is about carrer\n",
      "Topic 4 ['notes', '500', '1000', 'money', 'black', 'rupee', 'rs', 'new', '2000', 'indian', 'government', 'india', 'decision', 'ban', 'modi', 'introducing', 'rupees', 'note', 'banning', 'currency']\n",
      "Topic 4 is about Government\n",
      "Topic 5 ['effects', 'earthquake', 'compare', 'major', 'cambodia', 'desert', 'ones', 'average', 'temperatures', 'islands', 'cold', 'gobi', 'sanriku', 'great', 'andreanof', '1957', '1611', 'vallenar', '1922', '1700']\n",
      "Topic 5 is about Geological and Environmental Effects\n",
      "Topic 6 ['energy', 'infinite', 'created', 'vacuum', 'universe', 'potential', 'dark', 'expands', 'limit', 'expansion', 'gravitational', 'real', 'potentiality', 'particles', 'virtual', 'conserved', 'expanding', 'exist', 'mean', 'know']\n",
      "Topic 6 is about cosmology and physics\n",
      "Topic 7 ['time', 'good', 'home', 'foreign', 'bring', 'visitor', 'gifts', 'invited', 'long', 'days', 'job', 'day', 'best', 'idea', 'bad', 'test', 'did', 'just', 'speed', 'way']\n",
      "Topic 7 is about Accommodation\n",
      "Topic 8 ['like', 'people', 'feel', 'just', 'don', 'know', 'quora', 'girl', 'think', 'life', 'questions', 'google', 'did', 'look', 'ask', 'use', 'make', 'things', 'facebook', 'person']\n",
      "Topic 8 is about carrer\n",
      "Topic 9 ['math', 'frac', 'text', 'value', 'alpha', 'sum', 'number', 'sim', 'bin', 'equation', 'let', 'beta', '16', 'discrete', '100', 'line', '_0', '10', 'roots', '4a']\n",
      "Topic 9 is about Mathematics\n"
     ]
    }
   ],
   "source": [
    "topic_to_label = {}\n",
    "for index, topic in enumerate(nmf_topics):\n",
    "    top_words=topic[:30]\n",
    "    print(f\"Topic {index}\",top_words)\n",
    "    label = generate_label(top_words, labels)\n",
    "    print(f\"Topic {index} is about {label}\")\n",
    "    topic_to_label[index] = label"
   ]
  },
  {
   "cell_type": "code",
   "execution_count": 8,
   "metadata": {},
   "outputs": [
    {
     "data": {
      "text/plain": [
       "{0: 'Accommodation',\n",
       " 1: ' Water Comparisons',\n",
       " 2: 'Historical Battles',\n",
       " 3: 'carrer',\n",
       " 4: 'Government',\n",
       " 5: 'Geological and Environmental Effects',\n",
       " 6: 'cosmology and physics',\n",
       " 7: 'Accommodation',\n",
       " 8: 'carrer',\n",
       " 9: 'Mathematics'}"
      ]
     },
     "execution_count": 8,
     "metadata": {},
     "output_type": "execute_result"
    }
   ],
   "source": [
    "topic_to_label"
   ]
  },
  {
   "cell_type": "code",
   "execution_count": 9,
   "metadata": {},
   "outputs": [],
   "source": [
    "topic_results=nmf.transform(dtm)\n"
   ]
  },
  {
   "cell_type": "code",
   "execution_count": 10,
   "metadata": {},
   "outputs": [
    {
     "data": {
      "text/plain": [
       "array([0.        , 0.00605198, 0.        , 0.20229743, 0.        ,\n",
       "       0.        , 0.00614091, 0.        , 0.18683598, 0.        ])"
      ]
     },
     "execution_count": 10,
     "metadata": {},
     "output_type": "execute_result"
    }
   ],
   "source": [
    "topic_results[0]"
   ]
  },
  {
   "cell_type": "code",
   "execution_count": 11,
   "metadata": {},
   "outputs": [
    {
     "data": {
      "text/plain": [
       "array([0.  , 0.01, 0.  , 0.2 , 0.  , 0.  , 0.01, 0.  , 0.19, 0.  ])"
      ]
     },
     "execution_count": 11,
     "metadata": {},
     "output_type": "execute_result"
    }
   ],
   "source": [
    "topic_results[0].round(2)"
   ]
  },
  {
   "cell_type": "code",
   "execution_count": 12,
   "metadata": {},
   "outputs": [
    {
     "data": {
      "text/plain": [
       "'carrer'"
      ]
     },
     "execution_count": 12,
     "metadata": {},
     "output_type": "execute_result"
    }
   ],
   "source": [
    "topic_to_label[topic_results[0].argmax()]"
   ]
  },
  {
   "cell_type": "code",
   "execution_count": 13,
   "metadata": {},
   "outputs": [],
   "source": [
    "# adding Topic label for the dataframe\n",
    "df['TopicId']=topic_results.argmax(axis=1)\n",
    "df['Topic'] = [topic_to_label[topic.argmax()] for topic in topic_results]"
   ]
  },
  {
   "cell_type": "code",
   "execution_count": 14,
   "metadata": {},
   "outputs": [
    {
     "data": {
      "text/html": [
       "<div>\n",
       "<style scoped>\n",
       "    .dataframe tbody tr th:only-of-type {\n",
       "        vertical-align: middle;\n",
       "    }\n",
       "\n",
       "    .dataframe tbody tr th {\n",
       "        vertical-align: top;\n",
       "    }\n",
       "\n",
       "    .dataframe thead th {\n",
       "        text-align: right;\n",
       "    }\n",
       "</style>\n",
       "<table border=\"1\" class=\"dataframe\">\n",
       "  <thead>\n",
       "    <tr style=\"text-align: right;\">\n",
       "      <th></th>\n",
       "      <th>Question</th>\n",
       "      <th>doclen</th>\n",
       "      <th>TopicId</th>\n",
       "      <th>Topic</th>\n",
       "    </tr>\n",
       "  </thead>\n",
       "  <tbody>\n",
       "    <tr>\n",
       "      <th>0</th>\n",
       "      <td>Like everyone else (here in U.S), I work with ...</td>\n",
       "      <td>125</td>\n",
       "      <td>3</td>\n",
       "      <td>carrer</td>\n",
       "    </tr>\n",
       "    <tr>\n",
       "      <th>1</th>\n",
       "      <td>Hello dear's people. i have a fictief research...</td>\n",
       "      <td>80</td>\n",
       "      <td>7</td>\n",
       "      <td>Accommodation</td>\n",
       "    </tr>\n",
       "    <tr>\n",
       "      <th>2</th>\n",
       "      <td>A lady buys goods worth 200 bucks from a shop ...</td>\n",
       "      <td>77</td>\n",
       "      <td>4</td>\n",
       "      <td>Government</td>\n",
       "    </tr>\n",
       "    <tr>\n",
       "      <th>3</th>\n",
       "      <td>I am turning 25 in about a month and am curren...</td>\n",
       "      <td>73</td>\n",
       "      <td>3</td>\n",
       "      <td>carrer</td>\n",
       "    </tr>\n",
       "    <tr>\n",
       "      <th>4</th>\n",
       "      <td>I'm a 34 years old married to a woman. I had a...</td>\n",
       "      <td>73</td>\n",
       "      <td>3</td>\n",
       "      <td>carrer</td>\n",
       "    </tr>\n",
       "    <tr>\n",
       "      <th>5</th>\n",
       "      <td>My employer has told me that we can not accept...</td>\n",
       "      <td>72</td>\n",
       "      <td>8</td>\n",
       "      <td>carrer</td>\n",
       "    </tr>\n",
       "    <tr>\n",
       "      <th>6</th>\n",
       "      <td>I have been using my girlfriend for a sexual r...</td>\n",
       "      <td>71</td>\n",
       "      <td>3</td>\n",
       "      <td>carrer</td>\n",
       "    </tr>\n",
       "    <tr>\n",
       "      <th>7</th>\n",
       "      <td>You have 100 coins laying flat on a table, eac...</td>\n",
       "      <td>68</td>\n",
       "      <td>2</td>\n",
       "      <td>Historical Battles</td>\n",
       "    </tr>\n",
       "    <tr>\n",
       "      <th>8</th>\n",
       "      <td>I broke up with him. I love him so much but we...</td>\n",
       "      <td>68</td>\n",
       "      <td>3</td>\n",
       "      <td>carrer</td>\n",
       "    </tr>\n",
       "    <tr>\n",
       "      <th>9</th>\n",
       "      <td>I broke up with him. I love him so much but we...</td>\n",
       "      <td>68</td>\n",
       "      <td>3</td>\n",
       "      <td>carrer</td>\n",
       "    </tr>\n",
       "    <tr>\n",
       "      <th>10</th>\n",
       "      <td>I feel like I'm getting over my crush. This fe...</td>\n",
       "      <td>67</td>\n",
       "      <td>8</td>\n",
       "      <td>carrer</td>\n",
       "    </tr>\n",
       "    <tr>\n",
       "      <th>11</th>\n",
       "      <td>How often should I massage my face with Argan ...</td>\n",
       "      <td>66</td>\n",
       "      <td>3</td>\n",
       "      <td>carrer</td>\n",
       "    </tr>\n",
       "    <tr>\n",
       "      <th>12</th>\n",
       "      <td>I had a college friend with whom I used to tal...</td>\n",
       "      <td>66</td>\n",
       "      <td>8</td>\n",
       "      <td>carrer</td>\n",
       "    </tr>\n",
       "    <tr>\n",
       "      <th>13</th>\n",
       "      <td>I live with my mom and we are always arguing a...</td>\n",
       "      <td>65</td>\n",
       "      <td>1</td>\n",
       "      <td>Water Comparisons</td>\n",
       "    </tr>\n",
       "    <tr>\n",
       "      <th>14</th>\n",
       "      <td>I live with my mom and we are always arguing a...</td>\n",
       "      <td>65</td>\n",
       "      <td>1</td>\n",
       "      <td>Water Comparisons</td>\n",
       "    </tr>\n",
       "    <tr>\n",
       "      <th>15</th>\n",
       "      <td>I live with my mom and we are always arguing a...</td>\n",
       "      <td>65</td>\n",
       "      <td>1</td>\n",
       "      <td>Water Comparisons</td>\n",
       "    </tr>\n",
       "    <tr>\n",
       "      <th>16</th>\n",
       "      <td>I belong to OBC. My CTC is 7 lacs per annum bu...</td>\n",
       "      <td>64</td>\n",
       "      <td>3</td>\n",
       "      <td>carrer</td>\n",
       "    </tr>\n",
       "    <tr>\n",
       "      <th>17</th>\n",
       "      <td>I have 2.6 years of IT experience. I got marri...</td>\n",
       "      <td>64</td>\n",
       "      <td>3</td>\n",
       "      <td>carrer</td>\n",
       "    </tr>\n",
       "    <tr>\n",
       "      <th>18</th>\n",
       "      <td>My gf cheated on me with her ex and I stayed w...</td>\n",
       "      <td>64</td>\n",
       "      <td>7</td>\n",
       "      <td>Accommodation</td>\n",
       "    </tr>\n",
       "    <tr>\n",
       "      <th>19</th>\n",
       "      <td>Your advice will HELP me! I think I should go ...</td>\n",
       "      <td>64</td>\n",
       "      <td>7</td>\n",
       "      <td>Accommodation</td>\n",
       "    </tr>\n",
       "  </tbody>\n",
       "</table>\n",
       "</div>"
      ],
      "text/plain": [
       "                                             Question  doclen  TopicId  \\\n",
       "0   Like everyone else (here in U.S), I work with ...     125        3   \n",
       "1   Hello dear's people. i have a fictief research...      80        7   \n",
       "2   A lady buys goods worth 200 bucks from a shop ...      77        4   \n",
       "3   I am turning 25 in about a month and am curren...      73        3   \n",
       "4   I'm a 34 years old married to a woman. I had a...      73        3   \n",
       "5   My employer has told me that we can not accept...      72        8   \n",
       "6   I have been using my girlfriend for a sexual r...      71        3   \n",
       "7   You have 100 coins laying flat on a table, eac...      68        2   \n",
       "8   I broke up with him. I love him so much but we...      68        3   \n",
       "9   I broke up with him. I love him so much but we...      68        3   \n",
       "10  I feel like I'm getting over my crush. This fe...      67        8   \n",
       "11  How often should I massage my face with Argan ...      66        3   \n",
       "12  I had a college friend with whom I used to tal...      66        8   \n",
       "13  I live with my mom and we are always arguing a...      65        1   \n",
       "14  I live with my mom and we are always arguing a...      65        1   \n",
       "15  I live with my mom and we are always arguing a...      65        1   \n",
       "16  I belong to OBC. My CTC is 7 lacs per annum bu...      64        3   \n",
       "17  I have 2.6 years of IT experience. I got marri...      64        3   \n",
       "18  My gf cheated on me with her ex and I stayed w...      64        7   \n",
       "19  Your advice will HELP me! I think I should go ...      64        7   \n",
       "\n",
       "                 Topic  \n",
       "0               carrer  \n",
       "1        Accommodation  \n",
       "2           Government  \n",
       "3               carrer  \n",
       "4               carrer  \n",
       "5               carrer  \n",
       "6               carrer  \n",
       "7   Historical Battles  \n",
       "8               carrer  \n",
       "9               carrer  \n",
       "10              carrer  \n",
       "11              carrer  \n",
       "12              carrer  \n",
       "13   Water Comparisons  \n",
       "14   Water Comparisons  \n",
       "15   Water Comparisons  \n",
       "16              carrer  \n",
       "17              carrer  \n",
       "18       Accommodation  \n",
       "19       Accommodation  "
      ]
     },
     "execution_count": 14,
     "metadata": {},
     "output_type": "execute_result"
    }
   ],
   "source": [
    "df.head(20)"
   ]
  },
  {
   "cell_type": "code",
   "execution_count": null,
   "metadata": {},
   "outputs": [],
   "source": []
  },
  {
   "cell_type": "code",
   "execution_count": null,
   "metadata": {},
   "outputs": [],
   "source": []
  }
 ],
 "metadata": {
  "kernelspec": {
   "display_name": "Python 3",
   "language": "python",
   "name": "python3"
  },
  "language_info": {
   "codemirror_mode": {
    "name": "ipython",
    "version": 3
   },
   "file_extension": ".py",
   "mimetype": "text/x-python",
   "name": "python",
   "nbconvert_exporter": "python",
   "pygments_lexer": "ipython3",
   "version": "3.11.5"
  }
 },
 "nbformat": 4,
 "nbformat_minor": 2
}
